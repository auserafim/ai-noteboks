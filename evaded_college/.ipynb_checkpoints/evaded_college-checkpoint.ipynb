{
 "cells": [
  {
   "cell_type": "markdown",
   "id": "2ef5eac9",
   "metadata": {},
   "source": [
    "### Evasion dataset "
   ]
  },
  {
   "cell_type": "code",
   "execution_count": 54,
   "id": "492f9f5f-6158-4c62-a3a7-181b681d210f",
   "metadata": {},
   "outputs": [],
   "source": [
    "import pandas as pd\n",
    "import numpy as np\n",
    "import matplotlib.pyplot as plt\n",
    "import plotly.express as px \n",
    "import seaborn as sns\n",
    "import unidecode, re\n",
    "import plotly.graph_objects as go\n",
    "from sklearn.preprocessing import StandardScaler\n",
    "from sklearn.model_selection import train_test_split\n",
    "from sklearn.ensemble import RandomForestClassifier, GradientBoostingClassifier\n",
    "from sklearn.linear_model import LinearRegression, LogisticRegression\n",
    "from sklearn.metrics import accuracy_score,confusion_matrix, classification_report"
   ]
  },
  {
   "cell_type": "code",
   "execution_count": 55,
   "id": "bc5d8dc4-4fd3-4a34-8940-f7512361c76a",
   "metadata": {},
   "outputs": [],
   "source": [
    "# configs \n",
    "my_font = dict(\n",
    "            family=\"Courier New, monospace\",\n",
    "            size=18,\n",
    "            color=\"Black\",\n",
    "            variant=\"small-caps\",\n",
    ") "
   ]
  },
  {
   "cell_type": "code",
   "execution_count": 56,
   "id": "8275bde5-f84b-4d0f-99d2-63caf900c5a9",
   "metadata": {},
   "outputs": [],
   "source": [
    "active = pd.read_csv('data/alunos_ativos.csv')\n",
    "deactive = pd.read_csv('data/alunos_inativos.csv')\n",
    "history = pd.read_csv('data/historico_escolar.csv')"
   ]
  },
  {
   "cell_type": "markdown",
   "id": "a766104f-63da-469b-9b0e-27b017327df7",
   "metadata": {},
   "source": [
    "# Choose what to see "
   ]
  },
  {
   "cell_type": "code",
   "execution_count": 57,
   "id": "40684e83-da80-4789-b9ad-ad93fdb3486a",
   "metadata": {},
   "outputs": [],
   "source": [
    "datasets = [active, deactive]\n",
    "\n",
    "for i in datasets:\n",
    "    def_test = i.copy()\n",
    "    def_test['Data ocorrência']= pd.to_datetime(def_test['Data ocorrência'])\n",
    "    def_test['Data Nascimento']= pd.to_datetime(def_test['Data Nascimento'])\n",
    "    def_test['Difference'] = ((def_test['Data ocorrência'] - def_test['Data Nascimento']).dt.days / 365.0)\n",
    "    i.loc[:,'Idade'] = def_test['Difference']\n",
    "\n",
    "    \n",
    "active.head()\n",
    "active.isnull().sum()\n",
    "deactive.isnull().sum()\n",
    "history.isnull().sum()\n",
    "finished = deactive[deactive['Situação atual'] == 'EXCLUSAO POR CONCLUSAO (FORMADO)']\n",
    "dropout = deactive[deactive['Situação atual'] != 'EXCLUSAO POR CONCLUSAO (FORMADO)']"
   ]
  },
  {
   "cell_type": "code",
   "execution_count": 58,
   "id": "7d226b09-261c-434d-b26f-65c385283f03",
   "metadata": {},
   "outputs": [],
   "source": [
    "# active.info()\n",
    "# dropout.info()\n",
    "# history.info()\n",
    "# finished.info()"
   ]
  },
  {
   "cell_type": "code",
   "execution_count": 59,
   "id": "41cf16b3-88b6-41b2-9a33-01855038fdb2",
   "metadata": {},
   "outputs": [],
   "source": [
    "# Normalizing names from Naturalidade column\n",
    "\n",
    "def normalize_names(text):\n",
    "    if pd.isnull(text):\n",
    "        return text\n",
    "    text = str(text)\n",
    "    text = unidecode.unidecode(text)\n",
    "    text = text.lower().strip()\n",
    "    text = re.sub(r'[^\\w\\s]', '', text)\n",
    "    text = text.title()\n",
    "    return text\n"
   ]
  },
  {
   "cell_type": "markdown",
   "id": "8861710b-a99b-4812-8946-312d2fce2a43",
   "metadata": {},
   "source": [
    "## Correcting mispelled cities"
   ]
  },
  {
   "cell_type": "code",
   "execution_count": 60,
   "id": "159e71e2-3d4b-45fd-8a39-cd7eb522848e",
   "metadata": {},
   "outputs": [],
   "source": [
    "corrected_cities = {\n",
    "    'Barra Do Garcas  Mt': 'Barra Do Garcas',\n",
    "    'Canabravamg': 'Cana Brava',  \n",
    "    'Baliza Go' : 'Baliza' ,\n",
    "    'Rondonopolitano': 'Rondonopolis',\n",
    "    'Braganca Pa': 'Braganca',\n",
    "    'Aragarcasgo': 'Aragarcas',\n",
    "    'Nova Xavantina  Mt': 'Nova Xavantina',\n",
    "    'BARRA DO GARCAS - MT': 'Barra Do Garcas',\n",
    "    'alta floresta - MT': 'Alta Floresta',\n",
    "    'Cuiabamt': 'Cuiaba',\n",
    "    'Palmitossc': 'Palmitos',\n",
    "    'Vazante Mg': 'Vazante',\n",
    "    'Jussarago': 'Jussara',\n",
    "    'Rio Branco  Mt': 'Rio Branco',\n",
    "    'Mato Grossointerior': 'Mato Grosso',\n",
    "    'Chapecosc': 'Chapeco',\n",
    "    'Agua Boamt': 'Agua Boa',\n",
    "    'Alta Floresta  Mt': 'Alta Floresta',\n",
    "    'Sao Joaquim Sc': 'Sao Joaquim',\n",
    "    'Barra Do Garcas - Mt': 'Barra Do Garcas',\n",
    "    'ARAGARÇAS': 'Aragarcas',\n",
    "    'BARRA DO GARÇAS': 'Barra do Garcas'\n",
    "}\n",
    "datasets = [deactive, dropout, active, finished]\n",
    "\n",
    "for df in datasets:\n",
    "    df.loc[:,'Naturalidade'] = df['Naturalidade'].apply(normalize_names)\n",
    "\n",
    "    df.loc[:,'Naturalidade']  = df['Naturalidade'].replace(corrected_cities)"
   ]
  },
  {
   "cell_type": "markdown",
   "id": "04421d47-77aa-4e73-9d15-4d94f33130b7",
   "metadata": {},
   "source": [
    "## Group comparasion Finished vs Dropout\n"
   ]
  },
  {
   "cell_type": "code",
   "execution_count": 61,
   "id": "239d0bb7-9017-4950-8e41-d9035cb30a22",
   "metadata": {},
   "outputs": [
    {
     "data": {
      "application/vnd.plotly.v1+json": {
       "config": {
        "plotlyServerURL": "https://plot.ly"
       },
       "data": [
        {
         "alignmentgroup": "True",
         "hovertemplate": "dataset=Finished<br>Raça=%{x}<br>Coeficiente=%{y}<extra></extra>",
         "legendgroup": "Finished",
         "marker": {
          "color": "#636efa"
         },
         "name": "Finished",
         "notched": false,
         "offsetgroup": "Finished",
         "orientation": "v",
         "showlegend": true,
         "type": "box",
         "x": [
          "Pardo(a),Mulato(a)",
          "Pardo(a),Mulato(a)",
          "Branca",
          "Pardo(a),Mulato(a)",
          "Amarela",
          "Amarela",
          "Branca",
          "Branca",
          "Branca",
          "Pardo(a),Mulato(a)",
          "Branca",
          "Pardo(a),Mulato(a)",
          "Pardo(a),Mulato(a)",
          "Pardo(a),Mulato(a)",
          "Pardo(a),Mulato(a)",
          "Branca",
          "Pardo(a),Mulato(a)",
          "Branca",
          "Pardo(a),Mulato(a)",
          "Negra",
          "Branca",
          "Pardo(a),Mulato(a)",
          "Branca",
          "Branca",
          "Negra",
          "Branca",
          "Pardo(a),Mulato(a)",
          "Branca",
          "Amarela",
          "Branca",
          "Branca",
          "Não Informado",
          "Pardo(a),Mulato(a)",
          "Pardo(a),Mulato(a)",
          "Pardo(a),Mulato(a)",
          "Pardo(a),Mulato(a)",
          "Amarela",
          "Negra",
          "Pardo(a),Mulato(a)",
          "Negra",
          "Pardo(a),Mulato(a)",
          "Pardo(a),Mulato(a)",
          "Pardo(a),Mulato(a)",
          "Pardo(a),Mulato(a)",
          "Branca",
          "Branca",
          "Pardo(a),Mulato(a)",
          "Branca",
          "Pardo(a),Mulato(a)",
          "Branca",
          "Pardo(a),Mulato(a)",
          "Pardo(a),Mulato(a)",
          "Branca",
          "Branca",
          "Branca",
          "Pardo(a),Mulato(a)",
          "Pardo(a),Mulato(a)",
          "Pardo(a),Mulato(a)",
          "Branca",
          "Branca",
          "Branca",
          "Branca",
          "Pardo(a),Mulato(a)",
          "Amarela",
          "Pardo(a),Mulato(a)",
          "Branca",
          "Pardo(a),Mulato(a)",
          "Não Informado",
          "Pardo(a),Mulato(a)",
          "Branca",
          "Branca",
          "Pardo(a),Mulato(a)",
          "Branca",
          "Branca",
          "Branca",
          "Pardo(a),Mulato(a)",
          "Branca",
          "Negra",
          "Branca",
          "Branca",
          "Negra",
          "Branca",
          "Branca",
          "Pardo(a),Mulato(a)",
          "Branca",
          "Não Informado",
          "Pardo(a),Mulato(a)",
          "Pardo(a),Mulato(a)",
          "Pardo(a),Mulato(a)",
          "Pardo(a),Mulato(a)",
          "Negra",
          "Branca",
          "Não Informado",
          "Negra",
          "Pardo(a),Mulato(a)",
          "Branca",
          "Pardo(a),Mulato(a)",
          "Branca",
          "Pardo(a),Mulato(a)",
          "Pardo(a),Mulato(a)",
          "Negra",
          "Pardo(a),Mulato(a)",
          "Branca",
          "Pardo(a),Mulato(a)",
          "Branca",
          "Pardo(a),Mulato(a)",
          "Negra",
          "Negra",
          "Pardo(a),Mulato(a)",
          "Branca",
          "Pardo(a),Mulato(a)"
         ],
         "x0": " ",
         "xaxis": "x",
         "y": {
          "bdata": "zczMzMzMG0DhehSuR+ERQArXo3A9ChNAUrgehetRFkBI4XoUrkcZQK5H4XoUrhlAzczMzMzMFkCamZmZmZkUQLgehetRuBZA16NwPQrXG0BxPQrXo3AWQLgehetRuBZAcT0K16NwFEDNzMzMzMweQD0K16NwPRhACtejcD0KIEAUrkfhehQWQMP1KFyPwh1AXI/C9ShcFkDNzMzMzMwWQGZmZmZmZhtAH4XrUbgeHkBcj8L1KFwfQDMzMzMzMxVAXI/C9ShcGED2KFyPwvUbQFyPwvUoXBZAXI/C9ShcHEAUrkfhehQbQD0K16NwPRlArkfhehSuIUAzMzMzMzMTQPYoXI/C9RRA16NwPQrXHEDsUbgehesSQK5H4XoUrhlAH4XrUbgeGUDsUbgehesVQHsUrkfhehRAXI/C9ShcFECPwvUoXI8bQK5H4XoUrhdAZmZmZmZmGkAUrkfhehQeQLgehetRuBZAMzMzMzMzHECkcD0K16MeQOxRuB6FayBAPQrXo3A9E0A9CtejcD0cQK5H4XoUrhhAXI/C9ShcFUC4HoXrUbgWQIXrUbgehSJA4XoUrkfhGEA9CtejcD0SQKRwPQrXox9Aw/UoXI/CHUCamZmZmRkgQB+F61G4HhRAw/UoXI/CHUDNzMzMzMwcQIXrUbgeBSBAuB6F61G4EUDD9Shcj8IYQGZmZmZmZhRAXI/C9ShcGUApXI/C9SgbQK5H4XoUrhpACtejcD0KHkD2KFyPwvUOQM3MzMzMzB1Aw/UoXI/CGUDD9Shcj8IgQBSuR+F6FBZA7FG4HoVrIUAK16NwPQoeQEjhehSuRxhACtejcD0KIECkcD0K1yMgQFyPwvUoXBdAuB6F61G4FkD2KFyPwvUTQOxRuB6F6xVA16NwPQrXHECPwvUoXI8fQK5H4XoUrhRAuB6F61G4H0CuR+F6FK4VQM3MzMzMzBxA4XoUrkfhFECuR+F6FK4RQFyPwvUoXB5A16NwPQrXG0ApXI/C9aghQJqZmZmZmRBAZmZmZmZmFUBxPQrXo3AeQLgehetRuBdAKVyPwvUoGUBxPQrXo3AYQFyPwvUoXBhAZmZmZmZmF0Bcj8L1KFwXQNejcD0K1xdAzczMzMzMG0DNzMzMzMwYQDMzMzMzMxRA9ihcj8L1GkCF61G4HgUgQDMzMzMzMyBA",
          "dtype": "f8"
         },
         "y0": " ",
         "yaxis": "y"
        },
        {
         "alignmentgroup": "True",
         "hovertemplate": "dataset=Deactive<br>Raça=%{x}<br>Coeficiente=%{y}<extra></extra>",
         "legendgroup": "Deactive",
         "marker": {
          "color": "#EF553B"
         },
         "name": "Deactive",
         "notched": false,
         "offsetgroup": "Deactive",
         "orientation": "v",
         "showlegend": true,
         "type": "box",
         "x": [
          "Branca",
          "Negra",
          "Branca",
          "Pardo(a),Mulato(a)",
          "Branca",
          "Branca",
          "Amarela",
          "Pardo(a),Mulato(a)",
          "Branca",
          "Não Informado",
          "Pardo(a),Mulato(a)",
          "Pardo(a),Mulato(a)",
          "Branca",
          "Pardo(a),Mulato(a)",
          "Branca",
          "Pardo(a),Mulato(a)",
          "Negra",
          "Pardo(a),Mulato(a)",
          "Negra",
          "Branca",
          "Pardo(a),Mulato(a)",
          "Pardo(a),Mulato(a)",
          "Pardo(a),Mulato(a)",
          "Pardo(a),Mulato(a)",
          "Não Informado",
          "Pardo(a),Mulato(a)",
          "Branca",
          "Pardo(a),Mulato(a)",
          "Branca",
          "Pardo(a),Mulato(a)",
          "Branca",
          "Pardo(a),Mulato(a)",
          "Branca",
          "Branca",
          "Branca",
          "Branca",
          "Branca",
          "Pardo(a),Mulato(a)",
          "Branca",
          "Branca",
          "Pardo(a),Mulato(a)",
          "Negra",
          "Não Informado",
          "Não Informado",
          "Branca",
          "Pardo(a),Mulato(a)",
          "Branca",
          "Amarela",
          "Pardo(a),Mulato(a)",
          "Pardo(a),Mulato(a)",
          "Branca",
          "Pardo(a),Mulato(a)",
          "Não Informado",
          "Pardo(a),Mulato(a)",
          "Branca",
          "Não Informado",
          "Não Informado",
          "Branca",
          "Pardo(a),Mulato(a)",
          "Pardo(a),Mulato(a)",
          "Branca",
          "Pardo(a),Mulato(a)",
          "Não Informado",
          "Não Informado",
          "Pardo(a),Mulato(a)",
          "Pardo(a),Mulato(a)",
          "Não Informado",
          "Amarela",
          "Branca",
          "Branca",
          "Pardo(a),Mulato(a)",
          "Pardo(a),Mulato(a)",
          "Branca",
          "Não Informado",
          "Branca",
          "Pardo(a),Mulato(a)",
          "Pardo(a),Mulato(a)",
          "Pardo(a),Mulato(a)",
          "Pardo(a),Mulato(a)",
          "Negra",
          "Negra",
          "Branca",
          "Pardo(a),Mulato(a)",
          "Amarela",
          "Pardo(a),Mulato(a)",
          "Branca",
          "Pardo(a),Mulato(a)",
          "Pardo(a),Mulato(a)",
          "Pardo(a),Mulato(a)",
          "Pardo(a),Mulato(a)",
          "Branca",
          "Pardo(a),Mulato(a)",
          "Pardo(a),Mulato(a)",
          "Pardo(a),Mulato(a)",
          "Branca",
          "Não Informado",
          "Pardo(a),Mulato(a)",
          "Branca",
          "Branca",
          "Branca",
          "Branca",
          "Branca",
          "Pardo(a),Mulato(a)",
          "Pardo(a),Mulato(a)",
          "Pardo(a),Mulato(a)",
          "Branca",
          "Pardo(a),Mulato(a)",
          "Branca",
          "Pardo(a),Mulato(a)",
          "Branca",
          "Pardo(a),Mulato(a)",
          "Branca",
          "Branca",
          "Pardo(a),Mulato(a)",
          "Branca",
          "Branca",
          "Branca",
          "Branca",
          "Não Informado",
          "Branca",
          "Amarela",
          "Branca",
          "Pardo(a),Mulato(a)",
          "Pardo(a),Mulato(a)",
          "Pardo(a),Mulato(a)",
          "Pardo(a),Mulato(a)",
          "Branca",
          "Pardo(a),Mulato(a)",
          "Branca",
          "Negra",
          "Branca",
          "Branca",
          "Branca",
          "Branca",
          "Pardo(a),Mulato(a)",
          "Pardo(a),Mulato(a)",
          "Branca",
          "Amarela",
          "Amarela",
          "Branca",
          "Pardo(a),Mulato(a)",
          "Pardo(a),Mulato(a)",
          "Não Informado",
          "Branca",
          "Não Informado",
          "Pardo(a),Mulato(a)",
          "Negra",
          "Não Informado",
          "Branca",
          "Branca",
          "Branca",
          "Branca",
          "Branca",
          "Pardo(a),Mulato(a)",
          "Pardo(a),Mulato(a)",
          "Negra",
          "Negra",
          "Negra",
          "Pardo(a),Mulato(a)",
          "Branca",
          "Indígena",
          "Branca",
          "Pardo(a),Mulato(a)",
          "Negra",
          "Branca",
          "Negra",
          "Pardo(a),Mulato(a)",
          "Branca",
          "Pardo(a),Mulato(a)",
          "Pardo(a),Mulato(a)",
          "Não Informado",
          "Branca",
          "Pardo(a),Mulato(a)",
          "Branca",
          "Pardo(a),Mulato(a)",
          "Pardo(a),Mulato(a)",
          "Branca",
          "Pardo(a),Mulato(a)",
          "Branca",
          "Pardo(a),Mulato(a)",
          "Pardo(a),Mulato(a)",
          "Branca",
          "Pardo(a),Mulato(a)",
          "Negra",
          "Pardo(a),Mulato(a)",
          "Não Informado",
          "Branca",
          "Pardo(a),Mulato(a)",
          "Pardo(a),Mulato(a)",
          "Pardo(a),Mulato(a)",
          "Negra",
          "Branca",
          "Pardo(a),Mulato(a)",
          "Branca",
          "Branca",
          "Não Informado",
          "Pardo(a),Mulato(a)",
          "Branca",
          "Branca",
          "Pardo(a),Mulato(a)",
          "Branca",
          "Pardo(a),Mulato(a)",
          "Pardo(a),Mulato(a)",
          "Pardo(a),Mulato(a)",
          "Branca",
          "Pardo(a),Mulato(a)",
          "Pardo(a),Mulato(a)",
          "Branca",
          "Pardo(a),Mulato(a)",
          "Negra",
          "Não Informado",
          "Branca",
          "Pardo(a),Mulato(a)",
          "Amarela",
          "Amarela",
          "Não Informado",
          "Branca",
          "Branca",
          "Branca",
          "Não Informado",
          "Branca",
          "Branca",
          "Pardo(a),Mulato(a)",
          "Branca",
          "Pardo(a),Mulato(a)",
          "Pardo(a),Mulato(a)",
          "Pardo(a),Mulato(a)",
          "Amarela",
          "Negra",
          "Pardo(a),Mulato(a)",
          "Pardo(a),Mulato(a)",
          "Branca",
          "Pardo(a),Mulato(a)",
          "Branca",
          "Branca",
          "Não Informado",
          "Não Informado",
          "Pardo(a),Mulato(a)",
          "Branca",
          "Branca",
          "Pardo(a),Mulato(a)",
          "Negra",
          "Branca",
          "Branca",
          "Branca",
          "Pardo(a),Mulato(a)",
          "Branca",
          "Branca",
          "Branca",
          "Pardo(a),Mulato(a)",
          "Pardo(a),Mulato(a)",
          "Branca",
          "Pardo(a),Mulato(a)",
          "Negra",
          "Negra",
          "Pardo(a),Mulato(a)",
          "Branca",
          "Pardo(a),Mulato(a)",
          "Branca",
          "Pardo(a),Mulato(a)",
          "Pardo(a),Mulato(a)",
          "Pardo(a),Mulato(a)",
          "Pardo(a),Mulato(a)",
          "Pardo(a),Mulato(a)",
          "Branca",
          "Branca",
          "Não Informado",
          "Negra",
          "Branca",
          "Pardo(a),Mulato(a)",
          "Não Informado",
          "Pardo(a),Mulato(a)",
          "Branca",
          "Pardo(a),Mulato(a)",
          "Pardo(a),Mulato(a)",
          "Pardo(a),Mulato(a)",
          "Branca",
          "Negra",
          "Não Informado",
          "Branca",
          "Branca",
          "Pardo(a),Mulato(a)",
          "Pardo(a),Mulato(a)",
          "Branca",
          "Pardo(a),Mulato(a)",
          "Branca",
          "Negra",
          "Branca",
          "Pardo(a),Mulato(a)",
          "Pardo(a),Mulato(a)",
          "Pardo(a),Mulato(a)",
          "Pardo(a),Mulato(a)",
          "Não Informado",
          "Pardo(a),Mulato(a)",
          "Não Informado",
          "Branca",
          "Branca",
          "Branca",
          "Branca",
          "Branca",
          "Pardo(a),Mulato(a)",
          "Não Informado",
          "Não Informado",
          "Negra",
          "Branca",
          "Negra",
          "Branca",
          "Branca",
          "Branca",
          "Branca",
          "Branca",
          "Pardo(a),Mulato(a)",
          "Branca",
          "Amarela",
          "Pardo(a),Mulato(a)",
          "Pardo(a),Mulato(a)",
          "Branca",
          "Pardo(a),Mulato(a)",
          "Não Informado",
          "Amarela",
          "Branca",
          "Branca",
          "Pardo(a),Mulato(a)",
          "Branca",
          "Pardo(a),Mulato(a)",
          "Pardo(a),Mulato(a)",
          "Pardo(a),Mulato(a)",
          "Pardo(a),Mulato(a)",
          "Pardo(a),Mulato(a)",
          "Pardo(a),Mulato(a)",
          "Branca",
          "Pardo(a),Mulato(a)",
          "Branca",
          "Branca",
          "Branca",
          "Pardo(a),Mulato(a)",
          "Branca",
          "Amarela",
          "Pardo(a),Mulato(a)",
          "Pardo(a),Mulato(a)",
          "Branca",
          "Não Informado",
          "Pardo(a),Mulato(a)",
          "Pardo(a),Mulato(a)",
          "Pardo(a),Mulato(a)",
          "Não Informado",
          "Pardo(a),Mulato(a)",
          "Branca",
          "Branca",
          "Pardo(a),Mulato(a)",
          "Branca",
          "Pardo(a),Mulato(a)",
          "Pardo(a),Mulato(a)",
          "Não Informado",
          "Pardo(a),Mulato(a)",
          "Não Informado",
          "Negra",
          "Branca",
          "Não Informado",
          "Não Informado",
          "Pardo(a),Mulato(a)",
          "Branca",
          "Não Informado",
          "Branca",
          "Branca",
          "Negra",
          "Pardo(a),Mulato(a)",
          "Negra",
          "Branca",
          "Negra",
          "Branca",
          "Pardo(a),Mulato(a)",
          "Branca",
          "Pardo(a),Mulato(a)",
          "Negra",
          "Pardo(a),Mulato(a)",
          "Pardo(a),Mulato(a)",
          "Amarela",
          "Pardo(a),Mulato(a)",
          "Branca",
          "Não Informado",
          "Negra",
          "Negra",
          "Negra",
          "Branca",
          "Pardo(a),Mulato(a)",
          "Branca"
         ],
         "x0": " ",
         "xaxis": "x",
         "y": {
          "bdata": "FK5H4XoU+j8AAAAAAAAAAAAAAAAAAAAAhetRuB6F4z9xPQrXo3ANQNejcD0K1/s/uB6F61G4rj8AAAAAAAAAAHE9CtejcAdAAAAAAAAAAACkcD0K16MAQFK4HoXrURlApHA9Ctej0D8pXI/C9SgMQOF6FK5H4fY/MzMzMzMzAUAAAAAAAAAAAAAAAAAAAAAAmpmZmZmZB0BmZmZmZmYbQIXrUbgehRBAMzMzMzMzE0DhehSuR+EIQAAAAAAAAAAAmpmZmZmZyT8AAAAAAAAAAAAAAAAAAAAA7FG4HoXrsT9mZmZmZmYOQIXrUbgehRJAj8L1KFyPBECkcD0K16MMQAAAAAAAAAAAXI/C9Shc5z/hehSuR+EGQJqZmZmZmdk/H4XrUbgeFkBI4XoUrkf1PwAAAAAAAABASOF6FK5H9T8fhetRuB4NQFyPwvUoXBRAAAAAAAAAAADXo3A9Ctf/PwAAAAAAAAAAUrgehetRE0DXo3A9CtcQQD0K16NwPfI/pHA9CtejEECPwvUoXI8AQOF6FK5H4co/CtejcD0KEkAAAAAAAAAAAOF6FK5H4R5AXI/C9ShcEECuR+F6FK7vP1yPwvUoXA9AFK5H4XoUEEAAAAAAAAAAAAAAAAAAAAAAzczMzMzMAEAUrkfhehT6PwAAAAAAAAAAH4XrUbgeA0DD9Shcj8LFP5qZmZmZmck/hetRuB6FA0BmZmZmZmb2P83MzMzMzARAcT0K16NwGkBcj8L1KFwUQOF6FK5H4f4/AAAAAAAAAAAAAAAAAAAAAK5H4XoUrvc/pHA9Ctej4D8UrkfhehTuP/YoXI/C9QJAAAAAAAAAAACamZmZmZkYQK5H4XoUrhxAKVyPwvUoAECuR+F6FK4LQBSuR+F6FBhAuB6F61G4+j+kcD0K16MaQKRwPQrXo/g/mpmZmZmZDUAK16NwPQoQQB+F61G4HtU/AAAAAAAAAACamZmZmZkYQKRwPQrXo8A/exSuR+F6H0DhehSuR+EIQOF6FK5H4fo/exSuR+F67D9xPQrXo3ADQM3MzMzMzPw/FK5H4XoU7j8UrkfhehQVQHsUrkfhehJAAAAAAAAAAAApXI/C9SgAQNejcD0K1wVAw/UoXI/CB0DsUbgehevhP4XrUbgehds/4XoUrkfhyj+PwvUoXI/+PxSuR+F6FBNAAAAAAAAAAABxPQrXo3ALQIXrUbgehRRAXI/C9ShcHkCPwvUoXI8EQI/C9ShcjwZA7FG4HoXr/T8fhetRuB4FQLgehetRuAZAAAAAAAAA9D9SuB6F61HIP0jhehSuRwtAcT0K16NwzT8AAAAAAAAAAPYoXI/C9RZA4XoUrkfhG0AfhetRuB4HQAAAAAAAAAAAj8L1KFyP0j+F61G4HoULQK5H4XoUrhhAH4XrUbgeBUA9CtejcD0OQFK4HoXrUeA/AAAAAAAAAAAAAAAAAAAAAFyPwvUoXAVAmpmZmZmZEkApXI/C9SgGQAAAAAAAAAAAPQrXo3A9EUBSuB6F61H8P83MzMzMzOQ/AAAAAAAAAAAAAAAAAAAAAHsUrkfheghAuB6F61G4nj8AAAAAAAAAAOF6FK5H4QpAAAAAAAAAAACamZmZmZkFQEjhehSuRwlArkfhehSu1z+kcD0K16P8P+xRuB6F6wtAw/UoXI/CFECkcD0K16MUQJqZmZmZmfk/j8L1KFyP9j8zMzMzMzPzPxSuR+F6FBRAexSuR+F6EUAUrkfhehQEQAAAAAAAAAAAAAAAAAAAAAAAAAAAAAAAAJqZmZmZmck/AAAAAAAAAAAAAAAAAAAAAHE9CtejcA1AmpmZmZmZA0AAAAAAAAAAAJqZmZmZmQlAH4XrUbgeC0BSuB6F61EGQHsUrkfhevg/AAAAAAAAAACamZmZmZkJQOF6FK5H4QZA7FG4HoXrEUBSuB6F61EhQLgehetRuK4/AAAAAAAAAACamZmZmZkBQAAAAAAAAAAAH4XrUbgeC0AUrkfhehT+PwAAAAAAAAAACtejcD0KEUB7FK5H4XrEP/YoXI/C9dg/CtejcD0Kxz/Xo3A9CtcDQK5H4XoUrgVACtejcD0KDUCPwvUoXI8bQKRwPQrXow5AAAAAAAAAAAAzMzMzMzMBQFK4HoXrURZAuB6F61G4EkAAAAAAAAAAAHsUrkfhevQ/PQrXo3A9GkAAAAAAAAAAAK5H4XoUrvM/16NwPQrXE0AfhetRuB4LQHsUrkfhevw/mpmZmZmZFUBxPQrXo3AVQAAAAAAAAAAA4XoUrkfhyj8AAAAAAAAAAGZmZmZmZgZA9ihcj8L1DEBSuB6F61HoP+xRuB6F6xhA7FG4HoXr0T/sUbgehesPQAAAAAAAAAAA9ihcj8L1BEAAAAAAAAAAAOxRuB6F67E/AAAAAAAAAAAAAAAAAAAAAPYoXI/C9RVAXI/C9Shc8z+uR+F6FK77Pylcj8L1KBdAmpmZmZmZ/T8AAAAAAAAAAK5H4XoUrhFAj8L1KFyP8j8K16NwPQr3P1yPwvUoXCFAXI/C9ShcE0DXo3A9CtcBQPYoXI/C9dg/AAAAAAAAAACkcD0K16PwP3sUrkfheg5AZmZmZmZm7j8fhetRuB4SQOF6FK5H4co/AAAAAAAAAACPwvUoXI8GQK5H4XoUrvc/FK5H4XoU5j89CtejcD0MQAAAAAAAAAAA4XoUrkfhyj+amZmZmRkgQD0K16NwPQpAAAAAAAAAAABI4XoUrkcTQAAAAAAAAAAASOF6FK5H8T8AAAAAAAAAAClcj8L1KBFA7FG4HoXr/T9cj8L1KFzzPwAAAAAAAAAAAAAAAAAAAAAAAAAAAAAAAAAAAAAAAAAAH4XrUbge/T8AAAAAAAAAAB+F61G4HvU/AAAAAAAAAAD2KFyPwvUMQDMzMzMzM/M/exSuR+F6AEApXI/C9SgEQArXo3A9ChhA7FG4HoXrC0AUrkfhehQGQAAAAAAAAPw/MzMzMzMzBUB7FK5H4XoXQAAAAAAAAAAAAAAAAAAAAAAAAAAAAAAAAKRwPQrXo/Q/FK5H4XoUCECamZmZmZnJP1yPwvUoXOc/zczMzMzMCkCamZmZmZnhP4/C9Shcj/Y/H4XrUbgeD0BI4XoUrkcDQAAAAAAAAAAAKVyPwvUo+D8AAAAAAAAAAHE9CtejcPU/j8L1KFyPCkAAAAAAAAAAAAAAAAAAAAAAAAAAAAAAAAAAAAAAAAAAAAAAAAAAAAAAUrgehetRCkBxPQrXo3ARQAAAAAAAAAAAH4XrUbgeCUDhehSuR+HKP3sUrkfhehdAmpmZmZmZB0CPwvUoXI/iP7gehetRuM4/AAAAAAAAAACkcD0K16MRQOF6FK5H4fI/AAAAAAAAAAAzMzMzMzPTP65H4XoUrg1AuB6F61G4nj8AAAAAAAAAAD0K16NwPRNACtejcD0K/z/Xo3A9Ctf3PwAAAAAAAAAA4XoUrkfhCEBSuB6F61EQQHsUrkfhegJAUrgehetRGkAAAAAAAAD4P0jhehSuR/0/AAAAAAAAAAAK16NwPQoLQOF6FK5H4RhAmpmZmZmZAUDXo3A9Ctf3PwAAAAAAAAAAAAAAAAAAAABmZmZmZmbuPxSuR+F6FOY/UrgehetRyD8AAAAAAAAAAArXo3A9CgFA4XoUrkfhCkCkcD0K16P4P4XrUbgehRpAhetRuB6FC0BxPQrXo3AHQGZmZmZmZhZAmpmZmZmZF0AK16NwPQoPQAAAAAAAAAAAUrgehetR2D97FK5H4XrUPwAAAAAAAB5AexSuR+F6F0BI4XoUrkcFQAAAAAAAAAAAj8L1KFyPDEA9CtejcD3+P4/C9ShcjwhAAAAAAAAAAADsUbgeheseQOxRuB6F6wtAMzMzMzMzH0AAAAAAAAAAAOF6FK5H4QJAXI/C9ShcEUB7FK5H4XrUP+F6FK5H4QxAAAAAAAAAAADsUbgehesBQDMzMzMzMw9AXI/C9ShcAUBI4XoUrkfpPzMzMzMzMwVAAAAAAAAAAACamZmZmZmpP+xRuB6F6+E/PQrXo3A9BkB7FK5H4XoIQOF6FK5H4fY/16NwPQrXBUAzMzMzMzMSQIXrUbgehRhAhetRuB6FEUAAAAAAAAAAAM3MzMzMzPA/",
          "dtype": "f8"
         },
         "y0": " ",
         "yaxis": "y"
        }
       ],
       "layout": {
        "boxmode": "group",
        "font": {
         "color": "Black",
         "family": "Courier New, monospace",
         "size": 18,
         "variant": "small-caps"
        },
        "legend": {
         "title": {
          "text": "dataset"
         },
         "tracegroupgap": 0
        },
        "margin": {
         "t": 60
        },
        "template": {
         "data": {
          "bar": [
           {
            "error_x": {
             "color": "#2a3f5f"
            },
            "error_y": {
             "color": "#2a3f5f"
            },
            "marker": {
             "line": {
              "color": "#E5ECF6",
              "width": 0.5
             },
             "pattern": {
              "fillmode": "overlay",
              "size": 10,
              "solidity": 0.2
             }
            },
            "type": "bar"
           }
          ],
          "barpolar": [
           {
            "marker": {
             "line": {
              "color": "#E5ECF6",
              "width": 0.5
             },
             "pattern": {
              "fillmode": "overlay",
              "size": 10,
              "solidity": 0.2
             }
            },
            "type": "barpolar"
           }
          ],
          "carpet": [
           {
            "aaxis": {
             "endlinecolor": "#2a3f5f",
             "gridcolor": "white",
             "linecolor": "white",
             "minorgridcolor": "white",
             "startlinecolor": "#2a3f5f"
            },
            "baxis": {
             "endlinecolor": "#2a3f5f",
             "gridcolor": "white",
             "linecolor": "white",
             "minorgridcolor": "white",
             "startlinecolor": "#2a3f5f"
            },
            "type": "carpet"
           }
          ],
          "choropleth": [
           {
            "colorbar": {
             "outlinewidth": 0,
             "ticks": ""
            },
            "type": "choropleth"
           }
          ],
          "contour": [
           {
            "colorbar": {
             "outlinewidth": 0,
             "ticks": ""
            },
            "colorscale": [
             [
              0,
              "#0d0887"
             ],
             [
              0.1111111111111111,
              "#46039f"
             ],
             [
              0.2222222222222222,
              "#7201a8"
             ],
             [
              0.3333333333333333,
              "#9c179e"
             ],
             [
              0.4444444444444444,
              "#bd3786"
             ],
             [
              0.5555555555555556,
              "#d8576b"
             ],
             [
              0.6666666666666666,
              "#ed7953"
             ],
             [
              0.7777777777777778,
              "#fb9f3a"
             ],
             [
              0.8888888888888888,
              "#fdca26"
             ],
             [
              1,
              "#f0f921"
             ]
            ],
            "type": "contour"
           }
          ],
          "contourcarpet": [
           {
            "colorbar": {
             "outlinewidth": 0,
             "ticks": ""
            },
            "type": "contourcarpet"
           }
          ],
          "heatmap": [
           {
            "colorbar": {
             "outlinewidth": 0,
             "ticks": ""
            },
            "colorscale": [
             [
              0,
              "#0d0887"
             ],
             [
              0.1111111111111111,
              "#46039f"
             ],
             [
              0.2222222222222222,
              "#7201a8"
             ],
             [
              0.3333333333333333,
              "#9c179e"
             ],
             [
              0.4444444444444444,
              "#bd3786"
             ],
             [
              0.5555555555555556,
              "#d8576b"
             ],
             [
              0.6666666666666666,
              "#ed7953"
             ],
             [
              0.7777777777777778,
              "#fb9f3a"
             ],
             [
              0.8888888888888888,
              "#fdca26"
             ],
             [
              1,
              "#f0f921"
             ]
            ],
            "type": "heatmap"
           }
          ],
          "histogram": [
           {
            "marker": {
             "pattern": {
              "fillmode": "overlay",
              "size": 10,
              "solidity": 0.2
             }
            },
            "type": "histogram"
           }
          ],
          "histogram2d": [
           {
            "colorbar": {
             "outlinewidth": 0,
             "ticks": ""
            },
            "colorscale": [
             [
              0,
              "#0d0887"
             ],
             [
              0.1111111111111111,
              "#46039f"
             ],
             [
              0.2222222222222222,
              "#7201a8"
             ],
             [
              0.3333333333333333,
              "#9c179e"
             ],
             [
              0.4444444444444444,
              "#bd3786"
             ],
             [
              0.5555555555555556,
              "#d8576b"
             ],
             [
              0.6666666666666666,
              "#ed7953"
             ],
             [
              0.7777777777777778,
              "#fb9f3a"
             ],
             [
              0.8888888888888888,
              "#fdca26"
             ],
             [
              1,
              "#f0f921"
             ]
            ],
            "type": "histogram2d"
           }
          ],
          "histogram2dcontour": [
           {
            "colorbar": {
             "outlinewidth": 0,
             "ticks": ""
            },
            "colorscale": [
             [
              0,
              "#0d0887"
             ],
             [
              0.1111111111111111,
              "#46039f"
             ],
             [
              0.2222222222222222,
              "#7201a8"
             ],
             [
              0.3333333333333333,
              "#9c179e"
             ],
             [
              0.4444444444444444,
              "#bd3786"
             ],
             [
              0.5555555555555556,
              "#d8576b"
             ],
             [
              0.6666666666666666,
              "#ed7953"
             ],
             [
              0.7777777777777778,
              "#fb9f3a"
             ],
             [
              0.8888888888888888,
              "#fdca26"
             ],
             [
              1,
              "#f0f921"
             ]
            ],
            "type": "histogram2dcontour"
           }
          ],
          "mesh3d": [
           {
            "colorbar": {
             "outlinewidth": 0,
             "ticks": ""
            },
            "type": "mesh3d"
           }
          ],
          "parcoords": [
           {
            "line": {
             "colorbar": {
              "outlinewidth": 0,
              "ticks": ""
             }
            },
            "type": "parcoords"
           }
          ],
          "pie": [
           {
            "automargin": true,
            "type": "pie"
           }
          ],
          "scatter": [
           {
            "fillpattern": {
             "fillmode": "overlay",
             "size": 10,
             "solidity": 0.2
            },
            "type": "scatter"
           }
          ],
          "scatter3d": [
           {
            "line": {
             "colorbar": {
              "outlinewidth": 0,
              "ticks": ""
             }
            },
            "marker": {
             "colorbar": {
              "outlinewidth": 0,
              "ticks": ""
             }
            },
            "type": "scatter3d"
           }
          ],
          "scattercarpet": [
           {
            "marker": {
             "colorbar": {
              "outlinewidth": 0,
              "ticks": ""
             }
            },
            "type": "scattercarpet"
           }
          ],
          "scattergeo": [
           {
            "marker": {
             "colorbar": {
              "outlinewidth": 0,
              "ticks": ""
             }
            },
            "type": "scattergeo"
           }
          ],
          "scattergl": [
           {
            "marker": {
             "colorbar": {
              "outlinewidth": 0,
              "ticks": ""
             }
            },
            "type": "scattergl"
           }
          ],
          "scattermap": [
           {
            "marker": {
             "colorbar": {
              "outlinewidth": 0,
              "ticks": ""
             }
            },
            "type": "scattermap"
           }
          ],
          "scattermapbox": [
           {
            "marker": {
             "colorbar": {
              "outlinewidth": 0,
              "ticks": ""
             }
            },
            "type": "scattermapbox"
           }
          ],
          "scatterpolar": [
           {
            "marker": {
             "colorbar": {
              "outlinewidth": 0,
              "ticks": ""
             }
            },
            "type": "scatterpolar"
           }
          ],
          "scatterpolargl": [
           {
            "marker": {
             "colorbar": {
              "outlinewidth": 0,
              "ticks": ""
             }
            },
            "type": "scatterpolargl"
           }
          ],
          "scatterternary": [
           {
            "marker": {
             "colorbar": {
              "outlinewidth": 0,
              "ticks": ""
             }
            },
            "type": "scatterternary"
           }
          ],
          "surface": [
           {
            "colorbar": {
             "outlinewidth": 0,
             "ticks": ""
            },
            "colorscale": [
             [
              0,
              "#0d0887"
             ],
             [
              0.1111111111111111,
              "#46039f"
             ],
             [
              0.2222222222222222,
              "#7201a8"
             ],
             [
              0.3333333333333333,
              "#9c179e"
             ],
             [
              0.4444444444444444,
              "#bd3786"
             ],
             [
              0.5555555555555556,
              "#d8576b"
             ],
             [
              0.6666666666666666,
              "#ed7953"
             ],
             [
              0.7777777777777778,
              "#fb9f3a"
             ],
             [
              0.8888888888888888,
              "#fdca26"
             ],
             [
              1,
              "#f0f921"
             ]
            ],
            "type": "surface"
           }
          ],
          "table": [
           {
            "cells": {
             "fill": {
              "color": "#EBF0F8"
             },
             "line": {
              "color": "white"
             }
            },
            "header": {
             "fill": {
              "color": "#C8D4E3"
             },
             "line": {
              "color": "white"
             }
            },
            "type": "table"
           }
          ]
         },
         "layout": {
          "annotationdefaults": {
           "arrowcolor": "#2a3f5f",
           "arrowhead": 0,
           "arrowwidth": 1
          },
          "autotypenumbers": "strict",
          "coloraxis": {
           "colorbar": {
            "outlinewidth": 0,
            "ticks": ""
           }
          },
          "colorscale": {
           "diverging": [
            [
             0,
             "#8e0152"
            ],
            [
             0.1,
             "#c51b7d"
            ],
            [
             0.2,
             "#de77ae"
            ],
            [
             0.3,
             "#f1b6da"
            ],
            [
             0.4,
             "#fde0ef"
            ],
            [
             0.5,
             "#f7f7f7"
            ],
            [
             0.6,
             "#e6f5d0"
            ],
            [
             0.7,
             "#b8e186"
            ],
            [
             0.8,
             "#7fbc41"
            ],
            [
             0.9,
             "#4d9221"
            ],
            [
             1,
             "#276419"
            ]
           ],
           "sequential": [
            [
             0,
             "#0d0887"
            ],
            [
             0.1111111111111111,
             "#46039f"
            ],
            [
             0.2222222222222222,
             "#7201a8"
            ],
            [
             0.3333333333333333,
             "#9c179e"
            ],
            [
             0.4444444444444444,
             "#bd3786"
            ],
            [
             0.5555555555555556,
             "#d8576b"
            ],
            [
             0.6666666666666666,
             "#ed7953"
            ],
            [
             0.7777777777777778,
             "#fb9f3a"
            ],
            [
             0.8888888888888888,
             "#fdca26"
            ],
            [
             1,
             "#f0f921"
            ]
           ],
           "sequentialminus": [
            [
             0,
             "#0d0887"
            ],
            [
             0.1111111111111111,
             "#46039f"
            ],
            [
             0.2222222222222222,
             "#7201a8"
            ],
            [
             0.3333333333333333,
             "#9c179e"
            ],
            [
             0.4444444444444444,
             "#bd3786"
            ],
            [
             0.5555555555555556,
             "#d8576b"
            ],
            [
             0.6666666666666666,
             "#ed7953"
            ],
            [
             0.7777777777777778,
             "#fb9f3a"
            ],
            [
             0.8888888888888888,
             "#fdca26"
            ],
            [
             1,
             "#f0f921"
            ]
           ]
          },
          "colorway": [
           "#636efa",
           "#EF553B",
           "#00cc96",
           "#ab63fa",
           "#FFA15A",
           "#19d3f3",
           "#FF6692",
           "#B6E880",
           "#FF97FF",
           "#FECB52"
          ],
          "font": {
           "color": "#2a3f5f"
          },
          "geo": {
           "bgcolor": "white",
           "lakecolor": "white",
           "landcolor": "#E5ECF6",
           "showlakes": true,
           "showland": true,
           "subunitcolor": "white"
          },
          "hoverlabel": {
           "align": "left"
          },
          "hovermode": "closest",
          "mapbox": {
           "style": "light"
          },
          "paper_bgcolor": "white",
          "plot_bgcolor": "#E5ECF6",
          "polar": {
           "angularaxis": {
            "gridcolor": "white",
            "linecolor": "white",
            "ticks": ""
           },
           "bgcolor": "#E5ECF6",
           "radialaxis": {
            "gridcolor": "white",
            "linecolor": "white",
            "ticks": ""
           }
          },
          "scene": {
           "xaxis": {
            "backgroundcolor": "#E5ECF6",
            "gridcolor": "white",
            "gridwidth": 2,
            "linecolor": "white",
            "showbackground": true,
            "ticks": "",
            "zerolinecolor": "white"
           },
           "yaxis": {
            "backgroundcolor": "#E5ECF6",
            "gridcolor": "white",
            "gridwidth": 2,
            "linecolor": "white",
            "showbackground": true,
            "ticks": "",
            "zerolinecolor": "white"
           },
           "zaxis": {
            "backgroundcolor": "#E5ECF6",
            "gridcolor": "white",
            "gridwidth": 2,
            "linecolor": "white",
            "showbackground": true,
            "ticks": "",
            "zerolinecolor": "white"
           }
          },
          "shapedefaults": {
           "line": {
            "color": "#2a3f5f"
           }
          },
          "ternary": {
           "aaxis": {
            "gridcolor": "white",
            "linecolor": "white",
            "ticks": ""
           },
           "baxis": {
            "gridcolor": "white",
            "linecolor": "white",
            "ticks": ""
           },
           "bgcolor": "#E5ECF6",
           "caxis": {
            "gridcolor": "white",
            "linecolor": "white",
            "ticks": ""
           }
          },
          "title": {
           "x": 0.05
          },
          "xaxis": {
           "automargin": true,
           "gridcolor": "white",
           "linecolor": "white",
           "ticks": "",
           "title": {
            "standoff": 15
           },
           "zerolinecolor": "white",
           "zerolinewidth": 2
          },
          "yaxis": {
           "automargin": true,
           "gridcolor": "white",
           "linecolor": "white",
           "ticks": "",
           "title": {
            "standoff": 15
           },
           "zerolinecolor": "white",
           "zerolinewidth": 2
          }
         }
        },
        "title": {
         "text": "GPA: Undergrads vs Dropout per Ethnics"
        },
        "xaxis": {
         "anchor": "y",
         "domain": [
          0,
          1
         ],
         "title": {
          "text": "Raça"
         }
        },
        "yaxis": {
         "anchor": "x",
         "domain": [
          0,
          1
         ],
         "title": {
          "text": "Coeficiente"
         }
        }
       }
      }
     },
     "metadata": {},
     "output_type": "display_data"
    },
    {
     "data": {
      "application/vnd.plotly.v1+json": {
       "config": {
        "plotlyServerURL": "https://plot.ly"
       },
       "data": [
        {
         "alignmentgroup": "True",
         "hovertemplate": "dataset=Finished<br>Sexo=%{x}<br>Coeficiente=%{y}<extra></extra>",
         "legendgroup": "Finished",
         "marker": {
          "color": "#636efa"
         },
         "name": "Finished",
         "notched": false,
         "offsetgroup": "Finished",
         "orientation": "v",
         "showlegend": true,
         "type": "box",
         "x": [
          "Feminino",
          "Masculino",
          "Masculino",
          "Masculino",
          "Feminino",
          "Masculino",
          "Masculino",
          "Masculino",
          "Masculino",
          "Feminino",
          "Masculino",
          "Masculino",
          "Masculino",
          "Masculino",
          "Masculino",
          "Masculino",
          "Masculino",
          "Feminino",
          "Masculino",
          "Masculino",
          "Masculino",
          "Masculino",
          "Masculino",
          "Masculino",
          "Masculino",
          "Masculino",
          "Masculino",
          "Masculino",
          "Masculino",
          "Masculino",
          "Feminino",
          "Masculino",
          "Masculino",
          "Masculino",
          "Masculino",
          "Masculino",
          "Feminino",
          "Feminino",
          "Masculino",
          "Masculino",
          "Masculino",
          "Masculino",
          "Masculino",
          "Masculino",
          "Masculino",
          "Masculino",
          "Masculino",
          "Masculino",
          "Masculino",
          "Masculino",
          "Masculino",
          "Masculino",
          "Masculino",
          "Masculino",
          "Masculino",
          "Feminino",
          "Masculino",
          "Masculino",
          "Feminino",
          "Masculino",
          "Masculino",
          "Feminino",
          "Masculino",
          "Masculino",
          "Masculino",
          "Masculino",
          "Feminino",
          "Feminino",
          "Feminino",
          "Masculino",
          "Masculino",
          "Masculino",
          "Masculino",
          "Masculino",
          "Masculino",
          "Masculino",
          "Masculino",
          "Masculino",
          "Masculino",
          "Feminino",
          "Masculino",
          "Masculino",
          "Masculino",
          "Masculino",
          "Masculino",
          "Masculino",
          "Masculino",
          "Masculino",
          "Masculino",
          "Masculino",
          "Masculino",
          "Masculino",
          "Masculino",
          "Masculino",
          "Masculino",
          "Masculino",
          "Masculino",
          "Masculino",
          "Masculino",
          "Masculino",
          "Feminino",
          "Masculino",
          "Masculino",
          "Masculino",
          "Masculino",
          "Masculino",
          "Masculino",
          "Masculino",
          "Masculino",
          "Masculino",
          "Masculino"
         ],
         "x0": " ",
         "xaxis": "x",
         "y": {
          "bdata": "zczMzMzMG0DhehSuR+ERQArXo3A9ChNAUrgehetRFkBI4XoUrkcZQK5H4XoUrhlAzczMzMzMFkCamZmZmZkUQLgehetRuBZA16NwPQrXG0BxPQrXo3AWQLgehetRuBZAcT0K16NwFEDNzMzMzMweQD0K16NwPRhACtejcD0KIEAUrkfhehQWQMP1KFyPwh1AXI/C9ShcFkDNzMzMzMwWQGZmZmZmZhtAH4XrUbgeHkBcj8L1KFwfQDMzMzMzMxVAXI/C9ShcGED2KFyPwvUbQFyPwvUoXBZAXI/C9ShcHEAUrkfhehQbQD0K16NwPRlArkfhehSuIUAzMzMzMzMTQPYoXI/C9RRA16NwPQrXHEDsUbgehesSQK5H4XoUrhlAH4XrUbgeGUDsUbgehesVQHsUrkfhehRAXI/C9ShcFECPwvUoXI8bQK5H4XoUrhdAZmZmZmZmGkAUrkfhehQeQLgehetRuBZAMzMzMzMzHECkcD0K16MeQOxRuB6FayBAPQrXo3A9E0A9CtejcD0cQK5H4XoUrhhAXI/C9ShcFUC4HoXrUbgWQIXrUbgehSJA4XoUrkfhGEA9CtejcD0SQKRwPQrXox9Aw/UoXI/CHUCamZmZmRkgQB+F61G4HhRAw/UoXI/CHUDNzMzMzMwcQIXrUbgeBSBAuB6F61G4EUDD9Shcj8IYQGZmZmZmZhRAXI/C9ShcGUApXI/C9SgbQK5H4XoUrhpACtejcD0KHkD2KFyPwvUOQM3MzMzMzB1Aw/UoXI/CGUDD9Shcj8IgQBSuR+F6FBZA7FG4HoVrIUAK16NwPQoeQEjhehSuRxhACtejcD0KIECkcD0K1yMgQFyPwvUoXBdAuB6F61G4FkD2KFyPwvUTQOxRuB6F6xVA16NwPQrXHECPwvUoXI8fQK5H4XoUrhRAuB6F61G4H0CuR+F6FK4VQM3MzMzMzBxA4XoUrkfhFECuR+F6FK4RQFyPwvUoXB5A16NwPQrXG0ApXI/C9aghQJqZmZmZmRBAZmZmZmZmFUBxPQrXo3AeQLgehetRuBdAKVyPwvUoGUBxPQrXo3AYQFyPwvUoXBhAZmZmZmZmF0Bcj8L1KFwXQNejcD0K1xdAzczMzMzMG0DNzMzMzMwYQDMzMzMzMxRA9ihcj8L1GkCF61G4HgUgQDMzMzMzMyBA",
          "dtype": "f8"
         },
         "y0": " ",
         "yaxis": "y"
        },
        {
         "alignmentgroup": "True",
         "hovertemplate": "dataset=Deactive<br>Sexo=%{x}<br>Coeficiente=%{y}<extra></extra>",
         "legendgroup": "Deactive",
         "marker": {
          "color": "#EF553B"
         },
         "name": "Deactive",
         "notched": false,
         "offsetgroup": "Deactive",
         "orientation": "v",
         "showlegend": true,
         "type": "box",
         "x": [
          "Masculino",
          "Masculino",
          "Masculino",
          "Masculino",
          "Feminino",
          "Feminino",
          "Feminino",
          "Feminino",
          "Masculino",
          "Masculino",
          "Feminino",
          "Feminino",
          "Feminino",
          "Masculino",
          "Masculino",
          "Masculino",
          "Feminino",
          "Feminino",
          "Masculino",
          "Masculino",
          "Masculino",
          "Masculino",
          "Feminino",
          "Masculino",
          "Feminino",
          "Masculino",
          "Masculino",
          "Masculino",
          "Masculino",
          "Masculino",
          "Masculino",
          "Masculino",
          "Masculino",
          "Masculino",
          "Masculino",
          "Feminino",
          "Masculino",
          "Feminino",
          "Masculino",
          "Feminino",
          "Feminino",
          "Masculino",
          "Masculino",
          "Masculino",
          "Masculino",
          "Masculino",
          "Masculino",
          "Feminino",
          "Masculino",
          "Masculino",
          "Masculino",
          "Masculino",
          "Feminino",
          "Masculino",
          "Masculino",
          "Masculino",
          "Masculino",
          "Masculino",
          "Masculino",
          "Masculino",
          "Masculino",
          "Masculino",
          "Masculino",
          "Masculino",
          "Masculino",
          "Masculino",
          "Masculino",
          "Masculino",
          "Masculino",
          "Masculino",
          "Masculino",
          "Masculino",
          "Masculino",
          "Masculino",
          "Masculino",
          "Masculino",
          "Masculino",
          "Masculino",
          "Masculino",
          "Masculino",
          "Masculino",
          "Masculino",
          "Masculino",
          "Masculino",
          "Feminino",
          "Feminino",
          "Masculino",
          "Masculino",
          "Masculino",
          "Masculino",
          "Feminino",
          "Masculino",
          "Masculino",
          "Masculino",
          "Masculino",
          "Masculino",
          "Masculino",
          "Masculino",
          "Masculino",
          "Masculino",
          "Masculino",
          "Feminino",
          "Masculino",
          "Masculino",
          "Masculino",
          "Masculino",
          "Masculino",
          "Masculino",
          "Masculino",
          "Feminino",
          "Feminino",
          "Masculino",
          "Feminino",
          "Feminino",
          "Masculino",
          "Masculino",
          "Masculino",
          "Masculino",
          "Masculino",
          "Masculino",
          "Masculino",
          "Masculino",
          "Masculino",
          "Masculino",
          "Masculino",
          "Masculino",
          "Masculino",
          "Masculino",
          "Masculino",
          "Masculino",
          "Masculino",
          "Feminino",
          "Masculino",
          "Masculino",
          "Masculino",
          "Masculino",
          "Masculino",
          "Masculino",
          "Masculino",
          "Masculino",
          "Feminino",
          "Masculino",
          "Masculino",
          "Feminino",
          "Masculino",
          "Masculino",
          "Masculino",
          "Masculino",
          "Masculino",
          "Masculino",
          "Masculino",
          "Masculino",
          "Masculino",
          "Masculino",
          "Masculino",
          "Masculino",
          "Masculino",
          "Masculino",
          "Masculino",
          "Masculino",
          "Masculino",
          "Masculino",
          "Masculino",
          "Masculino",
          "Masculino",
          "Masculino",
          "Masculino",
          "Masculino",
          "Masculino",
          "Masculino",
          "Masculino",
          "Masculino",
          "Masculino",
          "Feminino",
          "Feminino",
          "Masculino",
          "Masculino",
          "Masculino",
          "Masculino",
          "Masculino",
          "Masculino",
          "Masculino",
          "Masculino",
          "Masculino",
          "Masculino",
          "Masculino",
          "Feminino",
          "Feminino",
          "Feminino",
          "Feminino",
          "Masculino",
          "Masculino",
          "Masculino",
          "Masculino",
          "Feminino",
          "Masculino",
          "Feminino",
          "Masculino",
          "Masculino",
          "Masculino",
          "Masculino",
          "Masculino",
          "Masculino",
          "Masculino",
          "Masculino",
          "Feminino",
          "Masculino",
          "Masculino",
          "Masculino",
          "Masculino",
          "Masculino",
          "Masculino",
          "Masculino",
          "Masculino",
          "Masculino",
          "Masculino",
          "Masculino",
          "Masculino",
          "Masculino",
          "Masculino",
          "Masculino",
          "Masculino",
          "Masculino",
          "Masculino",
          "Masculino",
          "Masculino",
          "Masculino",
          "Masculino",
          "Masculino",
          "Masculino",
          "Feminino",
          "Feminino",
          "Feminino",
          "Masculino",
          "Feminino",
          "Masculino",
          "Feminino",
          "Feminino",
          "Masculino",
          "Masculino",
          "Masculino",
          "Masculino",
          "Masculino",
          "Masculino",
          "Masculino",
          "Masculino",
          "Masculino",
          "Masculino",
          "Masculino",
          "Masculino",
          "Masculino",
          "Masculino",
          "Masculino",
          "Masculino",
          "Masculino",
          "Feminino",
          "Masculino",
          "Masculino",
          "Feminino",
          "Masculino",
          "Masculino",
          "Masculino",
          "Masculino",
          "Feminino",
          "Masculino",
          "Feminino",
          "Feminino",
          "Masculino",
          "Masculino",
          "Masculino",
          "Masculino",
          "Masculino",
          "Masculino",
          "Masculino",
          "Masculino",
          "Masculino",
          "Masculino",
          "Masculino",
          "Masculino",
          "Masculino",
          "Masculino",
          "Masculino",
          "Masculino",
          "Masculino",
          "Masculino",
          "Masculino",
          "Masculino",
          "Masculino",
          "Masculino",
          "Masculino",
          "Masculino",
          "Feminino",
          "Masculino",
          "Masculino",
          "Masculino",
          "Masculino",
          "Feminino",
          "Masculino",
          "Masculino",
          "Masculino",
          "Feminino",
          "Masculino",
          "Masculino",
          "Feminino",
          "Feminino",
          "Masculino",
          "Masculino",
          "Masculino",
          "Masculino",
          "Masculino",
          "Masculino",
          "Masculino",
          "Masculino",
          "Masculino",
          "Masculino",
          "Masculino",
          "Masculino",
          "Masculino",
          "Masculino",
          "Masculino",
          "Masculino",
          "Masculino",
          "Masculino",
          "Masculino",
          "Masculino",
          "Masculino",
          "Masculino",
          "Feminino",
          "Masculino",
          "Masculino",
          "Masculino",
          "Masculino",
          "Masculino",
          "Masculino",
          "Masculino",
          "Feminino",
          "Feminino",
          "Masculino",
          "Masculino",
          "Masculino",
          "Feminino",
          "Masculino",
          "Masculino",
          "Masculino",
          "Feminino",
          "Masculino",
          "Masculino",
          "Masculino",
          "Masculino",
          "Masculino",
          "Masculino",
          "Masculino",
          "Masculino",
          "Masculino",
          "Masculino",
          "Masculino",
          "Masculino",
          "Masculino",
          "Masculino",
          "Masculino",
          "Masculino",
          "Masculino",
          "Masculino",
          "Masculino",
          "Masculino",
          "Masculino",
          "Masculino",
          "Masculino",
          "Masculino",
          "Feminino",
          "Masculino",
          "Masculino",
          "Masculino",
          "Masculino",
          "Masculino",
          "Masculino",
          "Masculino",
          "Masculino",
          "Masculino",
          "Masculino",
          "Masculino",
          "Masculino",
          "Masculino",
          "Masculino",
          "Masculino",
          "Masculino",
          "Masculino"
         ],
         "x0": " ",
         "xaxis": "x",
         "y": {
          "bdata": "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",
          "dtype": "f8"
         },
         "y0": " ",
         "yaxis": "y"
        }
       ],
       "layout": {
        "boxmode": "group",
        "font": {
         "color": "Black",
         "family": "Courier New, monospace",
         "size": 18,
         "variant": "small-caps"
        },
        "legend": {
         "title": {
          "text": "dataset"
         },
         "tracegroupgap": 0
        },
        "margin": {
         "t": 60
        },
        "template": {
         "data": {
          "bar": [
           {
            "error_x": {
             "color": "#2a3f5f"
            },
            "error_y": {
             "color": "#2a3f5f"
            },
            "marker": {
             "line": {
              "color": "#E5ECF6",
              "width": 0.5
             },
             "pattern": {
              "fillmode": "overlay",
              "size": 10,
              "solidity": 0.2
             }
            },
            "type": "bar"
           }
          ],
          "barpolar": [
           {
            "marker": {
             "line": {
              "color": "#E5ECF6",
              "width": 0.5
             },
             "pattern": {
              "fillmode": "overlay",
              "size": 10,
              "solidity": 0.2
             }
            },
            "type": "barpolar"
           }
          ],
          "carpet": [
           {
            "aaxis": {
             "endlinecolor": "#2a3f5f",
             "gridcolor": "white",
             "linecolor": "white",
             "minorgridcolor": "white",
             "startlinecolor": "#2a3f5f"
            },
            "baxis": {
             "endlinecolor": "#2a3f5f",
             "gridcolor": "white",
             "linecolor": "white",
             "minorgridcolor": "white",
             "startlinecolor": "#2a3f5f"
            },
            "type": "carpet"
           }
          ],
          "choropleth": [
           {
            "colorbar": {
             "outlinewidth": 0,
             "ticks": ""
            },
            "type": "choropleth"
           }
          ],
          "contour": [
           {
            "colorbar": {
             "outlinewidth": 0,
             "ticks": ""
            },
            "colorscale": [
             [
              0,
              "#0d0887"
             ],
             [
              0.1111111111111111,
              "#46039f"
             ],
             [
              0.2222222222222222,
              "#7201a8"
             ],
             [
              0.3333333333333333,
              "#9c179e"
             ],
             [
              0.4444444444444444,
              "#bd3786"
             ],
             [
              0.5555555555555556,
              "#d8576b"
             ],
             [
              0.6666666666666666,
              "#ed7953"
             ],
             [
              0.7777777777777778,
              "#fb9f3a"
             ],
             [
              0.8888888888888888,
              "#fdca26"
             ],
             [
              1,
              "#f0f921"
             ]
            ],
            "type": "contour"
           }
          ],
          "contourcarpet": [
           {
            "colorbar": {
             "outlinewidth": 0,
             "ticks": ""
            },
            "type": "contourcarpet"
           }
          ],
          "heatmap": [
           {
            "colorbar": {
             "outlinewidth": 0,
             "ticks": ""
            },
            "colorscale": [
             [
              0,
              "#0d0887"
             ],
             [
              0.1111111111111111,
              "#46039f"
             ],
             [
              0.2222222222222222,
              "#7201a8"
             ],
             [
              0.3333333333333333,
              "#9c179e"
             ],
             [
              0.4444444444444444,
              "#bd3786"
             ],
             [
              0.5555555555555556,
              "#d8576b"
             ],
             [
              0.6666666666666666,
              "#ed7953"
             ],
             [
              0.7777777777777778,
              "#fb9f3a"
             ],
             [
              0.8888888888888888,
              "#fdca26"
             ],
             [
              1,
              "#f0f921"
             ]
            ],
            "type": "heatmap"
           }
          ],
          "histogram": [
           {
            "marker": {
             "pattern": {
              "fillmode": "overlay",
              "size": 10,
              "solidity": 0.2
             }
            },
            "type": "histogram"
           }
          ],
          "histogram2d": [
           {
            "colorbar": {
             "outlinewidth": 0,
             "ticks": ""
            },
            "colorscale": [
             [
              0,
              "#0d0887"
             ],
             [
              0.1111111111111111,
              "#46039f"
             ],
             [
              0.2222222222222222,
              "#7201a8"
             ],
             [
              0.3333333333333333,
              "#9c179e"
             ],
             [
              0.4444444444444444,
              "#bd3786"
             ],
             [
              0.5555555555555556,
              "#d8576b"
             ],
             [
              0.6666666666666666,
              "#ed7953"
             ],
             [
              0.7777777777777778,
              "#fb9f3a"
             ],
             [
              0.8888888888888888,
              "#fdca26"
             ],
             [
              1,
              "#f0f921"
             ]
            ],
            "type": "histogram2d"
           }
          ],
          "histogram2dcontour": [
           {
            "colorbar": {
             "outlinewidth": 0,
             "ticks": ""
            },
            "colorscale": [
             [
              0,
              "#0d0887"
             ],
             [
              0.1111111111111111,
              "#46039f"
             ],
             [
              0.2222222222222222,
              "#7201a8"
             ],
             [
              0.3333333333333333,
              "#9c179e"
             ],
             [
              0.4444444444444444,
              "#bd3786"
             ],
             [
              0.5555555555555556,
              "#d8576b"
             ],
             [
              0.6666666666666666,
              "#ed7953"
             ],
             [
              0.7777777777777778,
              "#fb9f3a"
             ],
             [
              0.8888888888888888,
              "#fdca26"
             ],
             [
              1,
              "#f0f921"
             ]
            ],
            "type": "histogram2dcontour"
           }
          ],
          "mesh3d": [
           {
            "colorbar": {
             "outlinewidth": 0,
             "ticks": ""
            },
            "type": "mesh3d"
           }
          ],
          "parcoords": [
           {
            "line": {
             "colorbar": {
              "outlinewidth": 0,
              "ticks": ""
             }
            },
            "type": "parcoords"
           }
          ],
          "pie": [
           {
            "automargin": true,
            "type": "pie"
           }
          ],
          "scatter": [
           {
            "fillpattern": {
             "fillmode": "overlay",
             "size": 10,
             "solidity": 0.2
            },
            "type": "scatter"
           }
          ],
          "scatter3d": [
           {
            "line": {
             "colorbar": {
              "outlinewidth": 0,
              "ticks": ""
             }
            },
            "marker": {
             "colorbar": {
              "outlinewidth": 0,
              "ticks": ""
             }
            },
            "type": "scatter3d"
           }
          ],
          "scattercarpet": [
           {
            "marker": {
             "colorbar": {
              "outlinewidth": 0,
              "ticks": ""
             }
            },
            "type": "scattercarpet"
           }
          ],
          "scattergeo": [
           {
            "marker": {
             "colorbar": {
              "outlinewidth": 0,
              "ticks": ""
             }
            },
            "type": "scattergeo"
           }
          ],
          "scattergl": [
           {
            "marker": {
             "colorbar": {
              "outlinewidth": 0,
              "ticks": ""
             }
            },
            "type": "scattergl"
           }
          ],
          "scattermap": [
           {
            "marker": {
             "colorbar": {
              "outlinewidth": 0,
              "ticks": ""
             }
            },
            "type": "scattermap"
           }
          ],
          "scattermapbox": [
           {
            "marker": {
             "colorbar": {
              "outlinewidth": 0,
              "ticks": ""
             }
            },
            "type": "scattermapbox"
           }
          ],
          "scatterpolar": [
           {
            "marker": {
             "colorbar": {
              "outlinewidth": 0,
              "ticks": ""
             }
            },
            "type": "scatterpolar"
           }
          ],
          "scatterpolargl": [
           {
            "marker": {
             "colorbar": {
              "outlinewidth": 0,
              "ticks": ""
             }
            },
            "type": "scatterpolargl"
           }
          ],
          "scatterternary": [
           {
            "marker": {
             "colorbar": {
              "outlinewidth": 0,
              "ticks": ""
             }
            },
            "type": "scatterternary"
           }
          ],
          "surface": [
           {
            "colorbar": {
             "outlinewidth": 0,
             "ticks": ""
            },
            "colorscale": [
             [
              0,
              "#0d0887"
             ],
             [
              0.1111111111111111,
              "#46039f"
             ],
             [
              0.2222222222222222,
              "#7201a8"
             ],
             [
              0.3333333333333333,
              "#9c179e"
             ],
             [
              0.4444444444444444,
              "#bd3786"
             ],
             [
              0.5555555555555556,
              "#d8576b"
             ],
             [
              0.6666666666666666,
              "#ed7953"
             ],
             [
              0.7777777777777778,
              "#fb9f3a"
             ],
             [
              0.8888888888888888,
              "#fdca26"
             ],
             [
              1,
              "#f0f921"
             ]
            ],
            "type": "surface"
           }
          ],
          "table": [
           {
            "cells": {
             "fill": {
              "color": "#EBF0F8"
             },
             "line": {
              "color": "white"
             }
            },
            "header": {
             "fill": {
              "color": "#C8D4E3"
             },
             "line": {
              "color": "white"
             }
            },
            "type": "table"
           }
          ]
         },
         "layout": {
          "annotationdefaults": {
           "arrowcolor": "#2a3f5f",
           "arrowhead": 0,
           "arrowwidth": 1
          },
          "autotypenumbers": "strict",
          "coloraxis": {
           "colorbar": {
            "outlinewidth": 0,
            "ticks": ""
           }
          },
          "colorscale": {
           "diverging": [
            [
             0,
             "#8e0152"
            ],
            [
             0.1,
             "#c51b7d"
            ],
            [
             0.2,
             "#de77ae"
            ],
            [
             0.3,
             "#f1b6da"
            ],
            [
             0.4,
             "#fde0ef"
            ],
            [
             0.5,
             "#f7f7f7"
            ],
            [
             0.6,
             "#e6f5d0"
            ],
            [
             0.7,
             "#b8e186"
            ],
            [
             0.8,
             "#7fbc41"
            ],
            [
             0.9,
             "#4d9221"
            ],
            [
             1,
             "#276419"
            ]
           ],
           "sequential": [
            [
             0,
             "#0d0887"
            ],
            [
             0.1111111111111111,
             "#46039f"
            ],
            [
             0.2222222222222222,
             "#7201a8"
            ],
            [
             0.3333333333333333,
             "#9c179e"
            ],
            [
             0.4444444444444444,
             "#bd3786"
            ],
            [
             0.5555555555555556,
             "#d8576b"
            ],
            [
             0.6666666666666666,
             "#ed7953"
            ],
            [
             0.7777777777777778,
             "#fb9f3a"
            ],
            [
             0.8888888888888888,
             "#fdca26"
            ],
            [
             1,
             "#f0f921"
            ]
           ],
           "sequentialminus": [
            [
             0,
             "#0d0887"
            ],
            [
             0.1111111111111111,
             "#46039f"
            ],
            [
             0.2222222222222222,
             "#7201a8"
            ],
            [
             0.3333333333333333,
             "#9c179e"
            ],
            [
             0.4444444444444444,
             "#bd3786"
            ],
            [
             0.5555555555555556,
             "#d8576b"
            ],
            [
             0.6666666666666666,
             "#ed7953"
            ],
            [
             0.7777777777777778,
             "#fb9f3a"
            ],
            [
             0.8888888888888888,
             "#fdca26"
            ],
            [
             1,
             "#f0f921"
            ]
           ]
          },
          "colorway": [
           "#636efa",
           "#EF553B",
           "#00cc96",
           "#ab63fa",
           "#FFA15A",
           "#19d3f3",
           "#FF6692",
           "#B6E880",
           "#FF97FF",
           "#FECB52"
          ],
          "font": {
           "color": "#2a3f5f"
          },
          "geo": {
           "bgcolor": "white",
           "lakecolor": "white",
           "landcolor": "#E5ECF6",
           "showlakes": true,
           "showland": true,
           "subunitcolor": "white"
          },
          "hoverlabel": {
           "align": "left"
          },
          "hovermode": "closest",
          "mapbox": {
           "style": "light"
          },
          "paper_bgcolor": "white",
          "plot_bgcolor": "#E5ECF6",
          "polar": {
           "angularaxis": {
            "gridcolor": "white",
            "linecolor": "white",
            "ticks": ""
           },
           "bgcolor": "#E5ECF6",
           "radialaxis": {
            "gridcolor": "white",
            "linecolor": "white",
            "ticks": ""
           }
          },
          "scene": {
           "xaxis": {
            "backgroundcolor": "#E5ECF6",
            "gridcolor": "white",
            "gridwidth": 2,
            "linecolor": "white",
            "showbackground": true,
            "ticks": "",
            "zerolinecolor": "white"
           },
           "yaxis": {
            "backgroundcolor": "#E5ECF6",
            "gridcolor": "white",
            "gridwidth": 2,
            "linecolor": "white",
            "showbackground": true,
            "ticks": "",
            "zerolinecolor": "white"
           },
           "zaxis": {
            "backgroundcolor": "#E5ECF6",
            "gridcolor": "white",
            "gridwidth": 2,
            "linecolor": "white",
            "showbackground": true,
            "ticks": "",
            "zerolinecolor": "white"
           }
          },
          "shapedefaults": {
           "line": {
            "color": "#2a3f5f"
           }
          },
          "ternary": {
           "aaxis": {
            "gridcolor": "white",
            "linecolor": "white",
            "ticks": ""
           },
           "baxis": {
            "gridcolor": "white",
            "linecolor": "white",
            "ticks": ""
           },
           "bgcolor": "#E5ECF6",
           "caxis": {
            "gridcolor": "white",
            "linecolor": "white",
            "ticks": ""
           }
          },
          "title": {
           "x": 0.05
          },
          "xaxis": {
           "automargin": true,
           "gridcolor": "white",
           "linecolor": "white",
           "ticks": "",
           "title": {
            "standoff": 15
           },
           "zerolinecolor": "white",
           "zerolinewidth": 2
          },
          "yaxis": {
           "automargin": true,
           "gridcolor": "white",
           "linecolor": "white",
           "ticks": "",
           "title": {
            "standoff": 15
           },
           "zerolinecolor": "white",
           "zerolinewidth": 2
          }
         }
        },
        "title": {
         "text": "GPA: Undergrads vs Dropout per Sex"
        },
        "xaxis": {
         "anchor": "y",
         "domain": [
          0,
          1
         ],
         "title": {
          "text": "Sexo"
         }
        },
        "yaxis": {
         "anchor": "x",
         "domain": [
          0,
          1
         ],
         "title": {
          "text": "Coeficiente"
         }
        }
       }
      }
     },
     "metadata": {},
     "output_type": "display_data"
    },
    {
     "data": {
      "application/vnd.plotly.v1+json": {
       "config": {
        "plotlyServerURL": "https://plot.ly"
       },
       "data": [
        {
         "alignmentgroup": "True",
         "hovertemplate": "dataset=Finished<br>Tipo ingresso=%{x}<br>Coeficiente=%{y}<extra></extra>",
         "legendgroup": "Finished",
         "marker": {
          "color": "#636efa"
         },
         "name": "Finished",
         "notched": false,
         "offsetgroup": "Finished",
         "orientation": "v",
         "showlegend": true,
         "type": "box",
         "x": [
          "INGRESSO POR PROCESSO SELETIVO ENEM (SISU)",
          "INGRESSO POR TRANSFERENCIA DE REGIME",
          "INGRESSO POR PROCESSO SELETIVO ENEM (SISU)",
          "INGRESSO POR VESTIBULAR",
          "INGRESSO POR PROCESSO SELETIVO ENEM (SISU)",
          "INGRESSO POR PROCESSO SELETIVO ENEM (SISU)",
          "INGRESSO POR TRANSFERENCIA DE REGIME",
          "INGRESSO POR PROCESSO SELETIVO ENEM (SISU)",
          "INGRESSO POR VESTIBULAR",
          "INGRESSO POR PROCESSO SELETIVO ENEM (SISU)",
          "INGRESSO POR PROCESSO SELETIVO ENEM (SISU)",
          "INGRESSO POR PROCESSO SELETIVO ENEM (SISU)",
          "INGRESSO POR PROCESSO SELETIVO ENEM (SISU)",
          "INGRESSO POR PROCESSO SELETIVO ENEM (SISU)",
          "INGRESSO POR PROCESSO SELETIVO ENEM (SISU)",
          "INGRESSO POR PROCESSO SELETIVO ENEM (SISU)",
          "INGRESSO POR PROCESSO SELETIVO ENEM (SISU)",
          "INGRESSO POR PROCESSO SELETIVO ENEM (SISU)",
          "INGRESSO POR PROCESSO SELETIVO ENEM (SISU)",
          "INGRESSO POR PROCESSO SELETIVO ENEM (SISU)",
          "INGRESSO POR PROCESSO SELETIVO ENEM (SISU)",
          "INGRESSO POR PROCESSO SELETIVO ENEM (SISU)",
          "INGRESSO POR VESTIBULAR",
          "INGRESSO POR PROCESSO SELETIVO ENEM (SISU)",
          "INGRESSO POR PROCESSO SELETIVO ENEM (SISU)",
          "INGRESSO POR VESTIBULAR",
          "INGRESSO POR VESTIBULAR",
          "INGRESSO POR PROCESSO SELETIVO ENEM (SISU)",
          "INGRESSO POR PROCESSO SELETIVO ENEM (SISU)",
          "INGRESSO POR PROCESSO SELETIVO ENEM (SISU)",
          "INGRESSO POR PROCESSO SELETIVO ENEM (SISU)",
          "INGRESSO POR TRANSFERENCIA DE REGIME",
          "INGRESSO POR PROCESSO SELETIVO ENEM (SISU)",
          "INGRESSO POR PROCESSO SELETIVO ENEM (SISU)",
          "INGRESSO POR PROCESSO SELETIVO ENEM (SISU)",
          "INGRESSO POR PROCESSO SELETIVO ENEM (SISU)",
          "INGRESSO POR PROCESSO SELETIVO ENEM (SISU)",
          "INGRESSO POR VESTIBULAR",
          "INGRESSO POR PROCESSO SELETIVO ENEM (SISU)",
          "INGRESSO POR PROCESSO SELETIVO ENEM (SISU)",
          "INGRESSO POR PROCESSO SELETIVO ENEM (SISU)",
          "INGRESSO POR PROCESSO SELETIVO ENEM (SISU)",
          "INGRESSO POR PROCESSO SELETIVO ENEM (SISU)",
          "INGRESSO POR PROCESSO SELETIVO ENEM (SISU)",
          "INGRESSO POR VESTIBULAR",
          "INGRESSO POR TRANSFERENCIA DE REGIME",
          "INGRESSO POR PROCESSO SELETIVO ENEM (SISU)",
          "INGRESSO POR PROCESSO SELETIVO ENEM (SISU)",
          "INGRESSO POR VESTIBULAR",
          "INGRESSO POR PROCESSO SELETIVO ENEM (SISU)",
          "INGRESSO POR PROCESSO SELETIVO ENEM (SISU)",
          "INGRESSO POR TRANSFERENCIA DE REGIME",
          "INGRESSO POR TRANSFERENCIA DE REGIME",
          "INGRESSO POR PROCESSO SELETIVO ENEM (SISU)",
          "INGRESSO POR PROCESSO SELETIVO ENEM (SISU)",
          "INGRESSO POR PROCESSO SELETIVO ENEM (SISU)",
          "INGRESSO POR PROCESSO SELETIVO ENEM (SISU)",
          "INGRESSO POR PROCESSO SELETIVO ENEM (SISU)",
          "INGRESSO POR PROCESSO SELETIVO ENEM (SISU)",
          "INGRESSO POR VESTIBULAR",
          "INGRESSO POR PROCESSO SELETIVO ENEM (SISU)",
          "INGRESSO POR PROCESSO SELETIVO ENEM (SISU)",
          "INGRESSO POR TRANSFERENCIA DE REGIME",
          "INGRESSO POR VESTIBULAR",
          "INGRESSO POR PROCESSO SELETIVO ENEM (SISU)",
          "INGRESSO POR PROCESSO SELETIVO ENEM (SISU)",
          "INGRESSO POR TRANSFERENCIA DE REGIME",
          "INGRESSO POR PROCESSO SELETIVO ENEM (SISU)",
          "INGRESSO POR PROCESSO SELETIVO ENEM (SISU)",
          "INGRESSO POR PROCESSO SELETIVO ENEM (SISU)",
          "INGRESSO POR PROCESSO SELETIVO ENEM (SISU)",
          "INGRESSO POR PROCESSO SELETIVO ENEM (SISU)",
          "INGRESSO POR PROCESSO SELETIVO ENEM (SISU)",
          "INGRESSO POR PROCESSO SELETIVO ENEM (SISU)",
          "INGRESSO POR PROCESSO SELETIVO ENEM (SISU)",
          "INGRESSO POR PROCESSO SELETIVO ENEM (SISU)",
          "INGRESSO POR PROCESSO SELETIVO ENEM (SISU)",
          "INGRESSO POR PROCESSO SELETIVO ENEM (SISU)",
          "INGRESSO POR PROCESSO SELETIVO ENEM (SISU)",
          "INGRESSO POR PROCESSO SELETIVO ENEM (SISU)",
          "INGRESSO POR PROCESSO SELETIVO ENEM (SISU)",
          "INGRESSO POR VESTIBULAR",
          "INGRESSO POR VESTIBULAR",
          "INGRESSO POR PROCESSO SELETIVO ENEM (SISU)",
          "INGRESSO POR PROCESSO SELETIVO ENEM (SISU)",
          "INGRESSO POR TRANSFERENCIA DE REGIME",
          "INGRESSO POR PROCESSO SELETIVO ENEM (SISU)",
          "INGRESSO POR PROCESSO SELETIVO ENEM (SISU)",
          "INGRESSO POR PROCESSO SELETIVO ENEM (SISU)",
          "INGRESSO POR PROCESSO SELETIVO ENEM (SISU)",
          "INGRESSO POR VESTIBULAR",
          "INGRESSO POR PROCESSO SELETIVO ENEM (SISU)",
          "INGRESSO POR TRANSFERENCIA DE REGIME",
          "INGRESSO POR PROCESSO SELETIVO ENEM (SISU)",
          "INGRESSO POR VESTIBULAR",
          "INGRESSO POR PROCESSO SELETIVO ENEM (SISU)",
          "INGRESSO POR TRANSFERENCIA DE REGIME",
          "INGRESSO POR PROCESSO SELETIVO ENEM (SISU)",
          "INGRESSO POR PROCESSO SELETIVO ENEM (SISU)",
          "INGRESSO POR PROCESSO SELETIVO ENEM (SISU)",
          "INGRESSO POR TRANSFERENCIA DE REGIME",
          "INGRESSO POR TRANSFERENCIA DE REGIME",
          "INGRESSO POR PROCESSO SELETIVO ENEM (SISU)",
          "INGRESSO POR TRANSFERENCIA DE REGIME",
          "INGRESSO POR PROCESSO SELETIVO ENEM (SISU)",
          "INGRESSO POR PROCESSO SELETIVO ENEM (SISU)",
          "INGRESSO POR PROCESSO SELETIVO ENEM (SISU)",
          "INGRESSO POR PROCESSO SELETIVO ENEM (SISU)",
          "INGRESSO POR PROCESSO SELETIVO ENEM (SISU)",
          "INGRESSO POR PROCESSO SELETIVO ENEM (SISU)",
          "INGRESSO POR PROCESSO SELETIVO ENEM (SISU)"
         ],
         "x0": " ",
         "xaxis": "x",
         "y": {
          "bdata": "zczMzMzMG0DhehSuR+ERQArXo3A9ChNAUrgehetRFkBI4XoUrkcZQK5H4XoUrhlAzczMzMzMFkCamZmZmZkUQLgehetRuBZA16NwPQrXG0BxPQrXo3AWQLgehetRuBZAcT0K16NwFEDNzMzMzMweQD0K16NwPRhACtejcD0KIEAUrkfhehQWQMP1KFyPwh1AXI/C9ShcFkDNzMzMzMwWQGZmZmZmZhtAH4XrUbgeHkBcj8L1KFwfQDMzMzMzMxVAXI/C9ShcGED2KFyPwvUbQFyPwvUoXBZAXI/C9ShcHEAUrkfhehQbQD0K16NwPRlArkfhehSuIUAzMzMzMzMTQPYoXI/C9RRA16NwPQrXHEDsUbgehesSQK5H4XoUrhlAH4XrUbgeGUDsUbgehesVQHsUrkfhehRAXI/C9ShcFECPwvUoXI8bQK5H4XoUrhdAZmZmZmZmGkAUrkfhehQeQLgehetRuBZAMzMzMzMzHECkcD0K16MeQOxRuB6FayBAPQrXo3A9E0A9CtejcD0cQK5H4XoUrhhAXI/C9ShcFUC4HoXrUbgWQIXrUbgehSJA4XoUrkfhGEA9CtejcD0SQKRwPQrXox9Aw/UoXI/CHUCamZmZmRkgQB+F61G4HhRAw/UoXI/CHUDNzMzMzMwcQIXrUbgeBSBAuB6F61G4EUDD9Shcj8IYQGZmZmZmZhRAXI/C9ShcGUApXI/C9SgbQK5H4XoUrhpACtejcD0KHkD2KFyPwvUOQM3MzMzMzB1Aw/UoXI/CGUDD9Shcj8IgQBSuR+F6FBZA7FG4HoVrIUAK16NwPQoeQEjhehSuRxhACtejcD0KIECkcD0K1yMgQFyPwvUoXBdAuB6F61G4FkD2KFyPwvUTQOxRuB6F6xVA16NwPQrXHECPwvUoXI8fQK5H4XoUrhRAuB6F61G4H0CuR+F6FK4VQM3MzMzMzBxA4XoUrkfhFECuR+F6FK4RQFyPwvUoXB5A16NwPQrXG0ApXI/C9aghQJqZmZmZmRBAZmZmZmZmFUBxPQrXo3AeQLgehetRuBdAKVyPwvUoGUBxPQrXo3AYQFyPwvUoXBhAZmZmZmZmF0Bcj8L1KFwXQNejcD0K1xdAzczMzMzMG0DNzMzMzMwYQDMzMzMzMxRA9ihcj8L1GkCF61G4HgUgQDMzMzMzMyBA",
          "dtype": "f8"
         },
         "y0": " ",
         "yaxis": "y"
        },
        {
         "alignmentgroup": "True",
         "hovertemplate": "dataset=Deactive<br>Tipo ingresso=%{x}<br>Coeficiente=%{y}<extra></extra>",
         "legendgroup": "Deactive",
         "marker": {
          "color": "#EF553B"
         },
         "name": "Deactive",
         "notched": false,
         "offsetgroup": "Deactive",
         "orientation": "v",
         "showlegend": true,
         "type": "box",
         "x": [
          "INGRESSO POR PROCESSO SELETIVO ENEM (SISU)",
          "INGRESSO POR PROCESSO SELETIVO ENEM (SISU)",
          "INGRESSO POR PROCESSO SELETIVO ENEM (SISU)",
          "INGRESSO POR PROCESSO SELETIVO ENEM (SISU)",
          "INGRESSO POR PROCESSO SELETIVO ENEM (SISU)",
          "INGRESSO POR PROCESSO SELETIVO ENEM (SISU)",
          "INGRESSO POR PROCESSO SELETIVO ENEM (SISU)",
          "INGRESSO POR PROCESSO SELETIVO ENEM (SISU)",
          "INGRESSO POR VESTIBULAR",
          "INGRESSO POR CURSO SUPERIOR",
          "INGRESSO POR PROCESSO SELETIVO ENEM (SISU)",
          "INGRESSO POR PROCESSO SELETIVO ENEM (SISU)",
          "INGRESSO POR PROCESSO SELETIVO ENEM (SISU)",
          "INGRESSO POR PROCESSO SELETIVO ENEM (SISU)",
          "INGRESSO POR VESTIBULAR",
          "INGRESSO POR PROCESSO SELETIVO ENEM (SISU)",
          "INGRESSO POR PROCESSO SELETIVO ENEM (SISU)",
          "INGRESSO POR PROCESSO SELETIVO ENEM (SISU)",
          "INGRESSO POR VESTIBULAR",
          "INGRESSO POR PROCESSO SELETIVO ENEM (SISU)",
          "INGRESSO POR PROCESSO SELETIVO ENEM (SISU)",
          "INGRESSO POR PROCESSO SELETIVO ENEM (SISU)",
          "INGRESSO POR VESTIBULAR",
          "INGRESSO POR PROCESSO SELETIVO ENEM (SISU)",
          "INGRESSO POR TRANSFERENCIA DE REGIME",
          "INGRESSO POR PROCESSO SELETIVO ENEM (SISU)",
          "INGRESSO POR CURSO SUPERIOR",
          "INGRESSO POR PROCESSO SELETIVO ENEM (SISU)",
          "INGRESSO POR PROCESSO SELETIVO ENEM (SISU)",
          "INGRESSO POR PROCESSO SELETIVO ENEM (SISU)",
          "INGRESSO POR PROCESSO SELETIVO ENEM (SISU)",
          "INGRESSO POR PROCESSO SELETIVO ENEM (SISU)",
          "INGRESSO POR PROCESSO SELETIVO ENEM (SISU)",
          "INGRESSO POR PROCESSO SELETIVO ENEM (SISU)",
          "INGRESSO POR PROCESSO SELETIVO ENEM (SISU)",
          "INGRESSO POR PROCESSO SELETIVO ENEM (SISU)",
          "INGRESSO POR PROCESSO SELETIVO ENEM (SISU)",
          "INGRESSO POR PROCESSO SELETIVO ENEM (SISU)",
          "INGRESSO POR PROCESSO SELETIVO ENEM (SISU)",
          "INGRESSO POR PROCESSO SELETIVO ENEM (SISU)",
          "INGRESSO POR PROCESSO SELETIVO ENEM (SISU)",
          "INGRESSO POR PROCESSO SELETIVO ENEM (SISU)",
          "INGRESSO POR VESTIBULAR",
          "INGRESSO POR TRANSFERENCIA DE REGIME",
          "INGRESSO POR PROCESSO SELETIVO ENEM (SISU)",
          "INGRESSO POR PROCESSO SELETIVO ENEM (SISU)",
          "INGRESSO POR PROCESSO SELETIVO ENEM (SISU)",
          "INGRESSO POR VESTIBULAR",
          "INGRESSO POR PROCESSO SELETIVO ENEM (SISU)",
          "INGRESSO POR PROCESSO SELETIVO ENEM (SISU)",
          "INGRESSO POR PROCESSO SELETIVO ENEM (SISU)",
          "INGRESSO POR PROCESSO SELETIVO ENEM (SISU)",
          "INGRESSO POR PROCESSO SELETIVO ENEM (SISU)",
          "INGRESSO POR PROCESSO SELETIVO ENEM (SISU)",
          "INGRESSO POR PROCESSO SELETIVO ENEM (SISU)",
          "INGRESSO POR PROCESSO SELETIVO ENEM (SISU)",
          "INGRESSO POR PROCESSO SELETIVO ENEM (SISU)",
          "INGRESSO POR PROCESSO SELETIVO ENEM (SISU)",
          "INGRESSO POR PROCESSO SELETIVO ENEM (SISU)",
          "INGRESSO POR PROCESSO SELETIVO ENEM (SISU)",
          "INGRESSO POR VESTIBULAR",
          "INGRESSO POR PROCESSO SELETIVO ENEM (SISU)",
          "INGRESSO POR TRANSFERENCIA DE REGIME",
          "INGRESSO POR TRANSFERENCIA DE REGIME",
          "INGRESSO POR PROCESSO SELETIVO ENEM (SISU)",
          "INGRESSO POR TRANSFERENCIA FACULTATIVA",
          "INGRESSO POR PROCESSO SELETIVO ENEM (SISU)",
          "INGRESSO POR PROCESSO SELETIVO ENEM (SISU)",
          "INGRESSO POR PROCESSO SELETIVO ENEM (SISU)",
          "INGRESSO POR PROCESSO SELETIVO ENEM (SISU)",
          "INGRESSO POR PROCESSO SELETIVO ENEM (SISU)",
          "INGRESSO POR PROCESSO SELETIVO ENEM (SISU)",
          "INGRESSO POR PROCESSO SELETIVO ENEM (SISU)",
          "INGRESSO POR TRANSFERENCIA DE REGIME",
          "INGRESSO POR PROCESSO SELETIVO ENEM (SISU)",
          "INGRESSO POR VESTIBULAR",
          "INGRESSO POR PROCESSO SELETIVO ENEM (SISU)",
          "INGRESSO POR PROCESSO SELETIVO ENEM (SISU)",
          "INGRESSO POR PROCESSO SELETIVO ENEM (SISU)",
          "INGRESSO POR TRANSFERENCIA DE REGIME",
          "INGRESSO POR PROCESSO SELETIVO ENEM (SISU)",
          "INGRESSO POR PROCESSO SELETIVO ENEM (SISU)",
          "INGRESSO POR PROCESSO SELETIVO ENEM (SISU)",
          "INGRESSO POR PROCESSO SELETIVO ENEM (SISU)",
          "INGRESSO POR PROCESSO SELETIVO ENEM (SISU)",
          "INGRESSO POR PROCESSO SELETIVO ENEM (SISU)",
          "INGRESSO POR PROCESSO SELETIVO ENEM (SISU)",
          "INGRESSO POR TRANSFERENCIA DE REGIME",
          "INGRESSO POR PROCESSO SELETIVO ENEM (SISU)",
          "INGRESSO POR PROCESSO SELETIVO ENEM (SISU)",
          "INGRESSO POR PROCESSO SELETIVO ENEM (SISU)",
          "INGRESSO POR PROCESSO SELETIVO ENEM (SISU)",
          "INGRESSO POR PROCESSO SELETIVO ENEM (SISU)",
          "INGRESSO POR PROCESSO SELETIVO ENEM (SISU)",
          "INGRESSO POR PROCESSO SELETIVO ENEM (SISU)",
          "INGRESSO POR VESTIBULAR",
          "INGRESSO POR PROCESSO SELETIVO ENEM (SISU)",
          "INGRESSO POR PROCESSO SELETIVO ENEM (SISU)",
          "INGRESSO POR PROCESSO SELETIVO ENEM (SISU)",
          "INGRESSO POR PROCESSO SELETIVO ENEM (SISU)",
          "INGRESSO POR PROCESSO SELETIVO ENEM (SISU)",
          "INGRESSO POR PROCESSO SELETIVO ENEM (SISU)",
          "INGRESSO POR PROCESSO SELETIVO ENEM (SISU)",
          "INGRESSO POR PROCESSO SELETIVO ENEM (SISU)",
          "INGRESSO POR PROCESSO SELETIVO ENEM (SISU)",
          "INGRESSO POR PROCESSO SELETIVO ENEM (SISU)",
          "INGRESSO POR PROCESSO SELETIVO ENEM (SISU)",
          "INGRESSO POR PROCESSO SELETIVO ENEM (SISU)",
          "INGRESSO POR PROCESSO SELETIVO ENEM (SISU)",
          "INGRESSO POR PROCESSO SELETIVO ENEM (SISU)",
          "INGRESSO POR PROCESSO SELETIVO ENEM (SISU)",
          "INGRESSO POR PROCESSO SELETIVO ENEM (SISU)",
          "INGRESSO POR CURSO SUPERIOR",
          "INGRESSO POR PROCESSO SELETIVO ENEM (SISU)",
          "INGRESSO POR PROCESSO SELETIVO ENEM (SISU)",
          "INGRESSO POR PROCESSO SELETIVO ENEM (SISU)",
          "INGRESSO POR TRANSFERENCIA FACULTATIVA",
          "INGRESSO POR PROCESSO SELETIVO ENEM (SISU)",
          "INGRESSO POR PROCESSO SELETIVO ENEM (SISU)",
          "INGRESSO POR PROCESSO SELETIVO ENEM (SISU)",
          "INGRESSO POR PROCESSO SELETIVO ENEM (SISU)",
          "INGRESSO POR PROCESSO SELETIVO ENEM (SISU)",
          "INGRESSO POR PROCESSO SELETIVO ENEM (SISU)",
          "INGRESSO POR VESTIBULAR",
          "INGRESSO POR PROCESSO SELETIVO ENEM (SISU)",
          "INGRESSO POR PROCESSO SELETIVO ENEM (SISU)",
          "INGRESSO POR PROCESSO SELETIVO ENEM (SISU)",
          "INGRESSO POR PROCESSO SELETIVO ENEM (SISU)",
          "INGRESSO POR PROCESSO SELETIVO ENEM (SISU)",
          "INGRESSO POR PROCESSO SELETIVO ENEM (SISU)",
          "INGRESSO POR PROCESSO SELETIVO ENEM (SISU)",
          "INGRESSO POR PROCESSO SELETIVO ENEM (SISU)",
          "INGRESSO POR PROCESSO SELETIVO ENEM (SISU)",
          "INGRESSO POR PROCESSO SELETIVO ENEM (SISU)",
          "INGRESSO POR PROCESSO SELETIVO ENEM (SISU)",
          "INGRESSO POR PROCESSO SELETIVO ENEM (SISU)",
          "INGRESSO POR PROCESSO SELETIVO ENEM (SISU)",
          "INGRESSO POR PROCESSO SELETIVO ENEM (SISU)",
          "INGRESSO POR PROCESSO SELETIVO ENEM (SISU)",
          "INGRESSO POR CURSO SUPERIOR",
          "INGRESSO POR PROCESSO SELETIVO ENEM (SISU)",
          "INGRESSO POR PROCESSO SELETIVO ENEM (SISU)",
          "INGRESSO POR VESTIBULAR",
          "INGRESSO POR PROCESSO SELETIVO ENEM (SISU)",
          "INGRESSO POR VESTIBULAR",
          "INGRESSO POR PROCESSO SELETIVO ENEM (SISU)",
          "INGRESSO POR PROCESSO SELETIVO ENEM (SISU)",
          "INGRESSO POR TRANSFERENCIA DE REGIME",
          "INGRESSO POR PROCESSO SELETIVO ENEM (SISU)",
          "INGRESSO POR PROCESSO SELETIVO ENEM (SISU)",
          "INGRESSO POR PROCESSO SELETIVO ENEM (SISU)",
          "INGRESSO POR PROCESSO SELETIVO ENEM (SISU)",
          "INGRESSO POR PROCESSO SELETIVO ENEM (SISU)",
          "INGRESSO POR PROCESSO SELETIVO ENEM (SISU)",
          "INGRESSO POR PROCESSO SELETIVO ENEM (SISU)",
          "INGRESSO POR VESTIBULAR",
          "INGRESSO POR PROCESSO SELETIVO ENEM (SISU)",
          "INGRESSO POR PROCESSO SELETIVO ENEM (SISU)",
          "INGRESSO POR PROCESSO SELETIVO ENEM (SISU)",
          "INGRESSO POR PROCESSO SELETIVO ENEM (SISU)",
          "INGRESSO POR PROCESSO SELETIVO ENEM (SISU)",
          "INGRESSO POR PROCESSO SELETIVO ENEM (SISU)",
          "INGRESSO POR PROCESSO SELETIVO ENEM (SISU)",
          "INGRESSO POR PROCESSO SELETIVO ENEM (SISU)",
          "INGRESSO POR PROCESSO SELETIVO ENEM (SISU)",
          "INGRESSO POR PROCESSO SELETIVO ENEM (SISU)",
          "INGRESSO POR PROCESSO SELETIVO ENEM (SISU)",
          "INGRESSO POR PROCESSO SELETIVO ENEM (SISU)",
          "INGRESSO POR PROCESSO SELETIVO ENEM (SISU)",
          "INGRESSO POR PROCESSO SELETIVO ENEM (SISU)",
          "INGRESSO POR VESTIBULAR",
          "INGRESSO POR PROCESSO SELETIVO ENEM (SISU)",
          "INGRESSO POR PROCESSO SELETIVO ENEM (SISU)",
          "INGRESSO POR PROCESSO SELETIVO ENEM (SISU)",
          "INGRESSO POR VESTIBULAR",
          "INGRESSO POR VESTIBULAR",
          "INGRESSO POR PROCESSO SELETIVO ENEM (SISU)",
          "INGRESSO POR PROCESSO SELETIVO ENEM (SISU)",
          "INGRESSO POR PROCESSO SELETIVO ENEM (SISU)",
          "INGRESSO POR PROCESSO SELETIVO ENEM (SISU)",
          "INGRESSO POR PROCESSO SELETIVO ENEM (SISU)",
          "INGRESSO POR PROCESSO SELETIVO ENEM (SISU)",
          "INGRESSO POR PROCESSO SELETIVO ENEM (SISU)",
          "INGRESSO POR PROCESSO SELETIVO ENEM (SISU)",
          "INGRESSO POR PROCESSO SELETIVO ENEM (SISU)",
          "INGRESSO POR TRANSFERENCIA COMPULSORIA",
          "INGRESSO POR PROCESSO SELETIVO ENEM (SISU)",
          "INGRESSO POR PROCESSO SELETIVO ENEM (SISU)",
          "INGRESSO POR PROCESSO SELETIVO ENEM (SISU)",
          "INGRESSO POR PROCESSO SELETIVO ENEM (SISU)",
          "INGRESSO POR PROCESSO SELETIVO ENEM (SISU)",
          "INGRESSO POR VESTIBULAR",
          "INGRESSO POR PROCESSO SELETIVO ENEM (SISU)",
          "INGRESSO POR PROCESSO SELETIVO ENEM (SISU)",
          "INGRESSO POR PROCESSO SELETIVO ENEM (SISU)",
          "INGRESSO POR VESTIBULAR",
          "INGRESSO POR PROCESSO SELETIVO ENEM (SISU)",
          "INGRESSO POR PROCESSO SELETIVO ENEM (SISU)",
          "INGRESSO POR PROCESSO SELETIVO ENEM (SISU)",
          "INGRESSO POR PROCESSO SELETIVO ENEM (SISU)",
          "INGRESSO POR PROCESSO SELETIVO ENEM (SISU)",
          "INGRESSO POR PROCESSO SELETIVO ENEM (SISU)",
          "INGRESSO POR PROCESSO SELETIVO ENEM (SISU)",
          "INGRESSO POR PROCESSO SELETIVO ENEM (SISU)",
          "INGRESSO POR PROCESSO SELETIVO ENEM (SISU)",
          "INGRESSO POR PROCESSO SELETIVO ENEM (SISU)",
          "INGRESSO POR PROCESSO SELETIVO ENEM (SISU)",
          "INGRESSO POR PROCESSO SELETIVO ENEM (SISU)",
          "INGRESSO POR PROCESSO SELETIVO ENEM (SISU)",
          "INGRESSO POR PROCESSO SELETIVO ENEM (SISU)",
          "INGRESSO POR VESTIBULAR",
          "INGRESSO POR PROCESSO SELETIVO ENEM (SISU)",
          "INGRESSO POR PROCESSO SELETIVO ENEM (SISU)",
          "INGRESSO POR PROCESSO SELETIVO ENEM (SISU)",
          "INGRESSO POR PROCESSO SELETIVO ENEM (SISU)",
          "INGRESSO POR TRANSFERENCIA DE REGIME",
          "INGRESSO POR PROCESSO SELETIVO ENEM (SISU)",
          "INGRESSO POR TRANSFERENCIA DE REGIME",
          "INGRESSO POR PROCESSO SELETIVO ENEM (SISU)",
          "INGRESSO POR PROCESSO SELETIVO ENEM (SISU)",
          "INGRESSO POR PROCESSO SELETIVO ENEM (SISU)",
          "INGRESSO POR PROCESSO SELETIVO ENEM (SISU)",
          "INGRESSO POR PROCESSO SELETIVO ENEM (SISU)",
          "INGRESSO POR PROCESSO SELETIVO ENEM (SISU)",
          "INGRESSO POR PROCESSO SELETIVO ENEM (SISU)",
          "INGRESSO POR PROCESSO SELETIVO ENEM (SISU)",
          "INGRESSO POR PROCESSO SELETIVO ENEM (SISU)",
          "INGRESSO POR VESTIBULAR",
          "INGRESSO POR PROCESSO SELETIVO ENEM (SISU)",
          "INGRESSO POR PROCESSO SELETIVO ENEM (SISU)",
          "INGRESSO POR PROCESSO SELETIVO ENEM (SISU)",
          "INGRESSO POR PROCESSO SELETIVO ENEM (SISU)",
          "INGRESSO POR PROCESSO SELETIVO ENEM (SISU)",
          "INGRESSO POR PROCESSO SELETIVO ENEM (SISU)",
          "INGRESSO POR PROCESSO SELETIVO ENEM (SISU)",
          "INGRESSO POR PROCESSO SELETIVO ENEM (SISU)",
          "INGRESSO POR CURSO SUPERIOR",
          "INGRESSO POR PROCESSO SELETIVO ENEM (SISU)",
          "INGRESSO POR PROCESSO SELETIVO ENEM (SISU)",
          "INGRESSO POR PROCESSO SELETIVO ENEM (SISU)",
          "INGRESSO POR PROCESSO SELETIVO ENEM (SISU)",
          "INGRESSO POR PROCESSO SELETIVO ENEM (SISU)",
          "INGRESSO POR PROCESSO SELETIVO ENEM (SISU)",
          "INGRESSO POR PROCESSO SELETIVO ESPECÍFICO",
          "INGRESSO POR PROCESSO SELETIVO ENEM (SISU)",
          "INGRESSO POR PROCESSO SELETIVO ENEM (SISU)",
          "INGRESSO POR PROCESSO SELETIVO ENEM (SISU)",
          "INGRESSO POR VESTIBULAR",
          "INGRESSO POR PROCESSO SELETIVO ENEM (SISU)",
          "INGRESSO POR PROCESSO SELETIVO ENEM (SISU)",
          "INGRESSO POR PROCESSO SELETIVO ENEM (SISU)",
          "INGRESSO POR PROCESSO SELETIVO ENEM (SISU)",
          "INGRESSO POR PROCESSO SELETIVO ENEM (SISU)",
          "INGRESSO POR PROCESSO SELETIVO ENEM (SISU)",
          "INGRESSO POR TRANSFERENCIA FACULTATIVA",
          "INGRESSO POR PROCESSO SELETIVO ENEM (SISU)",
          "INGRESSO POR PROCESSO SELETIVO ENEM (SISU)",
          "INGRESSO POR PROCESSO SELETIVO ENEM (SISU)",
          "INGRESSO POR PROCESSO SELETIVO ENEM (SISU)",
          "INGRESSO POR PROCESSO SELETIVO ENEM (SISU)",
          "INGRESSO POR PROCESSO SELETIVO ENEM (SISU)",
          "INGRESSO POR PROCESSO SELETIVO ENEM (SISU)",
          "INGRESSO POR VESTIBULAR",
          "INGRESSO POR PROCESSO SELETIVO ENEM (SISU)",
          "INGRESSO POR PROCESSO SELETIVO ENEM (SISU)",
          "INGRESSO POR CURSO SUPERIOR",
          "INGRESSO POR VESTIBULAR",
          "INGRESSO POR TRANSFERENCIA FACULTATIVA",
          "INGRESSO POR PROCESSO SELETIVO ENEM (SISU)",
          "INGRESSO POR PROCESSO SELETIVO ENEM (SISU)",
          "INGRESSO POR PROCESSO SELETIVO ENEM (SISU)",
          "INGRESSO POR PROCESSO SELETIVO ENEM (SISU)",
          "INGRESSO POR PROCESSO SELETIVO ENEM (SISU)",
          "INGRESSO POR PROCESSO SELETIVO ENEM (SISU)",
          "INGRESSO POR PROCESSO SELETIVO ENEM (SISU)",
          "INGRESSO POR PROCESSO SELETIVO ENEM (SISU)",
          "INGRESSO POR PROCESSO SELETIVO ENEM (SISU)",
          "INGRESSO POR PROCESSO SELETIVO ENEM (SISU)",
          "INGRESSO POR VESTIBULAR",
          "INGRESSO POR TRANSFERENCIA DE REGIME",
          "INGRESSO POR PROCESSO SELETIVO ENEM (SISU)",
          "INGRESSO POR PROCESSO SELETIVO ENEM (SISU)",
          "INGRESSO POR PROCESSO SELETIVO ENEM (SISU)",
          "INGRESSO POR PROCESSO SELETIVO ENEM (SISU)",
          "INGRESSO POR PROCESSO SELETIVO ENEM (SISU)",
          "INGRESSO POR PROCESSO SELETIVO ENEM (SISU)",
          "INGRESSO POR PROCESSO SELETIVO ENEM (SISU)",
          "INGRESSO POR PROCESSO SELETIVO ENEM (SISU)",
          "INGRESSO POR PROCESSO SELETIVO ENEM (SISU)",
          "INGRESSO POR PROCESSO SELETIVO ESPECÍFICO",
          "INGRESSO POR PROCESSO SELETIVO ENEM (SISU)",
          "INGRESSO POR PROCESSO SELETIVO ENEM (SISU)",
          "INGRESSO POR TRANSFERENCIA DE REGIME",
          "INGRESSO POR CURSO SUPERIOR",
          "INGRESSO POR PROCESSO SELETIVO ENEM (SISU)",
          "INGRESSO POR PROCESSO SELETIVO ENEM (SISU)",
          "INGRESSO POR VESTIBULAR",
          "INGRESSO POR PROCESSO SELETIVO ENEM (SISU)",
          "INGRESSO POR PROCESSO SELETIVO ENEM (SISU)",
          "INGRESSO POR PROCESSO SELETIVO ENEM (SISU)",
          "INGRESSO POR PROCESSO SELETIVO ENEM (SISU)",
          "INGRESSO POR VESTIBULAR",
          "INGRESSO POR PROCESSO SELETIVO ENEM (SISU)",
          "INGRESSO POR PROCESSO SELETIVO ENEM (SISU)",
          "INGRESSO POR PROCESSO SELETIVO ENEM (SISU)",
          "INGRESSO POR PROCESSO SELETIVO ENEM (SISU)",
          "INGRESSO POR VESTIBULAR",
          "INGRESSO POR PROCESSO SELETIVO ENEM (SISU)",
          "INGRESSO POR PROCESSO SELETIVO ENEM (SISU)",
          "INGRESSO POR PROCESSO SELETIVO ENEM (SISU)",
          "INGRESSO POR PROCESSO SELETIVO ENEM (SISU)",
          "INGRESSO POR PROCESSO SELETIVO ENEM (SISU)",
          "INGRESSO POR PROCESSO SELETIVO ENEM (SISU)",
          "INGRESSO POR PROCESSO SELETIVO ENEM (SISU)",
          "INGRESSO POR VESTIBULAR",
          "INGRESSO POR PROCESSO SELETIVO ENEM (SISU)",
          "INGRESSO POR PROCESSO SELETIVO ENEM (SISU)",
          "INGRESSO POR PROCESSO SELETIVO ENEM (SISU)",
          "INGRESSO POR TRANSFERENCIA DE REGIME",
          "INGRESSO POR PROCESSO SELETIVO ENEM (SISU)",
          "INGRESSO POR PROCESSO SELETIVO ENEM (SISU)",
          "INGRESSO POR TRANSFERENCIA DE REGIME",
          "INGRESSO POR CURSO SUPERIOR",
          "INGRESSO POR CURSO SUPERIOR",
          "INGRESSO POR PROCESSO SELETIVO ENEM (SISU)",
          "INGRESSO POR VESTIBULAR",
          "INGRESSO POR VESTIBULAR",
          "INGRESSO POR PROCESSO SELETIVO ENEM (SISU)",
          "INGRESSO POR PROCESSO SELETIVO ENEM (SISU)",
          "INGRESSO POR PROCESSO SELETIVO ENEM (SISU)",
          "INGRESSO POR PROCESSO SELETIVO ENEM (SISU)",
          "INGRESSO POR PROCESSO SELETIVO ENEM (SISU)",
          "INGRESSO POR PROCESSO SELETIVO ENEM (SISU)",
          "INGRESSO POR PROCESSO SELETIVO ENEM (SISU)",
          "INGRESSO POR PROCESSO SELETIVO ENEM (SISU)",
          "INGRESSO POR PROCESSO SELETIVO ENEM (SISU)",
          "INGRESSO POR PROCESSO SELETIVO ENEM (SISU)",
          "INGRESSO POR PROCESSO SELETIVO ENEM (SISU)",
          "INGRESSO POR PROCESSO SELETIVO ENEM (SISU)",
          "INGRESSO POR PROCESSO SELETIVO ENEM (SISU)",
          "INGRESSO POR PROCESSO SELETIVO ENEM (SISU)",
          "INGRESSO POR TRANSFERENCIA DE REGIME",
          "INGRESSO POR PROCESSO SELETIVO ESPECÍFICO",
          "INGRESSO POR PROCESSO SELETIVO ENEM (SISU)",
          "INGRESSO POR PROCESSO SELETIVO ENEM (SISU)",
          "INGRESSO POR PROCESSO SELETIVO ENEM (SISU)",
          "INGRESSO POR PROCESSO SELETIVO ENEM (SISU)",
          "INGRESSO POR VESTIBULAR",
          "INGRESSO POR TRANSFERENCIA FACULTATIVA",
          "INGRESSO POR PROCESSO SELETIVO ENEM (SISU)",
          "INGRESSO POR PROCESSO SELETIVO ENEM (SISU)",
          "INGRESSO POR PROCESSO SELETIVO ENEM (SISU)",
          "INGRESSO POR PROCESSO SELETIVO ENEM (SISU)",
          "INGRESSO POR PROCESSO SELETIVO ENEM (SISU)",
          "INGRESSO POR TRANSFERENCIA FACULTATIVA",
          "INGRESSO POR TRANSFERENCIA DE REGIME",
          "INGRESSO POR PROCESSO SELETIVO ENEM (SISU)",
          "INGRESSO POR VESTIBULAR",
          "INGRESSO POR TRANSFERENCIA DE REGIME",
          "INGRESSO POR PROCESSO SELETIVO ENEM (SISU)",
          "INGRESSO POR PROCESSO SELETIVO ENEM (SISU)",
          "INGRESSO POR PROCESSO SELETIVO ENEM (SISU)",
          "INGRESSO POR TRANSFERENCIA DE REGIME",
          "INGRESSO POR PROCESSO SELETIVO ENEM (SISU)",
          "INGRESSO POR PROCESSO SELETIVO ENEM (SISU)",
          "INGRESSO POR VESTIBULAR",
          "INGRESSO POR PROCESSO SELETIVO ENEM (SISU)",
          "INGRESSO POR PROCESSO SELETIVO ENEM (SISU)",
          "INGRESSO POR PROCESSO SELETIVO ENEM (SISU)",
          "INGRESSO POR PROCESSO SELETIVO ENEM (SISU)",
          "INGRESSO POR PROCESSO SELETIVO ENEM (SISU)",
          "INGRESSO POR VESTIBULAR",
          "INGRESSO POR PROCESSO SELETIVO ENEM (SISU)",
          "INGRESSO POR PROCESSO SELETIVO ENEM (SISU)",
          "INGRESSO POR PROCESSO SELETIVO ENEM (SISU)",
          "INGRESSO POR PROCESSO SELETIVO ENEM (SISU)",
          "INGRESSO POR PROCESSO SELETIVO ENEM (SISU)",
          "INGRESSO POR PROCESSO SELETIVO ENEM (SISU)",
          "INGRESSO POR PROCESSO SELETIVO ENEM (SISU)",
          "INGRESSO POR PROCESSO SELETIVO ENEM (SISU)",
          "INGRESSO POR TRANSFERENCIA DE REGIME",
          "INGRESSO POR PROCESSO SELETIVO ENEM (SISU)",
          "INGRESSO POR PROCESSO SELETIVO ENEM (SISU)",
          "INGRESSO POR PROCESSO SELETIVO ENEM (SISU)",
          "INGRESSO POR PROCESSO SELETIVO ENEM (SISU)",
          "INGRESSO POR PROCESSO SELETIVO ENEM (SISU)",
          "INGRESSO POR PROCESSO SELETIVO ENEM (SISU)"
         ],
         "x0": " ",
         "xaxis": "x",
         "y": {
          "bdata": "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",
          "dtype": "f8"
         },
         "y0": " ",
         "yaxis": "y"
        }
       ],
       "layout": {
        "boxmode": "group",
        "font": {
         "color": "Black",
         "family": "Courier New, monospace",
         "size": 18,
         "variant": "small-caps"
        },
        "legend": {
         "title": {
          "text": "dataset"
         },
         "tracegroupgap": 0
        },
        "margin": {
         "t": 60
        },
        "template": {
         "data": {
          "bar": [
           {
            "error_x": {
             "color": "#2a3f5f"
            },
            "error_y": {
             "color": "#2a3f5f"
            },
            "marker": {
             "line": {
              "color": "#E5ECF6",
              "width": 0.5
             },
             "pattern": {
              "fillmode": "overlay",
              "size": 10,
              "solidity": 0.2
             }
            },
            "type": "bar"
           }
          ],
          "barpolar": [
           {
            "marker": {
             "line": {
              "color": "#E5ECF6",
              "width": 0.5
             },
             "pattern": {
              "fillmode": "overlay",
              "size": 10,
              "solidity": 0.2
             }
            },
            "type": "barpolar"
           }
          ],
          "carpet": [
           {
            "aaxis": {
             "endlinecolor": "#2a3f5f",
             "gridcolor": "white",
             "linecolor": "white",
             "minorgridcolor": "white",
             "startlinecolor": "#2a3f5f"
            },
            "baxis": {
             "endlinecolor": "#2a3f5f",
             "gridcolor": "white",
             "linecolor": "white",
             "minorgridcolor": "white",
             "startlinecolor": "#2a3f5f"
            },
            "type": "carpet"
           }
          ],
          "choropleth": [
           {
            "colorbar": {
             "outlinewidth": 0,
             "ticks": ""
            },
            "type": "choropleth"
           }
          ],
          "contour": [
           {
            "colorbar": {
             "outlinewidth": 0,
             "ticks": ""
            },
            "colorscale": [
             [
              0,
              "#0d0887"
             ],
             [
              0.1111111111111111,
              "#46039f"
             ],
             [
              0.2222222222222222,
              "#7201a8"
             ],
             [
              0.3333333333333333,
              "#9c179e"
             ],
             [
              0.4444444444444444,
              "#bd3786"
             ],
             [
              0.5555555555555556,
              "#d8576b"
             ],
             [
              0.6666666666666666,
              "#ed7953"
             ],
             [
              0.7777777777777778,
              "#fb9f3a"
             ],
             [
              0.8888888888888888,
              "#fdca26"
             ],
             [
              1,
              "#f0f921"
             ]
            ],
            "type": "contour"
           }
          ],
          "contourcarpet": [
           {
            "colorbar": {
             "outlinewidth": 0,
             "ticks": ""
            },
            "type": "contourcarpet"
           }
          ],
          "heatmap": [
           {
            "colorbar": {
             "outlinewidth": 0,
             "ticks": ""
            },
            "colorscale": [
             [
              0,
              "#0d0887"
             ],
             [
              0.1111111111111111,
              "#46039f"
             ],
             [
              0.2222222222222222,
              "#7201a8"
             ],
             [
              0.3333333333333333,
              "#9c179e"
             ],
             [
              0.4444444444444444,
              "#bd3786"
             ],
             [
              0.5555555555555556,
              "#d8576b"
             ],
             [
              0.6666666666666666,
              "#ed7953"
             ],
             [
              0.7777777777777778,
              "#fb9f3a"
             ],
             [
              0.8888888888888888,
              "#fdca26"
             ],
             [
              1,
              "#f0f921"
             ]
            ],
            "type": "heatmap"
           }
          ],
          "histogram": [
           {
            "marker": {
             "pattern": {
              "fillmode": "overlay",
              "size": 10,
              "solidity": 0.2
             }
            },
            "type": "histogram"
           }
          ],
          "histogram2d": [
           {
            "colorbar": {
             "outlinewidth": 0,
             "ticks": ""
            },
            "colorscale": [
             [
              0,
              "#0d0887"
             ],
             [
              0.1111111111111111,
              "#46039f"
             ],
             [
              0.2222222222222222,
              "#7201a8"
             ],
             [
              0.3333333333333333,
              "#9c179e"
             ],
             [
              0.4444444444444444,
              "#bd3786"
             ],
             [
              0.5555555555555556,
              "#d8576b"
             ],
             [
              0.6666666666666666,
              "#ed7953"
             ],
             [
              0.7777777777777778,
              "#fb9f3a"
             ],
             [
              0.8888888888888888,
              "#fdca26"
             ],
             [
              1,
              "#f0f921"
             ]
            ],
            "type": "histogram2d"
           }
          ],
          "histogram2dcontour": [
           {
            "colorbar": {
             "outlinewidth": 0,
             "ticks": ""
            },
            "colorscale": [
             [
              0,
              "#0d0887"
             ],
             [
              0.1111111111111111,
              "#46039f"
             ],
             [
              0.2222222222222222,
              "#7201a8"
             ],
             [
              0.3333333333333333,
              "#9c179e"
             ],
             [
              0.4444444444444444,
              "#bd3786"
             ],
             [
              0.5555555555555556,
              "#d8576b"
             ],
             [
              0.6666666666666666,
              "#ed7953"
             ],
             [
              0.7777777777777778,
              "#fb9f3a"
             ],
             [
              0.8888888888888888,
              "#fdca26"
             ],
             [
              1,
              "#f0f921"
             ]
            ],
            "type": "histogram2dcontour"
           }
          ],
          "mesh3d": [
           {
            "colorbar": {
             "outlinewidth": 0,
             "ticks": ""
            },
            "type": "mesh3d"
           }
          ],
          "parcoords": [
           {
            "line": {
             "colorbar": {
              "outlinewidth": 0,
              "ticks": ""
             }
            },
            "type": "parcoords"
           }
          ],
          "pie": [
           {
            "automargin": true,
            "type": "pie"
           }
          ],
          "scatter": [
           {
            "fillpattern": {
             "fillmode": "overlay",
             "size": 10,
             "solidity": 0.2
            },
            "type": "scatter"
           }
          ],
          "scatter3d": [
           {
            "line": {
             "colorbar": {
              "outlinewidth": 0,
              "ticks": ""
             }
            },
            "marker": {
             "colorbar": {
              "outlinewidth": 0,
              "ticks": ""
             }
            },
            "type": "scatter3d"
           }
          ],
          "scattercarpet": [
           {
            "marker": {
             "colorbar": {
              "outlinewidth": 0,
              "ticks": ""
             }
            },
            "type": "scattercarpet"
           }
          ],
          "scattergeo": [
           {
            "marker": {
             "colorbar": {
              "outlinewidth": 0,
              "ticks": ""
             }
            },
            "type": "scattergeo"
           }
          ],
          "scattergl": [
           {
            "marker": {
             "colorbar": {
              "outlinewidth": 0,
              "ticks": ""
             }
            },
            "type": "scattergl"
           }
          ],
          "scattermap": [
           {
            "marker": {
             "colorbar": {
              "outlinewidth": 0,
              "ticks": ""
             }
            },
            "type": "scattermap"
           }
          ],
          "scattermapbox": [
           {
            "marker": {
             "colorbar": {
              "outlinewidth": 0,
              "ticks": ""
             }
            },
            "type": "scattermapbox"
           }
          ],
          "scatterpolar": [
           {
            "marker": {
             "colorbar": {
              "outlinewidth": 0,
              "ticks": ""
             }
            },
            "type": "scatterpolar"
           }
          ],
          "scatterpolargl": [
           {
            "marker": {
             "colorbar": {
              "outlinewidth": 0,
              "ticks": ""
             }
            },
            "type": "scatterpolargl"
           }
          ],
          "scatterternary": [
           {
            "marker": {
             "colorbar": {
              "outlinewidth": 0,
              "ticks": ""
             }
            },
            "type": "scatterternary"
           }
          ],
          "surface": [
           {
            "colorbar": {
             "outlinewidth": 0,
             "ticks": ""
            },
            "colorscale": [
             [
              0,
              "#0d0887"
             ],
             [
              0.1111111111111111,
              "#46039f"
             ],
             [
              0.2222222222222222,
              "#7201a8"
             ],
             [
              0.3333333333333333,
              "#9c179e"
             ],
             [
              0.4444444444444444,
              "#bd3786"
             ],
             [
              0.5555555555555556,
              "#d8576b"
             ],
             [
              0.6666666666666666,
              "#ed7953"
             ],
             [
              0.7777777777777778,
              "#fb9f3a"
             ],
             [
              0.8888888888888888,
              "#fdca26"
             ],
             [
              1,
              "#f0f921"
             ]
            ],
            "type": "surface"
           }
          ],
          "table": [
           {
            "cells": {
             "fill": {
              "color": "#EBF0F8"
             },
             "line": {
              "color": "white"
             }
            },
            "header": {
             "fill": {
              "color": "#C8D4E3"
             },
             "line": {
              "color": "white"
             }
            },
            "type": "table"
           }
          ]
         },
         "layout": {
          "annotationdefaults": {
           "arrowcolor": "#2a3f5f",
           "arrowhead": 0,
           "arrowwidth": 1
          },
          "autotypenumbers": "strict",
          "coloraxis": {
           "colorbar": {
            "outlinewidth": 0,
            "ticks": ""
           }
          },
          "colorscale": {
           "diverging": [
            [
             0,
             "#8e0152"
            ],
            [
             0.1,
             "#c51b7d"
            ],
            [
             0.2,
             "#de77ae"
            ],
            [
             0.3,
             "#f1b6da"
            ],
            [
             0.4,
             "#fde0ef"
            ],
            [
             0.5,
             "#f7f7f7"
            ],
            [
             0.6,
             "#e6f5d0"
            ],
            [
             0.7,
             "#b8e186"
            ],
            [
             0.8,
             "#7fbc41"
            ],
            [
             0.9,
             "#4d9221"
            ],
            [
             1,
             "#276419"
            ]
           ],
           "sequential": [
            [
             0,
             "#0d0887"
            ],
            [
             0.1111111111111111,
             "#46039f"
            ],
            [
             0.2222222222222222,
             "#7201a8"
            ],
            [
             0.3333333333333333,
             "#9c179e"
            ],
            [
             0.4444444444444444,
             "#bd3786"
            ],
            [
             0.5555555555555556,
             "#d8576b"
            ],
            [
             0.6666666666666666,
             "#ed7953"
            ],
            [
             0.7777777777777778,
             "#fb9f3a"
            ],
            [
             0.8888888888888888,
             "#fdca26"
            ],
            [
             1,
             "#f0f921"
            ]
           ],
           "sequentialminus": [
            [
             0,
             "#0d0887"
            ],
            [
             0.1111111111111111,
             "#46039f"
            ],
            [
             0.2222222222222222,
             "#7201a8"
            ],
            [
             0.3333333333333333,
             "#9c179e"
            ],
            [
             0.4444444444444444,
             "#bd3786"
            ],
            [
             0.5555555555555556,
             "#d8576b"
            ],
            [
             0.6666666666666666,
             "#ed7953"
            ],
            [
             0.7777777777777778,
             "#fb9f3a"
            ],
            [
             0.8888888888888888,
             "#fdca26"
            ],
            [
             1,
             "#f0f921"
            ]
           ]
          },
          "colorway": [
           "#636efa",
           "#EF553B",
           "#00cc96",
           "#ab63fa",
           "#FFA15A",
           "#19d3f3",
           "#FF6692",
           "#B6E880",
           "#FF97FF",
           "#FECB52"
          ],
          "font": {
           "color": "#2a3f5f"
          },
          "geo": {
           "bgcolor": "white",
           "lakecolor": "white",
           "landcolor": "#E5ECF6",
           "showlakes": true,
           "showland": true,
           "subunitcolor": "white"
          },
          "hoverlabel": {
           "align": "left"
          },
          "hovermode": "closest",
          "mapbox": {
           "style": "light"
          },
          "paper_bgcolor": "white",
          "plot_bgcolor": "#E5ECF6",
          "polar": {
           "angularaxis": {
            "gridcolor": "white",
            "linecolor": "white",
            "ticks": ""
           },
           "bgcolor": "#E5ECF6",
           "radialaxis": {
            "gridcolor": "white",
            "linecolor": "white",
            "ticks": ""
           }
          },
          "scene": {
           "xaxis": {
            "backgroundcolor": "#E5ECF6",
            "gridcolor": "white",
            "gridwidth": 2,
            "linecolor": "white",
            "showbackground": true,
            "ticks": "",
            "zerolinecolor": "white"
           },
           "yaxis": {
            "backgroundcolor": "#E5ECF6",
            "gridcolor": "white",
            "gridwidth": 2,
            "linecolor": "white",
            "showbackground": true,
            "ticks": "",
            "zerolinecolor": "white"
           },
           "zaxis": {
            "backgroundcolor": "#E5ECF6",
            "gridcolor": "white",
            "gridwidth": 2,
            "linecolor": "white",
            "showbackground": true,
            "ticks": "",
            "zerolinecolor": "white"
           }
          },
          "shapedefaults": {
           "line": {
            "color": "#2a3f5f"
           }
          },
          "ternary": {
           "aaxis": {
            "gridcolor": "white",
            "linecolor": "white",
            "ticks": ""
           },
           "baxis": {
            "gridcolor": "white",
            "linecolor": "white",
            "ticks": ""
           },
           "bgcolor": "#E5ECF6",
           "caxis": {
            "gridcolor": "white",
            "linecolor": "white",
            "ticks": ""
           }
          },
          "title": {
           "x": 0.05
          },
          "xaxis": {
           "automargin": true,
           "gridcolor": "white",
           "linecolor": "white",
           "ticks": "",
           "title": {
            "standoff": 15
           },
           "zerolinecolor": "white",
           "zerolinewidth": 2
          },
          "yaxis": {
           "automargin": true,
           "gridcolor": "white",
           "linecolor": "white",
           "ticks": "",
           "title": {
            "standoff": 15
           },
           "zerolinecolor": "white",
           "zerolinewidth": 2
          }
         }
        },
        "title": {
         "text": "GPA: Undergrads vs Dropout per Application "
        },
        "xaxis": {
         "anchor": "y",
         "domain": [
          0,
          1
         ],
         "title": {
          "text": "Tipo ingresso"
         }
        },
        "yaxis": {
         "anchor": "x",
         "domain": [
          0,
          1
         ],
         "title": {
          "text": "Coeficiente"
         }
        }
       }
      }
     },
     "metadata": {},
     "output_type": "display_data"
    }
   ],
   "source": [
    "x = pd.concat([\n",
    "        finished.assign(dataset=\"Finished\"),\n",
    "        dropout.assign(dataset=\"Deactive\")])\n",
    "\n",
    "px.box(x, x='Raça', y='Coeficiente', color='dataset').update_layout(title={\"text\": \"GPA: Undergrads vs Dropout per Ethnics\"}, font=my_font).show()\n",
    "px.box(x, x='Sexo', y='Coeficiente', color='dataset').update_layout(title={\"text\": \"GPA: Undergrads vs Dropout per Sex\"}, font=my_font).show()\n",
    "px.box(x, x='Tipo ingresso', y='Coeficiente', color='dataset').update_layout(title={\"text\": \"GPA: Undergrads vs Dropout per Application \"}, font=my_font).show()\n"
   ]
  },
  {
   "cell_type": "code",
   "execution_count": 62,
   "id": "409a2a1c-c26a-4b44-a66a-5af6a6feffcb",
   "metadata": {},
   "outputs": [
    {
     "data": {
      "application/vnd.plotly.v1+json": {
       "config": {
        "plotlyServerURL": "https://plot.ly"
       },
       "data": [
        {
         "domain": {
          "x": [
           0,
           0.49
          ],
          "y": [
           0,
           1
          ]
         },
         "hole": 0.3,
         "hovertemplate": "dataset=Finished<br>Tipo ingresso=%{label}<extra></extra>",
         "labels": [
          "INGRESSO POR PROCESSO SELETIVO ENEM (SISU)",
          "INGRESSO POR TRANSFERENCIA DE REGIME",
          "INGRESSO POR PROCESSO SELETIVO ENEM (SISU)",
          "INGRESSO POR VESTIBULAR",
          "INGRESSO POR PROCESSO SELETIVO ENEM (SISU)",
          "INGRESSO POR PROCESSO SELETIVO ENEM (SISU)",
          "INGRESSO POR TRANSFERENCIA DE REGIME",
          "INGRESSO POR PROCESSO SELETIVO ENEM (SISU)",
          "INGRESSO POR VESTIBULAR",
          "INGRESSO POR PROCESSO SELETIVO ENEM (SISU)",
          "INGRESSO POR PROCESSO SELETIVO ENEM (SISU)",
          "INGRESSO POR PROCESSO SELETIVO ENEM (SISU)",
          "INGRESSO POR PROCESSO SELETIVO ENEM (SISU)",
          "INGRESSO POR PROCESSO SELETIVO ENEM (SISU)",
          "INGRESSO POR PROCESSO SELETIVO ENEM (SISU)",
          "INGRESSO POR PROCESSO SELETIVO ENEM (SISU)",
          "INGRESSO POR PROCESSO SELETIVO ENEM (SISU)",
          "INGRESSO POR PROCESSO SELETIVO ENEM (SISU)",
          "INGRESSO POR PROCESSO SELETIVO ENEM (SISU)",
          "INGRESSO POR PROCESSO SELETIVO ENEM (SISU)",
          "INGRESSO POR PROCESSO SELETIVO ENEM (SISU)",
          "INGRESSO POR PROCESSO SELETIVO ENEM (SISU)",
          "INGRESSO POR VESTIBULAR",
          "INGRESSO POR PROCESSO SELETIVO ENEM (SISU)",
          "INGRESSO POR PROCESSO SELETIVO ENEM (SISU)",
          "INGRESSO POR VESTIBULAR",
          "INGRESSO POR VESTIBULAR",
          "INGRESSO POR PROCESSO SELETIVO ENEM (SISU)",
          "INGRESSO POR PROCESSO SELETIVO ENEM (SISU)",
          "INGRESSO POR PROCESSO SELETIVO ENEM (SISU)",
          "INGRESSO POR PROCESSO SELETIVO ENEM (SISU)",
          "INGRESSO POR TRANSFERENCIA DE REGIME",
          "INGRESSO POR PROCESSO SELETIVO ENEM (SISU)",
          "INGRESSO POR PROCESSO SELETIVO ENEM (SISU)",
          "INGRESSO POR PROCESSO SELETIVO ENEM (SISU)",
          "INGRESSO POR PROCESSO SELETIVO ENEM (SISU)",
          "INGRESSO POR PROCESSO SELETIVO ENEM (SISU)",
          "INGRESSO POR VESTIBULAR",
          "INGRESSO POR PROCESSO SELETIVO ENEM (SISU)",
          "INGRESSO POR PROCESSO SELETIVO ENEM (SISU)",
          "INGRESSO POR PROCESSO SELETIVO ENEM (SISU)",
          "INGRESSO POR PROCESSO SELETIVO ENEM (SISU)",
          "INGRESSO POR PROCESSO SELETIVO ENEM (SISU)",
          "INGRESSO POR PROCESSO SELETIVO ENEM (SISU)",
          "INGRESSO POR VESTIBULAR",
          "INGRESSO POR TRANSFERENCIA DE REGIME",
          "INGRESSO POR PROCESSO SELETIVO ENEM (SISU)",
          "INGRESSO POR PROCESSO SELETIVO ENEM (SISU)",
          "INGRESSO POR VESTIBULAR",
          "INGRESSO POR PROCESSO SELETIVO ENEM (SISU)",
          "INGRESSO POR PROCESSO SELETIVO ENEM (SISU)",
          "INGRESSO POR TRANSFERENCIA DE REGIME",
          "INGRESSO POR TRANSFERENCIA DE REGIME",
          "INGRESSO POR PROCESSO SELETIVO ENEM (SISU)",
          "INGRESSO POR PROCESSO SELETIVO ENEM (SISU)",
          "INGRESSO POR PROCESSO SELETIVO ENEM (SISU)",
          "INGRESSO POR PROCESSO SELETIVO ENEM (SISU)",
          "INGRESSO POR PROCESSO SELETIVO ENEM (SISU)",
          "INGRESSO POR PROCESSO SELETIVO ENEM (SISU)",
          "INGRESSO POR VESTIBULAR",
          "INGRESSO POR PROCESSO SELETIVO ENEM (SISU)",
          "INGRESSO POR PROCESSO SELETIVO ENEM (SISU)",
          "INGRESSO POR TRANSFERENCIA DE REGIME",
          "INGRESSO POR VESTIBULAR",
          "INGRESSO POR PROCESSO SELETIVO ENEM (SISU)",
          "INGRESSO POR PROCESSO SELETIVO ENEM (SISU)",
          "INGRESSO POR TRANSFERENCIA DE REGIME",
          "INGRESSO POR PROCESSO SELETIVO ENEM (SISU)",
          "INGRESSO POR PROCESSO SELETIVO ENEM (SISU)",
          "INGRESSO POR PROCESSO SELETIVO ENEM (SISU)",
          "INGRESSO POR PROCESSO SELETIVO ENEM (SISU)",
          "INGRESSO POR PROCESSO SELETIVO ENEM (SISU)",
          "INGRESSO POR PROCESSO SELETIVO ENEM (SISU)",
          "INGRESSO POR PROCESSO SELETIVO ENEM (SISU)",
          "INGRESSO POR PROCESSO SELETIVO ENEM (SISU)",
          "INGRESSO POR PROCESSO SELETIVO ENEM (SISU)",
          "INGRESSO POR PROCESSO SELETIVO ENEM (SISU)",
          "INGRESSO POR PROCESSO SELETIVO ENEM (SISU)",
          "INGRESSO POR PROCESSO SELETIVO ENEM (SISU)",
          "INGRESSO POR PROCESSO SELETIVO ENEM (SISU)",
          "INGRESSO POR PROCESSO SELETIVO ENEM (SISU)",
          "INGRESSO POR VESTIBULAR",
          "INGRESSO POR VESTIBULAR",
          "INGRESSO POR PROCESSO SELETIVO ENEM (SISU)",
          "INGRESSO POR PROCESSO SELETIVO ENEM (SISU)",
          "INGRESSO POR TRANSFERENCIA DE REGIME",
          "INGRESSO POR PROCESSO SELETIVO ENEM (SISU)",
          "INGRESSO POR PROCESSO SELETIVO ENEM (SISU)",
          "INGRESSO POR PROCESSO SELETIVO ENEM (SISU)",
          "INGRESSO POR PROCESSO SELETIVO ENEM (SISU)",
          "INGRESSO POR VESTIBULAR",
          "INGRESSO POR PROCESSO SELETIVO ENEM (SISU)",
          "INGRESSO POR TRANSFERENCIA DE REGIME",
          "INGRESSO POR PROCESSO SELETIVO ENEM (SISU)",
          "INGRESSO POR VESTIBULAR",
          "INGRESSO POR PROCESSO SELETIVO ENEM (SISU)",
          "INGRESSO POR TRANSFERENCIA DE REGIME",
          "INGRESSO POR PROCESSO SELETIVO ENEM (SISU)",
          "INGRESSO POR PROCESSO SELETIVO ENEM (SISU)",
          "INGRESSO POR PROCESSO SELETIVO ENEM (SISU)",
          "INGRESSO POR TRANSFERENCIA DE REGIME",
          "INGRESSO POR TRANSFERENCIA DE REGIME",
          "INGRESSO POR PROCESSO SELETIVO ENEM (SISU)",
          "INGRESSO POR TRANSFERENCIA DE REGIME",
          "INGRESSO POR PROCESSO SELETIVO ENEM (SISU)",
          "INGRESSO POR PROCESSO SELETIVO ENEM (SISU)",
          "INGRESSO POR PROCESSO SELETIVO ENEM (SISU)",
          "INGRESSO POR PROCESSO SELETIVO ENEM (SISU)",
          "INGRESSO POR PROCESSO SELETIVO ENEM (SISU)",
          "INGRESSO POR PROCESSO SELETIVO ENEM (SISU)",
          "INGRESSO POR PROCESSO SELETIVO ENEM (SISU)"
         ],
         "legendgroup": "",
         "name": "",
         "showlegend": true,
         "type": "pie"
        },
        {
         "domain": {
          "x": [
           0.51,
           1
          ],
          "y": [
           0,
           1
          ]
         },
         "hole": 0.3,
         "hovertemplate": "dataset=Deactive<br>Tipo ingresso=%{label}<extra></extra>",
         "labels": [
          "INGRESSO POR PROCESSO SELETIVO ENEM (SISU)",
          "INGRESSO POR PROCESSO SELETIVO ENEM (SISU)",
          "INGRESSO POR PROCESSO SELETIVO ENEM (SISU)",
          "INGRESSO POR PROCESSO SELETIVO ENEM (SISU)",
          "INGRESSO POR PROCESSO SELETIVO ENEM (SISU)",
          "INGRESSO POR PROCESSO SELETIVO ENEM (SISU)",
          "INGRESSO POR PROCESSO SELETIVO ENEM (SISU)",
          "INGRESSO POR PROCESSO SELETIVO ENEM (SISU)",
          "INGRESSO POR VESTIBULAR",
          "INGRESSO POR CURSO SUPERIOR",
          "INGRESSO POR PROCESSO SELETIVO ENEM (SISU)",
          "INGRESSO POR PROCESSO SELETIVO ENEM (SISU)",
          "INGRESSO POR PROCESSO SELETIVO ENEM (SISU)",
          "INGRESSO POR PROCESSO SELETIVO ENEM (SISU)",
          "INGRESSO POR VESTIBULAR",
          "INGRESSO POR PROCESSO SELETIVO ENEM (SISU)",
          "INGRESSO POR PROCESSO SELETIVO ENEM (SISU)",
          "INGRESSO POR PROCESSO SELETIVO ENEM (SISU)",
          "INGRESSO POR VESTIBULAR",
          "INGRESSO POR PROCESSO SELETIVO ENEM (SISU)",
          "INGRESSO POR PROCESSO SELETIVO ENEM (SISU)",
          "INGRESSO POR PROCESSO SELETIVO ENEM (SISU)",
          "INGRESSO POR VESTIBULAR",
          "INGRESSO POR PROCESSO SELETIVO ENEM (SISU)",
          "INGRESSO POR TRANSFERENCIA DE REGIME",
          "INGRESSO POR PROCESSO SELETIVO ENEM (SISU)",
          "INGRESSO POR CURSO SUPERIOR",
          "INGRESSO POR PROCESSO SELETIVO ENEM (SISU)",
          "INGRESSO POR PROCESSO SELETIVO ENEM (SISU)",
          "INGRESSO POR PROCESSO SELETIVO ENEM (SISU)",
          "INGRESSO POR PROCESSO SELETIVO ENEM (SISU)",
          "INGRESSO POR PROCESSO SELETIVO ENEM (SISU)",
          "INGRESSO POR PROCESSO SELETIVO ENEM (SISU)",
          "INGRESSO POR PROCESSO SELETIVO ENEM (SISU)",
          "INGRESSO POR PROCESSO SELETIVO ENEM (SISU)",
          "INGRESSO POR PROCESSO SELETIVO ENEM (SISU)",
          "INGRESSO POR PROCESSO SELETIVO ENEM (SISU)",
          "INGRESSO POR PROCESSO SELETIVO ENEM (SISU)",
          "INGRESSO POR PROCESSO SELETIVO ENEM (SISU)",
          "INGRESSO POR PROCESSO SELETIVO ENEM (SISU)",
          "INGRESSO POR PROCESSO SELETIVO ENEM (SISU)",
          "INGRESSO POR PROCESSO SELETIVO ENEM (SISU)",
          "INGRESSO POR VESTIBULAR",
          "INGRESSO POR TRANSFERENCIA DE REGIME",
          "INGRESSO POR PROCESSO SELETIVO ENEM (SISU)",
          "INGRESSO POR PROCESSO SELETIVO ENEM (SISU)",
          "INGRESSO POR PROCESSO SELETIVO ENEM (SISU)",
          "INGRESSO POR VESTIBULAR",
          "INGRESSO POR PROCESSO SELETIVO ENEM (SISU)",
          "INGRESSO POR PROCESSO SELETIVO ENEM (SISU)",
          "INGRESSO POR PROCESSO SELETIVO ENEM (SISU)",
          "INGRESSO POR PROCESSO SELETIVO ENEM (SISU)",
          "INGRESSO POR PROCESSO SELETIVO ENEM (SISU)",
          "INGRESSO POR PROCESSO SELETIVO ENEM (SISU)",
          "INGRESSO POR PROCESSO SELETIVO ENEM (SISU)",
          "INGRESSO POR PROCESSO SELETIVO ENEM (SISU)",
          "INGRESSO POR PROCESSO SELETIVO ENEM (SISU)",
          "INGRESSO POR PROCESSO SELETIVO ENEM (SISU)",
          "INGRESSO POR PROCESSO SELETIVO ENEM (SISU)",
          "INGRESSO POR PROCESSO SELETIVO ENEM (SISU)",
          "INGRESSO POR VESTIBULAR",
          "INGRESSO POR PROCESSO SELETIVO ENEM (SISU)",
          "INGRESSO POR TRANSFERENCIA DE REGIME",
          "INGRESSO POR TRANSFERENCIA DE REGIME",
          "INGRESSO POR PROCESSO SELETIVO ENEM (SISU)",
          "INGRESSO POR TRANSFERENCIA FACULTATIVA",
          "INGRESSO POR PROCESSO SELETIVO ENEM (SISU)",
          "INGRESSO POR PROCESSO SELETIVO ENEM (SISU)",
          "INGRESSO POR PROCESSO SELETIVO ENEM (SISU)",
          "INGRESSO POR PROCESSO SELETIVO ENEM (SISU)",
          "INGRESSO POR PROCESSO SELETIVO ENEM (SISU)",
          "INGRESSO POR PROCESSO SELETIVO ENEM (SISU)",
          "INGRESSO POR PROCESSO SELETIVO ENEM (SISU)",
          "INGRESSO POR TRANSFERENCIA DE REGIME",
          "INGRESSO POR PROCESSO SELETIVO ENEM (SISU)",
          "INGRESSO POR VESTIBULAR",
          "INGRESSO POR PROCESSO SELETIVO ENEM (SISU)",
          "INGRESSO POR PROCESSO SELETIVO ENEM (SISU)",
          "INGRESSO POR PROCESSO SELETIVO ENEM (SISU)",
          "INGRESSO POR TRANSFERENCIA DE REGIME",
          "INGRESSO POR PROCESSO SELETIVO ENEM (SISU)",
          "INGRESSO POR PROCESSO SELETIVO ENEM (SISU)",
          "INGRESSO POR PROCESSO SELETIVO ENEM (SISU)",
          "INGRESSO POR PROCESSO SELETIVO ENEM (SISU)",
          "INGRESSO POR PROCESSO SELETIVO ENEM (SISU)",
          "INGRESSO POR PROCESSO SELETIVO ENEM (SISU)",
          "INGRESSO POR PROCESSO SELETIVO ENEM (SISU)",
          "INGRESSO POR TRANSFERENCIA DE REGIME",
          "INGRESSO POR PROCESSO SELETIVO ENEM (SISU)",
          "INGRESSO POR PROCESSO SELETIVO ENEM (SISU)",
          "INGRESSO POR PROCESSO SELETIVO ENEM (SISU)",
          "INGRESSO POR PROCESSO SELETIVO ENEM (SISU)",
          "INGRESSO POR PROCESSO SELETIVO ENEM (SISU)",
          "INGRESSO POR PROCESSO SELETIVO ENEM (SISU)",
          "INGRESSO POR PROCESSO SELETIVO ENEM (SISU)",
          "INGRESSO POR VESTIBULAR",
          "INGRESSO POR PROCESSO SELETIVO ENEM (SISU)",
          "INGRESSO POR PROCESSO SELETIVO ENEM (SISU)",
          "INGRESSO POR PROCESSO SELETIVO ENEM (SISU)",
          "INGRESSO POR PROCESSO SELETIVO ENEM (SISU)",
          "INGRESSO POR PROCESSO SELETIVO ENEM (SISU)",
          "INGRESSO POR PROCESSO SELETIVO ENEM (SISU)",
          "INGRESSO POR PROCESSO SELETIVO ENEM (SISU)",
          "INGRESSO POR PROCESSO SELETIVO ENEM (SISU)",
          "INGRESSO POR PROCESSO SELETIVO ENEM (SISU)",
          "INGRESSO POR PROCESSO SELETIVO ENEM (SISU)",
          "INGRESSO POR PROCESSO SELETIVO ENEM (SISU)",
          "INGRESSO POR PROCESSO SELETIVO ENEM (SISU)",
          "INGRESSO POR PROCESSO SELETIVO ENEM (SISU)",
          "INGRESSO POR PROCESSO SELETIVO ENEM (SISU)",
          "INGRESSO POR PROCESSO SELETIVO ENEM (SISU)",
          "INGRESSO POR PROCESSO SELETIVO ENEM (SISU)",
          "INGRESSO POR CURSO SUPERIOR",
          "INGRESSO POR PROCESSO SELETIVO ENEM (SISU)",
          "INGRESSO POR PROCESSO SELETIVO ENEM (SISU)",
          "INGRESSO POR PROCESSO SELETIVO ENEM (SISU)",
          "INGRESSO POR TRANSFERENCIA FACULTATIVA",
          "INGRESSO POR PROCESSO SELETIVO ENEM (SISU)",
          "INGRESSO POR PROCESSO SELETIVO ENEM (SISU)",
          "INGRESSO POR PROCESSO SELETIVO ENEM (SISU)",
          "INGRESSO POR PROCESSO SELETIVO ENEM (SISU)",
          "INGRESSO POR PROCESSO SELETIVO ENEM (SISU)",
          "INGRESSO POR PROCESSO SELETIVO ENEM (SISU)",
          "INGRESSO POR VESTIBULAR",
          "INGRESSO POR PROCESSO SELETIVO ENEM (SISU)",
          "INGRESSO POR PROCESSO SELETIVO ENEM (SISU)",
          "INGRESSO POR PROCESSO SELETIVO ENEM (SISU)",
          "INGRESSO POR PROCESSO SELETIVO ENEM (SISU)",
          "INGRESSO POR PROCESSO SELETIVO ENEM (SISU)",
          "INGRESSO POR PROCESSO SELETIVO ENEM (SISU)",
          "INGRESSO POR PROCESSO SELETIVO ENEM (SISU)",
          "INGRESSO POR PROCESSO SELETIVO ENEM (SISU)",
          "INGRESSO POR PROCESSO SELETIVO ENEM (SISU)",
          "INGRESSO POR PROCESSO SELETIVO ENEM (SISU)",
          "INGRESSO POR PROCESSO SELETIVO ENEM (SISU)",
          "INGRESSO POR PROCESSO SELETIVO ENEM (SISU)",
          "INGRESSO POR PROCESSO SELETIVO ENEM (SISU)",
          "INGRESSO POR PROCESSO SELETIVO ENEM (SISU)",
          "INGRESSO POR PROCESSO SELETIVO ENEM (SISU)",
          "INGRESSO POR CURSO SUPERIOR",
          "INGRESSO POR PROCESSO SELETIVO ENEM (SISU)",
          "INGRESSO POR PROCESSO SELETIVO ENEM (SISU)",
          "INGRESSO POR VESTIBULAR",
          "INGRESSO POR PROCESSO SELETIVO ENEM (SISU)",
          "INGRESSO POR VESTIBULAR",
          "INGRESSO POR PROCESSO SELETIVO ENEM (SISU)",
          "INGRESSO POR PROCESSO SELETIVO ENEM (SISU)",
          "INGRESSO POR TRANSFERENCIA DE REGIME",
          "INGRESSO POR PROCESSO SELETIVO ENEM (SISU)",
          "INGRESSO POR PROCESSO SELETIVO ENEM (SISU)",
          "INGRESSO POR PROCESSO SELETIVO ENEM (SISU)",
          "INGRESSO POR PROCESSO SELETIVO ENEM (SISU)",
          "INGRESSO POR PROCESSO SELETIVO ENEM (SISU)",
          "INGRESSO POR PROCESSO SELETIVO ENEM (SISU)",
          "INGRESSO POR PROCESSO SELETIVO ENEM (SISU)",
          "INGRESSO POR VESTIBULAR",
          "INGRESSO POR PROCESSO SELETIVO ENEM (SISU)",
          "INGRESSO POR PROCESSO SELETIVO ENEM (SISU)",
          "INGRESSO POR PROCESSO SELETIVO ENEM (SISU)",
          "INGRESSO POR PROCESSO SELETIVO ENEM (SISU)",
          "INGRESSO POR PROCESSO SELETIVO ENEM (SISU)",
          "INGRESSO POR PROCESSO SELETIVO ENEM (SISU)",
          "INGRESSO POR PROCESSO SELETIVO ENEM (SISU)",
          "INGRESSO POR PROCESSO SELETIVO ENEM (SISU)",
          "INGRESSO POR PROCESSO SELETIVO ENEM (SISU)",
          "INGRESSO POR PROCESSO SELETIVO ENEM (SISU)",
          "INGRESSO POR PROCESSO SELETIVO ENEM (SISU)",
          "INGRESSO POR PROCESSO SELETIVO ENEM (SISU)",
          "INGRESSO POR PROCESSO SELETIVO ENEM (SISU)",
          "INGRESSO POR PROCESSO SELETIVO ENEM (SISU)",
          "INGRESSO POR VESTIBULAR",
          "INGRESSO POR PROCESSO SELETIVO ENEM (SISU)",
          "INGRESSO POR PROCESSO SELETIVO ENEM (SISU)",
          "INGRESSO POR PROCESSO SELETIVO ENEM (SISU)",
          "INGRESSO POR VESTIBULAR",
          "INGRESSO POR VESTIBULAR",
          "INGRESSO POR PROCESSO SELETIVO ENEM (SISU)",
          "INGRESSO POR PROCESSO SELETIVO ENEM (SISU)",
          "INGRESSO POR PROCESSO SELETIVO ENEM (SISU)",
          "INGRESSO POR PROCESSO SELETIVO ENEM (SISU)",
          "INGRESSO POR PROCESSO SELETIVO ENEM (SISU)",
          "INGRESSO POR PROCESSO SELETIVO ENEM (SISU)",
          "INGRESSO POR PROCESSO SELETIVO ENEM (SISU)",
          "INGRESSO POR PROCESSO SELETIVO ENEM (SISU)",
          "INGRESSO POR PROCESSO SELETIVO ENEM (SISU)",
          "INGRESSO POR TRANSFERENCIA COMPULSORIA",
          "INGRESSO POR PROCESSO SELETIVO ENEM (SISU)",
          "INGRESSO POR PROCESSO SELETIVO ENEM (SISU)",
          "INGRESSO POR PROCESSO SELETIVO ENEM (SISU)",
          "INGRESSO POR PROCESSO SELETIVO ENEM (SISU)",
          "INGRESSO POR PROCESSO SELETIVO ENEM (SISU)",
          "INGRESSO POR VESTIBULAR",
          "INGRESSO POR PROCESSO SELETIVO ENEM (SISU)",
          "INGRESSO POR PROCESSO SELETIVO ENEM (SISU)",
          "INGRESSO POR PROCESSO SELETIVO ENEM (SISU)",
          "INGRESSO POR VESTIBULAR",
          "INGRESSO POR PROCESSO SELETIVO ENEM (SISU)",
          "INGRESSO POR PROCESSO SELETIVO ENEM (SISU)",
          "INGRESSO POR PROCESSO SELETIVO ENEM (SISU)",
          "INGRESSO POR PROCESSO SELETIVO ENEM (SISU)",
          "INGRESSO POR PROCESSO SELETIVO ENEM (SISU)",
          "INGRESSO POR PROCESSO SELETIVO ENEM (SISU)",
          "INGRESSO POR PROCESSO SELETIVO ENEM (SISU)",
          "INGRESSO POR PROCESSO SELETIVO ENEM (SISU)",
          "INGRESSO POR PROCESSO SELETIVO ENEM (SISU)",
          "INGRESSO POR PROCESSO SELETIVO ENEM (SISU)",
          "INGRESSO POR PROCESSO SELETIVO ENEM (SISU)",
          "INGRESSO POR PROCESSO SELETIVO ENEM (SISU)",
          "INGRESSO POR PROCESSO SELETIVO ENEM (SISU)",
          "INGRESSO POR PROCESSO SELETIVO ENEM (SISU)",
          "INGRESSO POR VESTIBULAR",
          "INGRESSO POR PROCESSO SELETIVO ENEM (SISU)",
          "INGRESSO POR PROCESSO SELETIVO ENEM (SISU)",
          "INGRESSO POR PROCESSO SELETIVO ENEM (SISU)",
          "INGRESSO POR PROCESSO SELETIVO ENEM (SISU)",
          "INGRESSO POR TRANSFERENCIA DE REGIME",
          "INGRESSO POR PROCESSO SELETIVO ENEM (SISU)",
          "INGRESSO POR TRANSFERENCIA DE REGIME",
          "INGRESSO POR PROCESSO SELETIVO ENEM (SISU)",
          "INGRESSO POR PROCESSO SELETIVO ENEM (SISU)",
          "INGRESSO POR PROCESSO SELETIVO ENEM (SISU)",
          "INGRESSO POR PROCESSO SELETIVO ENEM (SISU)",
          "INGRESSO POR PROCESSO SELETIVO ENEM (SISU)",
          "INGRESSO POR PROCESSO SELETIVO ENEM (SISU)",
          "INGRESSO POR PROCESSO SELETIVO ENEM (SISU)",
          "INGRESSO POR PROCESSO SELETIVO ENEM (SISU)",
          "INGRESSO POR PROCESSO SELETIVO ENEM (SISU)",
          "INGRESSO POR VESTIBULAR",
          "INGRESSO POR PROCESSO SELETIVO ENEM (SISU)",
          "INGRESSO POR PROCESSO SELETIVO ENEM (SISU)",
          "INGRESSO POR PROCESSO SELETIVO ENEM (SISU)",
          "INGRESSO POR PROCESSO SELETIVO ENEM (SISU)",
          "INGRESSO POR PROCESSO SELETIVO ENEM (SISU)",
          "INGRESSO POR PROCESSO SELETIVO ENEM (SISU)",
          "INGRESSO POR PROCESSO SELETIVO ENEM (SISU)",
          "INGRESSO POR PROCESSO SELETIVO ENEM (SISU)",
          "INGRESSO POR CURSO SUPERIOR",
          "INGRESSO POR PROCESSO SELETIVO ENEM (SISU)",
          "INGRESSO POR PROCESSO SELETIVO ENEM (SISU)",
          "INGRESSO POR PROCESSO SELETIVO ENEM (SISU)",
          "INGRESSO POR PROCESSO SELETIVO ENEM (SISU)",
          "INGRESSO POR PROCESSO SELETIVO ENEM (SISU)",
          "INGRESSO POR PROCESSO SELETIVO ENEM (SISU)",
          "INGRESSO POR PROCESSO SELETIVO ESPECÍFICO",
          "INGRESSO POR PROCESSO SELETIVO ENEM (SISU)",
          "INGRESSO POR PROCESSO SELETIVO ENEM (SISU)",
          "INGRESSO POR PROCESSO SELETIVO ENEM (SISU)",
          "INGRESSO POR VESTIBULAR",
          "INGRESSO POR PROCESSO SELETIVO ENEM (SISU)",
          "INGRESSO POR PROCESSO SELETIVO ENEM (SISU)",
          "INGRESSO POR PROCESSO SELETIVO ENEM (SISU)",
          "INGRESSO POR PROCESSO SELETIVO ENEM (SISU)",
          "INGRESSO POR PROCESSO SELETIVO ENEM (SISU)",
          "INGRESSO POR PROCESSO SELETIVO ENEM (SISU)",
          "INGRESSO POR TRANSFERENCIA FACULTATIVA",
          "INGRESSO POR PROCESSO SELETIVO ENEM (SISU)",
          "INGRESSO POR PROCESSO SELETIVO ENEM (SISU)",
          "INGRESSO POR PROCESSO SELETIVO ENEM (SISU)",
          "INGRESSO POR PROCESSO SELETIVO ENEM (SISU)",
          "INGRESSO POR PROCESSO SELETIVO ENEM (SISU)",
          "INGRESSO POR PROCESSO SELETIVO ENEM (SISU)",
          "INGRESSO POR PROCESSO SELETIVO ENEM (SISU)",
          "INGRESSO POR VESTIBULAR",
          "INGRESSO POR PROCESSO SELETIVO ENEM (SISU)",
          "INGRESSO POR PROCESSO SELETIVO ENEM (SISU)",
          "INGRESSO POR CURSO SUPERIOR",
          "INGRESSO POR VESTIBULAR",
          "INGRESSO POR TRANSFERENCIA FACULTATIVA",
          "INGRESSO POR PROCESSO SELETIVO ENEM (SISU)",
          "INGRESSO POR PROCESSO SELETIVO ENEM (SISU)",
          "INGRESSO POR PROCESSO SELETIVO ENEM (SISU)",
          "INGRESSO POR PROCESSO SELETIVO ENEM (SISU)",
          "INGRESSO POR PROCESSO SELETIVO ENEM (SISU)",
          "INGRESSO POR PROCESSO SELETIVO ENEM (SISU)",
          "INGRESSO POR PROCESSO SELETIVO ENEM (SISU)",
          "INGRESSO POR PROCESSO SELETIVO ENEM (SISU)",
          "INGRESSO POR PROCESSO SELETIVO ENEM (SISU)",
          "INGRESSO POR PROCESSO SELETIVO ENEM (SISU)",
          "INGRESSO POR VESTIBULAR",
          "INGRESSO POR TRANSFERENCIA DE REGIME",
          "INGRESSO POR PROCESSO SELETIVO ENEM (SISU)",
          "INGRESSO POR PROCESSO SELETIVO ENEM (SISU)",
          "INGRESSO POR PROCESSO SELETIVO ENEM (SISU)",
          "INGRESSO POR PROCESSO SELETIVO ENEM (SISU)",
          "INGRESSO POR PROCESSO SELETIVO ENEM (SISU)",
          "INGRESSO POR PROCESSO SELETIVO ENEM (SISU)",
          "INGRESSO POR PROCESSO SELETIVO ENEM (SISU)",
          "INGRESSO POR PROCESSO SELETIVO ENEM (SISU)",
          "INGRESSO POR PROCESSO SELETIVO ENEM (SISU)",
          "INGRESSO POR PROCESSO SELETIVO ESPECÍFICO",
          "INGRESSO POR PROCESSO SELETIVO ENEM (SISU)",
          "INGRESSO POR PROCESSO SELETIVO ENEM (SISU)",
          "INGRESSO POR TRANSFERENCIA DE REGIME",
          "INGRESSO POR CURSO SUPERIOR",
          "INGRESSO POR PROCESSO SELETIVO ENEM (SISU)",
          "INGRESSO POR PROCESSO SELETIVO ENEM (SISU)",
          "INGRESSO POR VESTIBULAR",
          "INGRESSO POR PROCESSO SELETIVO ENEM (SISU)",
          "INGRESSO POR PROCESSO SELETIVO ENEM (SISU)",
          "INGRESSO POR PROCESSO SELETIVO ENEM (SISU)",
          "INGRESSO POR PROCESSO SELETIVO ENEM (SISU)",
          "INGRESSO POR VESTIBULAR",
          "INGRESSO POR PROCESSO SELETIVO ENEM (SISU)",
          "INGRESSO POR PROCESSO SELETIVO ENEM (SISU)",
          "INGRESSO POR PROCESSO SELETIVO ENEM (SISU)",
          "INGRESSO POR PROCESSO SELETIVO ENEM (SISU)",
          "INGRESSO POR VESTIBULAR",
          "INGRESSO POR PROCESSO SELETIVO ENEM (SISU)",
          "INGRESSO POR PROCESSO SELETIVO ENEM (SISU)",
          "INGRESSO POR PROCESSO SELETIVO ENEM (SISU)",
          "INGRESSO POR PROCESSO SELETIVO ENEM (SISU)",
          "INGRESSO POR PROCESSO SELETIVO ENEM (SISU)",
          "INGRESSO POR PROCESSO SELETIVO ENEM (SISU)",
          "INGRESSO POR PROCESSO SELETIVO ENEM (SISU)",
          "INGRESSO POR VESTIBULAR",
          "INGRESSO POR PROCESSO SELETIVO ENEM (SISU)",
          "INGRESSO POR PROCESSO SELETIVO ENEM (SISU)",
          "INGRESSO POR PROCESSO SELETIVO ENEM (SISU)",
          "INGRESSO POR TRANSFERENCIA DE REGIME",
          "INGRESSO POR PROCESSO SELETIVO ENEM (SISU)",
          "INGRESSO POR PROCESSO SELETIVO ENEM (SISU)",
          "INGRESSO POR TRANSFERENCIA DE REGIME",
          "INGRESSO POR CURSO SUPERIOR",
          "INGRESSO POR CURSO SUPERIOR",
          "INGRESSO POR PROCESSO SELETIVO ENEM (SISU)",
          "INGRESSO POR VESTIBULAR",
          "INGRESSO POR VESTIBULAR",
          "INGRESSO POR PROCESSO SELETIVO ENEM (SISU)",
          "INGRESSO POR PROCESSO SELETIVO ENEM (SISU)",
          "INGRESSO POR PROCESSO SELETIVO ENEM (SISU)",
          "INGRESSO POR PROCESSO SELETIVO ENEM (SISU)",
          "INGRESSO POR PROCESSO SELETIVO ENEM (SISU)",
          "INGRESSO POR PROCESSO SELETIVO ENEM (SISU)",
          "INGRESSO POR PROCESSO SELETIVO ENEM (SISU)",
          "INGRESSO POR PROCESSO SELETIVO ENEM (SISU)",
          "INGRESSO POR PROCESSO SELETIVO ENEM (SISU)",
          "INGRESSO POR PROCESSO SELETIVO ENEM (SISU)",
          "INGRESSO POR PROCESSO SELETIVO ENEM (SISU)",
          "INGRESSO POR PROCESSO SELETIVO ENEM (SISU)",
          "INGRESSO POR PROCESSO SELETIVO ENEM (SISU)",
          "INGRESSO POR PROCESSO SELETIVO ENEM (SISU)",
          "INGRESSO POR TRANSFERENCIA DE REGIME",
          "INGRESSO POR PROCESSO SELETIVO ESPECÍFICO",
          "INGRESSO POR PROCESSO SELETIVO ENEM (SISU)",
          "INGRESSO POR PROCESSO SELETIVO ENEM (SISU)",
          "INGRESSO POR PROCESSO SELETIVO ENEM (SISU)",
          "INGRESSO POR PROCESSO SELETIVO ENEM (SISU)",
          "INGRESSO POR VESTIBULAR",
          "INGRESSO POR TRANSFERENCIA FACULTATIVA",
          "INGRESSO POR PROCESSO SELETIVO ENEM (SISU)",
          "INGRESSO POR PROCESSO SELETIVO ENEM (SISU)",
          "INGRESSO POR PROCESSO SELETIVO ENEM (SISU)",
          "INGRESSO POR PROCESSO SELETIVO ENEM (SISU)",
          "INGRESSO POR PROCESSO SELETIVO ENEM (SISU)",
          "INGRESSO POR TRANSFERENCIA FACULTATIVA",
          "INGRESSO POR TRANSFERENCIA DE REGIME",
          "INGRESSO POR PROCESSO SELETIVO ENEM (SISU)",
          "INGRESSO POR VESTIBULAR",
          "INGRESSO POR TRANSFERENCIA DE REGIME",
          "INGRESSO POR PROCESSO SELETIVO ENEM (SISU)",
          "INGRESSO POR PROCESSO SELETIVO ENEM (SISU)",
          "INGRESSO POR PROCESSO SELETIVO ENEM (SISU)",
          "INGRESSO POR TRANSFERENCIA DE REGIME",
          "INGRESSO POR PROCESSO SELETIVO ENEM (SISU)",
          "INGRESSO POR PROCESSO SELETIVO ENEM (SISU)",
          "INGRESSO POR VESTIBULAR",
          "INGRESSO POR PROCESSO SELETIVO ENEM (SISU)",
          "INGRESSO POR PROCESSO SELETIVO ENEM (SISU)",
          "INGRESSO POR PROCESSO SELETIVO ENEM (SISU)",
          "INGRESSO POR PROCESSO SELETIVO ENEM (SISU)",
          "INGRESSO POR PROCESSO SELETIVO ENEM (SISU)",
          "INGRESSO POR VESTIBULAR",
          "INGRESSO POR PROCESSO SELETIVO ENEM (SISU)",
          "INGRESSO POR PROCESSO SELETIVO ENEM (SISU)",
          "INGRESSO POR PROCESSO SELETIVO ENEM (SISU)",
          "INGRESSO POR PROCESSO SELETIVO ENEM (SISU)",
          "INGRESSO POR PROCESSO SELETIVO ENEM (SISU)",
          "INGRESSO POR PROCESSO SELETIVO ENEM (SISU)",
          "INGRESSO POR PROCESSO SELETIVO ENEM (SISU)",
          "INGRESSO POR PROCESSO SELETIVO ENEM (SISU)",
          "INGRESSO POR TRANSFERENCIA DE REGIME",
          "INGRESSO POR PROCESSO SELETIVO ENEM (SISU)",
          "INGRESSO POR PROCESSO SELETIVO ENEM (SISU)",
          "INGRESSO POR PROCESSO SELETIVO ENEM (SISU)",
          "INGRESSO POR PROCESSO SELETIVO ENEM (SISU)",
          "INGRESSO POR PROCESSO SELETIVO ENEM (SISU)",
          "INGRESSO POR PROCESSO SELETIVO ENEM (SISU)"
         ],
         "legendgroup": "",
         "name": "",
         "showlegend": true,
         "type": "pie"
        }
       ],
       "layout": {
        "annotations": [
         {
          "font": {},
          "showarrow": false,
          "text": "dataset=Finished",
          "x": 0.245,
          "xanchor": "center",
          "xref": "paper",
          "y": 1,
          "yanchor": "bottom",
          "yref": "paper"
         },
         {
          "font": {},
          "showarrow": false,
          "text": "dataset=Deactive",
          "x": 0.755,
          "xanchor": "center",
          "xref": "paper",
          "y": 1,
          "yanchor": "bottom",
          "yref": "paper"
         }
        ],
        "font": {
         "color": "Black",
         "family": "Courier New, monospace",
         "size": 18,
         "variant": "small-caps"
        },
        "legend": {
         "tracegroupgap": 0
        },
        "margin": {
         "t": 60
        },
        "template": {
         "data": {
          "bar": [
           {
            "error_x": {
             "color": "#2a3f5f"
            },
            "error_y": {
             "color": "#2a3f5f"
            },
            "marker": {
             "line": {
              "color": "#E5ECF6",
              "width": 0.5
             },
             "pattern": {
              "fillmode": "overlay",
              "size": 10,
              "solidity": 0.2
             }
            },
            "type": "bar"
           }
          ],
          "barpolar": [
           {
            "marker": {
             "line": {
              "color": "#E5ECF6",
              "width": 0.5
             },
             "pattern": {
              "fillmode": "overlay",
              "size": 10,
              "solidity": 0.2
             }
            },
            "type": "barpolar"
           }
          ],
          "carpet": [
           {
            "aaxis": {
             "endlinecolor": "#2a3f5f",
             "gridcolor": "white",
             "linecolor": "white",
             "minorgridcolor": "white",
             "startlinecolor": "#2a3f5f"
            },
            "baxis": {
             "endlinecolor": "#2a3f5f",
             "gridcolor": "white",
             "linecolor": "white",
             "minorgridcolor": "white",
             "startlinecolor": "#2a3f5f"
            },
            "type": "carpet"
           }
          ],
          "choropleth": [
           {
            "colorbar": {
             "outlinewidth": 0,
             "ticks": ""
            },
            "type": "choropleth"
           }
          ],
          "contour": [
           {
            "colorbar": {
             "outlinewidth": 0,
             "ticks": ""
            },
            "colorscale": [
             [
              0,
              "#0d0887"
             ],
             [
              0.1111111111111111,
              "#46039f"
             ],
             [
              0.2222222222222222,
              "#7201a8"
             ],
             [
              0.3333333333333333,
              "#9c179e"
             ],
             [
              0.4444444444444444,
              "#bd3786"
             ],
             [
              0.5555555555555556,
              "#d8576b"
             ],
             [
              0.6666666666666666,
              "#ed7953"
             ],
             [
              0.7777777777777778,
              "#fb9f3a"
             ],
             [
              0.8888888888888888,
              "#fdca26"
             ],
             [
              1,
              "#f0f921"
             ]
            ],
            "type": "contour"
           }
          ],
          "contourcarpet": [
           {
            "colorbar": {
             "outlinewidth": 0,
             "ticks": ""
            },
            "type": "contourcarpet"
           }
          ],
          "heatmap": [
           {
            "colorbar": {
             "outlinewidth": 0,
             "ticks": ""
            },
            "colorscale": [
             [
              0,
              "#0d0887"
             ],
             [
              0.1111111111111111,
              "#46039f"
             ],
             [
              0.2222222222222222,
              "#7201a8"
             ],
             [
              0.3333333333333333,
              "#9c179e"
             ],
             [
              0.4444444444444444,
              "#bd3786"
             ],
             [
              0.5555555555555556,
              "#d8576b"
             ],
             [
              0.6666666666666666,
              "#ed7953"
             ],
             [
              0.7777777777777778,
              "#fb9f3a"
             ],
             [
              0.8888888888888888,
              "#fdca26"
             ],
             [
              1,
              "#f0f921"
             ]
            ],
            "type": "heatmap"
           }
          ],
          "histogram": [
           {
            "marker": {
             "pattern": {
              "fillmode": "overlay",
              "size": 10,
              "solidity": 0.2
             }
            },
            "type": "histogram"
           }
          ],
          "histogram2d": [
           {
            "colorbar": {
             "outlinewidth": 0,
             "ticks": ""
            },
            "colorscale": [
             [
              0,
              "#0d0887"
             ],
             [
              0.1111111111111111,
              "#46039f"
             ],
             [
              0.2222222222222222,
              "#7201a8"
             ],
             [
              0.3333333333333333,
              "#9c179e"
             ],
             [
              0.4444444444444444,
              "#bd3786"
             ],
             [
              0.5555555555555556,
              "#d8576b"
             ],
             [
              0.6666666666666666,
              "#ed7953"
             ],
             [
              0.7777777777777778,
              "#fb9f3a"
             ],
             [
              0.8888888888888888,
              "#fdca26"
             ],
             [
              1,
              "#f0f921"
             ]
            ],
            "type": "histogram2d"
           }
          ],
          "histogram2dcontour": [
           {
            "colorbar": {
             "outlinewidth": 0,
             "ticks": ""
            },
            "colorscale": [
             [
              0,
              "#0d0887"
             ],
             [
              0.1111111111111111,
              "#46039f"
             ],
             [
              0.2222222222222222,
              "#7201a8"
             ],
             [
              0.3333333333333333,
              "#9c179e"
             ],
             [
              0.4444444444444444,
              "#bd3786"
             ],
             [
              0.5555555555555556,
              "#d8576b"
             ],
             [
              0.6666666666666666,
              "#ed7953"
             ],
             [
              0.7777777777777778,
              "#fb9f3a"
             ],
             [
              0.8888888888888888,
              "#fdca26"
             ],
             [
              1,
              "#f0f921"
             ]
            ],
            "type": "histogram2dcontour"
           }
          ],
          "mesh3d": [
           {
            "colorbar": {
             "outlinewidth": 0,
             "ticks": ""
            },
            "type": "mesh3d"
           }
          ],
          "parcoords": [
           {
            "line": {
             "colorbar": {
              "outlinewidth": 0,
              "ticks": ""
             }
            },
            "type": "parcoords"
           }
          ],
          "pie": [
           {
            "automargin": true,
            "type": "pie"
           }
          ],
          "scatter": [
           {
            "fillpattern": {
             "fillmode": "overlay",
             "size": 10,
             "solidity": 0.2
            },
            "type": "scatter"
           }
          ],
          "scatter3d": [
           {
            "line": {
             "colorbar": {
              "outlinewidth": 0,
              "ticks": ""
             }
            },
            "marker": {
             "colorbar": {
              "outlinewidth": 0,
              "ticks": ""
             }
            },
            "type": "scatter3d"
           }
          ],
          "scattercarpet": [
           {
            "marker": {
             "colorbar": {
              "outlinewidth": 0,
              "ticks": ""
             }
            },
            "type": "scattercarpet"
           }
          ],
          "scattergeo": [
           {
            "marker": {
             "colorbar": {
              "outlinewidth": 0,
              "ticks": ""
             }
            },
            "type": "scattergeo"
           }
          ],
          "scattergl": [
           {
            "marker": {
             "colorbar": {
              "outlinewidth": 0,
              "ticks": ""
             }
            },
            "type": "scattergl"
           }
          ],
          "scattermap": [
           {
            "marker": {
             "colorbar": {
              "outlinewidth": 0,
              "ticks": ""
             }
            },
            "type": "scattermap"
           }
          ],
          "scattermapbox": [
           {
            "marker": {
             "colorbar": {
              "outlinewidth": 0,
              "ticks": ""
             }
            },
            "type": "scattermapbox"
           }
          ],
          "scatterpolar": [
           {
            "marker": {
             "colorbar": {
              "outlinewidth": 0,
              "ticks": ""
             }
            },
            "type": "scatterpolar"
           }
          ],
          "scatterpolargl": [
           {
            "marker": {
             "colorbar": {
              "outlinewidth": 0,
              "ticks": ""
             }
            },
            "type": "scatterpolargl"
           }
          ],
          "scatterternary": [
           {
            "marker": {
             "colorbar": {
              "outlinewidth": 0,
              "ticks": ""
             }
            },
            "type": "scatterternary"
           }
          ],
          "surface": [
           {
            "colorbar": {
             "outlinewidth": 0,
             "ticks": ""
            },
            "colorscale": [
             [
              0,
              "#0d0887"
             ],
             [
              0.1111111111111111,
              "#46039f"
             ],
             [
              0.2222222222222222,
              "#7201a8"
             ],
             [
              0.3333333333333333,
              "#9c179e"
             ],
             [
              0.4444444444444444,
              "#bd3786"
             ],
             [
              0.5555555555555556,
              "#d8576b"
             ],
             [
              0.6666666666666666,
              "#ed7953"
             ],
             [
              0.7777777777777778,
              "#fb9f3a"
             ],
             [
              0.8888888888888888,
              "#fdca26"
             ],
             [
              1,
              "#f0f921"
             ]
            ],
            "type": "surface"
           }
          ],
          "table": [
           {
            "cells": {
             "fill": {
              "color": "#EBF0F8"
             },
             "line": {
              "color": "white"
             }
            },
            "header": {
             "fill": {
              "color": "#C8D4E3"
             },
             "line": {
              "color": "white"
             }
            },
            "type": "table"
           }
          ]
         },
         "layout": {
          "annotationdefaults": {
           "arrowcolor": "#2a3f5f",
           "arrowhead": 0,
           "arrowwidth": 1
          },
          "autotypenumbers": "strict",
          "coloraxis": {
           "colorbar": {
            "outlinewidth": 0,
            "ticks": ""
           }
          },
          "colorscale": {
           "diverging": [
            [
             0,
             "#8e0152"
            ],
            [
             0.1,
             "#c51b7d"
            ],
            [
             0.2,
             "#de77ae"
            ],
            [
             0.3,
             "#f1b6da"
            ],
            [
             0.4,
             "#fde0ef"
            ],
            [
             0.5,
             "#f7f7f7"
            ],
            [
             0.6,
             "#e6f5d0"
            ],
            [
             0.7,
             "#b8e186"
            ],
            [
             0.8,
             "#7fbc41"
            ],
            [
             0.9,
             "#4d9221"
            ],
            [
             1,
             "#276419"
            ]
           ],
           "sequential": [
            [
             0,
             "#0d0887"
            ],
            [
             0.1111111111111111,
             "#46039f"
            ],
            [
             0.2222222222222222,
             "#7201a8"
            ],
            [
             0.3333333333333333,
             "#9c179e"
            ],
            [
             0.4444444444444444,
             "#bd3786"
            ],
            [
             0.5555555555555556,
             "#d8576b"
            ],
            [
             0.6666666666666666,
             "#ed7953"
            ],
            [
             0.7777777777777778,
             "#fb9f3a"
            ],
            [
             0.8888888888888888,
             "#fdca26"
            ],
            [
             1,
             "#f0f921"
            ]
           ],
           "sequentialminus": [
            [
             0,
             "#0d0887"
            ],
            [
             0.1111111111111111,
             "#46039f"
            ],
            [
             0.2222222222222222,
             "#7201a8"
            ],
            [
             0.3333333333333333,
             "#9c179e"
            ],
            [
             0.4444444444444444,
             "#bd3786"
            ],
            [
             0.5555555555555556,
             "#d8576b"
            ],
            [
             0.6666666666666666,
             "#ed7953"
            ],
            [
             0.7777777777777778,
             "#fb9f3a"
            ],
            [
             0.8888888888888888,
             "#fdca26"
            ],
            [
             1,
             "#f0f921"
            ]
           ]
          },
          "colorway": [
           "#636efa",
           "#EF553B",
           "#00cc96",
           "#ab63fa",
           "#FFA15A",
           "#19d3f3",
           "#FF6692",
           "#B6E880",
           "#FF97FF",
           "#FECB52"
          ],
          "font": {
           "color": "#2a3f5f"
          },
          "geo": {
           "bgcolor": "white",
           "lakecolor": "white",
           "landcolor": "#E5ECF6",
           "showlakes": true,
           "showland": true,
           "subunitcolor": "white"
          },
          "hoverlabel": {
           "align": "left"
          },
          "hovermode": "closest",
          "mapbox": {
           "style": "light"
          },
          "paper_bgcolor": "white",
          "plot_bgcolor": "#E5ECF6",
          "polar": {
           "angularaxis": {
            "gridcolor": "white",
            "linecolor": "white",
            "ticks": ""
           },
           "bgcolor": "#E5ECF6",
           "radialaxis": {
            "gridcolor": "white",
            "linecolor": "white",
            "ticks": ""
           }
          },
          "scene": {
           "xaxis": {
            "backgroundcolor": "#E5ECF6",
            "gridcolor": "white",
            "gridwidth": 2,
            "linecolor": "white",
            "showbackground": true,
            "ticks": "",
            "zerolinecolor": "white"
           },
           "yaxis": {
            "backgroundcolor": "#E5ECF6",
            "gridcolor": "white",
            "gridwidth": 2,
            "linecolor": "white",
            "showbackground": true,
            "ticks": "",
            "zerolinecolor": "white"
           },
           "zaxis": {
            "backgroundcolor": "#E5ECF6",
            "gridcolor": "white",
            "gridwidth": 2,
            "linecolor": "white",
            "showbackground": true,
            "ticks": "",
            "zerolinecolor": "white"
           }
          },
          "shapedefaults": {
           "line": {
            "color": "#2a3f5f"
           }
          },
          "ternary": {
           "aaxis": {
            "gridcolor": "white",
            "linecolor": "white",
            "ticks": ""
           },
           "baxis": {
            "gridcolor": "white",
            "linecolor": "white",
            "ticks": ""
           },
           "bgcolor": "#E5ECF6",
           "caxis": {
            "gridcolor": "white",
            "linecolor": "white",
            "ticks": ""
           }
          },
          "title": {
           "x": 0.05
          },
          "xaxis": {
           "automargin": true,
           "gridcolor": "white",
           "linecolor": "white",
           "ticks": "",
           "title": {
            "standoff": 15
           },
           "zerolinecolor": "white",
           "zerolinewidth": 2
          },
          "yaxis": {
           "automargin": true,
           "gridcolor": "white",
           "linecolor": "white",
           "ticks": "",
           "title": {
            "standoff": 15
           },
           "zerolinecolor": "white",
           "zerolinewidth": 2
          }
         }
        },
        "title": {
         "text": "Application "
        }
       }
      }
     },
     "metadata": {},
     "output_type": "display_data"
    },
    {
     "data": {
      "application/vnd.plotly.v1+json": {
       "config": {
        "plotlyServerURL": "https://plot.ly"
       },
       "data": [
        {
         "domain": {
          "x": [
           0,
           0.49
          ],
          "y": [
           0,
           1
          ]
         },
         "hole": 0.3,
         "hovertemplate": "dataset=Finished<br>Raça=%{label}<extra></extra>",
         "labels": [
          "Pardo(a),Mulato(a)",
          "Pardo(a),Mulato(a)",
          "Branca",
          "Pardo(a),Mulato(a)",
          "Amarela",
          "Amarela",
          "Branca",
          "Branca",
          "Branca",
          "Pardo(a),Mulato(a)",
          "Branca",
          "Pardo(a),Mulato(a)",
          "Pardo(a),Mulato(a)",
          "Pardo(a),Mulato(a)",
          "Pardo(a),Mulato(a)",
          "Branca",
          "Pardo(a),Mulato(a)",
          "Branca",
          "Pardo(a),Mulato(a)",
          "Negra",
          "Branca",
          "Pardo(a),Mulato(a)",
          "Branca",
          "Branca",
          "Negra",
          "Branca",
          "Pardo(a),Mulato(a)",
          "Branca",
          "Amarela",
          "Branca",
          "Branca",
          "Não Informado",
          "Pardo(a),Mulato(a)",
          "Pardo(a),Mulato(a)",
          "Pardo(a),Mulato(a)",
          "Pardo(a),Mulato(a)",
          "Amarela",
          "Negra",
          "Pardo(a),Mulato(a)",
          "Negra",
          "Pardo(a),Mulato(a)",
          "Pardo(a),Mulato(a)",
          "Pardo(a),Mulato(a)",
          "Pardo(a),Mulato(a)",
          "Branca",
          "Branca",
          "Pardo(a),Mulato(a)",
          "Branca",
          "Pardo(a),Mulato(a)",
          "Branca",
          "Pardo(a),Mulato(a)",
          "Pardo(a),Mulato(a)",
          "Branca",
          "Branca",
          "Branca",
          "Pardo(a),Mulato(a)",
          "Pardo(a),Mulato(a)",
          "Pardo(a),Mulato(a)",
          "Branca",
          "Branca",
          "Branca",
          "Branca",
          "Pardo(a),Mulato(a)",
          "Amarela",
          "Pardo(a),Mulato(a)",
          "Branca",
          "Pardo(a),Mulato(a)",
          "Não Informado",
          "Pardo(a),Mulato(a)",
          "Branca",
          "Branca",
          "Pardo(a),Mulato(a)",
          "Branca",
          "Branca",
          "Branca",
          "Pardo(a),Mulato(a)",
          "Branca",
          "Negra",
          "Branca",
          "Branca",
          "Negra",
          "Branca",
          "Branca",
          "Pardo(a),Mulato(a)",
          "Branca",
          "Não Informado",
          "Pardo(a),Mulato(a)",
          "Pardo(a),Mulato(a)",
          "Pardo(a),Mulato(a)",
          "Pardo(a),Mulato(a)",
          "Negra",
          "Branca",
          "Não Informado",
          "Negra",
          "Pardo(a),Mulato(a)",
          "Branca",
          "Pardo(a),Mulato(a)",
          "Branca",
          "Pardo(a),Mulato(a)",
          "Pardo(a),Mulato(a)",
          "Negra",
          "Pardo(a),Mulato(a)",
          "Branca",
          "Pardo(a),Mulato(a)",
          "Branca",
          "Pardo(a),Mulato(a)",
          "Negra",
          "Negra",
          "Pardo(a),Mulato(a)",
          "Branca",
          "Pardo(a),Mulato(a)"
         ],
         "legendgroup": "",
         "name": "",
         "showlegend": true,
         "type": "pie"
        },
        {
         "domain": {
          "x": [
           0.51,
           1
          ],
          "y": [
           0,
           1
          ]
         },
         "hole": 0.3,
         "hovertemplate": "dataset=Deactive<br>Raça=%{label}<extra></extra>",
         "labels": [
          "Branca",
          "Negra",
          "Branca",
          "Pardo(a),Mulato(a)",
          "Branca",
          "Branca",
          "Amarela",
          "Pardo(a),Mulato(a)",
          "Branca",
          "Não Informado",
          "Pardo(a),Mulato(a)",
          "Pardo(a),Mulato(a)",
          "Branca",
          "Pardo(a),Mulato(a)",
          "Branca",
          "Pardo(a),Mulato(a)",
          "Negra",
          "Pardo(a),Mulato(a)",
          "Negra",
          "Branca",
          "Pardo(a),Mulato(a)",
          "Pardo(a),Mulato(a)",
          "Pardo(a),Mulato(a)",
          "Pardo(a),Mulato(a)",
          "Não Informado",
          "Pardo(a),Mulato(a)",
          "Branca",
          "Pardo(a),Mulato(a)",
          "Branca",
          "Pardo(a),Mulato(a)",
          "Branca",
          "Pardo(a),Mulato(a)",
          "Branca",
          "Branca",
          "Branca",
          "Branca",
          "Branca",
          "Pardo(a),Mulato(a)",
          "Branca",
          "Branca",
          "Pardo(a),Mulato(a)",
          "Negra",
          "Não Informado",
          "Não Informado",
          "Branca",
          "Pardo(a),Mulato(a)",
          "Branca",
          "Amarela",
          "Pardo(a),Mulato(a)",
          "Pardo(a),Mulato(a)",
          "Branca",
          "Pardo(a),Mulato(a)",
          "Não Informado",
          "Pardo(a),Mulato(a)",
          "Branca",
          "Não Informado",
          "Não Informado",
          "Branca",
          "Pardo(a),Mulato(a)",
          "Pardo(a),Mulato(a)",
          "Branca",
          "Pardo(a),Mulato(a)",
          "Não Informado",
          "Não Informado",
          "Pardo(a),Mulato(a)",
          "Pardo(a),Mulato(a)",
          "Não Informado",
          "Amarela",
          "Branca",
          "Branca",
          "Pardo(a),Mulato(a)",
          "Pardo(a),Mulato(a)",
          "Branca",
          "Não Informado",
          "Branca",
          "Pardo(a),Mulato(a)",
          "Pardo(a),Mulato(a)",
          "Pardo(a),Mulato(a)",
          "Pardo(a),Mulato(a)",
          "Negra",
          "Negra",
          "Branca",
          "Pardo(a),Mulato(a)",
          "Amarela",
          "Pardo(a),Mulato(a)",
          "Branca",
          "Pardo(a),Mulato(a)",
          "Pardo(a),Mulato(a)",
          "Pardo(a),Mulato(a)",
          "Pardo(a),Mulato(a)",
          "Branca",
          "Pardo(a),Mulato(a)",
          "Pardo(a),Mulato(a)",
          "Pardo(a),Mulato(a)",
          "Branca",
          "Não Informado",
          "Pardo(a),Mulato(a)",
          "Branca",
          "Branca",
          "Branca",
          "Branca",
          "Branca",
          "Pardo(a),Mulato(a)",
          "Pardo(a),Mulato(a)",
          "Pardo(a),Mulato(a)",
          "Branca",
          "Pardo(a),Mulato(a)",
          "Branca",
          "Pardo(a),Mulato(a)",
          "Branca",
          "Pardo(a),Mulato(a)",
          "Branca",
          "Branca",
          "Pardo(a),Mulato(a)",
          "Branca",
          "Branca",
          "Branca",
          "Branca",
          "Não Informado",
          "Branca",
          "Amarela",
          "Branca",
          "Pardo(a),Mulato(a)",
          "Pardo(a),Mulato(a)",
          "Pardo(a),Mulato(a)",
          "Pardo(a),Mulato(a)",
          "Branca",
          "Pardo(a),Mulato(a)",
          "Branca",
          "Negra",
          "Branca",
          "Branca",
          "Branca",
          "Branca",
          "Pardo(a),Mulato(a)",
          "Pardo(a),Mulato(a)",
          "Branca",
          "Amarela",
          "Amarela",
          "Branca",
          "Pardo(a),Mulato(a)",
          "Pardo(a),Mulato(a)",
          "Não Informado",
          "Branca",
          "Não Informado",
          "Pardo(a),Mulato(a)",
          "Negra",
          "Não Informado",
          "Branca",
          "Branca",
          "Branca",
          "Branca",
          "Branca",
          "Pardo(a),Mulato(a)",
          "Pardo(a),Mulato(a)",
          "Negra",
          "Negra",
          "Negra",
          "Pardo(a),Mulato(a)",
          "Branca",
          "Indígena",
          "Branca",
          "Pardo(a),Mulato(a)",
          "Negra",
          "Branca",
          "Negra",
          "Pardo(a),Mulato(a)",
          "Branca",
          "Pardo(a),Mulato(a)",
          "Pardo(a),Mulato(a)",
          "Não Informado",
          "Branca",
          "Pardo(a),Mulato(a)",
          "Branca",
          "Pardo(a),Mulato(a)",
          "Pardo(a),Mulato(a)",
          "Branca",
          "Pardo(a),Mulato(a)",
          "Branca",
          "Pardo(a),Mulato(a)",
          "Pardo(a),Mulato(a)",
          "Branca",
          "Pardo(a),Mulato(a)",
          "Negra",
          "Pardo(a),Mulato(a)",
          "Não Informado",
          "Branca",
          "Pardo(a),Mulato(a)",
          "Pardo(a),Mulato(a)",
          "Pardo(a),Mulato(a)",
          "Negra",
          "Branca",
          "Pardo(a),Mulato(a)",
          "Branca",
          "Branca",
          "Não Informado",
          "Pardo(a),Mulato(a)",
          "Branca",
          "Branca",
          "Pardo(a),Mulato(a)",
          "Branca",
          "Pardo(a),Mulato(a)",
          "Pardo(a),Mulato(a)",
          "Pardo(a),Mulato(a)",
          "Branca",
          "Pardo(a),Mulato(a)",
          "Pardo(a),Mulato(a)",
          "Branca",
          "Pardo(a),Mulato(a)",
          "Negra",
          "Não Informado",
          "Branca",
          "Pardo(a),Mulato(a)",
          "Amarela",
          "Amarela",
          "Não Informado",
          "Branca",
          "Branca",
          "Branca",
          "Não Informado",
          "Branca",
          "Branca",
          "Pardo(a),Mulato(a)",
          "Branca",
          "Pardo(a),Mulato(a)",
          "Pardo(a),Mulato(a)",
          "Pardo(a),Mulato(a)",
          "Amarela",
          "Negra",
          "Pardo(a),Mulato(a)",
          "Pardo(a),Mulato(a)",
          "Branca",
          "Pardo(a),Mulato(a)",
          "Branca",
          "Branca",
          "Não Informado",
          "Não Informado",
          "Pardo(a),Mulato(a)",
          "Branca",
          "Branca",
          "Pardo(a),Mulato(a)",
          "Negra",
          "Branca",
          "Branca",
          "Branca",
          "Pardo(a),Mulato(a)",
          "Branca",
          "Branca",
          "Branca",
          "Pardo(a),Mulato(a)",
          "Pardo(a),Mulato(a)",
          "Branca",
          "Pardo(a),Mulato(a)",
          "Negra",
          "Negra",
          "Pardo(a),Mulato(a)",
          "Branca",
          "Pardo(a),Mulato(a)",
          "Branca",
          "Pardo(a),Mulato(a)",
          "Pardo(a),Mulato(a)",
          "Pardo(a),Mulato(a)",
          "Pardo(a),Mulato(a)",
          "Pardo(a),Mulato(a)",
          "Branca",
          "Branca",
          "Não Informado",
          "Negra",
          "Branca",
          "Pardo(a),Mulato(a)",
          "Não Informado",
          "Pardo(a),Mulato(a)",
          "Branca",
          "Pardo(a),Mulato(a)",
          "Pardo(a),Mulato(a)",
          "Pardo(a),Mulato(a)",
          "Branca",
          "Negra",
          "Não Informado",
          "Branca",
          "Branca",
          "Pardo(a),Mulato(a)",
          "Pardo(a),Mulato(a)",
          "Branca",
          "Pardo(a),Mulato(a)",
          "Branca",
          "Negra",
          "Branca",
          "Pardo(a),Mulato(a)",
          "Pardo(a),Mulato(a)",
          "Pardo(a),Mulato(a)",
          "Pardo(a),Mulato(a)",
          "Não Informado",
          "Pardo(a),Mulato(a)",
          "Não Informado",
          "Branca",
          "Branca",
          "Branca",
          "Branca",
          "Branca",
          "Pardo(a),Mulato(a)",
          "Não Informado",
          "Não Informado",
          "Negra",
          "Branca",
          "Negra",
          "Branca",
          "Branca",
          "Branca",
          "Branca",
          "Branca",
          "Pardo(a),Mulato(a)",
          "Branca",
          "Amarela",
          "Pardo(a),Mulato(a)",
          "Pardo(a),Mulato(a)",
          "Branca",
          "Pardo(a),Mulato(a)",
          "Não Informado",
          "Amarela",
          "Branca",
          "Branca",
          "Pardo(a),Mulato(a)",
          "Branca",
          "Pardo(a),Mulato(a)",
          "Pardo(a),Mulato(a)",
          "Pardo(a),Mulato(a)",
          "Pardo(a),Mulato(a)",
          "Pardo(a),Mulato(a)",
          "Pardo(a),Mulato(a)",
          "Branca",
          "Pardo(a),Mulato(a)",
          "Branca",
          "Branca",
          "Branca",
          "Pardo(a),Mulato(a)",
          "Branca",
          "Amarela",
          "Pardo(a),Mulato(a)",
          "Pardo(a),Mulato(a)",
          "Branca",
          "Não Informado",
          "Pardo(a),Mulato(a)",
          "Pardo(a),Mulato(a)",
          "Pardo(a),Mulato(a)",
          "Não Informado",
          "Pardo(a),Mulato(a)",
          "Branca",
          "Branca",
          "Pardo(a),Mulato(a)",
          "Branca",
          "Pardo(a),Mulato(a)",
          "Pardo(a),Mulato(a)",
          "Não Informado",
          "Pardo(a),Mulato(a)",
          "Não Informado",
          "Negra",
          "Branca",
          "Não Informado",
          "Não Informado",
          "Pardo(a),Mulato(a)",
          "Branca",
          "Não Informado",
          "Branca",
          "Branca",
          "Negra",
          "Pardo(a),Mulato(a)",
          "Negra",
          "Branca",
          "Negra",
          "Branca",
          "Pardo(a),Mulato(a)",
          "Branca",
          "Pardo(a),Mulato(a)",
          "Negra",
          "Pardo(a),Mulato(a)",
          "Pardo(a),Mulato(a)",
          "Amarela",
          "Pardo(a),Mulato(a)",
          "Branca",
          "Não Informado",
          "Negra",
          "Negra",
          "Negra",
          "Branca",
          "Pardo(a),Mulato(a)",
          "Branca"
         ],
         "legendgroup": "",
         "name": "",
         "showlegend": true,
         "type": "pie"
        }
       ],
       "layout": {
        "annotations": [
         {
          "font": {},
          "showarrow": false,
          "text": "dataset=Finished",
          "x": 0.245,
          "xanchor": "center",
          "xref": "paper",
          "y": 1,
          "yanchor": "bottom",
          "yref": "paper"
         },
         {
          "font": {},
          "showarrow": false,
          "text": "dataset=Deactive",
          "x": 0.755,
          "xanchor": "center",
          "xref": "paper",
          "y": 1,
          "yanchor": "bottom",
          "yref": "paper"
         }
        ],
        "font": {
         "color": "Black",
         "family": "Courier New, monospace",
         "size": 18,
         "variant": "small-caps"
        },
        "legend": {
         "tracegroupgap": 0
        },
        "margin": {
         "t": 60
        },
        "template": {
         "data": {
          "bar": [
           {
            "error_x": {
             "color": "#2a3f5f"
            },
            "error_y": {
             "color": "#2a3f5f"
            },
            "marker": {
             "line": {
              "color": "#E5ECF6",
              "width": 0.5
             },
             "pattern": {
              "fillmode": "overlay",
              "size": 10,
              "solidity": 0.2
             }
            },
            "type": "bar"
           }
          ],
          "barpolar": [
           {
            "marker": {
             "line": {
              "color": "#E5ECF6",
              "width": 0.5
             },
             "pattern": {
              "fillmode": "overlay",
              "size": 10,
              "solidity": 0.2
             }
            },
            "type": "barpolar"
           }
          ],
          "carpet": [
           {
            "aaxis": {
             "endlinecolor": "#2a3f5f",
             "gridcolor": "white",
             "linecolor": "white",
             "minorgridcolor": "white",
             "startlinecolor": "#2a3f5f"
            },
            "baxis": {
             "endlinecolor": "#2a3f5f",
             "gridcolor": "white",
             "linecolor": "white",
             "minorgridcolor": "white",
             "startlinecolor": "#2a3f5f"
            },
            "type": "carpet"
           }
          ],
          "choropleth": [
           {
            "colorbar": {
             "outlinewidth": 0,
             "ticks": ""
            },
            "type": "choropleth"
           }
          ],
          "contour": [
           {
            "colorbar": {
             "outlinewidth": 0,
             "ticks": ""
            },
            "colorscale": [
             [
              0,
              "#0d0887"
             ],
             [
              0.1111111111111111,
              "#46039f"
             ],
             [
              0.2222222222222222,
              "#7201a8"
             ],
             [
              0.3333333333333333,
              "#9c179e"
             ],
             [
              0.4444444444444444,
              "#bd3786"
             ],
             [
              0.5555555555555556,
              "#d8576b"
             ],
             [
              0.6666666666666666,
              "#ed7953"
             ],
             [
              0.7777777777777778,
              "#fb9f3a"
             ],
             [
              0.8888888888888888,
              "#fdca26"
             ],
             [
              1,
              "#f0f921"
             ]
            ],
            "type": "contour"
           }
          ],
          "contourcarpet": [
           {
            "colorbar": {
             "outlinewidth": 0,
             "ticks": ""
            },
            "type": "contourcarpet"
           }
          ],
          "heatmap": [
           {
            "colorbar": {
             "outlinewidth": 0,
             "ticks": ""
            },
            "colorscale": [
             [
              0,
              "#0d0887"
             ],
             [
              0.1111111111111111,
              "#46039f"
             ],
             [
              0.2222222222222222,
              "#7201a8"
             ],
             [
              0.3333333333333333,
              "#9c179e"
             ],
             [
              0.4444444444444444,
              "#bd3786"
             ],
             [
              0.5555555555555556,
              "#d8576b"
             ],
             [
              0.6666666666666666,
              "#ed7953"
             ],
             [
              0.7777777777777778,
              "#fb9f3a"
             ],
             [
              0.8888888888888888,
              "#fdca26"
             ],
             [
              1,
              "#f0f921"
             ]
            ],
            "type": "heatmap"
           }
          ],
          "histogram": [
           {
            "marker": {
             "pattern": {
              "fillmode": "overlay",
              "size": 10,
              "solidity": 0.2
             }
            },
            "type": "histogram"
           }
          ],
          "histogram2d": [
           {
            "colorbar": {
             "outlinewidth": 0,
             "ticks": ""
            },
            "colorscale": [
             [
              0,
              "#0d0887"
             ],
             [
              0.1111111111111111,
              "#46039f"
             ],
             [
              0.2222222222222222,
              "#7201a8"
             ],
             [
              0.3333333333333333,
              "#9c179e"
             ],
             [
              0.4444444444444444,
              "#bd3786"
             ],
             [
              0.5555555555555556,
              "#d8576b"
             ],
             [
              0.6666666666666666,
              "#ed7953"
             ],
             [
              0.7777777777777778,
              "#fb9f3a"
             ],
             [
              0.8888888888888888,
              "#fdca26"
             ],
             [
              1,
              "#f0f921"
             ]
            ],
            "type": "histogram2d"
           }
          ],
          "histogram2dcontour": [
           {
            "colorbar": {
             "outlinewidth": 0,
             "ticks": ""
            },
            "colorscale": [
             [
              0,
              "#0d0887"
             ],
             [
              0.1111111111111111,
              "#46039f"
             ],
             [
              0.2222222222222222,
              "#7201a8"
             ],
             [
              0.3333333333333333,
              "#9c179e"
             ],
             [
              0.4444444444444444,
              "#bd3786"
             ],
             [
              0.5555555555555556,
              "#d8576b"
             ],
             [
              0.6666666666666666,
              "#ed7953"
             ],
             [
              0.7777777777777778,
              "#fb9f3a"
             ],
             [
              0.8888888888888888,
              "#fdca26"
             ],
             [
              1,
              "#f0f921"
             ]
            ],
            "type": "histogram2dcontour"
           }
          ],
          "mesh3d": [
           {
            "colorbar": {
             "outlinewidth": 0,
             "ticks": ""
            },
            "type": "mesh3d"
           }
          ],
          "parcoords": [
           {
            "line": {
             "colorbar": {
              "outlinewidth": 0,
              "ticks": ""
             }
            },
            "type": "parcoords"
           }
          ],
          "pie": [
           {
            "automargin": true,
            "type": "pie"
           }
          ],
          "scatter": [
           {
            "fillpattern": {
             "fillmode": "overlay",
             "size": 10,
             "solidity": 0.2
            },
            "type": "scatter"
           }
          ],
          "scatter3d": [
           {
            "line": {
             "colorbar": {
              "outlinewidth": 0,
              "ticks": ""
             }
            },
            "marker": {
             "colorbar": {
              "outlinewidth": 0,
              "ticks": ""
             }
            },
            "type": "scatter3d"
           }
          ],
          "scattercarpet": [
           {
            "marker": {
             "colorbar": {
              "outlinewidth": 0,
              "ticks": ""
             }
            },
            "type": "scattercarpet"
           }
          ],
          "scattergeo": [
           {
            "marker": {
             "colorbar": {
              "outlinewidth": 0,
              "ticks": ""
             }
            },
            "type": "scattergeo"
           }
          ],
          "scattergl": [
           {
            "marker": {
             "colorbar": {
              "outlinewidth": 0,
              "ticks": ""
             }
            },
            "type": "scattergl"
           }
          ],
          "scattermap": [
           {
            "marker": {
             "colorbar": {
              "outlinewidth": 0,
              "ticks": ""
             }
            },
            "type": "scattermap"
           }
          ],
          "scattermapbox": [
           {
            "marker": {
             "colorbar": {
              "outlinewidth": 0,
              "ticks": ""
             }
            },
            "type": "scattermapbox"
           }
          ],
          "scatterpolar": [
           {
            "marker": {
             "colorbar": {
              "outlinewidth": 0,
              "ticks": ""
             }
            },
            "type": "scatterpolar"
           }
          ],
          "scatterpolargl": [
           {
            "marker": {
             "colorbar": {
              "outlinewidth": 0,
              "ticks": ""
             }
            },
            "type": "scatterpolargl"
           }
          ],
          "scatterternary": [
           {
            "marker": {
             "colorbar": {
              "outlinewidth": 0,
              "ticks": ""
             }
            },
            "type": "scatterternary"
           }
          ],
          "surface": [
           {
            "colorbar": {
             "outlinewidth": 0,
             "ticks": ""
            },
            "colorscale": [
             [
              0,
              "#0d0887"
             ],
             [
              0.1111111111111111,
              "#46039f"
             ],
             [
              0.2222222222222222,
              "#7201a8"
             ],
             [
              0.3333333333333333,
              "#9c179e"
             ],
             [
              0.4444444444444444,
              "#bd3786"
             ],
             [
              0.5555555555555556,
              "#d8576b"
             ],
             [
              0.6666666666666666,
              "#ed7953"
             ],
             [
              0.7777777777777778,
              "#fb9f3a"
             ],
             [
              0.8888888888888888,
              "#fdca26"
             ],
             [
              1,
              "#f0f921"
             ]
            ],
            "type": "surface"
           }
          ],
          "table": [
           {
            "cells": {
             "fill": {
              "color": "#EBF0F8"
             },
             "line": {
              "color": "white"
             }
            },
            "header": {
             "fill": {
              "color": "#C8D4E3"
             },
             "line": {
              "color": "white"
             }
            },
            "type": "table"
           }
          ]
         },
         "layout": {
          "annotationdefaults": {
           "arrowcolor": "#2a3f5f",
           "arrowhead": 0,
           "arrowwidth": 1
          },
          "autotypenumbers": "strict",
          "coloraxis": {
           "colorbar": {
            "outlinewidth": 0,
            "ticks": ""
           }
          },
          "colorscale": {
           "diverging": [
            [
             0,
             "#8e0152"
            ],
            [
             0.1,
             "#c51b7d"
            ],
            [
             0.2,
             "#de77ae"
            ],
            [
             0.3,
             "#f1b6da"
            ],
            [
             0.4,
             "#fde0ef"
            ],
            [
             0.5,
             "#f7f7f7"
            ],
            [
             0.6,
             "#e6f5d0"
            ],
            [
             0.7,
             "#b8e186"
            ],
            [
             0.8,
             "#7fbc41"
            ],
            [
             0.9,
             "#4d9221"
            ],
            [
             1,
             "#276419"
            ]
           ],
           "sequential": [
            [
             0,
             "#0d0887"
            ],
            [
             0.1111111111111111,
             "#46039f"
            ],
            [
             0.2222222222222222,
             "#7201a8"
            ],
            [
             0.3333333333333333,
             "#9c179e"
            ],
            [
             0.4444444444444444,
             "#bd3786"
            ],
            [
             0.5555555555555556,
             "#d8576b"
            ],
            [
             0.6666666666666666,
             "#ed7953"
            ],
            [
             0.7777777777777778,
             "#fb9f3a"
            ],
            [
             0.8888888888888888,
             "#fdca26"
            ],
            [
             1,
             "#f0f921"
            ]
           ],
           "sequentialminus": [
            [
             0,
             "#0d0887"
            ],
            [
             0.1111111111111111,
             "#46039f"
            ],
            [
             0.2222222222222222,
             "#7201a8"
            ],
            [
             0.3333333333333333,
             "#9c179e"
            ],
            [
             0.4444444444444444,
             "#bd3786"
            ],
            [
             0.5555555555555556,
             "#d8576b"
            ],
            [
             0.6666666666666666,
             "#ed7953"
            ],
            [
             0.7777777777777778,
             "#fb9f3a"
            ],
            [
             0.8888888888888888,
             "#fdca26"
            ],
            [
             1,
             "#f0f921"
            ]
           ]
          },
          "colorway": [
           "#636efa",
           "#EF553B",
           "#00cc96",
           "#ab63fa",
           "#FFA15A",
           "#19d3f3",
           "#FF6692",
           "#B6E880",
           "#FF97FF",
           "#FECB52"
          ],
          "font": {
           "color": "#2a3f5f"
          },
          "geo": {
           "bgcolor": "white",
           "lakecolor": "white",
           "landcolor": "#E5ECF6",
           "showlakes": true,
           "showland": true,
           "subunitcolor": "white"
          },
          "hoverlabel": {
           "align": "left"
          },
          "hovermode": "closest",
          "mapbox": {
           "style": "light"
          },
          "paper_bgcolor": "white",
          "plot_bgcolor": "#E5ECF6",
          "polar": {
           "angularaxis": {
            "gridcolor": "white",
            "linecolor": "white",
            "ticks": ""
           },
           "bgcolor": "#E5ECF6",
           "radialaxis": {
            "gridcolor": "white",
            "linecolor": "white",
            "ticks": ""
           }
          },
          "scene": {
           "xaxis": {
            "backgroundcolor": "#E5ECF6",
            "gridcolor": "white",
            "gridwidth": 2,
            "linecolor": "white",
            "showbackground": true,
            "ticks": "",
            "zerolinecolor": "white"
           },
           "yaxis": {
            "backgroundcolor": "#E5ECF6",
            "gridcolor": "white",
            "gridwidth": 2,
            "linecolor": "white",
            "showbackground": true,
            "ticks": "",
            "zerolinecolor": "white"
           },
           "zaxis": {
            "backgroundcolor": "#E5ECF6",
            "gridcolor": "white",
            "gridwidth": 2,
            "linecolor": "white",
            "showbackground": true,
            "ticks": "",
            "zerolinecolor": "white"
           }
          },
          "shapedefaults": {
           "line": {
            "color": "#2a3f5f"
           }
          },
          "ternary": {
           "aaxis": {
            "gridcolor": "white",
            "linecolor": "white",
            "ticks": ""
           },
           "baxis": {
            "gridcolor": "white",
            "linecolor": "white",
            "ticks": ""
           },
           "bgcolor": "#E5ECF6",
           "caxis": {
            "gridcolor": "white",
            "linecolor": "white",
            "ticks": ""
           }
          },
          "title": {
           "x": 0.05
          },
          "xaxis": {
           "automargin": true,
           "gridcolor": "white",
           "linecolor": "white",
           "ticks": "",
           "title": {
            "standoff": 15
           },
           "zerolinecolor": "white",
           "zerolinewidth": 2
          },
          "yaxis": {
           "automargin": true,
           "gridcolor": "white",
           "linecolor": "white",
           "ticks": "",
           "title": {
            "standoff": 15
           },
           "zerolinecolor": "white",
           "zerolinewidth": 2
          }
         }
        },
        "title": {
         "text": "Ethinic "
        }
       }
      }
     },
     "metadata": {},
     "output_type": "display_data"
    },
    {
     "data": {
      "application/vnd.plotly.v1+json": {
       "config": {
        "plotlyServerURL": "https://plot.ly"
       },
       "data": [
        {
         "domain": {
          "x": [
           0,
           0.49
          ],
          "y": [
           0,
           1
          ]
         },
         "hole": 0.3,
         "hovertemplate": "dataset=Finished<br>Sexo=%{label}<extra></extra>",
         "labels": [
          "Feminino",
          "Masculino",
          "Masculino",
          "Masculino",
          "Feminino",
          "Masculino",
          "Masculino",
          "Masculino",
          "Masculino",
          "Feminino",
          "Masculino",
          "Masculino",
          "Masculino",
          "Masculino",
          "Masculino",
          "Masculino",
          "Masculino",
          "Feminino",
          "Masculino",
          "Masculino",
          "Masculino",
          "Masculino",
          "Masculino",
          "Masculino",
          "Masculino",
          "Masculino",
          "Masculino",
          "Masculino",
          "Masculino",
          "Masculino",
          "Feminino",
          "Masculino",
          "Masculino",
          "Masculino",
          "Masculino",
          "Masculino",
          "Feminino",
          "Feminino",
          "Masculino",
          "Masculino",
          "Masculino",
          "Masculino",
          "Masculino",
          "Masculino",
          "Masculino",
          "Masculino",
          "Masculino",
          "Masculino",
          "Masculino",
          "Masculino",
          "Masculino",
          "Masculino",
          "Masculino",
          "Masculino",
          "Masculino",
          "Feminino",
          "Masculino",
          "Masculino",
          "Feminino",
          "Masculino",
          "Masculino",
          "Feminino",
          "Masculino",
          "Masculino",
          "Masculino",
          "Masculino",
          "Feminino",
          "Feminino",
          "Feminino",
          "Masculino",
          "Masculino",
          "Masculino",
          "Masculino",
          "Masculino",
          "Masculino",
          "Masculino",
          "Masculino",
          "Masculino",
          "Masculino",
          "Feminino",
          "Masculino",
          "Masculino",
          "Masculino",
          "Masculino",
          "Masculino",
          "Masculino",
          "Masculino",
          "Masculino",
          "Masculino",
          "Masculino",
          "Masculino",
          "Masculino",
          "Masculino",
          "Masculino",
          "Masculino",
          "Masculino",
          "Masculino",
          "Masculino",
          "Masculino",
          "Masculino",
          "Feminino",
          "Masculino",
          "Masculino",
          "Masculino",
          "Masculino",
          "Masculino",
          "Masculino",
          "Masculino",
          "Masculino",
          "Masculino",
          "Masculino"
         ],
         "legendgroup": "",
         "name": "",
         "showlegend": true,
         "type": "pie"
        },
        {
         "domain": {
          "x": [
           0.51,
           1
          ],
          "y": [
           0,
           1
          ]
         },
         "hole": 0.3,
         "hovertemplate": "dataset=Deactive<br>Sexo=%{label}<extra></extra>",
         "labels": [
          "Masculino",
          "Masculino",
          "Masculino",
          "Masculino",
          "Feminino",
          "Feminino",
          "Feminino",
          "Feminino",
          "Masculino",
          "Masculino",
          "Feminino",
          "Feminino",
          "Feminino",
          "Masculino",
          "Masculino",
          "Masculino",
          "Feminino",
          "Feminino",
          "Masculino",
          "Masculino",
          "Masculino",
          "Masculino",
          "Feminino",
          "Masculino",
          "Feminino",
          "Masculino",
          "Masculino",
          "Masculino",
          "Masculino",
          "Masculino",
          "Masculino",
          "Masculino",
          "Masculino",
          "Masculino",
          "Masculino",
          "Feminino",
          "Masculino",
          "Feminino",
          "Masculino",
          "Feminino",
          "Feminino",
          "Masculino",
          "Masculino",
          "Masculino",
          "Masculino",
          "Masculino",
          "Masculino",
          "Feminino",
          "Masculino",
          "Masculino",
          "Masculino",
          "Masculino",
          "Feminino",
          "Masculino",
          "Masculino",
          "Masculino",
          "Masculino",
          "Masculino",
          "Masculino",
          "Masculino",
          "Masculino",
          "Masculino",
          "Masculino",
          "Masculino",
          "Masculino",
          "Masculino",
          "Masculino",
          "Masculino",
          "Masculino",
          "Masculino",
          "Masculino",
          "Masculino",
          "Masculino",
          "Masculino",
          "Masculino",
          "Masculino",
          "Masculino",
          "Masculino",
          "Masculino",
          "Masculino",
          "Masculino",
          "Masculino",
          "Masculino",
          "Masculino",
          "Feminino",
          "Feminino",
          "Masculino",
          "Masculino",
          "Masculino",
          "Masculino",
          "Feminino",
          "Masculino",
          "Masculino",
          "Masculino",
          "Masculino",
          "Masculino",
          "Masculino",
          "Masculino",
          "Masculino",
          "Masculino",
          "Masculino",
          "Feminino",
          "Masculino",
          "Masculino",
          "Masculino",
          "Masculino",
          "Masculino",
          "Masculino",
          "Masculino",
          "Feminino",
          "Feminino",
          "Masculino",
          "Feminino",
          "Feminino",
          "Masculino",
          "Masculino",
          "Masculino",
          "Masculino",
          "Masculino",
          "Masculino",
          "Masculino",
          "Masculino",
          "Masculino",
          "Masculino",
          "Masculino",
          "Masculino",
          "Masculino",
          "Masculino",
          "Masculino",
          "Masculino",
          "Masculino",
          "Feminino",
          "Masculino",
          "Masculino",
          "Masculino",
          "Masculino",
          "Masculino",
          "Masculino",
          "Masculino",
          "Masculino",
          "Feminino",
          "Masculino",
          "Masculino",
          "Feminino",
          "Masculino",
          "Masculino",
          "Masculino",
          "Masculino",
          "Masculino",
          "Masculino",
          "Masculino",
          "Masculino",
          "Masculino",
          "Masculino",
          "Masculino",
          "Masculino",
          "Masculino",
          "Masculino",
          "Masculino",
          "Masculino",
          "Masculino",
          "Masculino",
          "Masculino",
          "Masculino",
          "Masculino",
          "Masculino",
          "Masculino",
          "Masculino",
          "Masculino",
          "Masculino",
          "Masculino",
          "Masculino",
          "Masculino",
          "Feminino",
          "Feminino",
          "Masculino",
          "Masculino",
          "Masculino",
          "Masculino",
          "Masculino",
          "Masculino",
          "Masculino",
          "Masculino",
          "Masculino",
          "Masculino",
          "Masculino",
          "Feminino",
          "Feminino",
          "Feminino",
          "Feminino",
          "Masculino",
          "Masculino",
          "Masculino",
          "Masculino",
          "Feminino",
          "Masculino",
          "Feminino",
          "Masculino",
          "Masculino",
          "Masculino",
          "Masculino",
          "Masculino",
          "Masculino",
          "Masculino",
          "Masculino",
          "Feminino",
          "Masculino",
          "Masculino",
          "Masculino",
          "Masculino",
          "Masculino",
          "Masculino",
          "Masculino",
          "Masculino",
          "Masculino",
          "Masculino",
          "Masculino",
          "Masculino",
          "Masculino",
          "Masculino",
          "Masculino",
          "Masculino",
          "Masculino",
          "Masculino",
          "Masculino",
          "Masculino",
          "Masculino",
          "Masculino",
          "Masculino",
          "Masculino",
          "Feminino",
          "Feminino",
          "Feminino",
          "Masculino",
          "Feminino",
          "Masculino",
          "Feminino",
          "Feminino",
          "Masculino",
          "Masculino",
          "Masculino",
          "Masculino",
          "Masculino",
          "Masculino",
          "Masculino",
          "Masculino",
          "Masculino",
          "Masculino",
          "Masculino",
          "Masculino",
          "Masculino",
          "Masculino",
          "Masculino",
          "Masculino",
          "Masculino",
          "Feminino",
          "Masculino",
          "Masculino",
          "Feminino",
          "Masculino",
          "Masculino",
          "Masculino",
          "Masculino",
          "Feminino",
          "Masculino",
          "Feminino",
          "Feminino",
          "Masculino",
          "Masculino",
          "Masculino",
          "Masculino",
          "Masculino",
          "Masculino",
          "Masculino",
          "Masculino",
          "Masculino",
          "Masculino",
          "Masculino",
          "Masculino",
          "Masculino",
          "Masculino",
          "Masculino",
          "Masculino",
          "Masculino",
          "Masculino",
          "Masculino",
          "Masculino",
          "Masculino",
          "Masculino",
          "Masculino",
          "Masculino",
          "Feminino",
          "Masculino",
          "Masculino",
          "Masculino",
          "Masculino",
          "Feminino",
          "Masculino",
          "Masculino",
          "Masculino",
          "Feminino",
          "Masculino",
          "Masculino",
          "Feminino",
          "Feminino",
          "Masculino",
          "Masculino",
          "Masculino",
          "Masculino",
          "Masculino",
          "Masculino",
          "Masculino",
          "Masculino",
          "Masculino",
          "Masculino",
          "Masculino",
          "Masculino",
          "Masculino",
          "Masculino",
          "Masculino",
          "Masculino",
          "Masculino",
          "Masculino",
          "Masculino",
          "Masculino",
          "Masculino",
          "Masculino",
          "Feminino",
          "Masculino",
          "Masculino",
          "Masculino",
          "Masculino",
          "Masculino",
          "Masculino",
          "Masculino",
          "Feminino",
          "Feminino",
          "Masculino",
          "Masculino",
          "Masculino",
          "Feminino",
          "Masculino",
          "Masculino",
          "Masculino",
          "Feminino",
          "Masculino",
          "Masculino",
          "Masculino",
          "Masculino",
          "Masculino",
          "Masculino",
          "Masculino",
          "Masculino",
          "Masculino",
          "Masculino",
          "Masculino",
          "Masculino",
          "Masculino",
          "Masculino",
          "Masculino",
          "Masculino",
          "Masculino",
          "Masculino",
          "Masculino",
          "Masculino",
          "Masculino",
          "Masculino",
          "Masculino",
          "Masculino",
          "Feminino",
          "Masculino",
          "Masculino",
          "Masculino",
          "Masculino",
          "Masculino",
          "Masculino",
          "Masculino",
          "Masculino",
          "Masculino",
          "Masculino",
          "Masculino",
          "Masculino",
          "Masculino",
          "Masculino",
          "Masculino",
          "Masculino",
          "Masculino"
         ],
         "legendgroup": "",
         "name": "",
         "showlegend": true,
         "type": "pie"
        }
       ],
       "layout": {
        "annotations": [
         {
          "font": {},
          "showarrow": false,
          "text": "dataset=Finished",
          "x": 0.245,
          "xanchor": "center",
          "xref": "paper",
          "y": 1,
          "yanchor": "bottom",
          "yref": "paper"
         },
         {
          "font": {},
          "showarrow": false,
          "text": "dataset=Deactive",
          "x": 0.755,
          "xanchor": "center",
          "xref": "paper",
          "y": 1,
          "yanchor": "bottom",
          "yref": "paper"
         }
        ],
        "font": {
         "color": "Black",
         "family": "Courier New, monospace",
         "size": 18,
         "variant": "small-caps"
        },
        "legend": {
         "tracegroupgap": 0
        },
        "margin": {
         "t": 60
        },
        "template": {
         "data": {
          "bar": [
           {
            "error_x": {
             "color": "#2a3f5f"
            },
            "error_y": {
             "color": "#2a3f5f"
            },
            "marker": {
             "line": {
              "color": "#E5ECF6",
              "width": 0.5
             },
             "pattern": {
              "fillmode": "overlay",
              "size": 10,
              "solidity": 0.2
             }
            },
            "type": "bar"
           }
          ],
          "barpolar": [
           {
            "marker": {
             "line": {
              "color": "#E5ECF6",
              "width": 0.5
             },
             "pattern": {
              "fillmode": "overlay",
              "size": 10,
              "solidity": 0.2
             }
            },
            "type": "barpolar"
           }
          ],
          "carpet": [
           {
            "aaxis": {
             "endlinecolor": "#2a3f5f",
             "gridcolor": "white",
             "linecolor": "white",
             "minorgridcolor": "white",
             "startlinecolor": "#2a3f5f"
            },
            "baxis": {
             "endlinecolor": "#2a3f5f",
             "gridcolor": "white",
             "linecolor": "white",
             "minorgridcolor": "white",
             "startlinecolor": "#2a3f5f"
            },
            "type": "carpet"
           }
          ],
          "choropleth": [
           {
            "colorbar": {
             "outlinewidth": 0,
             "ticks": ""
            },
            "type": "choropleth"
           }
          ],
          "contour": [
           {
            "colorbar": {
             "outlinewidth": 0,
             "ticks": ""
            },
            "colorscale": [
             [
              0,
              "#0d0887"
             ],
             [
              0.1111111111111111,
              "#46039f"
             ],
             [
              0.2222222222222222,
              "#7201a8"
             ],
             [
              0.3333333333333333,
              "#9c179e"
             ],
             [
              0.4444444444444444,
              "#bd3786"
             ],
             [
              0.5555555555555556,
              "#d8576b"
             ],
             [
              0.6666666666666666,
              "#ed7953"
             ],
             [
              0.7777777777777778,
              "#fb9f3a"
             ],
             [
              0.8888888888888888,
              "#fdca26"
             ],
             [
              1,
              "#f0f921"
             ]
            ],
            "type": "contour"
           }
          ],
          "contourcarpet": [
           {
            "colorbar": {
             "outlinewidth": 0,
             "ticks": ""
            },
            "type": "contourcarpet"
           }
          ],
          "heatmap": [
           {
            "colorbar": {
             "outlinewidth": 0,
             "ticks": ""
            },
            "colorscale": [
             [
              0,
              "#0d0887"
             ],
             [
              0.1111111111111111,
              "#46039f"
             ],
             [
              0.2222222222222222,
              "#7201a8"
             ],
             [
              0.3333333333333333,
              "#9c179e"
             ],
             [
              0.4444444444444444,
              "#bd3786"
             ],
             [
              0.5555555555555556,
              "#d8576b"
             ],
             [
              0.6666666666666666,
              "#ed7953"
             ],
             [
              0.7777777777777778,
              "#fb9f3a"
             ],
             [
              0.8888888888888888,
              "#fdca26"
             ],
             [
              1,
              "#f0f921"
             ]
            ],
            "type": "heatmap"
           }
          ],
          "histogram": [
           {
            "marker": {
             "pattern": {
              "fillmode": "overlay",
              "size": 10,
              "solidity": 0.2
             }
            },
            "type": "histogram"
           }
          ],
          "histogram2d": [
           {
            "colorbar": {
             "outlinewidth": 0,
             "ticks": ""
            },
            "colorscale": [
             [
              0,
              "#0d0887"
             ],
             [
              0.1111111111111111,
              "#46039f"
             ],
             [
              0.2222222222222222,
              "#7201a8"
             ],
             [
              0.3333333333333333,
              "#9c179e"
             ],
             [
              0.4444444444444444,
              "#bd3786"
             ],
             [
              0.5555555555555556,
              "#d8576b"
             ],
             [
              0.6666666666666666,
              "#ed7953"
             ],
             [
              0.7777777777777778,
              "#fb9f3a"
             ],
             [
              0.8888888888888888,
              "#fdca26"
             ],
             [
              1,
              "#f0f921"
             ]
            ],
            "type": "histogram2d"
           }
          ],
          "histogram2dcontour": [
           {
            "colorbar": {
             "outlinewidth": 0,
             "ticks": ""
            },
            "colorscale": [
             [
              0,
              "#0d0887"
             ],
             [
              0.1111111111111111,
              "#46039f"
             ],
             [
              0.2222222222222222,
              "#7201a8"
             ],
             [
              0.3333333333333333,
              "#9c179e"
             ],
             [
              0.4444444444444444,
              "#bd3786"
             ],
             [
              0.5555555555555556,
              "#d8576b"
             ],
             [
              0.6666666666666666,
              "#ed7953"
             ],
             [
              0.7777777777777778,
              "#fb9f3a"
             ],
             [
              0.8888888888888888,
              "#fdca26"
             ],
             [
              1,
              "#f0f921"
             ]
            ],
            "type": "histogram2dcontour"
           }
          ],
          "mesh3d": [
           {
            "colorbar": {
             "outlinewidth": 0,
             "ticks": ""
            },
            "type": "mesh3d"
           }
          ],
          "parcoords": [
           {
            "line": {
             "colorbar": {
              "outlinewidth": 0,
              "ticks": ""
             }
            },
            "type": "parcoords"
           }
          ],
          "pie": [
           {
            "automargin": true,
            "type": "pie"
           }
          ],
          "scatter": [
           {
            "fillpattern": {
             "fillmode": "overlay",
             "size": 10,
             "solidity": 0.2
            },
            "type": "scatter"
           }
          ],
          "scatter3d": [
           {
            "line": {
             "colorbar": {
              "outlinewidth": 0,
              "ticks": ""
             }
            },
            "marker": {
             "colorbar": {
              "outlinewidth": 0,
              "ticks": ""
             }
            },
            "type": "scatter3d"
           }
          ],
          "scattercarpet": [
           {
            "marker": {
             "colorbar": {
              "outlinewidth": 0,
              "ticks": ""
             }
            },
            "type": "scattercarpet"
           }
          ],
          "scattergeo": [
           {
            "marker": {
             "colorbar": {
              "outlinewidth": 0,
              "ticks": ""
             }
            },
            "type": "scattergeo"
           }
          ],
          "scattergl": [
           {
            "marker": {
             "colorbar": {
              "outlinewidth": 0,
              "ticks": ""
             }
            },
            "type": "scattergl"
           }
          ],
          "scattermap": [
           {
            "marker": {
             "colorbar": {
              "outlinewidth": 0,
              "ticks": ""
             }
            },
            "type": "scattermap"
           }
          ],
          "scattermapbox": [
           {
            "marker": {
             "colorbar": {
              "outlinewidth": 0,
              "ticks": ""
             }
            },
            "type": "scattermapbox"
           }
          ],
          "scatterpolar": [
           {
            "marker": {
             "colorbar": {
              "outlinewidth": 0,
              "ticks": ""
             }
            },
            "type": "scatterpolar"
           }
          ],
          "scatterpolargl": [
           {
            "marker": {
             "colorbar": {
              "outlinewidth": 0,
              "ticks": ""
             }
            },
            "type": "scatterpolargl"
           }
          ],
          "scatterternary": [
           {
            "marker": {
             "colorbar": {
              "outlinewidth": 0,
              "ticks": ""
             }
            },
            "type": "scatterternary"
           }
          ],
          "surface": [
           {
            "colorbar": {
             "outlinewidth": 0,
             "ticks": ""
            },
            "colorscale": [
             [
              0,
              "#0d0887"
             ],
             [
              0.1111111111111111,
              "#46039f"
             ],
             [
              0.2222222222222222,
              "#7201a8"
             ],
             [
              0.3333333333333333,
              "#9c179e"
             ],
             [
              0.4444444444444444,
              "#bd3786"
             ],
             [
              0.5555555555555556,
              "#d8576b"
             ],
             [
              0.6666666666666666,
              "#ed7953"
             ],
             [
              0.7777777777777778,
              "#fb9f3a"
             ],
             [
              0.8888888888888888,
              "#fdca26"
             ],
             [
              1,
              "#f0f921"
             ]
            ],
            "type": "surface"
           }
          ],
          "table": [
           {
            "cells": {
             "fill": {
              "color": "#EBF0F8"
             },
             "line": {
              "color": "white"
             }
            },
            "header": {
             "fill": {
              "color": "#C8D4E3"
             },
             "line": {
              "color": "white"
             }
            },
            "type": "table"
           }
          ]
         },
         "layout": {
          "annotationdefaults": {
           "arrowcolor": "#2a3f5f",
           "arrowhead": 0,
           "arrowwidth": 1
          },
          "autotypenumbers": "strict",
          "coloraxis": {
           "colorbar": {
            "outlinewidth": 0,
            "ticks": ""
           }
          },
          "colorscale": {
           "diverging": [
            [
             0,
             "#8e0152"
            ],
            [
             0.1,
             "#c51b7d"
            ],
            [
             0.2,
             "#de77ae"
            ],
            [
             0.3,
             "#f1b6da"
            ],
            [
             0.4,
             "#fde0ef"
            ],
            [
             0.5,
             "#f7f7f7"
            ],
            [
             0.6,
             "#e6f5d0"
            ],
            [
             0.7,
             "#b8e186"
            ],
            [
             0.8,
             "#7fbc41"
            ],
            [
             0.9,
             "#4d9221"
            ],
            [
             1,
             "#276419"
            ]
           ],
           "sequential": [
            [
             0,
             "#0d0887"
            ],
            [
             0.1111111111111111,
             "#46039f"
            ],
            [
             0.2222222222222222,
             "#7201a8"
            ],
            [
             0.3333333333333333,
             "#9c179e"
            ],
            [
             0.4444444444444444,
             "#bd3786"
            ],
            [
             0.5555555555555556,
             "#d8576b"
            ],
            [
             0.6666666666666666,
             "#ed7953"
            ],
            [
             0.7777777777777778,
             "#fb9f3a"
            ],
            [
             0.8888888888888888,
             "#fdca26"
            ],
            [
             1,
             "#f0f921"
            ]
           ],
           "sequentialminus": [
            [
             0,
             "#0d0887"
            ],
            [
             0.1111111111111111,
             "#46039f"
            ],
            [
             0.2222222222222222,
             "#7201a8"
            ],
            [
             0.3333333333333333,
             "#9c179e"
            ],
            [
             0.4444444444444444,
             "#bd3786"
            ],
            [
             0.5555555555555556,
             "#d8576b"
            ],
            [
             0.6666666666666666,
             "#ed7953"
            ],
            [
             0.7777777777777778,
             "#fb9f3a"
            ],
            [
             0.8888888888888888,
             "#fdca26"
            ],
            [
             1,
             "#f0f921"
            ]
           ]
          },
          "colorway": [
           "#636efa",
           "#EF553B",
           "#00cc96",
           "#ab63fa",
           "#FFA15A",
           "#19d3f3",
           "#FF6692",
           "#B6E880",
           "#FF97FF",
           "#FECB52"
          ],
          "font": {
           "color": "#2a3f5f"
          },
          "geo": {
           "bgcolor": "white",
           "lakecolor": "white",
           "landcolor": "#E5ECF6",
           "showlakes": true,
           "showland": true,
           "subunitcolor": "white"
          },
          "hoverlabel": {
           "align": "left"
          },
          "hovermode": "closest",
          "mapbox": {
           "style": "light"
          },
          "paper_bgcolor": "white",
          "plot_bgcolor": "#E5ECF6",
          "polar": {
           "angularaxis": {
            "gridcolor": "white",
            "linecolor": "white",
            "ticks": ""
           },
           "bgcolor": "#E5ECF6",
           "radialaxis": {
            "gridcolor": "white",
            "linecolor": "white",
            "ticks": ""
           }
          },
          "scene": {
           "xaxis": {
            "backgroundcolor": "#E5ECF6",
            "gridcolor": "white",
            "gridwidth": 2,
            "linecolor": "white",
            "showbackground": true,
            "ticks": "",
            "zerolinecolor": "white"
           },
           "yaxis": {
            "backgroundcolor": "#E5ECF6",
            "gridcolor": "white",
            "gridwidth": 2,
            "linecolor": "white",
            "showbackground": true,
            "ticks": "",
            "zerolinecolor": "white"
           },
           "zaxis": {
            "backgroundcolor": "#E5ECF6",
            "gridcolor": "white",
            "gridwidth": 2,
            "linecolor": "white",
            "showbackground": true,
            "ticks": "",
            "zerolinecolor": "white"
           }
          },
          "shapedefaults": {
           "line": {
            "color": "#2a3f5f"
           }
          },
          "ternary": {
           "aaxis": {
            "gridcolor": "white",
            "linecolor": "white",
            "ticks": ""
           },
           "baxis": {
            "gridcolor": "white",
            "linecolor": "white",
            "ticks": ""
           },
           "bgcolor": "#E5ECF6",
           "caxis": {
            "gridcolor": "white",
            "linecolor": "white",
            "ticks": ""
           }
          },
          "title": {
           "x": 0.05
          },
          "xaxis": {
           "automargin": true,
           "gridcolor": "white",
           "linecolor": "white",
           "ticks": "",
           "title": {
            "standoff": 15
           },
           "zerolinecolor": "white",
           "zerolinewidth": 2
          },
          "yaxis": {
           "automargin": true,
           "gridcolor": "white",
           "linecolor": "white",
           "ticks": "",
           "title": {
            "standoff": 15
           },
           "zerolinecolor": "white",
           "zerolinewidth": 2
          }
         }
        },
        "title": {
         "text": "Sexo "
        }
       }
      }
     },
     "metadata": {},
     "output_type": "display_data"
    },
    {
     "data": {
      "application/vnd.plotly.v1+json": {
       "config": {
        "plotlyServerURL": "https://plot.ly"
       },
       "data": [
        {
         "domain": {
          "x": [
           0,
           0.49
          ],
          "y": [
           0,
           1
          ]
         },
         "hole": 0.3,
         "hovertemplate": "dataset=Finished<br>Nacionalidade=%{label}<extra></extra>",
         "labels": [
          "BRASILEIRO",
          "BRASILEIRO",
          "BRASILEIRO",
          "BRASILEIRO",
          "BRASILEIRO",
          "BRASILEIRO",
          "BRASILEIRO",
          "BRASILEIRO",
          "BRASILEIRO",
          "BRASILEIRO",
          "BRASILEIRO",
          "BRASILEIRO",
          "BRASILEIRO",
          "BRASILEIRO",
          "BRASILEIRO",
          "BRASILEIRO",
          "BRASILEIRO",
          "BRASILEIRO",
          "BRASILEIRO",
          "BRASILEIRO",
          "BRASILEIRO",
          "BRASILEIRO",
          "BRASILEIRO",
          "BRASILEIRO",
          "BRASILEIRO",
          "BRASILEIRO",
          "BRASILEIRO",
          "BRASILEIRO",
          "BRASILEIRO",
          "BRASILEIRO",
          "BRASILEIRO",
          "BRASILEIRO",
          "BRASILEIRO",
          "BRASILEIRO",
          "BRASILEIRO",
          "BRASILEIRO",
          "BRASILEIRO",
          "BRASILEIRO",
          "BRASILEIRO",
          "BRASILEIRO",
          "BRASILEIRO",
          "BRASILEIRO",
          "BRASILEIRO",
          "BRASILEIRO",
          "BRASILEIRO",
          "BRASILEIRO",
          "BRASILEIRO",
          "BRASILEIRO",
          "BRASILEIRO",
          "BRASILEIRO",
          "BRASILEIRO",
          "BRASILEIRO",
          "BRASILEIRO",
          "BRASILEIRO",
          "BRASILEIRO",
          "BRASILEIRO",
          "BRASILEIRO",
          "BRASILEIRO",
          "BRASILEIRO",
          "BRASILEIRO",
          "BRASILEIRO",
          "BRASILEIRO",
          "BRASILEIRO",
          "BRASILEIRO",
          "BRASILEIRO",
          "BRASILEIRO",
          "BRASILEIRO",
          "BRASILEIRO",
          "BRASILEIRO",
          "BRASILEIRO",
          "BRASILEIRO",
          "BRASILEIRO",
          "BRASILEIRO",
          "BRASILEIRO",
          "BRASILEIRO",
          "BRASILEIRO",
          "BRASILEIRO",
          "BRASILEIRO",
          "BRASILEIRO",
          "BRASILEIRO",
          "BRASILEIRO",
          "BRASILEIRO",
          "BRASILEIRO",
          "BRASILEIRO",
          "BRASILEIRO",
          "BRASILEIRO",
          "BRASILEIRO",
          "BRASILEIRO",
          "BRASILEIRO",
          "BRASILEIRO",
          "BRASILEIRO",
          "BRASILEIRO",
          "BRASILEIRO",
          "BRASILEIRO",
          "BRASILEIRO",
          "BRASILEIRO",
          "BRASILEIRO",
          "BRASILEIRO",
          "BRASILEIRO",
          "BRASILEIRO",
          "BRASILEIRO",
          "BRASILEIRO",
          "BRASILEIRO",
          "BRASILEIRO",
          "BRASILEIRO",
          "BRASILEIRO",
          "BRASILEIRO",
          "BRASILEIRO",
          "BRASILEIRO",
          "BRASILEIRO",
          "BRASILEIRO"
         ],
         "legendgroup": "",
         "name": "",
         "showlegend": true,
         "type": "pie"
        },
        {
         "domain": {
          "x": [
           0.51,
           1
          ],
          "y": [
           0,
           1
          ]
         },
         "hole": 0.3,
         "hovertemplate": "dataset=Deactive<br>Nacionalidade=%{label}<extra></extra>",
         "labels": [
          "BRASILEIRO",
          "BRASILEIRO",
          "BRASILEIRO",
          "BRASILEIRO",
          "BRASILEIRO",
          "BRASILEIRO",
          "BRASILEIRO",
          "BRASILEIRO",
          "BRASILEIRO",
          "BRASILEIRO",
          "BRASILEIRO",
          "BRASILEIRO",
          "BRASILEIRO",
          "BRASILEIRO",
          "BRASILEIRO",
          "BRASILEIRO",
          "BRASILEIRO",
          "BRASILEIRO",
          "BRASILEIRO",
          "BRASILEIRO",
          "BRASILEIRO",
          "BRASILEIRO",
          "BRASILEIRO",
          "BRASILEIRO",
          "BRASILEIRO",
          "BRASILEIRO",
          "BRASILEIRO",
          "BRASILEIRO",
          "BRASILEIRO",
          "BRASILEIRO",
          "BRASILEIRO",
          "BRASILEIRO",
          "BRASILEIRO",
          "BRASILEIRO",
          "BRASILEIRO",
          "BRASILEIRO",
          "BRASILEIRO",
          "BRASILEIRO",
          "BRASILEIRO",
          "BRASILEIRO",
          "BRASILEIRO",
          "BRASILEIRO",
          "BRASILEIRO",
          "BRASILEIRO",
          "BRASILEIRO",
          "BRASILEIRO",
          "BRASILEIRO",
          "BRASILEIRO",
          "BRASILEIRO",
          "BRASILEIRO",
          "BRASILEIRO",
          "BRASILEIRO",
          "BRASILEIRO",
          "BRASILEIRO",
          "BRASILEIRO",
          "BRASILEIRO",
          "BRASILEIRO",
          "BRASILEIRO",
          "BRASILEIRO",
          "BRASILEIRO",
          "BRASILEIRO",
          "BRASILEIRO",
          "BRASILEIRO",
          "BRASILEIRO",
          "BRASILEIRO",
          "BRASILEIRO",
          "BRASILEIRO",
          "BRASILEIRO",
          "BRASILEIRO",
          "BRASILEIRO",
          "BRASILEIRO",
          "BRASILEIRO",
          "BRASILEIRO",
          "BRASILEIRO",
          "BRASILEIRO",
          "BRASILEIRO",
          "BRASILEIRO",
          "BRASILEIRO",
          "BRASILEIRO",
          "BRASILEIRO",
          "BRASILEIRO",
          "BRASILEIRO",
          "BRASILEIRO",
          "BRASILEIRO",
          "BRASILEIRO",
          "BRASILEIRO",
          "BRASILEIRO",
          "BRASILEIRO",
          "BRASILEIRO",
          "BRASILEIRO",
          "BRASILEIRO",
          "BRASILEIRO",
          "BRASILEIRO",
          "BRASILEIRO",
          "BRASILEIRO",
          "BRASILEIRO",
          "BRASILEIRO",
          "BRASILEIRO",
          "BRASILEIRO",
          "BRASILEIRO",
          "BRASILEIRO",
          "BRASILEIRO",
          "BRASILEIRO",
          "BRASILEIRO",
          "BRASILEIRO",
          "BRASILEIRO",
          "BRASILEIRO",
          "BRASILEIRO",
          "BRASILEIRO",
          "BRASILEIRO",
          "BRASILEIRO",
          "BRASILEIRO",
          "BRASILEIRO",
          "BRASILEIRO",
          "BRASILEIRO",
          "BRASILEIRO",
          "BRASILEIRO",
          "BRASILEIRO",
          "BRASILEIRO",
          "BRASILEIRO",
          "BRASILEIRO",
          "BRASILEIRO",
          "BRASILEIRO",
          "BRASILEIRO",
          "BRASILEIRO",
          "BRASILEIRO",
          "BRASILEIRO",
          "BRASILEIRO",
          "BRASILEIRO",
          "BRASILEIRO",
          "BRASILEIRO",
          "BRASILEIRO",
          "BRASILEIRO",
          "BRASILEIRO",
          "BRASILEIRO",
          "BRASILEIRO",
          "BRASILEIRO",
          "BRASILEIRO",
          "BRASILEIRO",
          "BRASILEIRO",
          "BRASILEIRO",
          "BRASILEIRO",
          "BRASILEIRO",
          "BRASILEIRO",
          "BRASILEIRO",
          "BRASILEIRO",
          "BRASILEIRO",
          "BRASILEIRO",
          "BRASILEIRO",
          "BRASILEIRO",
          "BRASILEIRO",
          "BRASILEIRO",
          "BRASILEIRO",
          "BRASILEIRO",
          "BRASILEIRO",
          "BRASILEIRO",
          "BRASILEIRO",
          "BRASILEIRO",
          "BRASILEIRO",
          "BRASILEIRO",
          "BRASILEIRO",
          "BRASILEIRO",
          "BRASILEIRO",
          "BRASILEIRO",
          "BRASILEIRO",
          "BRASILEIRO",
          "BRASILEIRO",
          "BRASILEIRO",
          "BRASILEIRO",
          "BRASILEIRO",
          "BRASILEIRO",
          "BRASILEIRO",
          "BRASILEIRO",
          "BRASILEIRO",
          "BRASILEIRO",
          "BRASILEIRO",
          "BRASILEIRO",
          "BRASILEIRO",
          "BRASILEIRO",
          "BRASILEIRO",
          "BRASILEIRO",
          "BRASILEIRO",
          "BRASILEIRO",
          "BRASILEIRO",
          "BRASILEIRO",
          "BRASILEIRO",
          "BRASILEIRO",
          "BRASILEIRO",
          "BRASILEIRO",
          "BRASILEIRO",
          "BRASILEIRO",
          "BRASILEIRO",
          "BRASILEIRO",
          "BRASILEIRO",
          "BRASILEIRO",
          "BRASILEIRO",
          "BRASILEIRO",
          "BRASILEIRO",
          "BRASILEIRO",
          "BRASILEIRO",
          "BRASILEIRO",
          "BRASILEIRO",
          "BRASILEIRO",
          "BRASILEIRO",
          "BRASILEIRO",
          "BRASILEIRO",
          "BRASILEIRO",
          "BRASILEIRO",
          "BRASILEIRO",
          "BRASILEIRO",
          "BRASILEIRO",
          "BRASILEIRO",
          "BRASILEIRO",
          "BRASILEIRO",
          "BRASILEIRO",
          "BRASILEIRO",
          "BRASILEIRO",
          "BRASILEIRO",
          "BRASILEIRO",
          "BRASILEIRO",
          "BRASILEIRO",
          "BRASILEIRO",
          "BRASILEIRO",
          "BRASILEIRO",
          "BRASILEIRO",
          "BRASILEIRO",
          "BRASILEIRO",
          "BRASILEIRO",
          "BRASILEIRO",
          "BRASILEIRO",
          "BRASILEIRO",
          "BRASILEIRO",
          "BRASILEIRO",
          "BRASILEIRO",
          "BRASILEIRO",
          "BRASILEIRO",
          "BRASILEIRO",
          "BRASILEIRO",
          "BRASILEIRO",
          "BRASILEIRO",
          "BRASILEIRO",
          "BRASILEIRO",
          "BRASILEIRO",
          "BRASILEIRO",
          "BRASILEIRO",
          "BRASILEIRO",
          "BRASILEIRO",
          "BRASILEIRO",
          "BRASILEIRO",
          "BRASILEIRO",
          "BRASILEIRO",
          "BRASILEIRO",
          "BRASILEIRO",
          "BRASILEIRO",
          "BRASILEIRO",
          "BRASILEIRO",
          "BRASILEIRO",
          "BRASILEIRO",
          "BRASILEIRO",
          "BRASILEIRO",
          "BRASILEIRO",
          "BRASILEIRO",
          "BRASILEIRO",
          "BRASILEIRO",
          "BRASILEIRO",
          "BRASILEIRO",
          "BRASILEIRO",
          "BRASILEIRO",
          "BRASILEIRO",
          "BRASILEIRO",
          "BRASILEIRO",
          "BRASILEIRO",
          "BRASILEIRO",
          "BRASILEIRO",
          "BRASILEIRO",
          "BRASILEIRO",
          "BRASILEIRO",
          "BRASILEIRO",
          "BRASILEIRO",
          "BRASILEIRO",
          "BRASILEIRO",
          "BRASILEIRO",
          "BRASILEIRO",
          "BRASILEIRO",
          "BRASILEIRO",
          "BRASILEIRO",
          "BRASILEIRO",
          "BRASILEIRO",
          "BRASILEIRO",
          "BRASILEIRO",
          "BRASILEIRO",
          "BRASILEIRO",
          "BRASILEIRO",
          "BRASILEIRO",
          "BRASILEIRO",
          "BRASILEIRO",
          "BRASILEIRO",
          "BRASILEIRO",
          "BRASILEIRO",
          "BRASILEIRO",
          "BRASILEIRO",
          "BRASILEIRO",
          "BRASILEIRO",
          "BRASILEIRO",
          "BRASILEIRO",
          "BRASILEIRO",
          "BRASILEIRO",
          "BRASILEIRO",
          "BRASILEIRO",
          "BRASILEIRO",
          "BRASILEIRO",
          "BRASILEIRO",
          "BRASILEIRO",
          "BRASILEIRO",
          "BRASILEIRO",
          "BRASILEIRO",
          "BRASILEIRO",
          "BRASILEIRO",
          "BRASILEIRO",
          "BRASILEIRO",
          "BRASILEIRO",
          "BRASILEIRO",
          "BRASILEIRO",
          "BRASILEIRO",
          "BRASILEIRO",
          "BRASILEIRO",
          "BRASILEIRO",
          "BRASILEIRO",
          "BRASILEIRO",
          "BRASILEIRO",
          "BRASILEIRO",
          "BRASILEIRO",
          "BRASILEIRO",
          "BRASILEIRO",
          "BRASILEIRO",
          "BRASILEIRO",
          "BRASILEIRO",
          "BRASILEIRO",
          "BRASILEIRO",
          "BRASILEIRO",
          "BRASILEIRO",
          "BRASILEIRO",
          "BRASILEIRO",
          "BRASILEIRO",
          "BRASILEIRO",
          "BRASILEIRO",
          "BRASILEIRO",
          "BRASILEIRO",
          "BRASILEIRO",
          "BRASILEIRO",
          "BRASILEIRO",
          "BRASILEIRO",
          "BRASILEIRO",
          "BRASILEIRO",
          "BRASILEIRO",
          "BRASILEIRO",
          "BRASILEIRO",
          "BRASILEIRO",
          "BRASILEIRO",
          "BRASILEIRO",
          "BRASILEIRO",
          "BRASILEIRO",
          "BRASILEIRO",
          "BRASILEIRO",
          "BRASILEIRO",
          "BRASILEIRO",
          "BRASILEIRO",
          "BRASILEIRO",
          "BRASILEIRO",
          "BRASILEIRO",
          "BRASILEIRO",
          "BRASILEIRO",
          "BRASILEIRO",
          "BRASILEIRO",
          "BRASILEIRO",
          "BRASILEIRO",
          "BRASILEIRO",
          "BRASILEIRO",
          "BRASILEIRO",
          "BRASILEIRO",
          "BRASILEIRO",
          "BRASILEIRO",
          "BRASILEIRO",
          "BRASILEIRO",
          "BRASILEIRO",
          "BRASILEIRO",
          "BRASILEIRO"
         ],
         "legendgroup": "",
         "name": "",
         "showlegend": true,
         "type": "pie"
        }
       ],
       "layout": {
        "annotations": [
         {
          "font": {},
          "showarrow": false,
          "text": "dataset=Finished",
          "x": 0.245,
          "xanchor": "center",
          "xref": "paper",
          "y": 1,
          "yanchor": "bottom",
          "yref": "paper"
         },
         {
          "font": {},
          "showarrow": false,
          "text": "dataset=Deactive",
          "x": 0.755,
          "xanchor": "center",
          "xref": "paper",
          "y": 1,
          "yanchor": "bottom",
          "yref": "paper"
         }
        ],
        "font": {
         "color": "Black",
         "family": "Courier New, monospace",
         "size": 18,
         "variant": "small-caps"
        },
        "legend": {
         "tracegroupgap": 0
        },
        "margin": {
         "t": 60
        },
        "template": {
         "data": {
          "bar": [
           {
            "error_x": {
             "color": "#2a3f5f"
            },
            "error_y": {
             "color": "#2a3f5f"
            },
            "marker": {
             "line": {
              "color": "#E5ECF6",
              "width": 0.5
             },
             "pattern": {
              "fillmode": "overlay",
              "size": 10,
              "solidity": 0.2
             }
            },
            "type": "bar"
           }
          ],
          "barpolar": [
           {
            "marker": {
             "line": {
              "color": "#E5ECF6",
              "width": 0.5
             },
             "pattern": {
              "fillmode": "overlay",
              "size": 10,
              "solidity": 0.2
             }
            },
            "type": "barpolar"
           }
          ],
          "carpet": [
           {
            "aaxis": {
             "endlinecolor": "#2a3f5f",
             "gridcolor": "white",
             "linecolor": "white",
             "minorgridcolor": "white",
             "startlinecolor": "#2a3f5f"
            },
            "baxis": {
             "endlinecolor": "#2a3f5f",
             "gridcolor": "white",
             "linecolor": "white",
             "minorgridcolor": "white",
             "startlinecolor": "#2a3f5f"
            },
            "type": "carpet"
           }
          ],
          "choropleth": [
           {
            "colorbar": {
             "outlinewidth": 0,
             "ticks": ""
            },
            "type": "choropleth"
           }
          ],
          "contour": [
           {
            "colorbar": {
             "outlinewidth": 0,
             "ticks": ""
            },
            "colorscale": [
             [
              0,
              "#0d0887"
             ],
             [
              0.1111111111111111,
              "#46039f"
             ],
             [
              0.2222222222222222,
              "#7201a8"
             ],
             [
              0.3333333333333333,
              "#9c179e"
             ],
             [
              0.4444444444444444,
              "#bd3786"
             ],
             [
              0.5555555555555556,
              "#d8576b"
             ],
             [
              0.6666666666666666,
              "#ed7953"
             ],
             [
              0.7777777777777778,
              "#fb9f3a"
             ],
             [
              0.8888888888888888,
              "#fdca26"
             ],
             [
              1,
              "#f0f921"
             ]
            ],
            "type": "contour"
           }
          ],
          "contourcarpet": [
           {
            "colorbar": {
             "outlinewidth": 0,
             "ticks": ""
            },
            "type": "contourcarpet"
           }
          ],
          "heatmap": [
           {
            "colorbar": {
             "outlinewidth": 0,
             "ticks": ""
            },
            "colorscale": [
             [
              0,
              "#0d0887"
             ],
             [
              0.1111111111111111,
              "#46039f"
             ],
             [
              0.2222222222222222,
              "#7201a8"
             ],
             [
              0.3333333333333333,
              "#9c179e"
             ],
             [
              0.4444444444444444,
              "#bd3786"
             ],
             [
              0.5555555555555556,
              "#d8576b"
             ],
             [
              0.6666666666666666,
              "#ed7953"
             ],
             [
              0.7777777777777778,
              "#fb9f3a"
             ],
             [
              0.8888888888888888,
              "#fdca26"
             ],
             [
              1,
              "#f0f921"
             ]
            ],
            "type": "heatmap"
           }
          ],
          "histogram": [
           {
            "marker": {
             "pattern": {
              "fillmode": "overlay",
              "size": 10,
              "solidity": 0.2
             }
            },
            "type": "histogram"
           }
          ],
          "histogram2d": [
           {
            "colorbar": {
             "outlinewidth": 0,
             "ticks": ""
            },
            "colorscale": [
             [
              0,
              "#0d0887"
             ],
             [
              0.1111111111111111,
              "#46039f"
             ],
             [
              0.2222222222222222,
              "#7201a8"
             ],
             [
              0.3333333333333333,
              "#9c179e"
             ],
             [
              0.4444444444444444,
              "#bd3786"
             ],
             [
              0.5555555555555556,
              "#d8576b"
             ],
             [
              0.6666666666666666,
              "#ed7953"
             ],
             [
              0.7777777777777778,
              "#fb9f3a"
             ],
             [
              0.8888888888888888,
              "#fdca26"
             ],
             [
              1,
              "#f0f921"
             ]
            ],
            "type": "histogram2d"
           }
          ],
          "histogram2dcontour": [
           {
            "colorbar": {
             "outlinewidth": 0,
             "ticks": ""
            },
            "colorscale": [
             [
              0,
              "#0d0887"
             ],
             [
              0.1111111111111111,
              "#46039f"
             ],
             [
              0.2222222222222222,
              "#7201a8"
             ],
             [
              0.3333333333333333,
              "#9c179e"
             ],
             [
              0.4444444444444444,
              "#bd3786"
             ],
             [
              0.5555555555555556,
              "#d8576b"
             ],
             [
              0.6666666666666666,
              "#ed7953"
             ],
             [
              0.7777777777777778,
              "#fb9f3a"
             ],
             [
              0.8888888888888888,
              "#fdca26"
             ],
             [
              1,
              "#f0f921"
             ]
            ],
            "type": "histogram2dcontour"
           }
          ],
          "mesh3d": [
           {
            "colorbar": {
             "outlinewidth": 0,
             "ticks": ""
            },
            "type": "mesh3d"
           }
          ],
          "parcoords": [
           {
            "line": {
             "colorbar": {
              "outlinewidth": 0,
              "ticks": ""
             }
            },
            "type": "parcoords"
           }
          ],
          "pie": [
           {
            "automargin": true,
            "type": "pie"
           }
          ],
          "scatter": [
           {
            "fillpattern": {
             "fillmode": "overlay",
             "size": 10,
             "solidity": 0.2
            },
            "type": "scatter"
           }
          ],
          "scatter3d": [
           {
            "line": {
             "colorbar": {
              "outlinewidth": 0,
              "ticks": ""
             }
            },
            "marker": {
             "colorbar": {
              "outlinewidth": 0,
              "ticks": ""
             }
            },
            "type": "scatter3d"
           }
          ],
          "scattercarpet": [
           {
            "marker": {
             "colorbar": {
              "outlinewidth": 0,
              "ticks": ""
             }
            },
            "type": "scattercarpet"
           }
          ],
          "scattergeo": [
           {
            "marker": {
             "colorbar": {
              "outlinewidth": 0,
              "ticks": ""
             }
            },
            "type": "scattergeo"
           }
          ],
          "scattergl": [
           {
            "marker": {
             "colorbar": {
              "outlinewidth": 0,
              "ticks": ""
             }
            },
            "type": "scattergl"
           }
          ],
          "scattermap": [
           {
            "marker": {
             "colorbar": {
              "outlinewidth": 0,
              "ticks": ""
             }
            },
            "type": "scattermap"
           }
          ],
          "scattermapbox": [
           {
            "marker": {
             "colorbar": {
              "outlinewidth": 0,
              "ticks": ""
             }
            },
            "type": "scattermapbox"
           }
          ],
          "scatterpolar": [
           {
            "marker": {
             "colorbar": {
              "outlinewidth": 0,
              "ticks": ""
             }
            },
            "type": "scatterpolar"
           }
          ],
          "scatterpolargl": [
           {
            "marker": {
             "colorbar": {
              "outlinewidth": 0,
              "ticks": ""
             }
            },
            "type": "scatterpolargl"
           }
          ],
          "scatterternary": [
           {
            "marker": {
             "colorbar": {
              "outlinewidth": 0,
              "ticks": ""
             }
            },
            "type": "scatterternary"
           }
          ],
          "surface": [
           {
            "colorbar": {
             "outlinewidth": 0,
             "ticks": ""
            },
            "colorscale": [
             [
              0,
              "#0d0887"
             ],
             [
              0.1111111111111111,
              "#46039f"
             ],
             [
              0.2222222222222222,
              "#7201a8"
             ],
             [
              0.3333333333333333,
              "#9c179e"
             ],
             [
              0.4444444444444444,
              "#bd3786"
             ],
             [
              0.5555555555555556,
              "#d8576b"
             ],
             [
              0.6666666666666666,
              "#ed7953"
             ],
             [
              0.7777777777777778,
              "#fb9f3a"
             ],
             [
              0.8888888888888888,
              "#fdca26"
             ],
             [
              1,
              "#f0f921"
             ]
            ],
            "type": "surface"
           }
          ],
          "table": [
           {
            "cells": {
             "fill": {
              "color": "#EBF0F8"
             },
             "line": {
              "color": "white"
             }
            },
            "header": {
             "fill": {
              "color": "#C8D4E3"
             },
             "line": {
              "color": "white"
             }
            },
            "type": "table"
           }
          ]
         },
         "layout": {
          "annotationdefaults": {
           "arrowcolor": "#2a3f5f",
           "arrowhead": 0,
           "arrowwidth": 1
          },
          "autotypenumbers": "strict",
          "coloraxis": {
           "colorbar": {
            "outlinewidth": 0,
            "ticks": ""
           }
          },
          "colorscale": {
           "diverging": [
            [
             0,
             "#8e0152"
            ],
            [
             0.1,
             "#c51b7d"
            ],
            [
             0.2,
             "#de77ae"
            ],
            [
             0.3,
             "#f1b6da"
            ],
            [
             0.4,
             "#fde0ef"
            ],
            [
             0.5,
             "#f7f7f7"
            ],
            [
             0.6,
             "#e6f5d0"
            ],
            [
             0.7,
             "#b8e186"
            ],
            [
             0.8,
             "#7fbc41"
            ],
            [
             0.9,
             "#4d9221"
            ],
            [
             1,
             "#276419"
            ]
           ],
           "sequential": [
            [
             0,
             "#0d0887"
            ],
            [
             0.1111111111111111,
             "#46039f"
            ],
            [
             0.2222222222222222,
             "#7201a8"
            ],
            [
             0.3333333333333333,
             "#9c179e"
            ],
            [
             0.4444444444444444,
             "#bd3786"
            ],
            [
             0.5555555555555556,
             "#d8576b"
            ],
            [
             0.6666666666666666,
             "#ed7953"
            ],
            [
             0.7777777777777778,
             "#fb9f3a"
            ],
            [
             0.8888888888888888,
             "#fdca26"
            ],
            [
             1,
             "#f0f921"
            ]
           ],
           "sequentialminus": [
            [
             0,
             "#0d0887"
            ],
            [
             0.1111111111111111,
             "#46039f"
            ],
            [
             0.2222222222222222,
             "#7201a8"
            ],
            [
             0.3333333333333333,
             "#9c179e"
            ],
            [
             0.4444444444444444,
             "#bd3786"
            ],
            [
             0.5555555555555556,
             "#d8576b"
            ],
            [
             0.6666666666666666,
             "#ed7953"
            ],
            [
             0.7777777777777778,
             "#fb9f3a"
            ],
            [
             0.8888888888888888,
             "#fdca26"
            ],
            [
             1,
             "#f0f921"
            ]
           ]
          },
          "colorway": [
           "#636efa",
           "#EF553B",
           "#00cc96",
           "#ab63fa",
           "#FFA15A",
           "#19d3f3",
           "#FF6692",
           "#B6E880",
           "#FF97FF",
           "#FECB52"
          ],
          "font": {
           "color": "#2a3f5f"
          },
          "geo": {
           "bgcolor": "white",
           "lakecolor": "white",
           "landcolor": "#E5ECF6",
           "showlakes": true,
           "showland": true,
           "subunitcolor": "white"
          },
          "hoverlabel": {
           "align": "left"
          },
          "hovermode": "closest",
          "mapbox": {
           "style": "light"
          },
          "paper_bgcolor": "white",
          "plot_bgcolor": "#E5ECF6",
          "polar": {
           "angularaxis": {
            "gridcolor": "white",
            "linecolor": "white",
            "ticks": ""
           },
           "bgcolor": "#E5ECF6",
           "radialaxis": {
            "gridcolor": "white",
            "linecolor": "white",
            "ticks": ""
           }
          },
          "scene": {
           "xaxis": {
            "backgroundcolor": "#E5ECF6",
            "gridcolor": "white",
            "gridwidth": 2,
            "linecolor": "white",
            "showbackground": true,
            "ticks": "",
            "zerolinecolor": "white"
           },
           "yaxis": {
            "backgroundcolor": "#E5ECF6",
            "gridcolor": "white",
            "gridwidth": 2,
            "linecolor": "white",
            "showbackground": true,
            "ticks": "",
            "zerolinecolor": "white"
           },
           "zaxis": {
            "backgroundcolor": "#E5ECF6",
            "gridcolor": "white",
            "gridwidth": 2,
            "linecolor": "white",
            "showbackground": true,
            "ticks": "",
            "zerolinecolor": "white"
           }
          },
          "shapedefaults": {
           "line": {
            "color": "#2a3f5f"
           }
          },
          "ternary": {
           "aaxis": {
            "gridcolor": "white",
            "linecolor": "white",
            "ticks": ""
           },
           "baxis": {
            "gridcolor": "white",
            "linecolor": "white",
            "ticks": ""
           },
           "bgcolor": "#E5ECF6",
           "caxis": {
            "gridcolor": "white",
            "linecolor": "white",
            "ticks": ""
           }
          },
          "title": {
           "x": 0.05
          },
          "xaxis": {
           "automargin": true,
           "gridcolor": "white",
           "linecolor": "white",
           "ticks": "",
           "title": {
            "standoff": 15
           },
           "zerolinecolor": "white",
           "zerolinewidth": 2
          },
          "yaxis": {
           "automargin": true,
           "gridcolor": "white",
           "linecolor": "white",
           "ticks": "",
           "title": {
            "standoff": 15
           },
           "zerolinecolor": "white",
           "zerolinewidth": 2
          }
         }
        },
        "title": {
         "text": "Nacionality "
        }
       }
      }
     },
     "metadata": {},
     "output_type": "display_data"
    }
   ],
   "source": [
    "px.pie(\n",
    "    x, \n",
    "    names='Tipo ingresso', \n",
    "    facet_col='dataset', \n",
    "    hole=0.3,\n",
    ").update_layout(title={\"text\": \"Application \"},font=my_font).show()\n",
    "\n",
    "px.pie(\n",
    "    x, \n",
    "    names='Raça', \n",
    "    facet_col='dataset', \n",
    "    hole=0.3,\n",
    ").update_layout(title={\"text\": \"Ethinic \"},font=my_font).show()\n",
    "\n",
    "\n",
    "px.pie(\n",
    "    x, \n",
    "    names='Sexo', \n",
    "    facet_col='dataset', \n",
    "    hole=0.3,\n",
    ").update_layout(title={\"text\": \"Sexo \"},font=my_font).show()\n",
    "\n",
    "\n",
    "px.pie(\n",
    "    x, \n",
    "    names='Nacionalidade', \n",
    "    facet_col='dataset', \n",
    "    hole=0.3,\n",
    ").update_layout(title={\"text\": \"Nacionality \"},font=my_font).show()"
   ]
  },
  {
   "cell_type": "code",
   "execution_count": 63,
   "id": "02c2f2d3-c314-4338-978c-a7643b7c2d57",
   "metadata": {},
   "outputs": [
    {
     "data": {
      "application/vnd.plotly.v1+json": {
       "config": {
        "plotlyServerURL": "https://plot.ly"
       },
       "data": [
        {
         "bingroup": "x",
         "histfunc": "sum",
         "hovertemplate": "Naturalidade=%{x}<br>sum of count=%{y}<extra></extra>",
         "legendgroup": "Barra Do Garcas",
         "marker": {
          "color": "#636efa",
          "pattern": {
           "shape": ""
          }
         },
         "name": "Barra Do Garcas",
         "orientation": "v",
         "showlegend": true,
         "type": "histogram",
         "x": [
          "Barra Do Garcas"
         ],
         "xaxis": "x",
         "y": {
          "bdata": "Gw==",
          "dtype": "i1"
         },
         "yaxis": "y"
        },
        {
         "bingroup": "x",
         "histfunc": "sum",
         "hovertemplate": "Naturalidade=%{x}<br>sum of count=%{y}<extra></extra>",
         "legendgroup": "Goiania",
         "marker": {
          "color": "#EF553B",
          "pattern": {
           "shape": ""
          }
         },
         "name": "Goiania",
         "orientation": "v",
         "showlegend": true,
         "type": "histogram",
         "x": [
          "Goiania"
         ],
         "xaxis": "x",
         "y": {
          "bdata": "Bg==",
          "dtype": "i1"
         },
         "yaxis": "y"
        },
        {
         "bingroup": "x",
         "histfunc": "sum",
         "hovertemplate": "Naturalidade=%{x}<br>sum of count=%{y}<extra></extra>",
         "legendgroup": "Barreiras",
         "marker": {
          "color": "#00cc96",
          "pattern": {
           "shape": ""
          }
         },
         "name": "Barreiras",
         "orientation": "v",
         "showlegend": true,
         "type": "histogram",
         "x": [
          "Barreiras"
         ],
         "xaxis": "x",
         "y": {
          "bdata": "Aw==",
          "dtype": "i1"
         },
         "yaxis": "y"
        },
        {
         "bingroup": "x",
         "histfunc": "sum",
         "hovertemplate": "Naturalidade=%{x}<br>sum of count=%{y}<extra></extra>",
         "legendgroup": "Agua Boa",
         "marker": {
          "color": "#ab63fa",
          "pattern": {
           "shape": ""
          }
         },
         "name": "Agua Boa",
         "orientation": "v",
         "showlegend": true,
         "type": "histogram",
         "x": [
          "Agua Boa"
         ],
         "xaxis": "x",
         "y": {
          "bdata": "Aw==",
          "dtype": "i1"
         },
         "yaxis": "y"
        },
        {
         "bingroup": "x",
         "histfunc": "sum",
         "hovertemplate": "Naturalidade=%{x}<br>sum of count=%{y}<extra></extra>",
         "legendgroup": "Rondonopolis",
         "marker": {
          "color": "#FFA15A",
          "pattern": {
           "shape": ""
          }
         },
         "name": "Rondonopolis",
         "orientation": "v",
         "showlegend": true,
         "type": "histogram",
         "x": [
          "Rondonopolis"
         ],
         "xaxis": "x",
         "y": {
          "bdata": "Aw==",
          "dtype": "i1"
         },
         "yaxis": "y"
        }
       ],
       "layout": {
        "barmode": "relative",
        "font": {
         "color": "Black",
         "family": "Courier New, monospace",
         "size": 18,
         "variant": "small-caps"
        },
        "legend": {
         "title": {
          "text": "Naturalidade"
         },
         "tracegroupgap": 0
        },
        "margin": {
         "t": 60
        },
        "template": {
         "data": {
          "bar": [
           {
            "error_x": {
             "color": "#2a3f5f"
            },
            "error_y": {
             "color": "#2a3f5f"
            },
            "marker": {
             "line": {
              "color": "#E5ECF6",
              "width": 0.5
             },
             "pattern": {
              "fillmode": "overlay",
              "size": 10,
              "solidity": 0.2
             }
            },
            "type": "bar"
           }
          ],
          "barpolar": [
           {
            "marker": {
             "line": {
              "color": "#E5ECF6",
              "width": 0.5
             },
             "pattern": {
              "fillmode": "overlay",
              "size": 10,
              "solidity": 0.2
             }
            },
            "type": "barpolar"
           }
          ],
          "carpet": [
           {
            "aaxis": {
             "endlinecolor": "#2a3f5f",
             "gridcolor": "white",
             "linecolor": "white",
             "minorgridcolor": "white",
             "startlinecolor": "#2a3f5f"
            },
            "baxis": {
             "endlinecolor": "#2a3f5f",
             "gridcolor": "white",
             "linecolor": "white",
             "minorgridcolor": "white",
             "startlinecolor": "#2a3f5f"
            },
            "type": "carpet"
           }
          ],
          "choropleth": [
           {
            "colorbar": {
             "outlinewidth": 0,
             "ticks": ""
            },
            "type": "choropleth"
           }
          ],
          "contour": [
           {
            "colorbar": {
             "outlinewidth": 0,
             "ticks": ""
            },
            "colorscale": [
             [
              0,
              "#0d0887"
             ],
             [
              0.1111111111111111,
              "#46039f"
             ],
             [
              0.2222222222222222,
              "#7201a8"
             ],
             [
              0.3333333333333333,
              "#9c179e"
             ],
             [
              0.4444444444444444,
              "#bd3786"
             ],
             [
              0.5555555555555556,
              "#d8576b"
             ],
             [
              0.6666666666666666,
              "#ed7953"
             ],
             [
              0.7777777777777778,
              "#fb9f3a"
             ],
             [
              0.8888888888888888,
              "#fdca26"
             ],
             [
              1,
              "#f0f921"
             ]
            ],
            "type": "contour"
           }
          ],
          "contourcarpet": [
           {
            "colorbar": {
             "outlinewidth": 0,
             "ticks": ""
            },
            "type": "contourcarpet"
           }
          ],
          "heatmap": [
           {
            "colorbar": {
             "outlinewidth": 0,
             "ticks": ""
            },
            "colorscale": [
             [
              0,
              "#0d0887"
             ],
             [
              0.1111111111111111,
              "#46039f"
             ],
             [
              0.2222222222222222,
              "#7201a8"
             ],
             [
              0.3333333333333333,
              "#9c179e"
             ],
             [
              0.4444444444444444,
              "#bd3786"
             ],
             [
              0.5555555555555556,
              "#d8576b"
             ],
             [
              0.6666666666666666,
              "#ed7953"
             ],
             [
              0.7777777777777778,
              "#fb9f3a"
             ],
             [
              0.8888888888888888,
              "#fdca26"
             ],
             [
              1,
              "#f0f921"
             ]
            ],
            "type": "heatmap"
           }
          ],
          "histogram": [
           {
            "marker": {
             "pattern": {
              "fillmode": "overlay",
              "size": 10,
              "solidity": 0.2
             }
            },
            "type": "histogram"
           }
          ],
          "histogram2d": [
           {
            "colorbar": {
             "outlinewidth": 0,
             "ticks": ""
            },
            "colorscale": [
             [
              0,
              "#0d0887"
             ],
             [
              0.1111111111111111,
              "#46039f"
             ],
             [
              0.2222222222222222,
              "#7201a8"
             ],
             [
              0.3333333333333333,
              "#9c179e"
             ],
             [
              0.4444444444444444,
              "#bd3786"
             ],
             [
              0.5555555555555556,
              "#d8576b"
             ],
             [
              0.6666666666666666,
              "#ed7953"
             ],
             [
              0.7777777777777778,
              "#fb9f3a"
             ],
             [
              0.8888888888888888,
              "#fdca26"
             ],
             [
              1,
              "#f0f921"
             ]
            ],
            "type": "histogram2d"
           }
          ],
          "histogram2dcontour": [
           {
            "colorbar": {
             "outlinewidth": 0,
             "ticks": ""
            },
            "colorscale": [
             [
              0,
              "#0d0887"
             ],
             [
              0.1111111111111111,
              "#46039f"
             ],
             [
              0.2222222222222222,
              "#7201a8"
             ],
             [
              0.3333333333333333,
              "#9c179e"
             ],
             [
              0.4444444444444444,
              "#bd3786"
             ],
             [
              0.5555555555555556,
              "#d8576b"
             ],
             [
              0.6666666666666666,
              "#ed7953"
             ],
             [
              0.7777777777777778,
              "#fb9f3a"
             ],
             [
              0.8888888888888888,
              "#fdca26"
             ],
             [
              1,
              "#f0f921"
             ]
            ],
            "type": "histogram2dcontour"
           }
          ],
          "mesh3d": [
           {
            "colorbar": {
             "outlinewidth": 0,
             "ticks": ""
            },
            "type": "mesh3d"
           }
          ],
          "parcoords": [
           {
            "line": {
             "colorbar": {
              "outlinewidth": 0,
              "ticks": ""
             }
            },
            "type": "parcoords"
           }
          ],
          "pie": [
           {
            "automargin": true,
            "type": "pie"
           }
          ],
          "scatter": [
           {
            "fillpattern": {
             "fillmode": "overlay",
             "size": 10,
             "solidity": 0.2
            },
            "type": "scatter"
           }
          ],
          "scatter3d": [
           {
            "line": {
             "colorbar": {
              "outlinewidth": 0,
              "ticks": ""
             }
            },
            "marker": {
             "colorbar": {
              "outlinewidth": 0,
              "ticks": ""
             }
            },
            "type": "scatter3d"
           }
          ],
          "scattercarpet": [
           {
            "marker": {
             "colorbar": {
              "outlinewidth": 0,
              "ticks": ""
             }
            },
            "type": "scattercarpet"
           }
          ],
          "scattergeo": [
           {
            "marker": {
             "colorbar": {
              "outlinewidth": 0,
              "ticks": ""
             }
            },
            "type": "scattergeo"
           }
          ],
          "scattergl": [
           {
            "marker": {
             "colorbar": {
              "outlinewidth": 0,
              "ticks": ""
             }
            },
            "type": "scattergl"
           }
          ],
          "scattermap": [
           {
            "marker": {
             "colorbar": {
              "outlinewidth": 0,
              "ticks": ""
             }
            },
            "type": "scattermap"
           }
          ],
          "scattermapbox": [
           {
            "marker": {
             "colorbar": {
              "outlinewidth": 0,
              "ticks": ""
             }
            },
            "type": "scattermapbox"
           }
          ],
          "scatterpolar": [
           {
            "marker": {
             "colorbar": {
              "outlinewidth": 0,
              "ticks": ""
             }
            },
            "type": "scatterpolar"
           }
          ],
          "scatterpolargl": [
           {
            "marker": {
             "colorbar": {
              "outlinewidth": 0,
              "ticks": ""
             }
            },
            "type": "scatterpolargl"
           }
          ],
          "scatterternary": [
           {
            "marker": {
             "colorbar": {
              "outlinewidth": 0,
              "ticks": ""
             }
            },
            "type": "scatterternary"
           }
          ],
          "surface": [
           {
            "colorbar": {
             "outlinewidth": 0,
             "ticks": ""
            },
            "colorscale": [
             [
              0,
              "#0d0887"
             ],
             [
              0.1111111111111111,
              "#46039f"
             ],
             [
              0.2222222222222222,
              "#7201a8"
             ],
             [
              0.3333333333333333,
              "#9c179e"
             ],
             [
              0.4444444444444444,
              "#bd3786"
             ],
             [
              0.5555555555555556,
              "#d8576b"
             ],
             [
              0.6666666666666666,
              "#ed7953"
             ],
             [
              0.7777777777777778,
              "#fb9f3a"
             ],
             [
              0.8888888888888888,
              "#fdca26"
             ],
             [
              1,
              "#f0f921"
             ]
            ],
            "type": "surface"
           }
          ],
          "table": [
           {
            "cells": {
             "fill": {
              "color": "#EBF0F8"
             },
             "line": {
              "color": "white"
             }
            },
            "header": {
             "fill": {
              "color": "#C8D4E3"
             },
             "line": {
              "color": "white"
             }
            },
            "type": "table"
           }
          ]
         },
         "layout": {
          "annotationdefaults": {
           "arrowcolor": "#2a3f5f",
           "arrowhead": 0,
           "arrowwidth": 1
          },
          "autotypenumbers": "strict",
          "coloraxis": {
           "colorbar": {
            "outlinewidth": 0,
            "ticks": ""
           }
          },
          "colorscale": {
           "diverging": [
            [
             0,
             "#8e0152"
            ],
            [
             0.1,
             "#c51b7d"
            ],
            [
             0.2,
             "#de77ae"
            ],
            [
             0.3,
             "#f1b6da"
            ],
            [
             0.4,
             "#fde0ef"
            ],
            [
             0.5,
             "#f7f7f7"
            ],
            [
             0.6,
             "#e6f5d0"
            ],
            [
             0.7,
             "#b8e186"
            ],
            [
             0.8,
             "#7fbc41"
            ],
            [
             0.9,
             "#4d9221"
            ],
            [
             1,
             "#276419"
            ]
           ],
           "sequential": [
            [
             0,
             "#0d0887"
            ],
            [
             0.1111111111111111,
             "#46039f"
            ],
            [
             0.2222222222222222,
             "#7201a8"
            ],
            [
             0.3333333333333333,
             "#9c179e"
            ],
            [
             0.4444444444444444,
             "#bd3786"
            ],
            [
             0.5555555555555556,
             "#d8576b"
            ],
            [
             0.6666666666666666,
             "#ed7953"
            ],
            [
             0.7777777777777778,
             "#fb9f3a"
            ],
            [
             0.8888888888888888,
             "#fdca26"
            ],
            [
             1,
             "#f0f921"
            ]
           ],
           "sequentialminus": [
            [
             0,
             "#0d0887"
            ],
            [
             0.1111111111111111,
             "#46039f"
            ],
            [
             0.2222222222222222,
             "#7201a8"
            ],
            [
             0.3333333333333333,
             "#9c179e"
            ],
            [
             0.4444444444444444,
             "#bd3786"
            ],
            [
             0.5555555555555556,
             "#d8576b"
            ],
            [
             0.6666666666666666,
             "#ed7953"
            ],
            [
             0.7777777777777778,
             "#fb9f3a"
            ],
            [
             0.8888888888888888,
             "#fdca26"
            ],
            [
             1,
             "#f0f921"
            ]
           ]
          },
          "colorway": [
           "#636efa",
           "#EF553B",
           "#00cc96",
           "#ab63fa",
           "#FFA15A",
           "#19d3f3",
           "#FF6692",
           "#B6E880",
           "#FF97FF",
           "#FECB52"
          ],
          "font": {
           "color": "#2a3f5f"
          },
          "geo": {
           "bgcolor": "white",
           "lakecolor": "white",
           "landcolor": "#E5ECF6",
           "showlakes": true,
           "showland": true,
           "subunitcolor": "white"
          },
          "hoverlabel": {
           "align": "left"
          },
          "hovermode": "closest",
          "mapbox": {
           "style": "light"
          },
          "paper_bgcolor": "white",
          "plot_bgcolor": "#E5ECF6",
          "polar": {
           "angularaxis": {
            "gridcolor": "white",
            "linecolor": "white",
            "ticks": ""
           },
           "bgcolor": "#E5ECF6",
           "radialaxis": {
            "gridcolor": "white",
            "linecolor": "white",
            "ticks": ""
           }
          },
          "scene": {
           "xaxis": {
            "backgroundcolor": "#E5ECF6",
            "gridcolor": "white",
            "gridwidth": 2,
            "linecolor": "white",
            "showbackground": true,
            "ticks": "",
            "zerolinecolor": "white"
           },
           "yaxis": {
            "backgroundcolor": "#E5ECF6",
            "gridcolor": "white",
            "gridwidth": 2,
            "linecolor": "white",
            "showbackground": true,
            "ticks": "",
            "zerolinecolor": "white"
           },
           "zaxis": {
            "backgroundcolor": "#E5ECF6",
            "gridcolor": "white",
            "gridwidth": 2,
            "linecolor": "white",
            "showbackground": true,
            "ticks": "",
            "zerolinecolor": "white"
           }
          },
          "shapedefaults": {
           "line": {
            "color": "#2a3f5f"
           }
          },
          "ternary": {
           "aaxis": {
            "gridcolor": "white",
            "linecolor": "white",
            "ticks": ""
           },
           "baxis": {
            "gridcolor": "white",
            "linecolor": "white",
            "ticks": ""
           },
           "bgcolor": "#E5ECF6",
           "caxis": {
            "gridcolor": "white",
            "linecolor": "white",
            "ticks": ""
           }
          },
          "title": {
           "x": 0.05
          },
          "xaxis": {
           "automargin": true,
           "gridcolor": "white",
           "linecolor": "white",
           "ticks": "",
           "title": {
            "standoff": 15
           },
           "zerolinecolor": "white",
           "zerolinewidth": 2
          },
          "yaxis": {
           "automargin": true,
           "gridcolor": "white",
           "linecolor": "white",
           "ticks": "",
           "title": {
            "standoff": 15
           },
           "zerolinecolor": "white",
           "zerolinewidth": 2
          }
         }
        },
        "title": {
         "text": "Undergrads"
        },
        "xaxis": {
         "anchor": "y",
         "categoryarray": [
          "Barra Do Garcas",
          "Goiania",
          "Barreiras",
          "Agua Boa",
          "Rondonopolis"
         ],
         "categoryorder": "array",
         "domain": [
          0,
          1
         ],
         "title": {
          "text": "Naturalidade"
         }
        },
        "yaxis": {
         "anchor": "x",
         "domain": [
          0,
          1
         ],
         "title": {
          "text": "sum of count"
         }
        }
       }
      },
      "image/png": "[encoded data removed]"
     },
     "metadata": {},
     "output_type": "display_data"
    },
    {
     "data": {
      "application/vnd.plotly.v1+json": {
       "config": {
        "plotlyServerURL": "https://plot.ly"
       },
       "data": [
        {
         "bingroup": "x",
         "histfunc": "sum",
         "hovertemplate": "Naturalidade=%{x}<br>sum of count=%{y}<extra></extra>",
         "legendgroup": "Barra Do Garcas",
         "marker": {
          "color": "#636efa",
          "pattern": {
           "shape": ""
          }
         },
         "name": "Barra Do Garcas",
         "orientation": "v",
         "showlegend": true,
         "type": "histogram",
         "x": [
          "Barra Do Garcas"
         ],
         "xaxis": "x",
         "y": {
          "bdata": "Wg==",
          "dtype": "i1"
         },
         "yaxis": "y"
        },
        {
         "bingroup": "x",
         "histfunc": "sum",
         "hovertemplate": "Naturalidade=%{x}<br>sum of count=%{y}<extra></extra>",
         "legendgroup": "Aragarcas",
         "marker": {
          "color": "#EF553B",
          "pattern": {
           "shape": ""
          }
         },
         "name": "Aragarcas",
         "orientation": "v",
         "showlegend": true,
         "type": "histogram",
         "x": [
          "Aragarcas"
         ],
         "xaxis": "x",
         "y": {
          "bdata": "Gg==",
          "dtype": "i1"
         },
         "yaxis": "y"
        },
        {
         "bingroup": "x",
         "histfunc": "sum",
         "hovertemplate": "Naturalidade=%{x}<br>sum of count=%{y}<extra></extra>",
         "legendgroup": "Goiania",
         "marker": {
          "color": "#00cc96",
          "pattern": {
           "shape": ""
          }
         },
         "name": "Goiania",
         "orientation": "v",
         "showlegend": true,
         "type": "histogram",
         "x": [
          "Goiania"
         ],
         "xaxis": "x",
         "y": {
          "bdata": "Eg==",
          "dtype": "i1"
         },
         "yaxis": "y"
        },
        {
         "bingroup": "x",
         "histfunc": "sum",
         "hovertemplate": "Naturalidade=%{x}<br>sum of count=%{y}<extra></extra>",
         "legendgroup": "Brasilia",
         "marker": {
          "color": "#ab63fa",
          "pattern": {
           "shape": ""
          }
         },
         "name": "Brasilia",
         "orientation": "v",
         "showlegend": true,
         "type": "histogram",
         "x": [
          "Brasilia"
         ],
         "xaxis": "x",
         "y": {
          "bdata": "Dw==",
          "dtype": "i1"
         },
         "yaxis": "y"
        },
        {
         "bingroup": "x",
         "histfunc": "sum",
         "hovertemplate": "Naturalidade=%{x}<br>sum of count=%{y}<extra></extra>",
         "legendgroup": "Cuiaba",
         "marker": {
          "color": "#FFA15A",
          "pattern": {
           "shape": ""
          }
         },
         "name": "Cuiaba",
         "orientation": "v",
         "showlegend": true,
         "type": "histogram",
         "x": [
          "Cuiaba"
         ],
         "xaxis": "x",
         "y": {
          "bdata": "DQ==",
          "dtype": "i1"
         },
         "yaxis": "y"
        }
       ],
       "layout": {
        "barmode": "relative",
        "font": {
         "color": "Black",
         "family": "Courier New, monospace",
         "size": 18,
         "variant": "small-caps"
        },
        "legend": {
         "title": {
          "text": "Naturalidade"
         },
         "tracegroupgap": 0
        },
        "margin": {
         "t": 60
        },
        "template": {
         "data": {
          "bar": [
           {
            "error_x": {
             "color": "#2a3f5f"
            },
            "error_y": {
             "color": "#2a3f5f"
            },
            "marker": {
             "line": {
              "color": "#E5ECF6",
              "width": 0.5
             },
             "pattern": {
              "fillmode": "overlay",
              "size": 10,
              "solidity": 0.2
             }
            },
            "type": "bar"
           }
          ],
          "barpolar": [
           {
            "marker": {
             "line": {
              "color": "#E5ECF6",
              "width": 0.5
             },
             "pattern": {
              "fillmode": "overlay",
              "size": 10,
              "solidity": 0.2
             }
            },
            "type": "barpolar"
           }
          ],
          "carpet": [
           {
            "aaxis": {
             "endlinecolor": "#2a3f5f",
             "gridcolor": "white",
             "linecolor": "white",
             "minorgridcolor": "white",
             "startlinecolor": "#2a3f5f"
            },
            "baxis": {
             "endlinecolor": "#2a3f5f",
             "gridcolor": "white",
             "linecolor": "white",
             "minorgridcolor": "white",
             "startlinecolor": "#2a3f5f"
            },
            "type": "carpet"
           }
          ],
          "choropleth": [
           {
            "colorbar": {
             "outlinewidth": 0,
             "ticks": ""
            },
            "type": "choropleth"
           }
          ],
          "contour": [
           {
            "colorbar": {
             "outlinewidth": 0,
             "ticks": ""
            },
            "colorscale": [
             [
              0,
              "#0d0887"
             ],
             [
              0.1111111111111111,
              "#46039f"
             ],
             [
              0.2222222222222222,
              "#7201a8"
             ],
             [
              0.3333333333333333,
              "#9c179e"
             ],
             [
              0.4444444444444444,
              "#bd3786"
             ],
             [
              0.5555555555555556,
              "#d8576b"
             ],
             [
              0.6666666666666666,
              "#ed7953"
             ],
             [
              0.7777777777777778,
              "#fb9f3a"
             ],
             [
              0.8888888888888888,
              "#fdca26"
             ],
             [
              1,
              "#f0f921"
             ]
            ],
            "type": "contour"
           }
          ],
          "contourcarpet": [
           {
            "colorbar": {
             "outlinewidth": 0,
             "ticks": ""
            },
            "type": "contourcarpet"
           }
          ],
          "heatmap": [
           {
            "colorbar": {
             "outlinewidth": 0,
             "ticks": ""
            },
            "colorscale": [
             [
              0,
              "#0d0887"
             ],
             [
              0.1111111111111111,
              "#46039f"
             ],
             [
              0.2222222222222222,
              "#7201a8"
             ],
             [
              0.3333333333333333,
              "#9c179e"
             ],
             [
              0.4444444444444444,
              "#bd3786"
             ],
             [
              0.5555555555555556,
              "#d8576b"
             ],
             [
              0.6666666666666666,
              "#ed7953"
             ],
             [
              0.7777777777777778,
              "#fb9f3a"
             ],
             [
              0.8888888888888888,
              "#fdca26"
             ],
             [
              1,
              "#f0f921"
             ]
            ],
            "type": "heatmap"
           }
          ],
          "histogram": [
           {
            "marker": {
             "pattern": {
              "fillmode": "overlay",
              "size": 10,
              "solidity": 0.2
             }
            },
            "type": "histogram"
           }
          ],
          "histogram2d": [
           {
            "colorbar": {
             "outlinewidth": 0,
             "ticks": ""
            },
            "colorscale": [
             [
              0,
              "#0d0887"
             ],
             [
              0.1111111111111111,
              "#46039f"
             ],
             [
              0.2222222222222222,
              "#7201a8"
             ],
             [
              0.3333333333333333,
              "#9c179e"
             ],
             [
              0.4444444444444444,
              "#bd3786"
             ],
             [
              0.5555555555555556,
              "#d8576b"
             ],
             [
              0.6666666666666666,
              "#ed7953"
             ],
             [
              0.7777777777777778,
              "#fb9f3a"
             ],
             [
              0.8888888888888888,
              "#fdca26"
             ],
             [
              1,
              "#f0f921"
             ]
            ],
            "type": "histogram2d"
           }
          ],
          "histogram2dcontour": [
           {
            "colorbar": {
             "outlinewidth": 0,
             "ticks": ""
            },
            "colorscale": [
             [
              0,
              "#0d0887"
             ],
             [
              0.1111111111111111,
              "#46039f"
             ],
             [
              0.2222222222222222,
              "#7201a8"
             ],
             [
              0.3333333333333333,
              "#9c179e"
             ],
             [
              0.4444444444444444,
              "#bd3786"
             ],
             [
              0.5555555555555556,
              "#d8576b"
             ],
             [
              0.6666666666666666,
              "#ed7953"
             ],
             [
              0.7777777777777778,
              "#fb9f3a"
             ],
             [
              0.8888888888888888,
              "#fdca26"
             ],
             [
              1,
              "#f0f921"
             ]
            ],
            "type": "histogram2dcontour"
           }
          ],
          "mesh3d": [
           {
            "colorbar": {
             "outlinewidth": 0,
             "ticks": ""
            },
            "type": "mesh3d"
           }
          ],
          "parcoords": [
           {
            "line": {
             "colorbar": {
              "outlinewidth": 0,
              "ticks": ""
             }
            },
            "type": "parcoords"
           }
          ],
          "pie": [
           {
            "automargin": true,
            "type": "pie"
           }
          ],
          "scatter": [
           {
            "fillpattern": {
             "fillmode": "overlay",
             "size": 10,
             "solidity": 0.2
            },
            "type": "scatter"
           }
          ],
          "scatter3d": [
           {
            "line": {
             "colorbar": {
              "outlinewidth": 0,
              "ticks": ""
             }
            },
            "marker": {
             "colorbar": {
              "outlinewidth": 0,
              "ticks": ""
             }
            },
            "type": "scatter3d"
           }
          ],
          "scattercarpet": [
           {
            "marker": {
             "colorbar": {
              "outlinewidth": 0,
              "ticks": ""
             }
            },
            "type": "scattercarpet"
           }
          ],
          "scattergeo": [
           {
            "marker": {
             "colorbar": {
              "outlinewidth": 0,
              "ticks": ""
             }
            },
            "type": "scattergeo"
           }
          ],
          "scattergl": [
           {
            "marker": {
             "colorbar": {
              "outlinewidth": 0,
              "ticks": ""
             }
            },
            "type": "scattergl"
           }
          ],
          "scattermap": [
           {
            "marker": {
             "colorbar": {
              "outlinewidth": 0,
              "ticks": ""
             }
            },
            "type": "scattermap"
           }
          ],
          "scattermapbox": [
           {
            "marker": {
             "colorbar": {
              "outlinewidth": 0,
              "ticks": ""
             }
            },
            "type": "scattermapbox"
           }
          ],
          "scatterpolar": [
           {
            "marker": {
             "colorbar": {
              "outlinewidth": 0,
              "ticks": ""
             }
            },
            "type": "scatterpolar"
           }
          ],
          "scatterpolargl": [
           {
            "marker": {
             "colorbar": {
              "outlinewidth": 0,
              "ticks": ""
             }
            },
            "type": "scatterpolargl"
           }
          ],
          "scatterternary": [
           {
            "marker": {
             "colorbar": {
              "outlinewidth": 0,
              "ticks": ""
             }
            },
            "type": "scatterternary"
           }
          ],
          "surface": [
           {
            "colorbar": {
             "outlinewidth": 0,
             "ticks": ""
            },
            "colorscale": [
             [
              0,
              "#0d0887"
             ],
             [
              0.1111111111111111,
              "#46039f"
             ],
             [
              0.2222222222222222,
              "#7201a8"
             ],
             [
              0.3333333333333333,
              "#9c179e"
             ],
             [
              0.4444444444444444,
              "#bd3786"
             ],
             [
              0.5555555555555556,
              "#d8576b"
             ],
             [
              0.6666666666666666,
              "#ed7953"
             ],
             [
              0.7777777777777778,
              "#fb9f3a"
             ],
             [
              0.8888888888888888,
              "#fdca26"
             ],
             [
              1,
              "#f0f921"
             ]
            ],
            "type": "surface"
           }
          ],
          "table": [
           {
            "cells": {
             "fill": {
              "color": "#EBF0F8"
             },
             "line": {
              "color": "white"
             }
            },
            "header": {
             "fill": {
              "color": "#C8D4E3"
             },
             "line": {
              "color": "white"
             }
            },
            "type": "table"
           }
          ]
         },
         "layout": {
          "annotationdefaults": {
           "arrowcolor": "#2a3f5f",
           "arrowhead": 0,
           "arrowwidth": 1
          },
          "autotypenumbers": "strict",
          "coloraxis": {
           "colorbar": {
            "outlinewidth": 0,
            "ticks": ""
           }
          },
          "colorscale": {
           "diverging": [
            [
             0,
             "#8e0152"
            ],
            [
             0.1,
             "#c51b7d"
            ],
            [
             0.2,
             "#de77ae"
            ],
            [
             0.3,
             "#f1b6da"
            ],
            [
             0.4,
             "#fde0ef"
            ],
            [
             0.5,
             "#f7f7f7"
            ],
            [
             0.6,
             "#e6f5d0"
            ],
            [
             0.7,
             "#b8e186"
            ],
            [
             0.8,
             "#7fbc41"
            ],
            [
             0.9,
             "#4d9221"
            ],
            [
             1,
             "#276419"
            ]
           ],
           "sequential": [
            [
             0,
             "#0d0887"
            ],
            [
             0.1111111111111111,
             "#46039f"
            ],
            [
             0.2222222222222222,
             "#7201a8"
            ],
            [
             0.3333333333333333,
             "#9c179e"
            ],
            [
             0.4444444444444444,
             "#bd3786"
            ],
            [
             0.5555555555555556,
             "#d8576b"
            ],
            [
             0.6666666666666666,
             "#ed7953"
            ],
            [
             0.7777777777777778,
             "#fb9f3a"
            ],
            [
             0.8888888888888888,
             "#fdca26"
            ],
            [
             1,
             "#f0f921"
            ]
           ],
           "sequentialminus": [
            [
             0,
             "#0d0887"
            ],
            [
             0.1111111111111111,
             "#46039f"
            ],
            [
             0.2222222222222222,
             "#7201a8"
            ],
            [
             0.3333333333333333,
             "#9c179e"
            ],
            [
             0.4444444444444444,
             "#bd3786"
            ],
            [
             0.5555555555555556,
             "#d8576b"
            ],
            [
             0.6666666666666666,
             "#ed7953"
            ],
            [
             0.7777777777777778,
             "#fb9f3a"
            ],
            [
             0.8888888888888888,
             "#fdca26"
            ],
            [
             1,
             "#f0f921"
            ]
           ]
          },
          "colorway": [
           "#636efa",
           "#EF553B",
           "#00cc96",
           "#ab63fa",
           "#FFA15A",
           "#19d3f3",
           "#FF6692",
           "#B6E880",
           "#FF97FF",
           "#FECB52"
          ],
          "font": {
           "color": "#2a3f5f"
          },
          "geo": {
           "bgcolor": "white",
           "lakecolor": "white",
           "landcolor": "#E5ECF6",
           "showlakes": true,
           "showland": true,
           "subunitcolor": "white"
          },
          "hoverlabel": {
           "align": "left"
          },
          "hovermode": "closest",
          "mapbox": {
           "style": "light"
          },
          "paper_bgcolor": "white",
          "plot_bgcolor": "#E5ECF6",
          "polar": {
           "angularaxis": {
            "gridcolor": "white",
            "linecolor": "white",
            "ticks": ""
           },
           "bgcolor": "#E5ECF6",
           "radialaxis": {
            "gridcolor": "white",
            "linecolor": "white",
            "ticks": ""
           }
          },
          "scene": {
           "xaxis": {
            "backgroundcolor": "#E5ECF6",
            "gridcolor": "white",
            "gridwidth": 2,
            "linecolor": "white",
            "showbackground": true,
            "ticks": "",
            "zerolinecolor": "white"
           },
           "yaxis": {
            "backgroundcolor": "#E5ECF6",
            "gridcolor": "white",
            "gridwidth": 2,
            "linecolor": "white",
            "showbackground": true,
            "ticks": "",
            "zerolinecolor": "white"
           },
           "zaxis": {
            "backgroundcolor": "#E5ECF6",
            "gridcolor": "white",
            "gridwidth": 2,
            "linecolor": "white",
            "showbackground": true,
            "ticks": "",
            "zerolinecolor": "white"
           }
          },
          "shapedefaults": {
           "line": {
            "color": "#2a3f5f"
           }
          },
          "ternary": {
           "aaxis": {
            "gridcolor": "white",
            "linecolor": "white",
            "ticks": ""
           },
           "baxis": {
            "gridcolor": "white",
            "linecolor": "white",
            "ticks": ""
           },
           "bgcolor": "#E5ECF6",
           "caxis": {
            "gridcolor": "white",
            "linecolor": "white",
            "ticks": ""
           }
          },
          "title": {
           "x": 0.05
          },
          "xaxis": {
           "automargin": true,
           "gridcolor": "white",
           "linecolor": "white",
           "ticks": "",
           "title": {
            "standoff": 15
           },
           "zerolinecolor": "white",
           "zerolinewidth": 2
          },
          "yaxis": {
           "automargin": true,
           "gridcolor": "white",
           "linecolor": "white",
           "ticks": "",
           "title": {
            "standoff": 15
           },
           "zerolinecolor": "white",
           "zerolinewidth": 2
          }
         }
        },
        "title": {
         "text": "Dropout"
        },
        "xaxis": {
         "anchor": "y",
         "categoryarray": [
          "Barra Do Garcas",
          "Aragarcas",
          "Goiania",
          "Brasilia",
          "Cuiaba"
         ],
         "categoryorder": "array",
         "domain": [
          0,
          1
         ],
         "title": {
          "text": "Naturalidade"
         }
        },
        "yaxis": {
         "anchor": "x",
         "domain": [
          0,
          1
         ],
         "title": {
          "text": "sum of count"
         }
        }
       }
      },
      "image/png": "[encoded data removed]"
     },
     "metadata": {},
     "output_type": "display_data"
    }
   ],
   "source": [
    "x_grouped =  finished.groupby(['Naturalidade']).size().reset_index(name='count').sort_values(by='count', ascending=False)\n",
    "y_grouped =  dropout.groupby(['Naturalidade']).size().reset_index(name='count').sort_values(by='count', ascending=False)\n",
    "px.histogram(x_grouped.head(), x='Naturalidade', y='count', color='Naturalidade').update_layout(title={\"text\": \"Undergrads\"}, font=my_font).show()\n",
    "px.histogram(y_grouped.head(), x='Naturalidade', y='count', color='Naturalidade').update_layout(title={\"text\": \"Dropout\"}, font=my_font).show()\n"
   ]
  },
  {
   "cell_type": "code",
   "execution_count": 64,
   "id": "b9317815-a70e-421f-87d5-ae17f64ee915",
   "metadata": {},
   "outputs": [
    {
     "data": {
      "application/vnd.plotly.v1+json": {
       "config": {
        "plotlyServerURL": "https://plot.ly"
       },
       "data": [
        {
         "customdata": [
          [
           "MT"
          ],
          [
           "GO"
          ],
          [
           "SP"
          ],
          [
           "BA"
          ],
          [
           "MA"
          ]
         ],
         "domain": {
          "x": [
           0,
           1
          ],
          "y": [
           0,
           1
          ]
         },
         "hovertemplate": "UF Naturalidade=%{customdata[0]}<br>count=%{value}<extra></extra>",
         "labels": [
          "MT",
          "GO",
          "SP",
          "BA",
          "MA"
         ],
         "legendgroup": "",
         "marker": {
          "colors": [
           "#636efa",
           "#EF553B",
           "#00cc96",
           "#ab63fa",
           "#FFA15A"
          ]
         },
         "name": "",
         "showlegend": true,
         "type": "pie",
         "values": {
          "bdata": "NRwFBQM=",
          "dtype": "i1"
         }
        }
       ],
       "layout": {
        "font": {
         "color": "Black",
         "family": "Courier New, monospace",
         "size": 18,
         "variant": "small-caps"
        },
        "legend": {
         "tracegroupgap": 0
        },
        "margin": {
         "t": 60
        },
        "template": {
         "data": {
          "bar": [
           {
            "error_x": {
             "color": "#2a3f5f"
            },
            "error_y": {
             "color": "#2a3f5f"
            },
            "marker": {
             "line": {
              "color": "#E5ECF6",
              "width": 0.5
             },
             "pattern": {
              "fillmode": "overlay",
              "size": 10,
              "solidity": 0.2
             }
            },
            "type": "bar"
           }
          ],
          "barpolar": [
           {
            "marker": {
             "line": {
              "color": "#E5ECF6",
              "width": 0.5
             },
             "pattern": {
              "fillmode": "overlay",
              "size": 10,
              "solidity": 0.2
             }
            },
            "type": "barpolar"
           }
          ],
          "carpet": [
           {
            "aaxis": {
             "endlinecolor": "#2a3f5f",
             "gridcolor": "white",
             "linecolor": "white",
             "minorgridcolor": "white",
             "startlinecolor": "#2a3f5f"
            },
            "baxis": {
             "endlinecolor": "#2a3f5f",
             "gridcolor": "white",
             "linecolor": "white",
             "minorgridcolor": "white",
             "startlinecolor": "#2a3f5f"
            },
            "type": "carpet"
           }
          ],
          "choropleth": [
           {
            "colorbar": {
             "outlinewidth": 0,
             "ticks": ""
            },
            "type": "choropleth"
           }
          ],
          "contour": [
           {
            "colorbar": {
             "outlinewidth": 0,
             "ticks": ""
            },
            "colorscale": [
             [
              0,
              "#0d0887"
             ],
             [
              0.1111111111111111,
              "#46039f"
             ],
             [
              0.2222222222222222,
              "#7201a8"
             ],
             [
              0.3333333333333333,
              "#9c179e"
             ],
             [
              0.4444444444444444,
              "#bd3786"
             ],
             [
              0.5555555555555556,
              "#d8576b"
             ],
             [
              0.6666666666666666,
              "#ed7953"
             ],
             [
              0.7777777777777778,
              "#fb9f3a"
             ],
             [
              0.8888888888888888,
              "#fdca26"
             ],
             [
              1,
              "#f0f921"
             ]
            ],
            "type": "contour"
           }
          ],
          "contourcarpet": [
           {
            "colorbar": {
             "outlinewidth": 0,
             "ticks": ""
            },
            "type": "contourcarpet"
           }
          ],
          "heatmap": [
           {
            "colorbar": {
             "outlinewidth": 0,
             "ticks": ""
            },
            "colorscale": [
             [
              0,
              "#0d0887"
             ],
             [
              0.1111111111111111,
              "#46039f"
             ],
             [
              0.2222222222222222,
              "#7201a8"
             ],
             [
              0.3333333333333333,
              "#9c179e"
             ],
             [
              0.4444444444444444,
              "#bd3786"
             ],
             [
              0.5555555555555556,
              "#d8576b"
             ],
             [
              0.6666666666666666,
              "#ed7953"
             ],
             [
              0.7777777777777778,
              "#fb9f3a"
             ],
             [
              0.8888888888888888,
              "#fdca26"
             ],
             [
              1,
              "#f0f921"
             ]
            ],
            "type": "heatmap"
           }
          ],
          "histogram": [
           {
            "marker": {
             "pattern": {
              "fillmode": "overlay",
              "size": 10,
              "solidity": 0.2
             }
            },
            "type": "histogram"
           }
          ],
          "histogram2d": [
           {
            "colorbar": {
             "outlinewidth": 0,
             "ticks": ""
            },
            "colorscale": [
             [
              0,
              "#0d0887"
             ],
             [
              0.1111111111111111,
              "#46039f"
             ],
             [
              0.2222222222222222,
              "#7201a8"
             ],
             [
              0.3333333333333333,
              "#9c179e"
             ],
             [
              0.4444444444444444,
              "#bd3786"
             ],
             [
              0.5555555555555556,
              "#d8576b"
             ],
             [
              0.6666666666666666,
              "#ed7953"
             ],
             [
              0.7777777777777778,
              "#fb9f3a"
             ],
             [
              0.8888888888888888,
              "#fdca26"
             ],
             [
              1,
              "#f0f921"
             ]
            ],
            "type": "histogram2d"
           }
          ],
          "histogram2dcontour": [
           {
            "colorbar": {
             "outlinewidth": 0,
             "ticks": ""
            },
            "colorscale": [
             [
              0,
              "#0d0887"
             ],
             [
              0.1111111111111111,
              "#46039f"
             ],
             [
              0.2222222222222222,
              "#7201a8"
             ],
             [
              0.3333333333333333,
              "#9c179e"
             ],
             [
              0.4444444444444444,
              "#bd3786"
             ],
             [
              0.5555555555555556,
              "#d8576b"
             ],
             [
              0.6666666666666666,
              "#ed7953"
             ],
             [
              0.7777777777777778,
              "#fb9f3a"
             ],
             [
              0.8888888888888888,
              "#fdca26"
             ],
             [
              1,
              "#f0f921"
             ]
            ],
            "type": "histogram2dcontour"
           }
          ],
          "mesh3d": [
           {
            "colorbar": {
             "outlinewidth": 0,
             "ticks": ""
            },
            "type": "mesh3d"
           }
          ],
          "parcoords": [
           {
            "line": {
             "colorbar": {
              "outlinewidth": 0,
              "ticks": ""
             }
            },
            "type": "parcoords"
           }
          ],
          "pie": [
           {
            "automargin": true,
            "type": "pie"
           }
          ],
          "scatter": [
           {
            "fillpattern": {
             "fillmode": "overlay",
             "size": 10,
             "solidity": 0.2
            },
            "type": "scatter"
           }
          ],
          "scatter3d": [
           {
            "line": {
             "colorbar": {
              "outlinewidth": 0,
              "ticks": ""
             }
            },
            "marker": {
             "colorbar": {
              "outlinewidth": 0,
              "ticks": ""
             }
            },
            "type": "scatter3d"
           }
          ],
          "scattercarpet": [
           {
            "marker": {
             "colorbar": {
              "outlinewidth": 0,
              "ticks": ""
             }
            },
            "type": "scattercarpet"
           }
          ],
          "scattergeo": [
           {
            "marker": {
             "colorbar": {
              "outlinewidth": 0,
              "ticks": ""
             }
            },
            "type": "scattergeo"
           }
          ],
          "scattergl": [
           {
            "marker": {
             "colorbar": {
              "outlinewidth": 0,
              "ticks": ""
             }
            },
            "type": "scattergl"
           }
          ],
          "scattermap": [
           {
            "marker": {
             "colorbar": {
              "outlinewidth": 0,
              "ticks": ""
             }
            },
            "type": "scattermap"
           }
          ],
          "scattermapbox": [
           {
            "marker": {
             "colorbar": {
              "outlinewidth": 0,
              "ticks": ""
             }
            },
            "type": "scattermapbox"
           }
          ],
          "scatterpolar": [
           {
            "marker": {
             "colorbar": {
              "outlinewidth": 0,
              "ticks": ""
             }
            },
            "type": "scatterpolar"
           }
          ],
          "scatterpolargl": [
           {
            "marker": {
             "colorbar": {
              "outlinewidth": 0,
              "ticks": ""
             }
            },
            "type": "scatterpolargl"
           }
          ],
          "scatterternary": [
           {
            "marker": {
             "colorbar": {
              "outlinewidth": 0,
              "ticks": ""
             }
            },
            "type": "scatterternary"
           }
          ],
          "surface": [
           {
            "colorbar": {
             "outlinewidth": 0,
             "ticks": ""
            },
            "colorscale": [
             [
              0,
              "#0d0887"
             ],
             [
              0.1111111111111111,
              "#46039f"
             ],
             [
              0.2222222222222222,
              "#7201a8"
             ],
             [
              0.3333333333333333,
              "#9c179e"
             ],
             [
              0.4444444444444444,
              "#bd3786"
             ],
             [
              0.5555555555555556,
              "#d8576b"
             ],
             [
              0.6666666666666666,
              "#ed7953"
             ],
             [
              0.7777777777777778,
              "#fb9f3a"
             ],
             [
              0.8888888888888888,
              "#fdca26"
             ],
             [
              1,
              "#f0f921"
             ]
            ],
            "type": "surface"
           }
          ],
          "table": [
           {
            "cells": {
             "fill": {
              "color": "#EBF0F8"
             },
             "line": {
              "color": "white"
             }
            },
            "header": {
             "fill": {
              "color": "#C8D4E3"
             },
             "line": {
              "color": "white"
             }
            },
            "type": "table"
           }
          ]
         },
         "layout": {
          "annotationdefaults": {
           "arrowcolor": "#2a3f5f",
           "arrowhead": 0,
           "arrowwidth": 1
          },
          "autotypenumbers": "strict",
          "coloraxis": {
           "colorbar": {
            "outlinewidth": 0,
            "ticks": ""
           }
          },
          "colorscale": {
           "diverging": [
            [
             0,
             "#8e0152"
            ],
            [
             0.1,
             "#c51b7d"
            ],
            [
             0.2,
             "#de77ae"
            ],
            [
             0.3,
             "#f1b6da"
            ],
            [
             0.4,
             "#fde0ef"
            ],
            [
             0.5,
             "#f7f7f7"
            ],
            [
             0.6,
             "#e6f5d0"
            ],
            [
             0.7,
             "#b8e186"
            ],
            [
             0.8,
             "#7fbc41"
            ],
            [
             0.9,
             "#4d9221"
            ],
            [
             1,
             "#276419"
            ]
           ],
           "sequential": [
            [
             0,
             "#0d0887"
            ],
            [
             0.1111111111111111,
             "#46039f"
            ],
            [
             0.2222222222222222,
             "#7201a8"
            ],
            [
             0.3333333333333333,
             "#9c179e"
            ],
            [
             0.4444444444444444,
             "#bd3786"
            ],
            [
             0.5555555555555556,
             "#d8576b"
            ],
            [
             0.6666666666666666,
             "#ed7953"
            ],
            [
             0.7777777777777778,
             "#fb9f3a"
            ],
            [
             0.8888888888888888,
             "#fdca26"
            ],
            [
             1,
             "#f0f921"
            ]
           ],
           "sequentialminus": [
            [
             0,
             "#0d0887"
            ],
            [
             0.1111111111111111,
             "#46039f"
            ],
            [
             0.2222222222222222,
             "#7201a8"
            ],
            [
             0.3333333333333333,
             "#9c179e"
            ],
            [
             0.4444444444444444,
             "#bd3786"
            ],
            [
             0.5555555555555556,
             "#d8576b"
            ],
            [
             0.6666666666666666,
             "#ed7953"
            ],
            [
             0.7777777777777778,
             "#fb9f3a"
            ],
            [
             0.8888888888888888,
             "#fdca26"
            ],
            [
             1,
             "#f0f921"
            ]
           ]
          },
          "colorway": [
           "#636efa",
           "#EF553B",
           "#00cc96",
           "#ab63fa",
           "#FFA15A",
           "#19d3f3",
           "#FF6692",
           "#B6E880",
           "#FF97FF",
           "#FECB52"
          ],
          "font": {
           "color": "#2a3f5f"
          },
          "geo": {
           "bgcolor": "white",
           "lakecolor": "white",
           "landcolor": "#E5ECF6",
           "showlakes": true,
           "showland": true,
           "subunitcolor": "white"
          },
          "hoverlabel": {
           "align": "left"
          },
          "hovermode": "closest",
          "mapbox": {
           "style": "light"
          },
          "paper_bgcolor": "white",
          "plot_bgcolor": "#E5ECF6",
          "polar": {
           "angularaxis": {
            "gridcolor": "white",
            "linecolor": "white",
            "ticks": ""
           },
           "bgcolor": "#E5ECF6",
           "radialaxis": {
            "gridcolor": "white",
            "linecolor": "white",
            "ticks": ""
           }
          },
          "scene": {
           "xaxis": {
            "backgroundcolor": "#E5ECF6",
            "gridcolor": "white",
            "gridwidth": 2,
            "linecolor": "white",
            "showbackground": true,
            "ticks": "",
            "zerolinecolor": "white"
           },
           "yaxis": {
            "backgroundcolor": "#E5ECF6",
            "gridcolor": "white",
            "gridwidth": 2,
            "linecolor": "white",
            "showbackground": true,
            "ticks": "",
            "zerolinecolor": "white"
           },
           "zaxis": {
            "backgroundcolor": "#E5ECF6",
            "gridcolor": "white",
            "gridwidth": 2,
            "linecolor": "white",
            "showbackground": true,
            "ticks": "",
            "zerolinecolor": "white"
           }
          },
          "shapedefaults": {
           "line": {
            "color": "#2a3f5f"
           }
          },
          "ternary": {
           "aaxis": {
            "gridcolor": "white",
            "linecolor": "white",
            "ticks": ""
           },
           "baxis": {
            "gridcolor": "white",
            "linecolor": "white",
            "ticks": ""
           },
           "bgcolor": "#E5ECF6",
           "caxis": {
            "gridcolor": "white",
            "linecolor": "white",
            "ticks": ""
           }
          },
          "title": {
           "x": 0.05
          },
          "xaxis": {
           "automargin": true,
           "gridcolor": "white",
           "linecolor": "white",
           "ticks": "",
           "title": {
            "standoff": 15
           },
           "zerolinecolor": "white",
           "zerolinewidth": 2
          },
          "yaxis": {
           "automargin": true,
           "gridcolor": "white",
           "linecolor": "white",
           "ticks": "",
           "title": {
            "standoff": 15
           },
           "zerolinecolor": "white",
           "zerolinewidth": 2
          }
         }
        },
        "title": {
         "text": "Undergrads: Origin State"
        }
       }
      }
     },
     "metadata": {},
     "output_type": "display_data"
    },
    {
     "data": {
      "application/vnd.plotly.v1+json": {
       "config": {
        "plotlyServerURL": "https://plot.ly"
       },
       "data": [
        {
         "customdata": [
          [
           "MT"
          ],
          [
           "GO"
          ],
          [
           "SP"
          ],
          [
           "MG"
          ],
          [
           "DF"
          ]
         ],
         "domain": {
          "x": [
           0,
           1
          ],
          "y": [
           0,
           1
          ]
         },
         "hovertemplate": "UF Naturalidade=%{customdata[0]}<br>count=%{value}<extra></extra>",
         "labels": [
          "MT",
          "GO",
          "SP",
          "MG",
          "DF"
         ],
         "legendgroup": "",
         "marker": {
          "colors": [
           "#636efa",
           "#EF553B",
           "#00cc96",
           "#ab63fa",
           "#FFA15A"
          ]
         },
         "name": "",
         "showlegend": true,
         "type": "pie",
         "values": {
          "bdata": "qwBSABkADwAPAA==",
          "dtype": "i2"
         }
        }
       ],
       "layout": {
        "font": {
         "color": "Black",
         "family": "Courier New, monospace",
         "size": 18,
         "variant": "small-caps"
        },
        "legend": {
         "tracegroupgap": 0
        },
        "margin": {
         "t": 60
        },
        "template": {
         "data": {
          "bar": [
           {
            "error_x": {
             "color": "#2a3f5f"
            },
            "error_y": {
             "color": "#2a3f5f"
            },
            "marker": {
             "line": {
              "color": "#E5ECF6",
              "width": 0.5
             },
             "pattern": {
              "fillmode": "overlay",
              "size": 10,
              "solidity": 0.2
             }
            },
            "type": "bar"
           }
          ],
          "barpolar": [
           {
            "marker": {
             "line": {
              "color": "#E5ECF6",
              "width": 0.5
             },
             "pattern": {
              "fillmode": "overlay",
              "size": 10,
              "solidity": 0.2
             }
            },
            "type": "barpolar"
           }
          ],
          "carpet": [
           {
            "aaxis": {
             "endlinecolor": "#2a3f5f",
             "gridcolor": "white",
             "linecolor": "white",
             "minorgridcolor": "white",
             "startlinecolor": "#2a3f5f"
            },
            "baxis": {
             "endlinecolor": "#2a3f5f",
             "gridcolor": "white",
             "linecolor": "white",
             "minorgridcolor": "white",
             "startlinecolor": "#2a3f5f"
            },
            "type": "carpet"
           }
          ],
          "choropleth": [
           {
            "colorbar": {
             "outlinewidth": 0,
             "ticks": ""
            },
            "type": "choropleth"
           }
          ],
          "contour": [
           {
            "colorbar": {
             "outlinewidth": 0,
             "ticks": ""
            },
            "colorscale": [
             [
              0,
              "#0d0887"
             ],
             [
              0.1111111111111111,
              "#46039f"
             ],
             [
              0.2222222222222222,
              "#7201a8"
             ],
             [
              0.3333333333333333,
              "#9c179e"
             ],
             [
              0.4444444444444444,
              "#bd3786"
             ],
             [
              0.5555555555555556,
              "#d8576b"
             ],
             [
              0.6666666666666666,
              "#ed7953"
             ],
             [
              0.7777777777777778,
              "#fb9f3a"
             ],
             [
              0.8888888888888888,
              "#fdca26"
             ],
             [
              1,
              "#f0f921"
             ]
            ],
            "type": "contour"
           }
          ],
          "contourcarpet": [
           {
            "colorbar": {
             "outlinewidth": 0,
             "ticks": ""
            },
            "type": "contourcarpet"
           }
          ],
          "heatmap": [
           {
            "colorbar": {
             "outlinewidth": 0,
             "ticks": ""
            },
            "colorscale": [
             [
              0,
              "#0d0887"
             ],
             [
              0.1111111111111111,
              "#46039f"
             ],
             [
              0.2222222222222222,
              "#7201a8"
             ],
             [
              0.3333333333333333,
              "#9c179e"
             ],
             [
              0.4444444444444444,
              "#bd3786"
             ],
             [
              0.5555555555555556,
              "#d8576b"
             ],
             [
              0.6666666666666666,
              "#ed7953"
             ],
             [
              0.7777777777777778,
              "#fb9f3a"
             ],
             [
              0.8888888888888888,
              "#fdca26"
             ],
             [
              1,
              "#f0f921"
             ]
            ],
            "type": "heatmap"
           }
          ],
          "histogram": [
           {
            "marker": {
             "pattern": {
              "fillmode": "overlay",
              "size": 10,
              "solidity": 0.2
             }
            },
            "type": "histogram"
           }
          ],
          "histogram2d": [
           {
            "colorbar": {
             "outlinewidth": 0,
             "ticks": ""
            },
            "colorscale": [
             [
              0,
              "#0d0887"
             ],
             [
              0.1111111111111111,
              "#46039f"
             ],
             [
              0.2222222222222222,
              "#7201a8"
             ],
             [
              0.3333333333333333,
              "#9c179e"
             ],
             [
              0.4444444444444444,
              "#bd3786"
             ],
             [
              0.5555555555555556,
              "#d8576b"
             ],
             [
              0.6666666666666666,
              "#ed7953"
             ],
             [
              0.7777777777777778,
              "#fb9f3a"
             ],
             [
              0.8888888888888888,
              "#fdca26"
             ],
             [
              1,
              "#f0f921"
             ]
            ],
            "type": "histogram2d"
           }
          ],
          "histogram2dcontour": [
           {
            "colorbar": {
             "outlinewidth": 0,
             "ticks": ""
            },
            "colorscale": [
             [
              0,
              "#0d0887"
             ],
             [
              0.1111111111111111,
              "#46039f"
             ],
             [
              0.2222222222222222,
              "#7201a8"
             ],
             [
              0.3333333333333333,
              "#9c179e"
             ],
             [
              0.4444444444444444,
              "#bd3786"
             ],
             [
              0.5555555555555556,
              "#d8576b"
             ],
             [
              0.6666666666666666,
              "#ed7953"
             ],
             [
              0.7777777777777778,
              "#fb9f3a"
             ],
             [
              0.8888888888888888,
              "#fdca26"
             ],
             [
              1,
              "#f0f921"
             ]
            ],
            "type": "histogram2dcontour"
           }
          ],
          "mesh3d": [
           {
            "colorbar": {
             "outlinewidth": 0,
             "ticks": ""
            },
            "type": "mesh3d"
           }
          ],
          "parcoords": [
           {
            "line": {
             "colorbar": {
              "outlinewidth": 0,
              "ticks": ""
             }
            },
            "type": "parcoords"
           }
          ],
          "pie": [
           {
            "automargin": true,
            "type": "pie"
           }
          ],
          "scatter": [
           {
            "fillpattern": {
             "fillmode": "overlay",
             "size": 10,
             "solidity": 0.2
            },
            "type": "scatter"
           }
          ],
          "scatter3d": [
           {
            "line": {
             "colorbar": {
              "outlinewidth": 0,
              "ticks": ""
             }
            },
            "marker": {
             "colorbar": {
              "outlinewidth": 0,
              "ticks": ""
             }
            },
            "type": "scatter3d"
           }
          ],
          "scattercarpet": [
           {
            "marker": {
             "colorbar": {
              "outlinewidth": 0,
              "ticks": ""
             }
            },
            "type": "scattercarpet"
           }
          ],
          "scattergeo": [
           {
            "marker": {
             "colorbar": {
              "outlinewidth": 0,
              "ticks": ""
             }
            },
            "type": "scattergeo"
           }
          ],
          "scattergl": [
           {
            "marker": {
             "colorbar": {
              "outlinewidth": 0,
              "ticks": ""
             }
            },
            "type": "scattergl"
           }
          ],
          "scattermap": [
           {
            "marker": {
             "colorbar": {
              "outlinewidth": 0,
              "ticks": ""
             }
            },
            "type": "scattermap"
           }
          ],
          "scattermapbox": [
           {
            "marker": {
             "colorbar": {
              "outlinewidth": 0,
              "ticks": ""
             }
            },
            "type": "scattermapbox"
           }
          ],
          "scatterpolar": [
           {
            "marker": {
             "colorbar": {
              "outlinewidth": 0,
              "ticks": ""
             }
            },
            "type": "scatterpolar"
           }
          ],
          "scatterpolargl": [
           {
            "marker": {
             "colorbar": {
              "outlinewidth": 0,
              "ticks": ""
             }
            },
            "type": "scatterpolargl"
           }
          ],
          "scatterternary": [
           {
            "marker": {
             "colorbar": {
              "outlinewidth": 0,
              "ticks": ""
             }
            },
            "type": "scatterternary"
           }
          ],
          "surface": [
           {
            "colorbar": {
             "outlinewidth": 0,
             "ticks": ""
            },
            "colorscale": [
             [
              0,
              "#0d0887"
             ],
             [
              0.1111111111111111,
              "#46039f"
             ],
             [
              0.2222222222222222,
              "#7201a8"
             ],
             [
              0.3333333333333333,
              "#9c179e"
             ],
             [
              0.4444444444444444,
              "#bd3786"
             ],
             [
              0.5555555555555556,
              "#d8576b"
             ],
             [
              0.6666666666666666,
              "#ed7953"
             ],
             [
              0.7777777777777778,
              "#fb9f3a"
             ],
             [
              0.8888888888888888,
              "#fdca26"
             ],
             [
              1,
              "#f0f921"
             ]
            ],
            "type": "surface"
           }
          ],
          "table": [
           {
            "cells": {
             "fill": {
              "color": "#EBF0F8"
             },
             "line": {
              "color": "white"
             }
            },
            "header": {
             "fill": {
              "color": "#C8D4E3"
             },
             "line": {
              "color": "white"
             }
            },
            "type": "table"
           }
          ]
         },
         "layout": {
          "annotationdefaults": {
           "arrowcolor": "#2a3f5f",
           "arrowhead": 0,
           "arrowwidth": 1
          },
          "autotypenumbers": "strict",
          "coloraxis": {
           "colorbar": {
            "outlinewidth": 0,
            "ticks": ""
           }
          },
          "colorscale": {
           "diverging": [
            [
             0,
             "#8e0152"
            ],
            [
             0.1,
             "#c51b7d"
            ],
            [
             0.2,
             "#de77ae"
            ],
            [
             0.3,
             "#f1b6da"
            ],
            [
             0.4,
             "#fde0ef"
            ],
            [
             0.5,
             "#f7f7f7"
            ],
            [
             0.6,
             "#e6f5d0"
            ],
            [
             0.7,
             "#b8e186"
            ],
            [
             0.8,
             "#7fbc41"
            ],
            [
             0.9,
             "#4d9221"
            ],
            [
             1,
             "#276419"
            ]
           ],
           "sequential": [
            [
             0,
             "#0d0887"
            ],
            [
             0.1111111111111111,
             "#46039f"
            ],
            [
             0.2222222222222222,
             "#7201a8"
            ],
            [
             0.3333333333333333,
             "#9c179e"
            ],
            [
             0.4444444444444444,
             "#bd3786"
            ],
            [
             0.5555555555555556,
             "#d8576b"
            ],
            [
             0.6666666666666666,
             "#ed7953"
            ],
            [
             0.7777777777777778,
             "#fb9f3a"
            ],
            [
             0.8888888888888888,
             "#fdca26"
            ],
            [
             1,
             "#f0f921"
            ]
           ],
           "sequentialminus": [
            [
             0,
             "#0d0887"
            ],
            [
             0.1111111111111111,
             "#46039f"
            ],
            [
             0.2222222222222222,
             "#7201a8"
            ],
            [
             0.3333333333333333,
             "#9c179e"
            ],
            [
             0.4444444444444444,
             "#bd3786"
            ],
            [
             0.5555555555555556,
             "#d8576b"
            ],
            [
             0.6666666666666666,
             "#ed7953"
            ],
            [
             0.7777777777777778,
             "#fb9f3a"
            ],
            [
             0.8888888888888888,
             "#fdca26"
            ],
            [
             1,
             "#f0f921"
            ]
           ]
          },
          "colorway": [
           "#636efa",
           "#EF553B",
           "#00cc96",
           "#ab63fa",
           "#FFA15A",
           "#19d3f3",
           "#FF6692",
           "#B6E880",
           "#FF97FF",
           "#FECB52"
          ],
          "font": {
           "color": "#2a3f5f"
          },
          "geo": {
           "bgcolor": "white",
           "lakecolor": "white",
           "landcolor": "#E5ECF6",
           "showlakes": true,
           "showland": true,
           "subunitcolor": "white"
          },
          "hoverlabel": {
           "align": "left"
          },
          "hovermode": "closest",
          "mapbox": {
           "style": "light"
          },
          "paper_bgcolor": "white",
          "plot_bgcolor": "#E5ECF6",
          "polar": {
           "angularaxis": {
            "gridcolor": "white",
            "linecolor": "white",
            "ticks": ""
           },
           "bgcolor": "#E5ECF6",
           "radialaxis": {
            "gridcolor": "white",
            "linecolor": "white",
            "ticks": ""
           }
          },
          "scene": {
           "xaxis": {
            "backgroundcolor": "#E5ECF6",
            "gridcolor": "white",
            "gridwidth": 2,
            "linecolor": "white",
            "showbackground": true,
            "ticks": "",
            "zerolinecolor": "white"
           },
           "yaxis": {
            "backgroundcolor": "#E5ECF6",
            "gridcolor": "white",
            "gridwidth": 2,
            "linecolor": "white",
            "showbackground": true,
            "ticks": "",
            "zerolinecolor": "white"
           },
           "zaxis": {
            "backgroundcolor": "#E5ECF6",
            "gridcolor": "white",
            "gridwidth": 2,
            "linecolor": "white",
            "showbackground": true,
            "ticks": "",
            "zerolinecolor": "white"
           }
          },
          "shapedefaults": {
           "line": {
            "color": "#2a3f5f"
           }
          },
          "ternary": {
           "aaxis": {
            "gridcolor": "white",
            "linecolor": "white",
            "ticks": ""
           },
           "baxis": {
            "gridcolor": "white",
            "linecolor": "white",
            "ticks": ""
           },
           "bgcolor": "#E5ECF6",
           "caxis": {
            "gridcolor": "white",
            "linecolor": "white",
            "ticks": ""
           }
          },
          "title": {
           "x": 0.05
          },
          "xaxis": {
           "automargin": true,
           "gridcolor": "white",
           "linecolor": "white",
           "ticks": "",
           "title": {
            "standoff": 15
           },
           "zerolinecolor": "white",
           "zerolinewidth": 2
          },
          "yaxis": {
           "automargin": true,
           "gridcolor": "white",
           "linecolor": "white",
           "ticks": "",
           "title": {
            "standoff": 15
           },
           "zerolinecolor": "white",
           "zerolinewidth": 2
          }
         }
        },
        "title": {
         "text": "Dropout: Origin State"
        }
       }
      }
     },
     "metadata": {},
     "output_type": "display_data"
    }
   ],
   "source": [
    "x_grouped =  finished.groupby(['UF Naturalidade']).size().reset_index(name='count').sort_values(by='count', ascending=False)\n",
    "y_grouped =  dropout.groupby(['UF Naturalidade']).size().reset_index(name='count').sort_values(by='count', ascending=False)\n",
    "px.pie(x_grouped.head(), names='UF Naturalidade', values='count', color='UF Naturalidade').update_layout(title={\"text\": \"Undergrads: Origin State\"}, font=my_font).show()\n",
    "px.pie(y_grouped.head(), names='UF Naturalidade', values='count', color='UF Naturalidade').update_layout(title={\"text\": \"Dropout: Origin State\"}, font=my_font).show()\n"
   ]
  },
  {
   "cell_type": "markdown",
   "id": "5d097d7e-60f3-4c9c-87ab-ecfb8dba9af5",
   "metadata": {},
   "source": [
    "## Analysing the years of entrance"
   ]
  },
  {
   "cell_type": "code",
   "execution_count": 65,
   "id": "d3744ca3-9334-4c72-ac19-d44e04a2e05a",
   "metadata": {},
   "outputs": [
    {
     "data": {
      "application/vnd.plotly.v1+json": {
       "config": {
        "plotlyServerURL": "https://plot.ly"
       },
       "data": [
        {
         "bingroup": "x",
         "histfunc": "sum",
         "hovertemplate": "dataset=%{x}<br>sum of count=%{y}<extra></extra>",
         "legendgroup": "Deactive",
         "marker": {
          "color": "#636efa",
          "pattern": {
           "shape": ""
          }
         },
         "name": "Deactive",
         "orientation": "v",
         "showlegend": true,
         "type": "histogram",
         "x": [
          "Deactive",
          "Deactive",
          "Deactive",
          "Deactive",
          "Deactive",
          "Deactive",
          "Deactive",
          "Deactive",
          "Deactive",
          "Deactive",
          "Deactive",
          "Deactive",
          "Deactive",
          "Deactive",
          "Deactive",
          "Deactive",
          "Deactive",
          "Deactive",
          "Deactive",
          "Deactive",
          "Deactive",
          "Deactive",
          "Deactive",
          "Deactive",
          "Deactive",
          "Deactive",
          "Deactive",
          "Deactive"
         ],
         "xaxis": "x",
         "y": {
          "bdata": "LiQiIh8cGxoXCQgIBwUFBQUEBAMDAwMCAgIBAQ==",
          "dtype": "i1"
         },
         "yaxis": "y"
        },
        {
         "bingroup": "x",
         "histfunc": "sum",
         "hovertemplate": "dataset=%{x}<br>sum of count=%{y}<extra></extra>",
         "legendgroup": "Finished",
         "marker": {
          "color": "#EF553B",
          "pattern": {
           "shape": ""
          }
         },
         "name": "Finished",
         "orientation": "v",
         "showlegend": true,
         "type": "histogram",
         "x": [
          "Finished",
          "Finished",
          "Finished",
          "Finished",
          "Finished",
          "Finished",
          "Finished",
          "Finished",
          "Finished",
          "Finished",
          "Finished",
          "Finished",
          "Finished",
          "Finished",
          "Finished",
          "Finished",
          "Finished"
         ],
         "xaxis": "x",
         "y": {
          "bdata": "GQ4KCgkIBwUFAwMDAgICAgE=",
          "dtype": "i1"
         },
         "yaxis": "y"
        }
       ],
       "layout": {
        "bargap": 0.5,
        "barmode": "relative",
        "font": {
         "color": "Black",
         "family": "Courier New, monospace",
         "size": 18,
         "variant": "small-caps"
        },
        "legend": {
         "title": {
          "text": "dataset"
         },
         "tracegroupgap": 0
        },
        "margin": {
         "t": 60
        },
        "template": {
         "data": {
          "bar": [
           {
            "error_x": {
             "color": "#2a3f5f"
            },
            "error_y": {
             "color": "#2a3f5f"
            },
            "marker": {
             "line": {
              "color": "#E5ECF6",
              "width": 0.5
             },
             "pattern": {
              "fillmode": "overlay",
              "size": 10,
              "solidity": 0.2
             }
            },
            "type": "bar"
           }
          ],
          "barpolar": [
           {
            "marker": {
             "line": {
              "color": "#E5ECF6",
              "width": 0.5
             },
             "pattern": {
              "fillmode": "overlay",
              "size": 10,
              "solidity": 0.2
             }
            },
            "type": "barpolar"
           }
          ],
          "carpet": [
           {
            "aaxis": {
             "endlinecolor": "#2a3f5f",
             "gridcolor": "white",
             "linecolor": "white",
             "minorgridcolor": "white",
             "startlinecolor": "#2a3f5f"
            },
            "baxis": {
             "endlinecolor": "#2a3f5f",
             "gridcolor": "white",
             "linecolor": "white",
             "minorgridcolor": "white",
             "startlinecolor": "#2a3f5f"
            },
            "type": "carpet"
           }
          ],
          "choropleth": [
           {
            "colorbar": {
             "outlinewidth": 0,
             "ticks": ""
            },
            "type": "choropleth"
           }
          ],
          "contour": [
           {
            "colorbar": {
             "outlinewidth": 0,
             "ticks": ""
            },
            "colorscale": [
             [
              0,
              "#0d0887"
             ],
             [
              0.1111111111111111,
              "#46039f"
             ],
             [
              0.2222222222222222,
              "#7201a8"
             ],
             [
              0.3333333333333333,
              "#9c179e"
             ],
             [
              0.4444444444444444,
              "#bd3786"
             ],
             [
              0.5555555555555556,
              "#d8576b"
             ],
             [
              0.6666666666666666,
              "#ed7953"
             ],
             [
              0.7777777777777778,
              "#fb9f3a"
             ],
             [
              0.8888888888888888,
              "#fdca26"
             ],
             [
              1,
              "#f0f921"
             ]
            ],
            "type": "contour"
           }
          ],
          "contourcarpet": [
           {
            "colorbar": {
             "outlinewidth": 0,
             "ticks": ""
            },
            "type": "contourcarpet"
           }
          ],
          "heatmap": [
           {
            "colorbar": {
             "outlinewidth": 0,
             "ticks": ""
            },
            "colorscale": [
             [
              0,
              "#0d0887"
             ],
             [
              0.1111111111111111,
              "#46039f"
             ],
             [
              0.2222222222222222,
              "#7201a8"
             ],
             [
              0.3333333333333333,
              "#9c179e"
             ],
             [
              0.4444444444444444,
              "#bd3786"
             ],
             [
              0.5555555555555556,
              "#d8576b"
             ],
             [
              0.6666666666666666,
              "#ed7953"
             ],
             [
              0.7777777777777778,
              "#fb9f3a"
             ],
             [
              0.8888888888888888,
              "#fdca26"
             ],
             [
              1,
              "#f0f921"
             ]
            ],
            "type": "heatmap"
           }
          ],
          "histogram": [
           {
            "marker": {
             "pattern": {
              "fillmode": "overlay",
              "size": 10,
              "solidity": 0.2
             }
            },
            "type": "histogram"
           }
          ],
          "histogram2d": [
           {
            "colorbar": {
             "outlinewidth": 0,
             "ticks": ""
            },
            "colorscale": [
             [
              0,
              "#0d0887"
             ],
             [
              0.1111111111111111,
              "#46039f"
             ],
             [
              0.2222222222222222,
              "#7201a8"
             ],
             [
              0.3333333333333333,
              "#9c179e"
             ],
             [
              0.4444444444444444,
              "#bd3786"
             ],
             [
              0.5555555555555556,
              "#d8576b"
             ],
             [
              0.6666666666666666,
              "#ed7953"
             ],
             [
              0.7777777777777778,
              "#fb9f3a"
             ],
             [
              0.8888888888888888,
              "#fdca26"
             ],
             [
              1,
              "#f0f921"
             ]
            ],
            "type": "histogram2d"
           }
          ],
          "histogram2dcontour": [
           {
            "colorbar": {
             "outlinewidth": 0,
             "ticks": ""
            },
            "colorscale": [
             [
              0,
              "#0d0887"
             ],
             [
              0.1111111111111111,
              "#46039f"
             ],
             [
              0.2222222222222222,
              "#7201a8"
             ],
             [
              0.3333333333333333,
              "#9c179e"
             ],
             [
              0.4444444444444444,
              "#bd3786"
             ],
             [
              0.5555555555555556,
              "#d8576b"
             ],
             [
              0.6666666666666666,
              "#ed7953"
             ],
             [
              0.7777777777777778,
              "#fb9f3a"
             ],
             [
              0.8888888888888888,
              "#fdca26"
             ],
             [
              1,
              "#f0f921"
             ]
            ],
            "type": "histogram2dcontour"
           }
          ],
          "mesh3d": [
           {
            "colorbar": {
             "outlinewidth": 0,
             "ticks": ""
            },
            "type": "mesh3d"
           }
          ],
          "parcoords": [
           {
            "line": {
             "colorbar": {
              "outlinewidth": 0,
              "ticks": ""
             }
            },
            "type": "parcoords"
           }
          ],
          "pie": [
           {
            "automargin": true,
            "type": "pie"
           }
          ],
          "scatter": [
           {
            "fillpattern": {
             "fillmode": "overlay",
             "size": 10,
             "solidity": 0.2
            },
            "type": "scatter"
           }
          ],
          "scatter3d": [
           {
            "line": {
             "colorbar": {
              "outlinewidth": 0,
              "ticks": ""
             }
            },
            "marker": {
             "colorbar": {
              "outlinewidth": 0,
              "ticks": ""
             }
            },
            "type": "scatter3d"
           }
          ],
          "scattercarpet": [
           {
            "marker": {
             "colorbar": {
              "outlinewidth": 0,
              "ticks": ""
             }
            },
            "type": "scattercarpet"
           }
          ],
          "scattergeo": [
           {
            "marker": {
             "colorbar": {
              "outlinewidth": 0,
              "ticks": ""
             }
            },
            "type": "scattergeo"
           }
          ],
          "scattergl": [
           {
            "marker": {
             "colorbar": {
              "outlinewidth": 0,
              "ticks": ""
             }
            },
            "type": "scattergl"
           }
          ],
          "scattermap": [
           {
            "marker": {
             "colorbar": {
              "outlinewidth": 0,
              "ticks": ""
             }
            },
            "type": "scattermap"
           }
          ],
          "scattermapbox": [
           {
            "marker": {
             "colorbar": {
              "outlinewidth": 0,
              "ticks": ""
             }
            },
            "type": "scattermapbox"
           }
          ],
          "scatterpolar": [
           {
            "marker": {
             "colorbar": {
              "outlinewidth": 0,
              "ticks": ""
             }
            },
            "type": "scatterpolar"
           }
          ],
          "scatterpolargl": [
           {
            "marker": {
             "colorbar": {
              "outlinewidth": 0,
              "ticks": ""
             }
            },
            "type": "scatterpolargl"
           }
          ],
          "scatterternary": [
           {
            "marker": {
             "colorbar": {
              "outlinewidth": 0,
              "ticks": ""
             }
            },
            "type": "scatterternary"
           }
          ],
          "surface": [
           {
            "colorbar": {
             "outlinewidth": 0,
             "ticks": ""
            },
            "colorscale": [
             [
              0,
              "#0d0887"
             ],
             [
              0.1111111111111111,
              "#46039f"
             ],
             [
              0.2222222222222222,
              "#7201a8"
             ],
             [
              0.3333333333333333,
              "#9c179e"
             ],
             [
              0.4444444444444444,
              "#bd3786"
             ],
             [
              0.5555555555555556,
              "#d8576b"
             ],
             [
              0.6666666666666666,
              "#ed7953"
             ],
             [
              0.7777777777777778,
              "#fb9f3a"
             ],
             [
              0.8888888888888888,
              "#fdca26"
             ],
             [
              1,
              "#f0f921"
             ]
            ],
            "type": "surface"
           }
          ],
          "table": [
           {
            "cells": {
             "fill": {
              "color": "#EBF0F8"
             },
             "line": {
              "color": "white"
             }
            },
            "header": {
             "fill": {
              "color": "#C8D4E3"
             },
             "line": {
              "color": "white"
             }
            },
            "type": "table"
           }
          ]
         },
         "layout": {
          "annotationdefaults": {
           "arrowcolor": "#2a3f5f",
           "arrowhead": 0,
           "arrowwidth": 1
          },
          "autotypenumbers": "strict",
          "coloraxis": {
           "colorbar": {
            "outlinewidth": 0,
            "ticks": ""
           }
          },
          "colorscale": {
           "diverging": [
            [
             0,
             "#8e0152"
            ],
            [
             0.1,
             "#c51b7d"
            ],
            [
             0.2,
             "#de77ae"
            ],
            [
             0.3,
             "#f1b6da"
            ],
            [
             0.4,
             "#fde0ef"
            ],
            [
             0.5,
             "#f7f7f7"
            ],
            [
             0.6,
             "#e6f5d0"
            ],
            [
             0.7,
             "#b8e186"
            ],
            [
             0.8,
             "#7fbc41"
            ],
            [
             0.9,
             "#4d9221"
            ],
            [
             1,
             "#276419"
            ]
           ],
           "sequential": [
            [
             0,
             "#0d0887"
            ],
            [
             0.1111111111111111,
             "#46039f"
            ],
            [
             0.2222222222222222,
             "#7201a8"
            ],
            [
             0.3333333333333333,
             "#9c179e"
            ],
            [
             0.4444444444444444,
             "#bd3786"
            ],
            [
             0.5555555555555556,
             "#d8576b"
            ],
            [
             0.6666666666666666,
             "#ed7953"
            ],
            [
             0.7777777777777778,
             "#fb9f3a"
            ],
            [
             0.8888888888888888,
             "#fdca26"
            ],
            [
             1,
             "#f0f921"
            ]
           ],
           "sequentialminus": [
            [
             0,
             "#0d0887"
            ],
            [
             0.1111111111111111,
             "#46039f"
            ],
            [
             0.2222222222222222,
             "#7201a8"
            ],
            [
             0.3333333333333333,
             "#9c179e"
            ],
            [
             0.4444444444444444,
             "#bd3786"
            ],
            [
             0.5555555555555556,
             "#d8576b"
            ],
            [
             0.6666666666666666,
             "#ed7953"
            ],
            [
             0.7777777777777778,
             "#fb9f3a"
            ],
            [
             0.8888888888888888,
             "#fdca26"
            ],
            [
             1,
             "#f0f921"
            ]
           ]
          },
          "colorway": [
           "#636efa",
           "#EF553B",
           "#00cc96",
           "#ab63fa",
           "#FFA15A",
           "#19d3f3",
           "#FF6692",
           "#B6E880",
           "#FF97FF",
           "#FECB52"
          ],
          "font": {
           "color": "#2a3f5f"
          },
          "geo": {
           "bgcolor": "white",
           "lakecolor": "white",
           "landcolor": "#E5ECF6",
           "showlakes": true,
           "showland": true,
           "subunitcolor": "white"
          },
          "hoverlabel": {
           "align": "left"
          },
          "hovermode": "closest",
          "mapbox": {
           "style": "light"
          },
          "paper_bgcolor": "white",
          "plot_bgcolor": "#E5ECF6",
          "polar": {
           "angularaxis": {
            "gridcolor": "white",
            "linecolor": "white",
            "ticks": ""
           },
           "bgcolor": "#E5ECF6",
           "radialaxis": {
            "gridcolor": "white",
            "linecolor": "white",
            "ticks": ""
           }
          },
          "scene": {
           "xaxis": {
            "backgroundcolor": "#E5ECF6",
            "gridcolor": "white",
            "gridwidth": 2,
            "linecolor": "white",
            "showbackground": true,
            "ticks": "",
            "zerolinecolor": "white"
           },
           "yaxis": {
            "backgroundcolor": "#E5ECF6",
            "gridcolor": "white",
            "gridwidth": 2,
            "linecolor": "white",
            "showbackground": true,
            "ticks": "",
            "zerolinecolor": "white"
           },
           "zaxis": {
            "backgroundcolor": "#E5ECF6",
            "gridcolor": "white",
            "gridwidth": 2,
            "linecolor": "white",
            "showbackground": true,
            "ticks": "",
            "zerolinecolor": "white"
           }
          },
          "shapedefaults": {
           "line": {
            "color": "#2a3f5f"
           }
          },
          "ternary": {
           "aaxis": {
            "gridcolor": "white",
            "linecolor": "white",
            "ticks": ""
           },
           "baxis": {
            "gridcolor": "white",
            "linecolor": "white",
            "ticks": ""
           },
           "bgcolor": "#E5ECF6",
           "caxis": {
            "gridcolor": "white",
            "linecolor": "white",
            "ticks": ""
           }
          },
          "title": {
           "x": 0.05
          },
          "xaxis": {
           "automargin": true,
           "gridcolor": "white",
           "linecolor": "white",
           "ticks": "",
           "title": {
            "standoff": 15
           },
           "zerolinecolor": "white",
           "zerolinewidth": 2
          },
          "yaxis": {
           "automargin": true,
           "gridcolor": "white",
           "linecolor": "white",
           "ticks": "",
           "title": {
            "standoff": 15
           },
           "zerolinecolor": "white",
           "zerolinewidth": 2
          }
         }
        },
        "title": {
         "text": "Amount of Finished vs dropouts"
        },
        "xaxis": {
         "anchor": "y",
         "categoryarray": [
          "Deactive",
          "Finished"
         ],
         "categoryorder": "array",
         "domain": [
          0,
          1
         ],
         "title": {
          "text": "dataset"
         }
        },
        "yaxis": {
         "anchor": "x",
         "domain": [
          0,
          1
         ],
         "title": {
          "text": "sum of count"
         }
        }
       }
      }
     },
     "metadata": {},
     "output_type": "display_data"
    },
    {
     "data": {
      "application/vnd.plotly.v1+json": {
       "config": {
        "plotlyServerURL": "https://plot.ly"
       },
       "data": [
        {
         "bingroup": "x",
         "histfunc": "sum",
         "hovertemplate": "dataset=Deactive<br>Ano Ingresso=%{x}<br>sum of count=%{y}<extra></extra>",
         "legendgroup": "Deactive",
         "marker": {
          "color": "#636efa",
          "pattern": {
           "shape": ""
          }
         },
         "name": "Deactive",
         "orientation": "v",
         "showlegend": true,
         "type": "histogram",
         "x": {
          "bdata": "AAAAAABkn0AAAAAAAISfQAAAAAAAbJ9AAAAAAACAn0AAAAAAAHCfQAAAAAAAfJ9AAAAAAAB4n0AAAAAAAGifQAAAAAAAdJ9AAAAAAABwn0AAAAAAAICfQAAAAAAAkJ9AAAAAAACUn0AAAAAAAGSfQAAAAAAAiJ9AAAAAAAB8n0AAAAAAAHSfQAAAAAAAiJ9AAAAAAACEn0AAAAAAAJifQAAAAAAAjJ9AAAAAAABon0AAAAAAAHifQAAAAAAAbJ9AAAAAAACUn0AAAAAAAJCfQAAAAAAAjJ9AAAAAAACcn0A=",
          "dtype": "f8"
         },
         "xaxis": "x",
         "y": {
          "bdata": "LiQiIh8cGxoXCQgIBwUFBQUEBAMDAwMCAgIBAQ==",
          "dtype": "i1"
         },
         "yaxis": "y"
        },
        {
         "bingroup": "x",
         "histfunc": "sum",
         "hovertemplate": "dataset=Finished<br>Ano Ingresso=%{x}<br>sum of count=%{y}<extra></extra>",
         "legendgroup": "Finished",
         "marker": {
          "color": "#EF553B",
          "pattern": {
           "shape": ""
          }
         },
         "name": "Finished",
         "orientation": "v",
         "showlegend": true,
         "type": "histogram",
         "x": {
          "bdata": "AAAAAABkn0AAAAAAAGifQAAAAAAAfJ9AAAAAAACIn0AAAAAAAHSfQAAAAAAAbJ9AAAAAAAB4n0AAAAAAAICfQAAAAAAAcJ9AAAAAAABkn0AAAAAAAGifQAAAAAAAeJ9AAAAAAABsn0AAAAAAAHCfQAAAAAAAdJ9AAAAAAACEn0AAAAAAAIyfQA==",
          "dtype": "f8"
         },
         "xaxis": "x",
         "y": {
          "bdata": "GQ4KCgkIBwUFAwMDAgICAgE=",
          "dtype": "i1"
         },
         "yaxis": "y"
        }
       ],
       "layout": {
        "bargap": 0.5,
        "barmode": "relative",
        "font": {
         "color": "Black",
         "family": "Courier New, monospace",
         "size": 18,
         "variant": "small-caps"
        },
        "legend": {
         "title": {
          "text": "dataset"
         },
         "tracegroupgap": 0
        },
        "margin": {
         "t": 60
        },
        "template": {
         "data": {
          "bar": [
           {
            "error_x": {
             "color": "#2a3f5f"
            },
            "error_y": {
             "color": "#2a3f5f"
            },
            "marker": {
             "line": {
              "color": "#E5ECF6",
              "width": 0.5
             },
             "pattern": {
              "fillmode": "overlay",
              "size": 10,
              "solidity": 0.2
             }
            },
            "type": "bar"
           }
          ],
          "barpolar": [
           {
            "marker": {
             "line": {
              "color": "#E5ECF6",
              "width": 0.5
             },
             "pattern": {
              "fillmode": "overlay",
              "size": 10,
              "solidity": 0.2
             }
            },
            "type": "barpolar"
           }
          ],
          "carpet": [
           {
            "aaxis": {
             "endlinecolor": "#2a3f5f",
             "gridcolor": "white",
             "linecolor": "white",
             "minorgridcolor": "white",
             "startlinecolor": "#2a3f5f"
            },
            "baxis": {
             "endlinecolor": "#2a3f5f",
             "gridcolor": "white",
             "linecolor": "white",
             "minorgridcolor": "white",
             "startlinecolor": "#2a3f5f"
            },
            "type": "carpet"
           }
          ],
          "choropleth": [
           {
            "colorbar": {
             "outlinewidth": 0,
             "ticks": ""
            },
            "type": "choropleth"
           }
          ],
          "contour": [
           {
            "colorbar": {
             "outlinewidth": 0,
             "ticks": ""
            },
            "colorscale": [
             [
              0,
              "#0d0887"
             ],
             [
              0.1111111111111111,
              "#46039f"
             ],
             [
              0.2222222222222222,
              "#7201a8"
             ],
             [
              0.3333333333333333,
              "#9c179e"
             ],
             [
              0.4444444444444444,
              "#bd3786"
             ],
             [
              0.5555555555555556,
              "#d8576b"
             ],
             [
              0.6666666666666666,
              "#ed7953"
             ],
             [
              0.7777777777777778,
              "#fb9f3a"
             ],
             [
              0.8888888888888888,
              "#fdca26"
             ],
             [
              1,
              "#f0f921"
             ]
            ],
            "type": "contour"
           }
          ],
          "contourcarpet": [
           {
            "colorbar": {
             "outlinewidth": 0,
             "ticks": ""
            },
            "type": "contourcarpet"
           }
          ],
          "heatmap": [
           {
            "colorbar": {
             "outlinewidth": 0,
             "ticks": ""
            },
            "colorscale": [
             [
              0,
              "#0d0887"
             ],
             [
              0.1111111111111111,
              "#46039f"
             ],
             [
              0.2222222222222222,
              "#7201a8"
             ],
             [
              0.3333333333333333,
              "#9c179e"
             ],
             [
              0.4444444444444444,
              "#bd3786"
             ],
             [
              0.5555555555555556,
              "#d8576b"
             ],
             [
              0.6666666666666666,
              "#ed7953"
             ],
             [
              0.7777777777777778,
              "#fb9f3a"
             ],
             [
              0.8888888888888888,
              "#fdca26"
             ],
             [
              1,
              "#f0f921"
             ]
            ],
            "type": "heatmap"
           }
          ],
          "histogram": [
           {
            "marker": {
             "pattern": {
              "fillmode": "overlay",
              "size": 10,
              "solidity": 0.2
             }
            },
            "type": "histogram"
           }
          ],
          "histogram2d": [
           {
            "colorbar": {
             "outlinewidth": 0,
             "ticks": ""
            },
            "colorscale": [
             [
              0,
              "#0d0887"
             ],
             [
              0.1111111111111111,
              "#46039f"
             ],
             [
              0.2222222222222222,
              "#7201a8"
             ],
             [
              0.3333333333333333,
              "#9c179e"
             ],
             [
              0.4444444444444444,
              "#bd3786"
             ],
             [
              0.5555555555555556,
              "#d8576b"
             ],
             [
              0.6666666666666666,
              "#ed7953"
             ],
             [
              0.7777777777777778,
              "#fb9f3a"
             ],
             [
              0.8888888888888888,
              "#fdca26"
             ],
             [
              1,
              "#f0f921"
             ]
            ],
            "type": "histogram2d"
           }
          ],
          "histogram2dcontour": [
           {
            "colorbar": {
             "outlinewidth": 0,
             "ticks": ""
            },
            "colorscale": [
             [
              0,
              "#0d0887"
             ],
             [
              0.1111111111111111,
              "#46039f"
             ],
             [
              0.2222222222222222,
              "#7201a8"
             ],
             [
              0.3333333333333333,
              "#9c179e"
             ],
             [
              0.4444444444444444,
              "#bd3786"
             ],
             [
              0.5555555555555556,
              "#d8576b"
             ],
             [
              0.6666666666666666,
              "#ed7953"
             ],
             [
              0.7777777777777778,
              "#fb9f3a"
             ],
             [
              0.8888888888888888,
              "#fdca26"
             ],
             [
              1,
              "#f0f921"
             ]
            ],
            "type": "histogram2dcontour"
           }
          ],
          "mesh3d": [
           {
            "colorbar": {
             "outlinewidth": 0,
             "ticks": ""
            },
            "type": "mesh3d"
           }
          ],
          "parcoords": [
           {
            "line": {
             "colorbar": {
              "outlinewidth": 0,
              "ticks": ""
             }
            },
            "type": "parcoords"
           }
          ],
          "pie": [
           {
            "automargin": true,
            "type": "pie"
           }
          ],
          "scatter": [
           {
            "fillpattern": {
             "fillmode": "overlay",
             "size": 10,
             "solidity": 0.2
            },
            "type": "scatter"
           }
          ],
          "scatter3d": [
           {
            "line": {
             "colorbar": {
              "outlinewidth": 0,
              "ticks": ""
             }
            },
            "marker": {
             "colorbar": {
              "outlinewidth": 0,
              "ticks": ""
             }
            },
            "type": "scatter3d"
           }
          ],
          "scattercarpet": [
           {
            "marker": {
             "colorbar": {
              "outlinewidth": 0,
              "ticks": ""
             }
            },
            "type": "scattercarpet"
           }
          ],
          "scattergeo": [
           {
            "marker": {
             "colorbar": {
              "outlinewidth": 0,
              "ticks": ""
             }
            },
            "type": "scattergeo"
           }
          ],
          "scattergl": [
           {
            "marker": {
             "colorbar": {
              "outlinewidth": 0,
              "ticks": ""
             }
            },
            "type": "scattergl"
           }
          ],
          "scattermap": [
           {
            "marker": {
             "colorbar": {
              "outlinewidth": 0,
              "ticks": ""
             }
            },
            "type": "scattermap"
           }
          ],
          "scattermapbox": [
           {
            "marker": {
             "colorbar": {
              "outlinewidth": 0,
              "ticks": ""
             }
            },
            "type": "scattermapbox"
           }
          ],
          "scatterpolar": [
           {
            "marker": {
             "colorbar": {
              "outlinewidth": 0,
              "ticks": ""
             }
            },
            "type": "scatterpolar"
           }
          ],
          "scatterpolargl": [
           {
            "marker": {
             "colorbar": {
              "outlinewidth": 0,
              "ticks": ""
             }
            },
            "type": "scatterpolargl"
           }
          ],
          "scatterternary": [
           {
            "marker": {
             "colorbar": {
              "outlinewidth": 0,
              "ticks": ""
             }
            },
            "type": "scatterternary"
           }
          ],
          "surface": [
           {
            "colorbar": {
             "outlinewidth": 0,
             "ticks": ""
            },
            "colorscale": [
             [
              0,
              "#0d0887"
             ],
             [
              0.1111111111111111,
              "#46039f"
             ],
             [
              0.2222222222222222,
              "#7201a8"
             ],
             [
              0.3333333333333333,
              "#9c179e"
             ],
             [
              0.4444444444444444,
              "#bd3786"
             ],
             [
              0.5555555555555556,
              "#d8576b"
             ],
             [
              0.6666666666666666,
              "#ed7953"
             ],
             [
              0.7777777777777778,
              "#fb9f3a"
             ],
             [
              0.8888888888888888,
              "#fdca26"
             ],
             [
              1,
              "#f0f921"
             ]
            ],
            "type": "surface"
           }
          ],
          "table": [
           {
            "cells": {
             "fill": {
              "color": "#EBF0F8"
             },
             "line": {
              "color": "white"
             }
            },
            "header": {
             "fill": {
              "color": "#C8D4E3"
             },
             "line": {
              "color": "white"
             }
            },
            "type": "table"
           }
          ]
         },
         "layout": {
          "annotationdefaults": {
           "arrowcolor": "#2a3f5f",
           "arrowhead": 0,
           "arrowwidth": 1
          },
          "autotypenumbers": "strict",
          "coloraxis": {
           "colorbar": {
            "outlinewidth": 0,
            "ticks": ""
           }
          },
          "colorscale": {
           "diverging": [
            [
             0,
             "#8e0152"
            ],
            [
             0.1,
             "#c51b7d"
            ],
            [
             0.2,
             "#de77ae"
            ],
            [
             0.3,
             "#f1b6da"
            ],
            [
             0.4,
             "#fde0ef"
            ],
            [
             0.5,
             "#f7f7f7"
            ],
            [
             0.6,
             "#e6f5d0"
            ],
            [
             0.7,
             "#b8e186"
            ],
            [
             0.8,
             "#7fbc41"
            ],
            [
             0.9,
             "#4d9221"
            ],
            [
             1,
             "#276419"
            ]
           ],
           "sequential": [
            [
             0,
             "#0d0887"
            ],
            [
             0.1111111111111111,
             "#46039f"
            ],
            [
             0.2222222222222222,
             "#7201a8"
            ],
            [
             0.3333333333333333,
             "#9c179e"
            ],
            [
             0.4444444444444444,
             "#bd3786"
            ],
            [
             0.5555555555555556,
             "#d8576b"
            ],
            [
             0.6666666666666666,
             "#ed7953"
            ],
            [
             0.7777777777777778,
             "#fb9f3a"
            ],
            [
             0.8888888888888888,
             "#fdca26"
            ],
            [
             1,
             "#f0f921"
            ]
           ],
           "sequentialminus": [
            [
             0,
             "#0d0887"
            ],
            [
             0.1111111111111111,
             "#46039f"
            ],
            [
             0.2222222222222222,
             "#7201a8"
            ],
            [
             0.3333333333333333,
             "#9c179e"
            ],
            [
             0.4444444444444444,
             "#bd3786"
            ],
            [
             0.5555555555555556,
             "#d8576b"
            ],
            [
             0.6666666666666666,
             "#ed7953"
            ],
            [
             0.7777777777777778,
             "#fb9f3a"
            ],
            [
             0.8888888888888888,
             "#fdca26"
            ],
            [
             1,
             "#f0f921"
            ]
           ]
          },
          "colorway": [
           "#636efa",
           "#EF553B",
           "#00cc96",
           "#ab63fa",
           "#FFA15A",
           "#19d3f3",
           "#FF6692",
           "#B6E880",
           "#FF97FF",
           "#FECB52"
          ],
          "font": {
           "color": "#2a3f5f"
          },
          "geo": {
           "bgcolor": "white",
           "lakecolor": "white",
           "landcolor": "#E5ECF6",
           "showlakes": true,
           "showland": true,
           "subunitcolor": "white"
          },
          "hoverlabel": {
           "align": "left"
          },
          "hovermode": "closest",
          "mapbox": {
           "style": "light"
          },
          "paper_bgcolor": "white",
          "plot_bgcolor": "#E5ECF6",
          "polar": {
           "angularaxis": {
            "gridcolor": "white",
            "linecolor": "white",
            "ticks": ""
           },
           "bgcolor": "#E5ECF6",
           "radialaxis": {
            "gridcolor": "white",
            "linecolor": "white",
            "ticks": ""
           }
          },
          "scene": {
           "xaxis": {
            "backgroundcolor": "#E5ECF6",
            "gridcolor": "white",
            "gridwidth": 2,
            "linecolor": "white",
            "showbackground": true,
            "ticks": "",
            "zerolinecolor": "white"
           },
           "yaxis": {
            "backgroundcolor": "#E5ECF6",
            "gridcolor": "white",
            "gridwidth": 2,
            "linecolor": "white",
            "showbackground": true,
            "ticks": "",
            "zerolinecolor": "white"
           },
           "zaxis": {
            "backgroundcolor": "#E5ECF6",
            "gridcolor": "white",
            "gridwidth": 2,
            "linecolor": "white",
            "showbackground": true,
            "ticks": "",
            "zerolinecolor": "white"
           }
          },
          "shapedefaults": {
           "line": {
            "color": "#2a3f5f"
           }
          },
          "ternary": {
           "aaxis": {
            "gridcolor": "white",
            "linecolor": "white",
            "ticks": ""
           },
           "baxis": {
            "gridcolor": "white",
            "linecolor": "white",
            "ticks": ""
           },
           "bgcolor": "#E5ECF6",
           "caxis": {
            "gridcolor": "white",
            "linecolor": "white",
            "ticks": ""
           }
          },
          "title": {
           "x": 0.05
          },
          "xaxis": {
           "automargin": true,
           "gridcolor": "white",
           "linecolor": "white",
           "ticks": "",
           "title": {
            "standoff": 15
           },
           "zerolinecolor": "white",
           "zerolinewidth": 2
          },
          "yaxis": {
           "automargin": true,
           "gridcolor": "white",
           "linecolor": "white",
           "ticks": "",
           "title": {
            "standoff": 15
           },
           "zerolinecolor": "white",
           "zerolinewidth": 2
          }
         }
        },
        "title": {
         "text": "Year of Entry Finished vs Dropouts"
        },
        "xaxis": {
         "anchor": "y",
         "domain": [
          0,
          1
         ],
         "dtick": 1,
         "tickmode": "linear",
         "title": {
          "text": "Ano Ingresso"
         }
        },
        "yaxis": {
         "anchor": "x",
         "domain": [
          0,
          1
         ],
         "title": {
          "text": "sum of count"
         }
        }
       }
      }
     },
     "metadata": {},
     "output_type": "display_data"
    }
   ],
   "source": [
    "x = pd.concat([\n",
    "        finished.assign(dataset=\"Finished\"),\n",
    "        dropout.assign(dataset=\"Deactive\")])\n",
    "\n",
    "test = x.copy()\n",
    "# extracting the year of entrance\n",
    "test = test[test['Período ingresso'] != 0]  # removing those with Período de Ingresso is zero \n",
    "\n",
    "test['Ano Ingresso'] = (test['Período ingresso'] / 10).astype(\"int\")\n",
    "\n",
    "x['Ano Ingresso'] = test['Ano Ingresso']\n",
    "\n",
    "y = x.groupby(['Ano Ingresso', 'Sexo', 'dataset']).size().reset_index(name='count').sort_values(by='count', ascending=False)\n",
    "y = y[y['Ano Ingresso'] != 0] # making sure there are not the 22 zero values messing up the plot \n",
    "px.histogram(y, x='dataset', y='count', color='dataset').update_layout(bargap=0.5).update_layout(bargap=0.5, title={\"text\": \"Amount of Finished vs dropouts\"}, font=my_font).show()\n",
    "px.histogram(y, x='Ano Ingresso', y='count', color='dataset').update_layout(bargap=0.5, title={\"text\": \"Year of Entry Finished vs Dropouts\"}, font=my_font).update_xaxes(tickmode='linear',dtick=1).show()\n"
   ]
  },
  {
   "cell_type": "markdown",
   "id": "2a8f65ac-f4ad-4137-82d1-945bd0b41df7",
   "metadata": {},
   "source": [
    "## Average time which someone evades"
   ]
  },
  {
   "cell_type": "code",
   "execution_count": 66,
   "id": "adaadd18-e89c-42d8-b2de-79314bf889f5",
   "metadata": {},
   "outputs": [
    {
     "data": {
      "application/vnd.plotly.v1+json": {
       "config": {
        "plotlyServerURL": "https://plot.ly"
       },
       "data": [
        {
         "hovertemplate": "dataset=%{x}<br>Tempo medio=%{y}<extra></extra>",
         "legendgroup": "Deactive",
         "marker": {
          "color": "#636efa",
          "pattern": {
           "shape": ""
          }
         },
         "name": "Deactive",
         "orientation": "v",
         "showlegend": true,
         "textposition": "auto",
         "type": "bar",
         "x": [
          "Deactive"
         ],
         "xaxis": "x",
         "y": {
          "bdata": "/6WNwOHKD0A=",
          "dtype": "f8"
         },
         "yaxis": "y"
        },
        {
         "hovertemplate": "dataset=%{x}<br>Tempo medio=%{y}<extra></extra>",
         "legendgroup": "Finished",
         "marker": {
          "color": "#EF553B",
          "pattern": {
           "shape": ""
          }
         },
         "name": "Finished",
         "orientation": "v",
         "showlegend": true,
         "textposition": "auto",
         "type": "bar",
         "x": [
          "Finished"
         ],
         "xaxis": "x",
         "y": {
          "bdata": "rCiNj0ygE0A=",
          "dtype": "f8"
         },
         "yaxis": "y"
        }
       ],
       "layout": {
        "bargap": 0.5,
        "barmode": "relative",
        "font": {
         "color": "Black",
         "family": "Courier New, monospace",
         "size": 18,
         "variant": "small-caps"
        },
        "legend": {
         "title": {
          "text": "dataset"
         },
         "tracegroupgap": 0
        },
        "margin": {
         "t": 60
        },
        "template": {
         "data": {
          "bar": [
           {
            "error_x": {
             "color": "#2a3f5f"
            },
            "error_y": {
             "color": "#2a3f5f"
            },
            "marker": {
             "line": {
              "color": "#E5ECF6",
              "width": 0.5
             },
             "pattern": {
              "fillmode": "overlay",
              "size": 10,
              "solidity": 0.2
             }
            },
            "type": "bar"
           }
          ],
          "barpolar": [
           {
            "marker": {
             "line": {
              "color": "#E5ECF6",
              "width": 0.5
             },
             "pattern": {
              "fillmode": "overlay",
              "size": 10,
              "solidity": 0.2
             }
            },
            "type": "barpolar"
           }
          ],
          "carpet": [
           {
            "aaxis": {
             "endlinecolor": "#2a3f5f",
             "gridcolor": "white",
             "linecolor": "white",
             "minorgridcolor": "white",
             "startlinecolor": "#2a3f5f"
            },
            "baxis": {
             "endlinecolor": "#2a3f5f",
             "gridcolor": "white",
             "linecolor": "white",
             "minorgridcolor": "white",
             "startlinecolor": "#2a3f5f"
            },
            "type": "carpet"
           }
          ],
          "choropleth": [
           {
            "colorbar": {
             "outlinewidth": 0,
             "ticks": ""
            },
            "type": "choropleth"
           }
          ],
          "contour": [
           {
            "colorbar": {
             "outlinewidth": 0,
             "ticks": ""
            },
            "colorscale": [
             [
              0,
              "#0d0887"
             ],
             [
              0.1111111111111111,
              "#46039f"
             ],
             [
              0.2222222222222222,
              "#7201a8"
             ],
             [
              0.3333333333333333,
              "#9c179e"
             ],
             [
              0.4444444444444444,
              "#bd3786"
             ],
             [
              0.5555555555555556,
              "#d8576b"
             ],
             [
              0.6666666666666666,
              "#ed7953"
             ],
             [
              0.7777777777777778,
              "#fb9f3a"
             ],
             [
              0.8888888888888888,
              "#fdca26"
             ],
             [
              1,
              "#f0f921"
             ]
            ],
            "type": "contour"
           }
          ],
          "contourcarpet": [
           {
            "colorbar": {
             "outlinewidth": 0,
             "ticks": ""
            },
            "type": "contourcarpet"
           }
          ],
          "heatmap": [
           {
            "colorbar": {
             "outlinewidth": 0,
             "ticks": ""
            },
            "colorscale": [
             [
              0,
              "#0d0887"
             ],
             [
              0.1111111111111111,
              "#46039f"
             ],
             [
              0.2222222222222222,
              "#7201a8"
             ],
             [
              0.3333333333333333,
              "#9c179e"
             ],
             [
              0.4444444444444444,
              "#bd3786"
             ],
             [
              0.5555555555555556,
              "#d8576b"
             ],
             [
              0.6666666666666666,
              "#ed7953"
             ],
             [
              0.7777777777777778,
              "#fb9f3a"
             ],
             [
              0.8888888888888888,
              "#fdca26"
             ],
             [
              1,
              "#f0f921"
             ]
            ],
            "type": "heatmap"
           }
          ],
          "histogram": [
           {
            "marker": {
             "pattern": {
              "fillmode": "overlay",
              "size": 10,
              "solidity": 0.2
             }
            },
            "type": "histogram"
           }
          ],
          "histogram2d": [
           {
            "colorbar": {
             "outlinewidth": 0,
             "ticks": ""
            },
            "colorscale": [
             [
              0,
              "#0d0887"
             ],
             [
              0.1111111111111111,
              "#46039f"
             ],
             [
              0.2222222222222222,
              "#7201a8"
             ],
             [
              0.3333333333333333,
              "#9c179e"
             ],
             [
              0.4444444444444444,
              "#bd3786"
             ],
             [
              0.5555555555555556,
              "#d8576b"
             ],
             [
              0.6666666666666666,
              "#ed7953"
             ],
             [
              0.7777777777777778,
              "#fb9f3a"
             ],
             [
              0.8888888888888888,
              "#fdca26"
             ],
             [
              1,
              "#f0f921"
             ]
            ],
            "type": "histogram2d"
           }
          ],
          "histogram2dcontour": [
           {
            "colorbar": {
             "outlinewidth": 0,
             "ticks": ""
            },
            "colorscale": [
             [
              0,
              "#0d0887"
             ],
             [
              0.1111111111111111,
              "#46039f"
             ],
             [
              0.2222222222222222,
              "#7201a8"
             ],
             [
              0.3333333333333333,
              "#9c179e"
             ],
             [
              0.4444444444444444,
              "#bd3786"
             ],
             [
              0.5555555555555556,
              "#d8576b"
             ],
             [
              0.6666666666666666,
              "#ed7953"
             ],
             [
              0.7777777777777778,
              "#fb9f3a"
             ],
             [
              0.8888888888888888,
              "#fdca26"
             ],
             [
              1,
              "#f0f921"
             ]
            ],
            "type": "histogram2dcontour"
           }
          ],
          "mesh3d": [
           {
            "colorbar": {
             "outlinewidth": 0,
             "ticks": ""
            },
            "type": "mesh3d"
           }
          ],
          "parcoords": [
           {
            "line": {
             "colorbar": {
              "outlinewidth": 0,
              "ticks": ""
             }
            },
            "type": "parcoords"
           }
          ],
          "pie": [
           {
            "automargin": true,
            "type": "pie"
           }
          ],
          "scatter": [
           {
            "fillpattern": {
             "fillmode": "overlay",
             "size": 10,
             "solidity": 0.2
            },
            "type": "scatter"
           }
          ],
          "scatter3d": [
           {
            "line": {
             "colorbar": {
              "outlinewidth": 0,
              "ticks": ""
             }
            },
            "marker": {
             "colorbar": {
              "outlinewidth": 0,
              "ticks": ""
             }
            },
            "type": "scatter3d"
           }
          ],
          "scattercarpet": [
           {
            "marker": {
             "colorbar": {
              "outlinewidth": 0,
              "ticks": ""
             }
            },
            "type": "scattercarpet"
           }
          ],
          "scattergeo": [
           {
            "marker": {
             "colorbar": {
              "outlinewidth": 0,
              "ticks": ""
             }
            },
            "type": "scattergeo"
           }
          ],
          "scattergl": [
           {
            "marker": {
             "colorbar": {
              "outlinewidth": 0,
              "ticks": ""
             }
            },
            "type": "scattergl"
           }
          ],
          "scattermap": [
           {
            "marker": {
             "colorbar": {
              "outlinewidth": 0,
              "ticks": ""
             }
            },
            "type": "scattermap"
           }
          ],
          "scattermapbox": [
           {
            "marker": {
             "colorbar": {
              "outlinewidth": 0,
              "ticks": ""
             }
            },
            "type": "scattermapbox"
           }
          ],
          "scatterpolar": [
           {
            "marker": {
             "colorbar": {
              "outlinewidth": 0,
              "ticks": ""
             }
            },
            "type": "scatterpolar"
           }
          ],
          "scatterpolargl": [
           {
            "marker": {
             "colorbar": {
              "outlinewidth": 0,
              "ticks": ""
             }
            },
            "type": "scatterpolargl"
           }
          ],
          "scatterternary": [
           {
            "marker": {
             "colorbar": {
              "outlinewidth": 0,
              "ticks": ""
             }
            },
            "type": "scatterternary"
           }
          ],
          "surface": [
           {
            "colorbar": {
             "outlinewidth": 0,
             "ticks": ""
            },
            "colorscale": [
             [
              0,
              "#0d0887"
             ],
             [
              0.1111111111111111,
              "#46039f"
             ],
             [
              0.2222222222222222,
              "#7201a8"
             ],
             [
              0.3333333333333333,
              "#9c179e"
             ],
             [
              0.4444444444444444,
              "#bd3786"
             ],
             [
              0.5555555555555556,
              "#d8576b"
             ],
             [
              0.6666666666666666,
              "#ed7953"
             ],
             [
              0.7777777777777778,
              "#fb9f3a"
             ],
             [
              0.8888888888888888,
              "#fdca26"
             ],
             [
              1,
              "#f0f921"
             ]
            ],
            "type": "surface"
           }
          ],
          "table": [
           {
            "cells": {
             "fill": {
              "color": "#EBF0F8"
             },
             "line": {
              "color": "white"
             }
            },
            "header": {
             "fill": {
              "color": "#C8D4E3"
             },
             "line": {
              "color": "white"
             }
            },
            "type": "table"
           }
          ]
         },
         "layout": {
          "annotationdefaults": {
           "arrowcolor": "#2a3f5f",
           "arrowhead": 0,
           "arrowwidth": 1
          },
          "autotypenumbers": "strict",
          "coloraxis": {
           "colorbar": {
            "outlinewidth": 0,
            "ticks": ""
           }
          },
          "colorscale": {
           "diverging": [
            [
             0,
             "#8e0152"
            ],
            [
             0.1,
             "#c51b7d"
            ],
            [
             0.2,
             "#de77ae"
            ],
            [
             0.3,
             "#f1b6da"
            ],
            [
             0.4,
             "#fde0ef"
            ],
            [
             0.5,
             "#f7f7f7"
            ],
            [
             0.6,
             "#e6f5d0"
            ],
            [
             0.7,
             "#b8e186"
            ],
            [
             0.8,
             "#7fbc41"
            ],
            [
             0.9,
             "#4d9221"
            ],
            [
             1,
             "#276419"
            ]
           ],
           "sequential": [
            [
             0,
             "#0d0887"
            ],
            [
             0.1111111111111111,
             "#46039f"
            ],
            [
             0.2222222222222222,
             "#7201a8"
            ],
            [
             0.3333333333333333,
             "#9c179e"
            ],
            [
             0.4444444444444444,
             "#bd3786"
            ],
            [
             0.5555555555555556,
             "#d8576b"
            ],
            [
             0.6666666666666666,
             "#ed7953"
            ],
            [
             0.7777777777777778,
             "#fb9f3a"
            ],
            [
             0.8888888888888888,
             "#fdca26"
            ],
            [
             1,
             "#f0f921"
            ]
           ],
           "sequentialminus": [
            [
             0,
             "#0d0887"
            ],
            [
             0.1111111111111111,
             "#46039f"
            ],
            [
             0.2222222222222222,
             "#7201a8"
            ],
            [
             0.3333333333333333,
             "#9c179e"
            ],
            [
             0.4444444444444444,
             "#bd3786"
            ],
            [
             0.5555555555555556,
             "#d8576b"
            ],
            [
             0.6666666666666666,
             "#ed7953"
            ],
            [
             0.7777777777777778,
             "#fb9f3a"
            ],
            [
             0.8888888888888888,
             "#fdca26"
            ],
            [
             1,
             "#f0f921"
            ]
           ]
          },
          "colorway": [
           "#636efa",
           "#EF553B",
           "#00cc96",
           "#ab63fa",
           "#FFA15A",
           "#19d3f3",
           "#FF6692",
           "#B6E880",
           "#FF97FF",
           "#FECB52"
          ],
          "font": {
           "color": "#2a3f5f"
          },
          "geo": {
           "bgcolor": "white",
           "lakecolor": "white",
           "landcolor": "#E5ECF6",
           "showlakes": true,
           "showland": true,
           "subunitcolor": "white"
          },
          "hoverlabel": {
           "align": "left"
          },
          "hovermode": "closest",
          "mapbox": {
           "style": "light"
          },
          "paper_bgcolor": "white",
          "plot_bgcolor": "#E5ECF6",
          "polar": {
           "angularaxis": {
            "gridcolor": "white",
            "linecolor": "white",
            "ticks": ""
           },
           "bgcolor": "#E5ECF6",
           "radialaxis": {
            "gridcolor": "white",
            "linecolor": "white",
            "ticks": ""
           }
          },
          "scene": {
           "xaxis": {
            "backgroundcolor": "#E5ECF6",
            "gridcolor": "white",
            "gridwidth": 2,
            "linecolor": "white",
            "showbackground": true,
            "ticks": "",
            "zerolinecolor": "white"
           },
           "yaxis": {
            "backgroundcolor": "#E5ECF6",
            "gridcolor": "white",
            "gridwidth": 2,
            "linecolor": "white",
            "showbackground": true,
            "ticks": "",
            "zerolinecolor": "white"
           },
           "zaxis": {
            "backgroundcolor": "#E5ECF6",
            "gridcolor": "white",
            "gridwidth": 2,
            "linecolor": "white",
            "showbackground": true,
            "ticks": "",
            "zerolinecolor": "white"
           }
          },
          "shapedefaults": {
           "line": {
            "color": "#2a3f5f"
           }
          },
          "ternary": {
           "aaxis": {
            "gridcolor": "white",
            "linecolor": "white",
            "ticks": ""
           },
           "baxis": {
            "gridcolor": "white",
            "linecolor": "white",
            "ticks": ""
           },
           "bgcolor": "#E5ECF6",
           "caxis": {
            "gridcolor": "white",
            "linecolor": "white",
            "ticks": ""
           }
          },
          "title": {
           "x": 0.05
          },
          "xaxis": {
           "automargin": true,
           "gridcolor": "white",
           "linecolor": "white",
           "ticks": "",
           "title": {
            "standoff": 15
           },
           "zerolinecolor": "white",
           "zerolinewidth": 2
          },
          "yaxis": {
           "automargin": true,
           "gridcolor": "white",
           "linecolor": "white",
           "ticks": "",
           "title": {
            "standoff": 15
           },
           "zerolinecolor": "white",
           "zerolinewidth": 2
          }
         }
        },
        "title": {
         "text": "Average time to quit"
        },
        "xaxis": {
         "anchor": "y",
         "categoryarray": [
          "Deactive",
          "Finished"
         ],
         "categoryorder": "array",
         "domain": [
          0,
          1
         ],
         "title": {
          "text": "dataset"
         }
        },
        "yaxis": {
         "anchor": "x",
         "domain": [
          0,
          1
         ],
         "title": {
          "text": "Tempo medio"
         }
        }
       }
      },
      "image/png": "[encoded data removed]"
     },
     "metadata": {},
     "output_type": "display_data"
    },
    {
     "data": {
      "application/vnd.plotly.v1+json": {
       "config": {
        "plotlyServerURL": "https://plot.ly"
       },
       "data": [
        {
         "hovertemplate": "dataset=%{x}<br>Tempo medio=%{y}<extra></extra>",
         "legendgroup": "Deactive",
         "marker": {
          "color": "#636efa",
          "pattern": {
           "shape": ""
          }
         },
         "name": "Deactive",
         "orientation": "v",
         "showlegend": true,
         "textposition": "auto",
         "type": "bar",
         "x": [
          "Deactive"
         ],
         "xaxis": "x",
         "y": {
          "bdata": "Cw==",
          "dtype": "i1"
         },
         "yaxis": "y"
        },
        {
         "hovertemplate": "dataset=%{x}<br>Tempo medio=%{y}<extra></extra>",
         "legendgroup": "Finished",
         "marker": {
          "color": "#EF553B",
          "pattern": {
           "shape": ""
          }
         },
         "name": "Finished",
         "orientation": "v",
         "showlegend": true,
         "textposition": "auto",
         "type": "bar",
         "x": [
          "Finished"
         ],
         "xaxis": "x",
         "y": {
          "bdata": "CQ==",
          "dtype": "i1"
         },
         "yaxis": "y"
        }
       ],
       "layout": {
        "bargap": 0.5,
        "barmode": "relative",
        "font": {
         "color": "Black",
         "family": "Courier New, monospace",
         "size": 18,
         "variant": "small-caps"
        },
        "legend": {
         "title": {
          "text": "dataset"
         },
         "tracegroupgap": 0
        },
        "margin": {
         "t": 60
        },
        "template": {
         "data": {
          "bar": [
           {
            "error_x": {
             "color": "#2a3f5f"
            },
            "error_y": {
             "color": "#2a3f5f"
            },
            "marker": {
             "line": {
              "color": "#E5ECF6",
              "width": 0.5
             },
             "pattern": {
              "fillmode": "overlay",
              "size": 10,
              "solidity": 0.2
             }
            },
            "type": "bar"
           }
          ],
          "barpolar": [
           {
            "marker": {
             "line": {
              "color": "#E5ECF6",
              "width": 0.5
             },
             "pattern": {
              "fillmode": "overlay",
              "size": 10,
              "solidity": 0.2
             }
            },
            "type": "barpolar"
           }
          ],
          "carpet": [
           {
            "aaxis": {
             "endlinecolor": "#2a3f5f",
             "gridcolor": "white",
             "linecolor": "white",
             "minorgridcolor": "white",
             "startlinecolor": "#2a3f5f"
            },
            "baxis": {
             "endlinecolor": "#2a3f5f",
             "gridcolor": "white",
             "linecolor": "white",
             "minorgridcolor": "white",
             "startlinecolor": "#2a3f5f"
            },
            "type": "carpet"
           }
          ],
          "choropleth": [
           {
            "colorbar": {
             "outlinewidth": 0,
             "ticks": ""
            },
            "type": "choropleth"
           }
          ],
          "contour": [
           {
            "colorbar": {
             "outlinewidth": 0,
             "ticks": ""
            },
            "colorscale": [
             [
              0,
              "#0d0887"
             ],
             [
              0.1111111111111111,
              "#46039f"
             ],
             [
              0.2222222222222222,
              "#7201a8"
             ],
             [
              0.3333333333333333,
              "#9c179e"
             ],
             [
              0.4444444444444444,
              "#bd3786"
             ],
             [
              0.5555555555555556,
              "#d8576b"
             ],
             [
              0.6666666666666666,
              "#ed7953"
             ],
             [
              0.7777777777777778,
              "#fb9f3a"
             ],
             [
              0.8888888888888888,
              "#fdca26"
             ],
             [
              1,
              "#f0f921"
             ]
            ],
            "type": "contour"
           }
          ],
          "contourcarpet": [
           {
            "colorbar": {
             "outlinewidth": 0,
             "ticks": ""
            },
            "type": "contourcarpet"
           }
          ],
          "heatmap": [
           {
            "colorbar": {
             "outlinewidth": 0,
             "ticks": ""
            },
            "colorscale": [
             [
              0,
              "#0d0887"
             ],
             [
              0.1111111111111111,
              "#46039f"
             ],
             [
              0.2222222222222222,
              "#7201a8"
             ],
             [
              0.3333333333333333,
              "#9c179e"
             ],
             [
              0.4444444444444444,
              "#bd3786"
             ],
             [
              0.5555555555555556,
              "#d8576b"
             ],
             [
              0.6666666666666666,
              "#ed7953"
             ],
             [
              0.7777777777777778,
              "#fb9f3a"
             ],
             [
              0.8888888888888888,
              "#fdca26"
             ],
             [
              1,
              "#f0f921"
             ]
            ],
            "type": "heatmap"
           }
          ],
          "histogram": [
           {
            "marker": {
             "pattern": {
              "fillmode": "overlay",
              "size": 10,
              "solidity": 0.2
             }
            },
            "type": "histogram"
           }
          ],
          "histogram2d": [
           {
            "colorbar": {
             "outlinewidth": 0,
             "ticks": ""
            },
            "colorscale": [
             [
              0,
              "#0d0887"
             ],
             [
              0.1111111111111111,
              "#46039f"
             ],
             [
              0.2222222222222222,
              "#7201a8"
             ],
             [
              0.3333333333333333,
              "#9c179e"
             ],
             [
              0.4444444444444444,
              "#bd3786"
             ],
             [
              0.5555555555555556,
              "#d8576b"
             ],
             [
              0.6666666666666666,
              "#ed7953"
             ],
             [
              0.7777777777777778,
              "#fb9f3a"
             ],
             [
              0.8888888888888888,
              "#fdca26"
             ],
             [
              1,
              "#f0f921"
             ]
            ],
            "type": "histogram2d"
           }
          ],
          "histogram2dcontour": [
           {
            "colorbar": {
             "outlinewidth": 0,
             "ticks": ""
            },
            "colorscale": [
             [
              0,
              "#0d0887"
             ],
             [
              0.1111111111111111,
              "#46039f"
             ],
             [
              0.2222222222222222,
              "#7201a8"
             ],
             [
              0.3333333333333333,
              "#9c179e"
             ],
             [
              0.4444444444444444,
              "#bd3786"
             ],
             [
              0.5555555555555556,
              "#d8576b"
             ],
             [
              0.6666666666666666,
              "#ed7953"
             ],
             [
              0.7777777777777778,
              "#fb9f3a"
             ],
             [
              0.8888888888888888,
              "#fdca26"
             ],
             [
              1,
              "#f0f921"
             ]
            ],
            "type": "histogram2dcontour"
           }
          ],
          "mesh3d": [
           {
            "colorbar": {
             "outlinewidth": 0,
             "ticks": ""
            },
            "type": "mesh3d"
           }
          ],
          "parcoords": [
           {
            "line": {
             "colorbar": {
              "outlinewidth": 0,
              "ticks": ""
             }
            },
            "type": "parcoords"
           }
          ],
          "pie": [
           {
            "automargin": true,
            "type": "pie"
           }
          ],
          "scatter": [
           {
            "fillpattern": {
             "fillmode": "overlay",
             "size": 10,
             "solidity": 0.2
            },
            "type": "scatter"
           }
          ],
          "scatter3d": [
           {
            "line": {
             "colorbar": {
              "outlinewidth": 0,
              "ticks": ""
             }
            },
            "marker": {
             "colorbar": {
              "outlinewidth": 0,
              "ticks": ""
             }
            },
            "type": "scatter3d"
           }
          ],
          "scattercarpet": [
           {
            "marker": {
             "colorbar": {
              "outlinewidth": 0,
              "ticks": ""
             }
            },
            "type": "scattercarpet"
           }
          ],
          "scattergeo": [
           {
            "marker": {
             "colorbar": {
              "outlinewidth": 0,
              "ticks": ""
             }
            },
            "type": "scattergeo"
           }
          ],
          "scattergl": [
           {
            "marker": {
             "colorbar": {
              "outlinewidth": 0,
              "ticks": ""
             }
            },
            "type": "scattergl"
           }
          ],
          "scattermap": [
           {
            "marker": {
             "colorbar": {
              "outlinewidth": 0,
              "ticks": ""
             }
            },
            "type": "scattermap"
           }
          ],
          "scattermapbox": [
           {
            "marker": {
             "colorbar": {
              "outlinewidth": 0,
              "ticks": ""
             }
            },
            "type": "scattermapbox"
           }
          ],
          "scatterpolar": [
           {
            "marker": {
             "colorbar": {
              "outlinewidth": 0,
              "ticks": ""
             }
            },
            "type": "scatterpolar"
           }
          ],
          "scatterpolargl": [
           {
            "marker": {
             "colorbar": {
              "outlinewidth": 0,
              "ticks": ""
             }
            },
            "type": "scatterpolargl"
           }
          ],
          "scatterternary": [
           {
            "marker": {
             "colorbar": {
              "outlinewidth": 0,
              "ticks": ""
             }
            },
            "type": "scatterternary"
           }
          ],
          "surface": [
           {
            "colorbar": {
             "outlinewidth": 0,
             "ticks": ""
            },
            "colorscale": [
             [
              0,
              "#0d0887"
             ],
             [
              0.1111111111111111,
              "#46039f"
             ],
             [
              0.2222222222222222,
              "#7201a8"
             ],
             [
              0.3333333333333333,
              "#9c179e"
             ],
             [
              0.4444444444444444,
              "#bd3786"
             ],
             [
              0.5555555555555556,
              "#d8576b"
             ],
             [
              0.6666666666666666,
              "#ed7953"
             ],
             [
              0.7777777777777778,
              "#fb9f3a"
             ],
             [
              0.8888888888888888,
              "#fdca26"
             ],
             [
              1,
              "#f0f921"
             ]
            ],
            "type": "surface"
           }
          ],
          "table": [
           {
            "cells": {
             "fill": {
              "color": "#EBF0F8"
             },
             "line": {
              "color": "white"
             }
            },
            "header": {
             "fill": {
              "color": "#C8D4E3"
             },
             "line": {
              "color": "white"
             }
            },
            "type": "table"
           }
          ]
         },
         "layout": {
          "annotationdefaults": {
           "arrowcolor": "#2a3f5f",
           "arrowhead": 0,
           "arrowwidth": 1
          },
          "autotypenumbers": "strict",
          "coloraxis": {
           "colorbar": {
            "outlinewidth": 0,
            "ticks": ""
           }
          },
          "colorscale": {
           "diverging": [
            [
             0,
             "#8e0152"
            ],
            [
             0.1,
             "#c51b7d"
            ],
            [
             0.2,
             "#de77ae"
            ],
            [
             0.3,
             "#f1b6da"
            ],
            [
             0.4,
             "#fde0ef"
            ],
            [
             0.5,
             "#f7f7f7"
            ],
            [
             0.6,
             "#e6f5d0"
            ],
            [
             0.7,
             "#b8e186"
            ],
            [
             0.8,
             "#7fbc41"
            ],
            [
             0.9,
             "#4d9221"
            ],
            [
             1,
             "#276419"
            ]
           ],
           "sequential": [
            [
             0,
             "#0d0887"
            ],
            [
             0.1111111111111111,
             "#46039f"
            ],
            [
             0.2222222222222222,
             "#7201a8"
            ],
            [
             0.3333333333333333,
             "#9c179e"
            ],
            [
             0.4444444444444444,
             "#bd3786"
            ],
            [
             0.5555555555555556,
             "#d8576b"
            ],
            [
             0.6666666666666666,
             "#ed7953"
            ],
            [
             0.7777777777777778,
             "#fb9f3a"
            ],
            [
             0.8888888888888888,
             "#fdca26"
            ],
            [
             1,
             "#f0f921"
            ]
           ],
           "sequentialminus": [
            [
             0,
             "#0d0887"
            ],
            [
             0.1111111111111111,
             "#46039f"
            ],
            [
             0.2222222222222222,
             "#7201a8"
            ],
            [
             0.3333333333333333,
             "#9c179e"
            ],
            [
             0.4444444444444444,
             "#bd3786"
            ],
            [
             0.5555555555555556,
             "#d8576b"
            ],
            [
             0.6666666666666666,
             "#ed7953"
            ],
            [
             0.7777777777777778,
             "#fb9f3a"
            ],
            [
             0.8888888888888888,
             "#fdca26"
            ],
            [
             1,
             "#f0f921"
            ]
           ]
          },
          "colorway": [
           "#636efa",
           "#EF553B",
           "#00cc96",
           "#ab63fa",
           "#FFA15A",
           "#19d3f3",
           "#FF6692",
           "#B6E880",
           "#FF97FF",
           "#FECB52"
          ],
          "font": {
           "color": "#2a3f5f"
          },
          "geo": {
           "bgcolor": "white",
           "lakecolor": "white",
           "landcolor": "#E5ECF6",
           "showlakes": true,
           "showland": true,
           "subunitcolor": "white"
          },
          "hoverlabel": {
           "align": "left"
          },
          "hovermode": "closest",
          "mapbox": {
           "style": "light"
          },
          "paper_bgcolor": "white",
          "plot_bgcolor": "#E5ECF6",
          "polar": {
           "angularaxis": {
            "gridcolor": "white",
            "linecolor": "white",
            "ticks": ""
           },
           "bgcolor": "#E5ECF6",
           "radialaxis": {
            "gridcolor": "white",
            "linecolor": "white",
            "ticks": ""
           }
          },
          "scene": {
           "xaxis": {
            "backgroundcolor": "#E5ECF6",
            "gridcolor": "white",
            "gridwidth": 2,
            "linecolor": "white",
            "showbackground": true,
            "ticks": "",
            "zerolinecolor": "white"
           },
           "yaxis": {
            "backgroundcolor": "#E5ECF6",
            "gridcolor": "white",
            "gridwidth": 2,
            "linecolor": "white",
            "showbackground": true,
            "ticks": "",
            "zerolinecolor": "white"
           },
           "zaxis": {
            "backgroundcolor": "#E5ECF6",
            "gridcolor": "white",
            "gridwidth": 2,
            "linecolor": "white",
            "showbackground": true,
            "ticks": "",
            "zerolinecolor": "white"
           }
          },
          "shapedefaults": {
           "line": {
            "color": "#2a3f5f"
           }
          },
          "ternary": {
           "aaxis": {
            "gridcolor": "white",
            "linecolor": "white",
            "ticks": ""
           },
           "baxis": {
            "gridcolor": "white",
            "linecolor": "white",
            "ticks": ""
           },
           "bgcolor": "#E5ECF6",
           "caxis": {
            "gridcolor": "white",
            "linecolor": "white",
            "ticks": ""
           }
          },
          "title": {
           "x": 0.05
          },
          "xaxis": {
           "automargin": true,
           "gridcolor": "white",
           "linecolor": "white",
           "ticks": "",
           "title": {
            "standoff": 15
           },
           "zerolinecolor": "white",
           "zerolinewidth": 2
          },
          "yaxis": {
           "automargin": true,
           "gridcolor": "white",
           "linecolor": "white",
           "ticks": "",
           "title": {
            "standoff": 15
           },
           "zerolinecolor": "white",
           "zerolinewidth": 2
          }
         }
        },
        "title": {
         "text": "Max time to quit"
        },
        "xaxis": {
         "anchor": "y",
         "categoryarray": [
          "Deactive",
          "Finished"
         ],
         "categoryorder": "array",
         "domain": [
          0,
          1
         ],
         "title": {
          "text": "dataset"
         }
        },
        "yaxis": {
         "anchor": "x",
         "domain": [
          0,
          1
         ],
         "title": {
          "text": "Tempo medio"
         }
        }
       }
      },
      "image/png": "[encoded data removed]"
     },
     "metadata": {},
     "output_type": "display_data"
    },
    {
     "data": {
      "application/vnd.plotly.v1+json": {
       "config": {
        "plotlyServerURL": "https://plot.ly"
       },
       "data": [
        {
         "hovertemplate": "dataset=%{x}<br>Tempo medio=%{y}<extra></extra>",
         "legendgroup": "Deactive",
         "marker": {
          "color": "#636efa",
          "pattern": {
           "shape": ""
          }
         },
         "name": "Deactive",
         "orientation": "v",
         "showlegend": true,
         "textposition": "auto",
         "type": "bar",
         "x": [
          "Deactive"
         ],
         "xaxis": "x",
         "y": {
          "bdata": "AAAAAAAAEEA=",
          "dtype": "f8"
         },
         "yaxis": "y"
        },
        {
         "hovertemplate": "dataset=%{x}<br>Tempo medio=%{y}<extra></extra>",
         "legendgroup": "Finished",
         "marker": {
          "color": "#EF553B",
          "pattern": {
           "shape": ""
          }
         },
         "name": "Finished",
         "orientation": "v",
         "showlegend": true,
         "textposition": "auto",
         "type": "bar",
         "x": [
          "Finished"
         ],
         "xaxis": "x",
         "y": {
          "bdata": "AAAAAAAAFEA=",
          "dtype": "f8"
         },
         "yaxis": "y"
        }
       ],
       "layout": {
        "bargap": 0.5,
        "barmode": "relative",
        "font": {
         "color": "Black",
         "family": "Courier New, monospace",
         "size": 18,
         "variant": "small-caps"
        },
        "legend": {
         "title": {
          "text": "dataset"
         },
         "tracegroupgap": 0
        },
        "margin": {
         "t": 60
        },
        "template": {
         "data": {
          "bar": [
           {
            "error_x": {
             "color": "#2a3f5f"
            },
            "error_y": {
             "color": "#2a3f5f"
            },
            "marker": {
             "line": {
              "color": "#E5ECF6",
              "width": 0.5
             },
             "pattern": {
              "fillmode": "overlay",
              "size": 10,
              "solidity": 0.2
             }
            },
            "type": "bar"
           }
          ],
          "barpolar": [
           {
            "marker": {
             "line": {
              "color": "#E5ECF6",
              "width": 0.5
             },
             "pattern": {
              "fillmode": "overlay",
              "size": 10,
              "solidity": 0.2
             }
            },
            "type": "barpolar"
           }
          ],
          "carpet": [
           {
            "aaxis": {
             "endlinecolor": "#2a3f5f",
             "gridcolor": "white",
             "linecolor": "white",
             "minorgridcolor": "white",
             "startlinecolor": "#2a3f5f"
            },
            "baxis": {
             "endlinecolor": "#2a3f5f",
             "gridcolor": "white",
             "linecolor": "white",
             "minorgridcolor": "white",
             "startlinecolor": "#2a3f5f"
            },
            "type": "carpet"
           }
          ],
          "choropleth": [
           {
            "colorbar": {
             "outlinewidth": 0,
             "ticks": ""
            },
            "type": "choropleth"
           }
          ],
          "contour": [
           {
            "colorbar": {
             "outlinewidth": 0,
             "ticks": ""
            },
            "colorscale": [
             [
              0,
              "#0d0887"
             ],
             [
              0.1111111111111111,
              "#46039f"
             ],
             [
              0.2222222222222222,
              "#7201a8"
             ],
             [
              0.3333333333333333,
              "#9c179e"
             ],
             [
              0.4444444444444444,
              "#bd3786"
             ],
             [
              0.5555555555555556,
              "#d8576b"
             ],
             [
              0.6666666666666666,
              "#ed7953"
             ],
             [
              0.7777777777777778,
              "#fb9f3a"
             ],
             [
              0.8888888888888888,
              "#fdca26"
             ],
             [
              1,
              "#f0f921"
             ]
            ],
            "type": "contour"
           }
          ],
          "contourcarpet": [
           {
            "colorbar": {
             "outlinewidth": 0,
             "ticks": ""
            },
            "type": "contourcarpet"
           }
          ],
          "heatmap": [
           {
            "colorbar": {
             "outlinewidth": 0,
             "ticks": ""
            },
            "colorscale": [
             [
              0,
              "#0d0887"
             ],
             [
              0.1111111111111111,
              "#46039f"
             ],
             [
              0.2222222222222222,
              "#7201a8"
             ],
             [
              0.3333333333333333,
              "#9c179e"
             ],
             [
              0.4444444444444444,
              "#bd3786"
             ],
             [
              0.5555555555555556,
              "#d8576b"
             ],
             [
              0.6666666666666666,
              "#ed7953"
             ],
             [
              0.7777777777777778,
              "#fb9f3a"
             ],
             [
              0.8888888888888888,
              "#fdca26"
             ],
             [
              1,
              "#f0f921"
             ]
            ],
            "type": "heatmap"
           }
          ],
          "histogram": [
           {
            "marker": {
             "pattern": {
              "fillmode": "overlay",
              "size": 10,
              "solidity": 0.2
             }
            },
            "type": "histogram"
           }
          ],
          "histogram2d": [
           {
            "colorbar": {
             "outlinewidth": 0,
             "ticks": ""
            },
            "colorscale": [
             [
              0,
              "#0d0887"
             ],
             [
              0.1111111111111111,
              "#46039f"
             ],
             [
              0.2222222222222222,
              "#7201a8"
             ],
             [
              0.3333333333333333,
              "#9c179e"
             ],
             [
              0.4444444444444444,
              "#bd3786"
             ],
             [
              0.5555555555555556,
              "#d8576b"
             ],
             [
              0.6666666666666666,
              "#ed7953"
             ],
             [
              0.7777777777777778,
              "#fb9f3a"
             ],
             [
              0.8888888888888888,
              "#fdca26"
             ],
             [
              1,
              "#f0f921"
             ]
            ],
            "type": "histogram2d"
           }
          ],
          "histogram2dcontour": [
           {
            "colorbar": {
             "outlinewidth": 0,
             "ticks": ""
            },
            "colorscale": [
             [
              0,
              "#0d0887"
             ],
             [
              0.1111111111111111,
              "#46039f"
             ],
             [
              0.2222222222222222,
              "#7201a8"
             ],
             [
              0.3333333333333333,
              "#9c179e"
             ],
             [
              0.4444444444444444,
              "#bd3786"
             ],
             [
              0.5555555555555556,
              "#d8576b"
             ],
             [
              0.6666666666666666,
              "#ed7953"
             ],
             [
              0.7777777777777778,
              "#fb9f3a"
             ],
             [
              0.8888888888888888,
              "#fdca26"
             ],
             [
              1,
              "#f0f921"
             ]
            ],
            "type": "histogram2dcontour"
           }
          ],
          "mesh3d": [
           {
            "colorbar": {
             "outlinewidth": 0,
             "ticks": ""
            },
            "type": "mesh3d"
           }
          ],
          "parcoords": [
           {
            "line": {
             "colorbar": {
              "outlinewidth": 0,
              "ticks": ""
             }
            },
            "type": "parcoords"
           }
          ],
          "pie": [
           {
            "automargin": true,
            "type": "pie"
           }
          ],
          "scatter": [
           {
            "fillpattern": {
             "fillmode": "overlay",
             "size": 10,
             "solidity": 0.2
            },
            "type": "scatter"
           }
          ],
          "scatter3d": [
           {
            "line": {
             "colorbar": {
              "outlinewidth": 0,
              "ticks": ""
             }
            },
            "marker": {
             "colorbar": {
              "outlinewidth": 0,
              "ticks": ""
             }
            },
            "type": "scatter3d"
           }
          ],
          "scattercarpet": [
           {
            "marker": {
             "colorbar": {
              "outlinewidth": 0,
              "ticks": ""
             }
            },
            "type": "scattercarpet"
           }
          ],
          "scattergeo": [
           {
            "marker": {
             "colorbar": {
              "outlinewidth": 0,
              "ticks": ""
             }
            },
            "type": "scattergeo"
           }
          ],
          "scattergl": [
           {
            "marker": {
             "colorbar": {
              "outlinewidth": 0,
              "ticks": ""
             }
            },
            "type": "scattergl"
           }
          ],
          "scattermap": [
           {
            "marker": {
             "colorbar": {
              "outlinewidth": 0,
              "ticks": ""
             }
            },
            "type": "scattermap"
           }
          ],
          "scattermapbox": [
           {
            "marker": {
             "colorbar": {
              "outlinewidth": 0,
              "ticks": ""
             }
            },
            "type": "scattermapbox"
           }
          ],
          "scatterpolar": [
           {
            "marker": {
             "colorbar": {
              "outlinewidth": 0,
              "ticks": ""
             }
            },
            "type": "scatterpolar"
           }
          ],
          "scatterpolargl": [
           {
            "marker": {
             "colorbar": {
              "outlinewidth": 0,
              "ticks": ""
             }
            },
            "type": "scatterpolargl"
           }
          ],
          "scatterternary": [
           {
            "marker": {
             "colorbar": {
              "outlinewidth": 0,
              "ticks": ""
             }
            },
            "type": "scatterternary"
           }
          ],
          "surface": [
           {
            "colorbar": {
             "outlinewidth": 0,
             "ticks": ""
            },
            "colorscale": [
             [
              0,
              "#0d0887"
             ],
             [
              0.1111111111111111,
              "#46039f"
             ],
             [
              0.2222222222222222,
              "#7201a8"
             ],
             [
              0.3333333333333333,
              "#9c179e"
             ],
             [
              0.4444444444444444,
              "#bd3786"
             ],
             [
              0.5555555555555556,
              "#d8576b"
             ],
             [
              0.6666666666666666,
              "#ed7953"
             ],
             [
              0.7777777777777778,
              "#fb9f3a"
             ],
             [
              0.8888888888888888,
              "#fdca26"
             ],
             [
              1,
              "#f0f921"
             ]
            ],
            "type": "surface"
           }
          ],
          "table": [
           {
            "cells": {
             "fill": {
              "color": "#EBF0F8"
             },
             "line": {
              "color": "white"
             }
            },
            "header": {
             "fill": {
              "color": "#C8D4E3"
             },
             "line": {
              "color": "white"
             }
            },
            "type": "table"
           }
          ]
         },
         "layout": {
          "annotationdefaults": {
           "arrowcolor": "#2a3f5f",
           "arrowhead": 0,
           "arrowwidth": 1
          },
          "autotypenumbers": "strict",
          "coloraxis": {
           "colorbar": {
            "outlinewidth": 0,
            "ticks": ""
           }
          },
          "colorscale": {
           "diverging": [
            [
             0,
             "#8e0152"
            ],
            [
             0.1,
             "#c51b7d"
            ],
            [
             0.2,
             "#de77ae"
            ],
            [
             0.3,
             "#f1b6da"
            ],
            [
             0.4,
             "#fde0ef"
            ],
            [
             0.5,
             "#f7f7f7"
            ],
            [
             0.6,
             "#e6f5d0"
            ],
            [
             0.7,
             "#b8e186"
            ],
            [
             0.8,
             "#7fbc41"
            ],
            [
             0.9,
             "#4d9221"
            ],
            [
             1,
             "#276419"
            ]
           ],
           "sequential": [
            [
             0,
             "#0d0887"
            ],
            [
             0.1111111111111111,
             "#46039f"
            ],
            [
             0.2222222222222222,
             "#7201a8"
            ],
            [
             0.3333333333333333,
             "#9c179e"
            ],
            [
             0.4444444444444444,
             "#bd3786"
            ],
            [
             0.5555555555555556,
             "#d8576b"
            ],
            [
             0.6666666666666666,
             "#ed7953"
            ],
            [
             0.7777777777777778,
             "#fb9f3a"
            ],
            [
             0.8888888888888888,
             "#fdca26"
            ],
            [
             1,
             "#f0f921"
            ]
           ],
           "sequentialminus": [
            [
             0,
             "#0d0887"
            ],
            [
             0.1111111111111111,
             "#46039f"
            ],
            [
             0.2222222222222222,
             "#7201a8"
            ],
            [
             0.3333333333333333,
             "#9c179e"
            ],
            [
             0.4444444444444444,
             "#bd3786"
            ],
            [
             0.5555555555555556,
             "#d8576b"
            ],
            [
             0.6666666666666666,
             "#ed7953"
            ],
            [
             0.7777777777777778,
             "#fb9f3a"
            ],
            [
             0.8888888888888888,
             "#fdca26"
            ],
            [
             1,
             "#f0f921"
            ]
           ]
          },
          "colorway": [
           "#636efa",
           "#EF553B",
           "#00cc96",
           "#ab63fa",
           "#FFA15A",
           "#19d3f3",
           "#FF6692",
           "#B6E880",
           "#FF97FF",
           "#FECB52"
          ],
          "font": {
           "color": "#2a3f5f"
          },
          "geo": {
           "bgcolor": "white",
           "lakecolor": "white",
           "landcolor": "#E5ECF6",
           "showlakes": true,
           "showland": true,
           "subunitcolor": "white"
          },
          "hoverlabel": {
           "align": "left"
          },
          "hovermode": "closest",
          "mapbox": {
           "style": "light"
          },
          "paper_bgcolor": "white",
          "plot_bgcolor": "#E5ECF6",
          "polar": {
           "angularaxis": {
            "gridcolor": "white",
            "linecolor": "white",
            "ticks": ""
           },
           "bgcolor": "#E5ECF6",
           "radialaxis": {
            "gridcolor": "white",
            "linecolor": "white",
            "ticks": ""
           }
          },
          "scene": {
           "xaxis": {
            "backgroundcolor": "#E5ECF6",
            "gridcolor": "white",
            "gridwidth": 2,
            "linecolor": "white",
            "showbackground": true,
            "ticks": "",
            "zerolinecolor": "white"
           },
           "yaxis": {
            "backgroundcolor": "#E5ECF6",
            "gridcolor": "white",
            "gridwidth": 2,
            "linecolor": "white",
            "showbackground": true,
            "ticks": "",
            "zerolinecolor": "white"
           },
           "zaxis": {
            "backgroundcolor": "#E5ECF6",
            "gridcolor": "white",
            "gridwidth": 2,
            "linecolor": "white",
            "showbackground": true,
            "ticks": "",
            "zerolinecolor": "white"
           }
          },
          "shapedefaults": {
           "line": {
            "color": "#2a3f5f"
           }
          },
          "ternary": {
           "aaxis": {
            "gridcolor": "white",
            "linecolor": "white",
            "ticks": ""
           },
           "baxis": {
            "gridcolor": "white",
            "linecolor": "white",
            "ticks": ""
           },
           "bgcolor": "#E5ECF6",
           "caxis": {
            "gridcolor": "white",
            "linecolor": "white",
            "ticks": ""
           }
          },
          "title": {
           "x": 0.05
          },
          "xaxis": {
           "automargin": true,
           "gridcolor": "white",
           "linecolor": "white",
           "ticks": "",
           "title": {
            "standoff": 15
           },
           "zerolinecolor": "white",
           "zerolinewidth": 2
          },
          "yaxis": {
           "automargin": true,
           "gridcolor": "white",
           "linecolor": "white",
           "ticks": "",
           "title": {
            "standoff": 15
           },
           "zerolinecolor": "white",
           "zerolinewidth": 2
          }
         }
        },
        "title": {
         "text": "Median time to quit"
        },
        "xaxis": {
         "anchor": "y",
         "categoryarray": [
          "Deactive",
          "Finished"
         ],
         "categoryorder": "array",
         "domain": [
          0,
          1
         ],
         "title": {
          "text": "dataset"
         }
        },
        "yaxis": {
         "anchor": "x",
         "domain": [
          0,
          1
         ],
         "title": {
          "text": "Tempo medio"
         }
        }
       }
      },
      "image/png": "[encoded data removed]"
     },
     "metadata": {},
     "output_type": "display_data"
    }
   ],
   "source": [
    "# let us do the math: If we subtract the period the person entered with the current period of the person, \n",
    "# we can get how much time they have spent in college \n",
    "test = test.dropna(subset=['Data ocorrência'])\n",
    "\n",
    "test['Ano atual']  = np.where (\n",
    "    test['Data ocorrência'].isnull(),\n",
    "    (test['Período'] /10), \n",
    "     test['Data ocorrência'].str[:4].astype(float)) \n",
    "test['Ano atual'] = test['Ano atual'].fillna(0).astype(int)\n",
    "\n",
    "test['Tempo medio'] = test['Ano atual'] - test['Ano Ingresso']\n",
    "\n",
    "mean_time = test.groupby('dataset')['Tempo medio'].mean().reset_index()\n",
    "min_time = test.groupby('dataset')['Tempo medio'].min().reset_index()\n",
    "max_time = test.groupby('dataset')['Tempo medio'].max().reset_index()\n",
    "median_time = test.groupby('dataset')['Tempo medio'].median().reset_index()\n",
    "\n",
    "\n",
    "px.bar(mean_time, x='dataset', y='Tempo medio', color='dataset').update_layout(bargap=0.5, title={\"text\": \"Average time to quit\"}, font=my_font).show()\n",
    "px.bar(max_time, x='dataset', y='Tempo medio', color='dataset').update_layout(bargap=0.5, title={\"text\": \"Max time to quit\"}, font=my_font).show()\n",
    "px.bar(median_time, x='dataset', y='Tempo medio', color='dataset').update_layout(bargap=0.5, title={\"text\": \"Median time to quit\"}, font=my_font).show()\n"
   ]
  },
  {
   "cell_type": "code",
   "execution_count": 67,
   "id": "ad0a028c-870d-4cf1-a92a-a5edd527b4a1",
   "metadata": {},
   "outputs": [
    {
     "data": {
      "application/vnd.plotly.v1+json": {
       "config": {
        "plotlyServerURL": "https://plot.ly"
       },
       "data": [
        {
         "customdata": {
          "bdata": "CQQFBAYFBQUGBAUFBgUFBQgEBgQEBAQEBQQGBgUFBAUFBAUEBQUFBgYFBQQGBQUEBgUHBQcEBQcEBQQEBAQHBQcEBQQJBAUFBAMEAwYEAwQFCAQFBAUEBQcEBAYFBAAEBAQEBgUEBAgFBAU=",
          "dtype": "i1",
          "shape": "107, 1"
         },
         "domain": {
          "x": [
           0,
           0.49
          ],
          "y": [
           0,
           1
          ]
         },
         "hovertemplate": "dataset=Finished<br>Tempo medio=%{customdata[0]}<extra></extra>",
         "labels": {
          "bdata": "CQQFBAYFBQUGBAUFBgUFBQgEBgQEBAQEBQQGBgUFBAUFBAUEBQUFBgYFBQQGBQUEBgUHBQcEBQcEBQQEBAQHBQcEBQQJBAUFBAMEAwYEAwQFCAQFBAUEBQcEBAYFBAAEBAQEBgUEBAgFBAU=",
          "dtype": "i1"
         },
         "legendgroup": "",
         "marker": {
          "colors": [
           "#636efa",
           "#EF553B",
           "#00cc96",
           "#EF553B",
           "#ab63fa",
           "#00cc96",
           "#00cc96",
           "#00cc96",
           "#ab63fa",
           "#EF553B",
           "#00cc96",
           "#00cc96",
           "#ab63fa",
           "#00cc96",
           "#00cc96",
           "#00cc96",
           "#FFA15A",
           "#EF553B",
           "#ab63fa",
           "#EF553B",
           "#EF553B",
           "#EF553B",
           "#EF553B",
           "#EF553B",
           "#00cc96",
           "#EF553B",
           "#ab63fa",
           "#ab63fa",
           "#00cc96",
           "#00cc96",
           "#EF553B",
           "#00cc96",
           "#00cc96",
           "#EF553B",
           "#00cc96",
           "#EF553B",
           "#00cc96",
           "#00cc96",
           "#00cc96",
           "#ab63fa",
           "#ab63fa",
           "#00cc96",
           "#00cc96",
           "#EF553B",
           "#ab63fa",
           "#00cc96",
           "#00cc96",
           "#EF553B",
           "#ab63fa",
           "#00cc96",
           "#19d3f3",
           "#00cc96",
           "#19d3f3",
           "#EF553B",
           "#00cc96",
           "#19d3f3",
           "#EF553B",
           "#00cc96",
           "#EF553B",
           "#EF553B",
           "#EF553B",
           "#EF553B",
           "#19d3f3",
           "#00cc96",
           "#19d3f3",
           "#EF553B",
           "#00cc96",
           "#EF553B",
           "#636efa",
           "#EF553B",
           "#00cc96",
           "#00cc96",
           "#EF553B",
           "#FF6692",
           "#EF553B",
           "#FF6692",
           "#ab63fa",
           "#EF553B",
           "#FF6692",
           "#EF553B",
           "#00cc96",
           "#FFA15A",
           "#EF553B",
           "#00cc96",
           "#EF553B",
           "#00cc96",
           "#EF553B",
           "#00cc96",
           "#19d3f3",
           "#EF553B",
           "#EF553B",
           "#ab63fa",
           "#00cc96",
           "#EF553B",
           "#B6E880",
           "#EF553B",
           "#EF553B",
           "#EF553B",
           "#EF553B",
           "#ab63fa",
           "#00cc96",
           "#EF553B",
           "#EF553B",
           "#FFA15A",
           "#00cc96",
           "#EF553B",
           "#00cc96"
          ]
         },
         "name": "",
         "showlegend": true,
         "type": "pie"
        },
        {
         "customdata": {
          "bdata": "BQMBBQgGAAEHAwIEAwEEAwAHAwgHAAMABgABCAUGBAQBBwMEBgoHBgMFAgcIAQMDCAIBBgUABAQGBwgCAgUBBwEHAwcGBAMHBgQHBAQBAgcHBAEFBAEFBwYCAwYFCAMEBgEDBwMDBAQCAQUHAwcCAgQDAgEBCgMCAwUGAQMDBAYAAgcEAwEDAAYABgMEBQcGBQEEAwkBCAQABAUAAwYBAQgHBAYEBwEHBQIEAgQBBAYBBAMDCQIHAgIDAwMCBwcDAQYBAwUGBwYBAAEDBgUHBAcHBgAGAgMBBwMFAwEHAgIBAAADAwMGAAcEAwkGAAEKAwYHAgUBCAEDBgsAAQcBAAcGAAEHBgYABwIAAAMDAgMBBAYBBwYBAQACBwQHBAMDBwMGAQcHAgcCAQQIAQMBAAEEAwMBBgEGAQcHCAADBAcABwYCBAcHBQYABgcKAwgBAwMJAQcGBgoIAAU=",
          "dtype": "i1",
          "shape": "347, 1"
         },
         "domain": {
          "x": [
           0.51,
           1
          ],
          "y": [
           0,
           1
          ]
         },
         "hovertemplate": "dataset=Deactive<br>Tempo medio=%{customdata[0]}<extra></extra>",
         "labels": {
          "bdata": "BQMBBQgGAAEHAwIEAwEEAwAHAwgHAAMABgABCAUGBAQBBwMEBgoHBgMFAgcIAQMDCAIBBgUABAQGBwgCAgUBBwEHAwcGBAMHBgQHBAQBAgcHBAEFBAEFBwYCAwYFCAMEBgEDBwMDBAQCAQUHAwcCAgQDAgEBCgMCAwUGAQMDBAYAAgcEAwEDAAYABgMEBQcGBQEEAwkBCAQABAUAAwYBAQgHBAYEBwEHBQIEAgQBBAYBBAMDCQIHAgIDAwMCBwcDAQYBAwUGBwYBAAEDBgUHBAcHBgAGAgMBBwMFAwEHAgIBAAADAwMGAAcEAwkGAAEKAwYHAgUBCAEDBgsAAQcBAAcGAAEHBgYABwIAAAMDAgMBBAYBBwYBAQACBwQHBAMDBwMGAQcHAgcCAQQIAQMBAAEEAwMBBgEGAQcHCAADBAcABwYCBAcHBQYABgcKAwgBAwMJAQcGBgoIAAU=",
          "dtype": "i1"
         },
         "legendgroup": "",
         "marker": {
          "colors": [
           "#636efa",
           "#EF553B",
           "#00cc96",
           "#636efa",
           "#ab63fa",
           "#FFA15A",
           "#19d3f3",
           "#00cc96",
           "#FF6692",
           "#EF553B",
           "#B6E880",
           "#FF97FF",
           "#EF553B",
           "#00cc96",
           "#FF97FF",
           "#EF553B",
           "#19d3f3",
           "#FF6692",
           "#EF553B",
           "#ab63fa",
           "#FF6692",
           "#19d3f3",
           "#EF553B",
           "#19d3f3",
           "#FFA15A",
           "#19d3f3",
           "#00cc96",
           "#ab63fa",
           "#636efa",
           "#FFA15A",
           "#FF97FF",
           "#FF97FF",
           "#00cc96",
           "#FF6692",
           "#EF553B",
           "#FF97FF",
           "#FFA15A",
           "#FECB52",
           "#FF6692",
           "#FFA15A",
           "#EF553B",
           "#636efa",
           "#B6E880",
           "#FF6692",
           "#ab63fa",
           "#00cc96",
           "#EF553B",
           "#EF553B",
           "#ab63fa",
           "#B6E880",
           "#00cc96",
           "#FFA15A",
           "#636efa",
           "#19d3f3",
           "#FF97FF",
           "#FF97FF",
           "#FFA15A",
           "#FF6692",
           "#ab63fa",
           "#B6E880",
           "#B6E880",
           "#636efa",
           "#00cc96",
           "#FF6692",
           "#00cc96",
           "#FF6692",
           "#EF553B",
           "#FF6692",
           "#FFA15A",
           "#FF97FF",
           "#EF553B",
           "#FF6692",
           "#FFA15A",
           "#FF97FF",
           "#FF6692",
           "#FF97FF",
           "#FF97FF",
           "#00cc96",
           "#B6E880",
           "#FF6692",
           "#FF6692",
           "#FF97FF",
           "#00cc96",
           "#636efa",
           "#FF97FF",
           "#00cc96",
           "#636efa",
           "#FF6692",
           "#FFA15A",
           "#B6E880",
           "#EF553B",
           "#FFA15A",
           "#636efa",
           "#ab63fa",
           "#EF553B",
           "#FF97FF",
           "#FFA15A",
           "#00cc96",
           "#EF553B",
           "#FF6692",
           "#EF553B",
           "#EF553B",
           "#FF97FF",
           "#FF97FF",
           "#B6E880",
           "#00cc96",
           "#636efa",
           "#FF6692",
           "#EF553B",
           "#FF6692",
           "#B6E880",
           "#B6E880",
           "#FF97FF",
           "#EF553B",
           "#B6E880",
           "#00cc96",
           "#00cc96",
           "#FECB52",
           "#EF553B",
           "#B6E880",
           "#EF553B",
           "#636efa",
           "#FFA15A",
           "#00cc96",
           "#EF553B",
           "#EF553B",
           "#FF97FF",
           "#FFA15A",
           "#19d3f3",
           "#B6E880",
           "#FF6692",
           "#FF97FF",
           "#EF553B",
           "#00cc96",
           "#EF553B",
           "#19d3f3",
           "#FFA15A",
           "#19d3f3",
           "#FFA15A",
           "#EF553B",
           "#FF97FF",
           "#636efa",
           "#FF6692",
           "#FFA15A",
           "#636efa",
           "#00cc96",
           "#FF97FF",
           "#EF553B",
           "#636efa",
           "#00cc96",
           "#ab63fa",
           "#FF97FF",
           "#19d3f3",
           "#FF97FF",
           "#636efa",
           "#19d3f3",
           "#EF553B",
           "#FFA15A",
           "#00cc96",
           "#00cc96",
           "#ab63fa",
           "#FF6692",
           "#FF97FF",
           "#FFA15A",
           "#FF97FF",
           "#FF6692",
           "#00cc96",
           "#FF6692",
           "#636efa",
           "#B6E880",
           "#FF97FF",
           "#B6E880",
           "#FF97FF",
           "#00cc96",
           "#FF97FF",
           "#FFA15A",
           "#00cc96",
           "#FF97FF",
           "#EF553B",
           "#EF553B",
           "#636efa",
           "#B6E880",
           "#FF6692",
           "#B6E880",
           "#B6E880",
           "#EF553B",
           "#EF553B",
           "#EF553B",
           "#B6E880",
           "#FF6692",
           "#FF6692",
           "#EF553B",
           "#00cc96",
           "#FFA15A",
           "#00cc96",
           "#EF553B",
           "#636efa",
           "#FFA15A",
           "#FF6692",
           "#FFA15A",
           "#00cc96",
           "#19d3f3",
           "#00cc96",
           "#EF553B",
           "#FFA15A",
           "#636efa",
           "#FF6692",
           "#FF97FF",
           "#FF6692",
           "#FF6692",
           "#FFA15A",
           "#19d3f3",
           "#FFA15A",
           "#B6E880",
           "#EF553B",
           "#00cc96",
           "#FF6692",
           "#EF553B",
           "#636efa",
           "#EF553B",
           "#00cc96",
           "#FF6692",
           "#B6E880",
           "#B6E880",
           "#00cc96",
           "#19d3f3",
           "#19d3f3",
           "#EF553B",
           "#EF553B",
           "#EF553B",
           "#FFA15A",
           "#19d3f3",
           "#FF6692",
           "#FF97FF",
           "#EF553B",
           "#636efa",
           "#FFA15A",
           "#19d3f3",
           "#00cc96",
           "#FECB52",
           "#EF553B",
           "#FFA15A",
           "#FF6692",
           "#B6E880",
           "#636efa",
           "#00cc96",
           "#ab63fa",
           "#00cc96",
           "#EF553B",
           "#FFA15A",
           "#EF553B",
           "#19d3f3",
           "#00cc96",
           "#FF6692",
           "#00cc96",
           "#19d3f3",
           "#FF6692",
           "#FFA15A",
           "#19d3f3",
           "#00cc96",
           "#FF6692",
           "#FFA15A",
           "#FFA15A",
           "#19d3f3",
           "#FF6692",
           "#B6E880",
           "#19d3f3",
           "#19d3f3",
           "#EF553B",
           "#EF553B",
           "#B6E880",
           "#EF553B",
           "#00cc96",
           "#FF97FF",
           "#FFA15A",
           "#00cc96",
           "#FF6692",
           "#FFA15A",
           "#00cc96",
           "#00cc96",
           "#19d3f3",
           "#B6E880",
           "#FF6692",
           "#FF97FF",
           "#FF6692",
           "#FF97FF",
           "#EF553B",
           "#EF553B",
           "#FF6692",
           "#EF553B",
           "#FFA15A",
           "#00cc96",
           "#FF6692",
           "#FF6692",
           "#B6E880",
           "#FF6692",
           "#B6E880",
           "#00cc96",
           "#FF97FF",
           "#ab63fa",
           "#00cc96",
           "#EF553B",
           "#00cc96",
           "#19d3f3",
           "#00cc96",
           "#FF97FF",
           "#EF553B",
           "#EF553B",
           "#00cc96",
           "#FFA15A",
           "#00cc96",
           "#FFA15A",
           "#00cc96",
           "#FF6692",
           "#FF6692",
           "#ab63fa",
           "#19d3f3",
           "#EF553B",
           "#FF97FF",
           "#FF6692",
           "#19d3f3",
           "#FF6692",
           "#FFA15A",
           "#B6E880",
           "#FF97FF",
           "#FF6692",
           "#FF6692",
           "#636efa",
           "#FFA15A",
           "#19d3f3",
           "#FFA15A",
           "#FF6692",
           "#FECB52",
           "#EF553B",
           "#ab63fa",
           "#00cc96",
           "#EF553B",
           "#EF553B",
           "#636efa",
           "#00cc96",
           "#FF6692",
           "#FFA15A",
           "#FFA15A",
           "#FECB52",
           "#ab63fa",
           "#19d3f3",
           "#636efa"
          ]
         },
         "name": "",
         "showlegend": true,
         "type": "pie"
        }
       ],
       "layout": {
        "annotations": [
         {
          "font": {},
          "showarrow": false,
          "text": "dataset=Finished",
          "x": 0.245,
          "xanchor": "center",
          "xref": "paper",
          "y": 1,
          "yanchor": "bottom",
          "yref": "paper"
         },
         {
          "font": {},
          "showarrow": false,
          "text": "dataset=Deactive",
          "x": 0.755,
          "xanchor": "center",
          "xref": "paper",
          "y": 1,
          "yanchor": "bottom",
          "yref": "paper"
         }
        ],
        "bargap": 0.5,
        "font": {
         "color": "Black",
         "family": "Courier New, monospace",
         "size": 18,
         "variant": "small-caps"
        },
        "legend": {
         "tracegroupgap": 0
        },
        "margin": {
         "t": 60
        },
        "template": {
         "data": {
          "bar": [
           {
            "error_x": {
             "color": "#2a3f5f"
            },
            "error_y": {
             "color": "#2a3f5f"
            },
            "marker": {
             "line": {
              "color": "#E5ECF6",
              "width": 0.5
             },
             "pattern": {
              "fillmode": "overlay",
              "size": 10,
              "solidity": 0.2
             }
            },
            "type": "bar"
           }
          ],
          "barpolar": [
           {
            "marker": {
             "line": {
              "color": "#E5ECF6",
              "width": 0.5
             },
             "pattern": {
              "fillmode": "overlay",
              "size": 10,
              "solidity": 0.2
             }
            },
            "type": "barpolar"
           }
          ],
          "carpet": [
           {
            "aaxis": {
             "endlinecolor": "#2a3f5f",
             "gridcolor": "white",
             "linecolor": "white",
             "minorgridcolor": "white",
             "startlinecolor": "#2a3f5f"
            },
            "baxis": {
             "endlinecolor": "#2a3f5f",
             "gridcolor": "white",
             "linecolor": "white",
             "minorgridcolor": "white",
             "startlinecolor": "#2a3f5f"
            },
            "type": "carpet"
           }
          ],
          "choropleth": [
           {
            "colorbar": {
             "outlinewidth": 0,
             "ticks": ""
            },
            "type": "choropleth"
           }
          ],
          "contour": [
           {
            "colorbar": {
             "outlinewidth": 0,
             "ticks": ""
            },
            "colorscale": [
             [
              0,
              "#0d0887"
             ],
             [
              0.1111111111111111,
              "#46039f"
             ],
             [
              0.2222222222222222,
              "#7201a8"
             ],
             [
              0.3333333333333333,
              "#9c179e"
             ],
             [
              0.4444444444444444,
              "#bd3786"
             ],
             [
              0.5555555555555556,
              "#d8576b"
             ],
             [
              0.6666666666666666,
              "#ed7953"
             ],
             [
              0.7777777777777778,
              "#fb9f3a"
             ],
             [
              0.8888888888888888,
              "#fdca26"
             ],
             [
              1,
              "#f0f921"
             ]
            ],
            "type": "contour"
           }
          ],
          "contourcarpet": [
           {
            "colorbar": {
             "outlinewidth": 0,
             "ticks": ""
            },
            "type": "contourcarpet"
           }
          ],
          "heatmap": [
           {
            "colorbar": {
             "outlinewidth": 0,
             "ticks": ""
            },
            "colorscale": [
             [
              0,
              "#0d0887"
             ],
             [
              0.1111111111111111,
              "#46039f"
             ],
             [
              0.2222222222222222,
              "#7201a8"
             ],
             [
              0.3333333333333333,
              "#9c179e"
             ],
             [
              0.4444444444444444,
              "#bd3786"
             ],
             [
              0.5555555555555556,
              "#d8576b"
             ],
             [
              0.6666666666666666,
              "#ed7953"
             ],
             [
              0.7777777777777778,
              "#fb9f3a"
             ],
             [
              0.8888888888888888,
              "#fdca26"
             ],
             [
              1,
              "#f0f921"
             ]
            ],
            "type": "heatmap"
           }
          ],
          "histogram": [
           {
            "marker": {
             "pattern": {
              "fillmode": "overlay",
              "size": 10,
              "solidity": 0.2
             }
            },
            "type": "histogram"
           }
          ],
          "histogram2d": [
           {
            "colorbar": {
             "outlinewidth": 0,
             "ticks": ""
            },
            "colorscale": [
             [
              0,
              "#0d0887"
             ],
             [
              0.1111111111111111,
              "#46039f"
             ],
             [
              0.2222222222222222,
              "#7201a8"
             ],
             [
              0.3333333333333333,
              "#9c179e"
             ],
             [
              0.4444444444444444,
              "#bd3786"
             ],
             [
              0.5555555555555556,
              "#d8576b"
             ],
             [
              0.6666666666666666,
              "#ed7953"
             ],
             [
              0.7777777777777778,
              "#fb9f3a"
             ],
             [
              0.8888888888888888,
              "#fdca26"
             ],
             [
              1,
              "#f0f921"
             ]
            ],
            "type": "histogram2d"
           }
          ],
          "histogram2dcontour": [
           {
            "colorbar": {
             "outlinewidth": 0,
             "ticks": ""
            },
            "colorscale": [
             [
              0,
              "#0d0887"
             ],
             [
              0.1111111111111111,
              "#46039f"
             ],
             [
              0.2222222222222222,
              "#7201a8"
             ],
             [
              0.3333333333333333,
              "#9c179e"
             ],
             [
              0.4444444444444444,
              "#bd3786"
             ],
             [
              0.5555555555555556,
              "#d8576b"
             ],
             [
              0.6666666666666666,
              "#ed7953"
             ],
             [
              0.7777777777777778,
              "#fb9f3a"
             ],
             [
              0.8888888888888888,
              "#fdca26"
             ],
             [
              1,
              "#f0f921"
             ]
            ],
            "type": "histogram2dcontour"
           }
          ],
          "mesh3d": [
           {
            "colorbar": {
             "outlinewidth": 0,
             "ticks": ""
            },
            "type": "mesh3d"
           }
          ],
          "parcoords": [
           {
            "line": {
             "colorbar": {
              "outlinewidth": 0,
              "ticks": ""
             }
            },
            "type": "parcoords"
           }
          ],
          "pie": [
           {
            "automargin": true,
            "type": "pie"
           }
          ],
          "scatter": [
           {
            "fillpattern": {
             "fillmode": "overlay",
             "size": 10,
             "solidity": 0.2
            },
            "type": "scatter"
           }
          ],
          "scatter3d": [
           {
            "line": {
             "colorbar": {
              "outlinewidth": 0,
              "ticks": ""
             }
            },
            "marker": {
             "colorbar": {
              "outlinewidth": 0,
              "ticks": ""
             }
            },
            "type": "scatter3d"
           }
          ],
          "scattercarpet": [
           {
            "marker": {
             "colorbar": {
              "outlinewidth": 0,
              "ticks": ""
             }
            },
            "type": "scattercarpet"
           }
          ],
          "scattergeo": [
           {
            "marker": {
             "colorbar": {
              "outlinewidth": 0,
              "ticks": ""
             }
            },
            "type": "scattergeo"
           }
          ],
          "scattergl": [
           {
            "marker": {
             "colorbar": {
              "outlinewidth": 0,
              "ticks": ""
             }
            },
            "type": "scattergl"
           }
          ],
          "scattermap": [
           {
            "marker": {
             "colorbar": {
              "outlinewidth": 0,
              "ticks": ""
             }
            },
            "type": "scattermap"
           }
          ],
          "scattermapbox": [
           {
            "marker": {
             "colorbar": {
              "outlinewidth": 0,
              "ticks": ""
             }
            },
            "type": "scattermapbox"
           }
          ],
          "scatterpolar": [
           {
            "marker": {
             "colorbar": {
              "outlinewidth": 0,
              "ticks": ""
             }
            },
            "type": "scatterpolar"
           }
          ],
          "scatterpolargl": [
           {
            "marker": {
             "colorbar": {
              "outlinewidth": 0,
              "ticks": ""
             }
            },
            "type": "scatterpolargl"
           }
          ],
          "scatterternary": [
           {
            "marker": {
             "colorbar": {
              "outlinewidth": 0,
              "ticks": ""
             }
            },
            "type": "scatterternary"
           }
          ],
          "surface": [
           {
            "colorbar": {
             "outlinewidth": 0,
             "ticks": ""
            },
            "colorscale": [
             [
              0,
              "#0d0887"
             ],
             [
              0.1111111111111111,
              "#46039f"
             ],
             [
              0.2222222222222222,
              "#7201a8"
             ],
             [
              0.3333333333333333,
              "#9c179e"
             ],
             [
              0.4444444444444444,
              "#bd3786"
             ],
             [
              0.5555555555555556,
              "#d8576b"
             ],
             [
              0.6666666666666666,
              "#ed7953"
             ],
             [
              0.7777777777777778,
              "#fb9f3a"
             ],
             [
              0.8888888888888888,
              "#fdca26"
             ],
             [
              1,
              "#f0f921"
             ]
            ],
            "type": "surface"
           }
          ],
          "table": [
           {
            "cells": {
             "fill": {
              "color": "#EBF0F8"
             },
             "line": {
              "color": "white"
             }
            },
            "header": {
             "fill": {
              "color": "#C8D4E3"
             },
             "line": {
              "color": "white"
             }
            },
            "type": "table"
           }
          ]
         },
         "layout": {
          "annotationdefaults": {
           "arrowcolor": "#2a3f5f",
           "arrowhead": 0,
           "arrowwidth": 1
          },
          "autotypenumbers": "strict",
          "coloraxis": {
           "colorbar": {
            "outlinewidth": 0,
            "ticks": ""
           }
          },
          "colorscale": {
           "diverging": [
            [
             0,
             "#8e0152"
            ],
            [
             0.1,
             "#c51b7d"
            ],
            [
             0.2,
             "#de77ae"
            ],
            [
             0.3,
             "#f1b6da"
            ],
            [
             0.4,
             "#fde0ef"
            ],
            [
             0.5,
             "#f7f7f7"
            ],
            [
             0.6,
             "#e6f5d0"
            ],
            [
             0.7,
             "#b8e186"
            ],
            [
             0.8,
             "#7fbc41"
            ],
            [
             0.9,
             "#4d9221"
            ],
            [
             1,
             "#276419"
            ]
           ],
           "sequential": [
            [
             0,
             "#0d0887"
            ],
            [
             0.1111111111111111,
             "#46039f"
            ],
            [
             0.2222222222222222,
             "#7201a8"
            ],
            [
             0.3333333333333333,
             "#9c179e"
            ],
            [
             0.4444444444444444,
             "#bd3786"
            ],
            [
             0.5555555555555556,
             "#d8576b"
            ],
            [
             0.6666666666666666,
             "#ed7953"
            ],
            [
             0.7777777777777778,
             "#fb9f3a"
            ],
            [
             0.8888888888888888,
             "#fdca26"
            ],
            [
             1,
             "#f0f921"
            ]
           ],
           "sequentialminus": [
            [
             0,
             "#0d0887"
            ],
            [
             0.1111111111111111,
             "#46039f"
            ],
            [
             0.2222222222222222,
             "#7201a8"
            ],
            [
             0.3333333333333333,
             "#9c179e"
            ],
            [
             0.4444444444444444,
             "#bd3786"
            ],
            [
             0.5555555555555556,
             "#d8576b"
            ],
            [
             0.6666666666666666,
             "#ed7953"
            ],
            [
             0.7777777777777778,
             "#fb9f3a"
            ],
            [
             0.8888888888888888,
             "#fdca26"
            ],
            [
             1,
             "#f0f921"
            ]
           ]
          },
          "colorway": [
           "#636efa",
           "#EF553B",
           "#00cc96",
           "#ab63fa",
           "#FFA15A",
           "#19d3f3",
           "#FF6692",
           "#B6E880",
           "#FF97FF",
           "#FECB52"
          ],
          "font": {
           "color": "#2a3f5f"
          },
          "geo": {
           "bgcolor": "white",
           "lakecolor": "white",
           "landcolor": "#E5ECF6",
           "showlakes": true,
           "showland": true,
           "subunitcolor": "white"
          },
          "hoverlabel": {
           "align": "left"
          },
          "hovermode": "closest",
          "mapbox": {
           "style": "light"
          },
          "paper_bgcolor": "white",
          "plot_bgcolor": "#E5ECF6",
          "polar": {
           "angularaxis": {
            "gridcolor": "white",
            "linecolor": "white",
            "ticks": ""
           },
           "bgcolor": "#E5ECF6",
           "radialaxis": {
            "gridcolor": "white",
            "linecolor": "white",
            "ticks": ""
           }
          },
          "scene": {
           "xaxis": {
            "backgroundcolor": "#E5ECF6",
            "gridcolor": "white",
            "gridwidth": 2,
            "linecolor": "white",
            "showbackground": true,
            "ticks": "",
            "zerolinecolor": "white"
           },
           "yaxis": {
            "backgroundcolor": "#E5ECF6",
            "gridcolor": "white",
            "gridwidth": 2,
            "linecolor": "white",
            "showbackground": true,
            "ticks": "",
            "zerolinecolor": "white"
           },
           "zaxis": {
            "backgroundcolor": "#E5ECF6",
            "gridcolor": "white",
            "gridwidth": 2,
            "linecolor": "white",
            "showbackground": true,
            "ticks": "",
            "zerolinecolor": "white"
           }
          },
          "shapedefaults": {
           "line": {
            "color": "#2a3f5f"
           }
          },
          "ternary": {
           "aaxis": {
            "gridcolor": "white",
            "linecolor": "white",
            "ticks": ""
           },
           "baxis": {
            "gridcolor": "white",
            "linecolor": "white",
            "ticks": ""
           },
           "bgcolor": "#E5ECF6",
           "caxis": {
            "gridcolor": "white",
            "linecolor": "white",
            "ticks": ""
           }
          },
          "title": {
           "x": 0.05
          },
          "xaxis": {
           "automargin": true,
           "gridcolor": "white",
           "linecolor": "white",
           "ticks": "",
           "title": {
            "standoff": 15
           },
           "zerolinecolor": "white",
           "zerolinewidth": 2
          },
          "yaxis": {
           "automargin": true,
           "gridcolor": "white",
           "linecolor": "white",
           "ticks": "",
           "title": {
            "standoff": 15
           },
           "zerolinecolor": "white",
           "zerolinewidth": 2
          }
         }
        },
        "title": {
         "text": "Distribution of Finished vs dropouts"
        }
       }
      },
      "image/png": "[encoded data removed]"
     },
     "metadata": {},
     "output_type": "display_data"
    }
   ],
   "source": [
    "px.pie(test,\n",
    "      names='Tempo medio',\n",
    "      color='Tempo medio',\n",
    "      facet_col='dataset').update_layout(bargap=0.5, title={\"text\": \"Distribution of Finished vs dropouts\"}, font=my_font).show()"
   ]
  },
  {
   "cell_type": "code",
   "execution_count": 68,
   "id": "13b1fff5-5f8c-4b0e-9650-09a6172af9b9",
   "metadata": {},
   "outputs": [
    {
     "data": {
      "text/html": [
       "<div>\n",
       "<style scoped>\n",
       "    .dataframe tbody tr th:only-of-type {\n",
       "        vertical-align: middle;\n",
       "    }\n",
       "\n",
       "    .dataframe tbody tr th {\n",
       "        vertical-align: top;\n",
       "    }\n",
       "\n",
       "    .dataframe thead th {\n",
       "        text-align: right;\n",
       "    }\n",
       "</style>\n",
       "<table border=\"1\" class=\"dataframe\">\n",
       "  <thead>\n",
       "    <tr style=\"text-align: right;\">\n",
       "      <th></th>\n",
       "      <th>Sexo</th>\n",
       "      <th>dataset</th>\n",
       "      <th>Período</th>\n",
       "      <th>Estrutura</th>\n",
       "      <th>Período ingresso</th>\n",
       "      <th>IMI</th>\n",
       "      <th>Coeficiente</th>\n",
       "      <th>Idade</th>\n",
       "      <th>Ano Ingresso</th>\n",
       "      <th>Ano atual</th>\n",
       "      <th>Tempo medio</th>\n",
       "    </tr>\n",
       "  </thead>\n",
       "  <tbody>\n",
       "    <tr>\n",
       "      <th>0</th>\n",
       "      <td>Feminino</td>\n",
       "      <td>Deactive</td>\n",
       "      <td>20177.462963</td>\n",
       "      <td>20131.740741</td>\n",
       "      <td>20144.370370</td>\n",
       "      <td>15.992593</td>\n",
       "      <td>2.509630</td>\n",
       "      <td>24.454845</td>\n",
       "      <td>2014.333333</td>\n",
       "      <td>2017.870370</td>\n",
       "      <td>3.537037</td>\n",
       "    </tr>\n",
       "    <tr>\n",
       "      <th>1</th>\n",
       "      <td>Feminino</td>\n",
       "      <td>Finished</td>\n",
       "      <td>20158.857143</td>\n",
       "      <td>20098.142857</td>\n",
       "      <td>20116.714286</td>\n",
       "      <td>63.850000</td>\n",
       "      <td>6.837143</td>\n",
       "      <td>24.869472</td>\n",
       "      <td>2011.571429</td>\n",
       "      <td>2016.500000</td>\n",
       "      <td>4.928571</td>\n",
       "    </tr>\n",
       "    <tr>\n",
       "      <th>2</th>\n",
       "      <td>Masculino</td>\n",
       "      <td>Deactive</td>\n",
       "      <td>20176.873720</td>\n",
       "      <td>20123.764505</td>\n",
       "      <td>20138.249147</td>\n",
       "      <td>13.563140</td>\n",
       "      <td>2.281399</td>\n",
       "      <td>25.885128</td>\n",
       "      <td>2013.723549</td>\n",
       "      <td>2017.778157</td>\n",
       "      <td>4.054608</td>\n",
       "    </tr>\n",
       "    <tr>\n",
       "      <th>3</th>\n",
       "      <td>Masculino</td>\n",
       "      <td>Finished</td>\n",
       "      <td>20169.408602</td>\n",
       "      <td>20117.881720</td>\n",
       "      <td>20126.161290</td>\n",
       "      <td>76.582796</td>\n",
       "      <td>6.293333</td>\n",
       "      <td>24.579585</td>\n",
       "      <td>2012.516129</td>\n",
       "      <td>2017.419355</td>\n",
       "      <td>4.903226</td>\n",
       "    </tr>\n",
       "  </tbody>\n",
       "</table>\n",
       "</div>"
      ],
      "text/plain": [
       "        Sexo   dataset       Período     Estrutura  Período ingresso  \\\n",
       "0   Feminino  Deactive  20177.462963  20131.740741      20144.370370   \n",
       "1   Feminino  Finished  20158.857143  20098.142857      20116.714286   \n",
       "2  Masculino  Deactive  20176.873720  20123.764505      20138.249147   \n",
       "3  Masculino  Finished  20169.408602  20117.881720      20126.161290   \n",
       "\n",
       "         IMI  Coeficiente      Idade  Ano Ingresso    Ano atual  Tempo medio  \n",
       "0  15.992593     2.509630  24.454845   2014.333333  2017.870370     3.537037  \n",
       "1  63.850000     6.837143  24.869472   2011.571429  2016.500000     4.928571  \n",
       "2  13.563140     2.281399  25.885128   2013.723549  2017.778157     4.054608  \n",
       "3  76.582796     6.293333  24.579585   2012.516129  2017.419355     4.903226  "
      ]
     },
     "execution_count": 68,
     "metadata": {},
     "output_type": "execute_result"
    }
   ],
   "source": [
    "y = test.groupby(['Sexo', 'dataset']).mean('Tempo medio').reset_index()\n",
    "y"
   ]
  },
  {
   "cell_type": "markdown",
   "id": "b79a8bbc-e103-4d5d-9f37-4ec9427c21c1",
   "metadata": {},
   "source": [
    "## Analysing the history"
   ]
  },
  {
   "cell_type": "code",
   "execution_count": 76,
   "id": "71c1c9b0-c805-47fa-b78d-f85b814b06ba",
   "metadata": {},
   "outputs": [
    {
     "name": "stdout",
     "output_type": "stream",
     "text": [
      "<class 'pandas.core.frame.DataFrame'>\n",
      "RangeIndex: 19528 entries, 0 to 19527\n",
      "Data columns (total 36 columns):\n",
      " #   Column                Non-Null Count  Dtype  \n",
      "---  ------                --------------  -----  \n",
      " 0   Data Nascimento       13470 non-null  object \n",
      " 1   Sexo                  13470 non-null  object \n",
      " 2   Raça                  13470 non-null  object \n",
      " 3   Estrangeiro           13470 non-null  object \n",
      " 4   Nacionalidade         13470 non-null  object \n",
      " 5   Naturalidade          13362 non-null  object \n",
      " 6   UF Naturalidade       12731 non-null  object \n",
      " 7   Período               13470 non-null  float64\n",
      " 8   Situação atual        13470 non-null  object \n",
      " 9   Data ocorrência       13470 non-null  object \n",
      " 10  Estrutura             13470 non-null  float64\n",
      " 11  Período ingresso      13470 non-null  float64\n",
      " 12  Tipo ingresso         13470 non-null  object \n",
      " 13  IMI                   13470 non-null  float64\n",
      " 14  Coeficiente           13470 non-null  float64\n",
      " 15  Tipo de demanda       8119 non-null   object \n",
      " 16  rga_anonimo           19528 non-null  object \n",
      " 17  Idade                 13470 non-null  float64\n",
      " 18  dataset               13470 non-null  object \n",
      " 19  Ano Ingresso          13470 non-null  float64\n",
      " 20  Ano atual             13470 non-null  float64\n",
      " 21  Tempo medio           13470 non-null  float64\n",
      " 22  Ano                   19528 non-null  object \n",
      " 23  Código                19528 non-null  int64  \n",
      " 24  Nome da Disciplina    19528 non-null  object \n",
      " 25  CH                    19528 non-null  int64  \n",
      " 26  CR                    19528 non-null  int64  \n",
      " 27  TU                    19528 non-null  object \n",
      " 28  MF                    19528 non-null  float64\n",
      " 29  FA                    19528 non-null  int64  \n",
      " 30  SF                    19528 non-null  object \n",
      " 31  SE                    19528 non-null  int64  \n",
      " 32  Disciplina            19528 non-null  object \n",
      " 33  Grupo de Disciplinas  19528 non-null  object \n",
      " 34  Tipo de Disciplina    19528 non-null  object \n",
      " 35  Optativa              19528 non-null  object \n",
      "dtypes: float64(10), int64(5), object(21)\n",
      "memory usage: 5.4+ MB\n"
     ]
    }
   ],
   "source": [
    "df_merged = pd.merge(test,history, how='right', on='rga_anonimo')\n",
    "df_merged.info()"
   ]
  },
  {
   "cell_type": "code",
   "execution_count": 85,
   "id": "2ba61f69-8a25-4329-8fd7-037bc9cae616",
   "metadata": {},
   "outputs": [
    {
     "data": {
      "text/html": [
       "<div>\n",
       "<style scoped>\n",
       "    .dataframe tbody tr th:only-of-type {\n",
       "        vertical-align: middle;\n",
       "    }\n",
       "\n",
       "    .dataframe tbody tr th {\n",
       "        vertical-align: top;\n",
       "    }\n",
       "\n",
       "    .dataframe thead th {\n",
       "        text-align: right;\n",
       "    }\n",
       "</style>\n",
       "<table border=\"1\" class=\"dataframe\">\n",
       "  <thead>\n",
       "    <tr style=\"text-align: right;\">\n",
       "      <th></th>\n",
       "      <th>dataset</th>\n",
       "      <th>count</th>\n",
       "    </tr>\n",
       "  </thead>\n",
       "  <tbody>\n",
       "    <tr>\n",
       "      <th>0</th>\n",
       "      <td>Deactive</td>\n",
       "      <td>1966</td>\n",
       "    </tr>\n",
       "    <tr>\n",
       "      <th>1</th>\n",
       "      <td>Finished</td>\n",
       "      <td>3839</td>\n",
       "    </tr>\n",
       "  </tbody>\n",
       "</table>\n",
       "</div>"
      ],
      "text/plain": [
       "    dataset  count\n",
       "0  Deactive   1966\n",
       "1  Finished   3839"
      ]
     },
     "execution_count": 85,
     "metadata": {},
     "output_type": "execute_result"
    }
   ],
   "source": [
    "df_merged.groupby('dataset').apply(lambda x: (x['SF'] == 'AP').sum(), include_groups=False).reset_index(name='count')\n",
    "#df.groupby('Sexo').agg(count_same=('SF', lambda x: (x == df.loc[x.index, 'AP']).sum())).reset_index()\n"
   ]
  },
  {
   "cell_type": "code",
   "execution_count": 89,
   "id": "2505be15-4592-4b9f-9a2b-dc3d67e41403",
   "metadata": {},
   "outputs": [
    {
     "data": {
      "text/html": [
       "<div>\n",
       "<style scoped>\n",
       "    .dataframe tbody tr th:only-of-type {\n",
       "        vertical-align: middle;\n",
       "    }\n",
       "\n",
       "    .dataframe tbody tr th {\n",
       "        vertical-align: top;\n",
       "    }\n",
       "\n",
       "    .dataframe thead th {\n",
       "        text-align: right;\n",
       "    }\n",
       "</style>\n",
       "<table border=\"1\" class=\"dataframe\">\n",
       "  <thead>\n",
       "    <tr style=\"text-align: right;\">\n",
       "      <th></th>\n",
       "      <th>dataset</th>\n",
       "      <th>count</th>\n",
       "    </tr>\n",
       "  </thead>\n",
       "  <tbody>\n",
       "    <tr>\n",
       "      <th>0</th>\n",
       "      <td>Deactive</td>\n",
       "      <td>2392</td>\n",
       "    </tr>\n",
       "    <tr>\n",
       "      <th>1</th>\n",
       "      <td>Finished</td>\n",
       "      <td>309</td>\n",
       "    </tr>\n",
       "  </tbody>\n",
       "</table>\n",
       "</div>"
      ],
      "text/plain": [
       "    dataset  count\n",
       "0  Deactive   2392\n",
       "1  Finished    309"
      ]
     },
     "execution_count": 89,
     "metadata": {},
     "output_type": "execute_result"
    }
   ],
   "source": [
    "df_merged.groupby('dataset').apply(lambda x: (x['SF'] == 'RMF').sum(), include_groups=False).reset_index(name='count')\n",
    "#df.groupby('Sexo').agg(count_same=('SF', lambda x: (x == df.loc[x.index, 'AP']).sum())).reset_index()\n"
   ]
  }
 ],
 "metadata": {
  "kernelspec": {
   "display_name": "Python 3 (ipykernel)",
   "language": "python",
   "name": "python3"
  },
  "language_info": {
   "codemirror_mode": {
    "name": "ipython",
    "version": 3
   },
   "file_extension": ".py",
   "mimetype": "text/x-python",
   "name": "python",
   "nbconvert_exporter": "python",
   "pygments_lexer": "ipython3",
   "version": "3.12.11"
  }
 },
 "nbformat": 4,
 "nbformat_minor": 5
}
