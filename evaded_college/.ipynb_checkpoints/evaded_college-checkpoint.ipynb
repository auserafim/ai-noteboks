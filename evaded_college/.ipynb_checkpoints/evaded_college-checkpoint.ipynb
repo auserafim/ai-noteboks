{
 "cells": [
  {
   "cell_type": "markdown",
   "id": "2ef5eac9",
   "metadata": {},
   "source": [
    "### Evasion dataset "
   ]
  }
 ],
 "metadata": {
  "language_info": {
   "name": "python"
  }
 },
 "nbformat": 4,
 "nbformat_minor": 5
}
