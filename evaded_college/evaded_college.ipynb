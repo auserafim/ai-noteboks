{
 "cells": [
  {
   "cell_type": "markdown",
   "id": "2ef5eac9",
   "metadata": {},
   "source": [
    "### Evasion dataset "
   ]
  },
  {
   "cell_type": "code",
   "execution_count": 1,
   "id": "492f9f5f-6158-4c62-a3a7-181b681d210f",
   "metadata": {},
   "outputs": [],
   "source": [
    "import pandas as pd\n",
    "import numpy as np\n",
    "import matplotlib.pyplot as plt\n",
    "import plotly.express as px \n",
    "import seaborn as sns\n",
    "import unidecode, re\n",
    "import plotly.graph_objects as go\n",
    "from sklearn.preprocessing import StandardScaler\n",
    "from sklearn.model_selection import train_test_split\n",
    "from sklearn.ensemble import RandomForestClassifier, GradientBoostingClassifier\n",
    "from sklearn.linear_model import LinearRegression, LogisticRegression\n",
    "from sklearn.metrics import accuracy_score,confusion_matrix, classification_report"
   ]
  },
  {
   "cell_type": "code",
   "execution_count": 8,
   "id": "bc5d8dc4-4fd3-4a34-8940-f7512361c76a",
   "metadata": {},
   "outputs": [],
   "source": [
    "# configs \n",
    "my_font = dict(\n",
    "            family=\"Courier New, monospace\",\n",
    "            size=18,\n",
    "            color=\"Black\",\n",
    "            variant=\"small-caps\",\n",
    ") "
   ]
  },
  {
   "cell_type": "code",
   "execution_count": 9,
   "id": "8275bde5-f84b-4d0f-99d2-63caf900c5a9",
   "metadata": {},
   "outputs": [],
   "source": [
    "active = pd.read_csv('data/alunos_ativos.csv')\n",
    "deactive = pd.read_csv('data/alunos_inativos.csv')\n",
    "history = pd.read_csv('data/historico_escolar.csv')"
   ]
  },
  {
   "cell_type": "markdown",
   "id": "a766104f-63da-469b-9b0e-27b017327df7",
   "metadata": {},
   "source": [
    "# Choose what to see "
   ]
  },
  {
   "cell_type": "code",
   "execution_count": 15,
   "id": "40684e83-da80-4789-b9ad-ad93fdb3486a",
   "metadata": {},
   "outputs": [],
   "source": [
    "datasets = [active, deactive]\n",
    "\n",
    "for i in datasets:\n",
    "    def_test = i.copy()\n",
    "    def_test['Data ocorrência']= pd.to_datetime(def_test['Data ocorrência'])\n",
    "    def_test['Data Nascimento']= pd.to_datetime(def_test['Data Nascimento'])\n",
    "    def_test['Difference'] = ((def_test['Data ocorrência'] - def_test['Data Nascimento']).dt.days / 365.0)\n",
    "    i.loc[:,'Idade'] = def_test['Difference']\n",
    "\n",
    "    \n",
    "active.head()\n",
    "active.isnull().sum()\n",
    "deactive.isnull().sum()\n",
    "history.isnull().sum()\n",
    "finished = deactive[deactive['Situação atual'] == 'EXCLUSAO POR CONCLUSAO (FORMADO)']\n",
    "dropout = deactive[deactive['Situação atual'] != 'EXCLUSAO POR CONCLUSAO (FORMADO)']"
   ]
  },
  {
   "cell_type": "code",
   "execution_count": null,
   "id": "7d226b09-261c-434d-b26f-65c385283f03",
   "metadata": {},
   "outputs": [],
   "source": [
    "# active.info()\n",
    "# dropout.info()\n",
    "# history.info()\n",
    "# finished.info()"
   ]
  },
  {
   "cell_type": "code",
   "execution_count": 16,
   "id": "41cf16b3-88b6-41b2-9a33-01855038fdb2",
   "metadata": {},
   "outputs": [],
   "source": [
    "# Normalizing names from Naturalidade column\n",
    "\n",
    "def normalize_names(text):\n",
    "    if pd.isnull(text):\n",
    "        return text\n",
    "    text = str(text)\n",
    "    text = unidecode.unidecode(text)\n",
    "    text = text.lower().strip()\n",
    "    text = re.sub(r'[^\\w\\s]', '', text)\n",
    "    text = text.title()\n",
    "    return text\n"
   ]
  },
  {
   "cell_type": "markdown",
   "id": "8861710b-a99b-4812-8946-312d2fce2a43",
   "metadata": {},
   "source": [
    "## Correcting mispelled cities"
   ]
  },
  {
   "cell_type": "code",
   "execution_count": 17,
   "id": "159e71e2-3d4b-45fd-8a39-cd7eb522848e",
   "metadata": {},
   "outputs": [],
   "source": [
    "corrected_cities = {\n",
    "    'Barra Do Garcas  Mt': 'Barra Do Garcas',\n",
    "    'Canabravamg': 'Cana Brava',  \n",
    "    'Baliza Go' : 'Baliza' ,\n",
    "    'Rondonopolitano': 'Rondonopolis',\n",
    "    'Braganca Pa': 'Braganca',\n",
    "    'Aragarcasgo': 'Aragarcas',\n",
    "    'Nova Xavantina  Mt': 'Nova Xavantina',\n",
    "    'BARRA DO GARCAS - MT': 'Barra Do Garcas',\n",
    "    'alta floresta - MT': 'Alta Floresta',\n",
    "    'Cuiabamt': 'Cuiaba',\n",
    "    'Palmitossc': 'Palmitos',\n",
    "    'Vazante Mg': 'Vazante',\n",
    "    'Jussarago': 'Jussara',\n",
    "    'Rio Branco  Mt': 'Rio Branco',\n",
    "    'Mato Grossointerior': 'Mato Grosso',\n",
    "    'Chapecosc': 'Chapeco',\n",
    "    'Agua Boamt': 'Agua Boa',\n",
    "    'Alta Floresta  Mt': 'Alta Floresta',\n",
    "    'Sao Joaquim Sc': 'Sao Joaquim',\n",
    "    'Barra Do Garcas - Mt': 'Barra Do Garcas',\n",
    "    'ARAGARÇAS': 'Aragarcas',\n",
    "    'BARRA DO GARÇAS': 'Barra do Garcas'\n",
    "}\n",
    "datasets = [deactive, dropout, active, finished]\n",
    "\n",
    "for df in datasets:\n",
    "    df.loc[:,'Naturalidade'] = df['Naturalidade'].apply(normalize_names)\n",
    "\n",
    "    df.loc[:,'Naturalidade']  = df['Naturalidade'].replace(corrected_cities)"
   ]
  },
  {
   "cell_type": "markdown",
   "id": "082cec07-9cb6-424e-8d25-f01114edce6a",
   "metadata": {},
   "source": [
    "## Finished vs Dropout"
   ]
  },
  {
   "cell_type": "code",
   "execution_count": 18,
   "id": "f339143b-1027-41cc-89a5-1475301bceb9",
   "metadata": {},
   "outputs": [
    {
     "data": {
      "application/vnd.plotly.v1+json": {
       "config": {
        "plotlyServerURL": "https://plot.ly"
       },
       "data": [
        {
         "alignmentgroup": "True",
         "hovertemplate": "dataset=Finished<br>Idade=%{x}<extra></extra>",
         "legendgroup": "Finished",
         "marker": {
          "color": "#636efa"
         },
         "name": "Finished",
         "notched": false,
         "offsetgroup": "Finished",
         "orientation": "h",
         "showlegend": true,
         "type": "box",
         "x": {
          "bdata": "SfhWFI+EQUBIXYfbg9Q1QIfbg9R1uDdAkvCtKB4JOEB37ty5c+c4QHTnzp07dzZACKnrcHuQOEDCHNM/Gcw2QDUEot1UQzhAx/RPBnNMNUDnzp07d+42QCKrvN8lMkFAhQoVKlSoOEDJxb6wlFw3QC+RVd7vEjhAVUMg2k01OEA0zgJsPuM7QO2mGgLRbjdAZPongzmmOUDeVEMg2k02QIAymGP6JzhAy/tdIqu8NkDXRifoaW01QFNysS8sJT5Aoae10Ql6PEAQ7aYaAtE1QFxRPBK+FTdAbXSCntZGOECnGgLRbqo2QHKxLywlFzhAWoDNZ5wFN0CIdlMNgWg9QG4PUtfh9jpAHgnfiuKRNUCTi31hKbk/QCR8K4pHwjVALlu2bNmyNkAwLCUX+8I3QPVPBnNM/zdAnAXYfMZZN0DJKu93iaw3QFAGc0z/ZDhAUAZzTP9kOECGpeRiX1g2QDVp0qRJkzlAPBK+FcUjN0DnM84CbD43QHIWYPMZZzhA586dO3fuN0CFb0XxSPg4QNUQiHZTDTlASi72haXkPEAwx/RPBnNBQFxRPBK+FTZAA2w+4yzAN0Bk+ieDOaY6QNarV69evTZAbdmyZcuWOkA1adKkSZM1QDx37ty5czhAwYEDBw4cOkAPUtfh9iA4QAAAAAAAAPh/xSPhW1E8OECnGgLRbqo2QAnfiuKRcEBAAAAAAAAA+H/u3Llz5841QGLEiBEjRj9AiazyfpfINkAeCd+K4pE9QPMZZwE2nzVAEO2mGgLRN0Db6AQ9rY02QMDmM84CbDZArFevXr16NkDpBD2tjU41QDMzMzMzs0JAnAXYfMZZN0CuKB4J34o2QOaY/slgjjdA+FYUj4RvNkAWYPMZZwE6QI+Eb0XxSDtAj4RvRfFINUAAAAAAAAD4f59xFmDzGTdASpMmTZo0NkCQug63B6k9QIh2Uw2BaDZA73eJrPJ+N0CXLVu2bNk4QAAAAAAAAPh/i+KR8K0oOEDeVEMg2k02QC72haXkYjhAPHfu3LlzOUAKelobnaA3QEjCt6J4JDpAd+7cuXPnNUCoUKFChQo6QJxqCES7qTZAMMf0TwZzNkBKLvaFpeQ5QHa4PUhdhzdAzgJsPuMsNkBW3u8SWeU1QIpHwreieDxAn9ZGJ+hpN0DBgQMHDhw2QFSoUKFChTZA",
          "dtype": "f8"
         },
         "x0": " ",
         "xaxis": "x",
         "y0": " ",
         "yaxis": "y"
        },
        {
         "alignmentgroup": "True",
         "hovertemplate": "dataset=Deactive<br>Idade=%{x}<extra></extra>",
         "legendgroup": "Deactive",
         "marker": {
          "color": "#EF553B"
         },
         "name": "Deactive",
         "notched": false,
         "offsetgroup": "Deactive",
         "orientation": "h",
         "showlegend": true,
         "type": "box",
         "x": {
          "bdata": "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",
          "dtype": "f8"
         },
         "x0": " ",
         "xaxis": "x",
         "y0": " ",
         "yaxis": "y"
        }
       ],
       "layout": {
        "boxmode": "group",
        "font": {
         "color": "Black",
         "family": "Courier New, monospace",
         "size": 18,
         "variant": "small-caps"
        },
        "legend": {
         "title": {
          "text": "dataset"
         },
         "tracegroupgap": 0
        },
        "margin": {
         "t": 60
        },
        "template": {
         "data": {
          "bar": [
           {
            "error_x": {
             "color": "#2a3f5f"
            },
            "error_y": {
             "color": "#2a3f5f"
            },
            "marker": {
             "line": {
              "color": "#E5ECF6",
              "width": 0.5
             },
             "pattern": {
              "fillmode": "overlay",
              "size": 10,
              "solidity": 0.2
             }
            },
            "type": "bar"
           }
          ],
          "barpolar": [
           {
            "marker": {
             "line": {
              "color": "#E5ECF6",
              "width": 0.5
             },
             "pattern": {
              "fillmode": "overlay",
              "size": 10,
              "solidity": 0.2
             }
            },
            "type": "barpolar"
           }
          ],
          "carpet": [
           {
            "aaxis": {
             "endlinecolor": "#2a3f5f",
             "gridcolor": "white",
             "linecolor": "white",
             "minorgridcolor": "white",
             "startlinecolor": "#2a3f5f"
            },
            "baxis": {
             "endlinecolor": "#2a3f5f",
             "gridcolor": "white",
             "linecolor": "white",
             "minorgridcolor": "white",
             "startlinecolor": "#2a3f5f"
            },
            "type": "carpet"
           }
          ],
          "choropleth": [
           {
            "colorbar": {
             "outlinewidth": 0,
             "ticks": ""
            },
            "type": "choropleth"
           }
          ],
          "contour": [
           {
            "colorbar": {
             "outlinewidth": 0,
             "ticks": ""
            },
            "colorscale": [
             [
              0,
              "#0d0887"
             ],
             [
              0.1111111111111111,
              "#46039f"
             ],
             [
              0.2222222222222222,
              "#7201a8"
             ],
             [
              0.3333333333333333,
              "#9c179e"
             ],
             [
              0.4444444444444444,
              "#bd3786"
             ],
             [
              0.5555555555555556,
              "#d8576b"
             ],
             [
              0.6666666666666666,
              "#ed7953"
             ],
             [
              0.7777777777777778,
              "#fb9f3a"
             ],
             [
              0.8888888888888888,
              "#fdca26"
             ],
             [
              1,
              "#f0f921"
             ]
            ],
            "type": "contour"
           }
          ],
          "contourcarpet": [
           {
            "colorbar": {
             "outlinewidth": 0,
             "ticks": ""
            },
            "type": "contourcarpet"
           }
          ],
          "heatmap": [
           {
            "colorbar": {
             "outlinewidth": 0,
             "ticks": ""
            },
            "colorscale": [
             [
              0,
              "#0d0887"
             ],
             [
              0.1111111111111111,
              "#46039f"
             ],
             [
              0.2222222222222222,
              "#7201a8"
             ],
             [
              0.3333333333333333,
              "#9c179e"
             ],
             [
              0.4444444444444444,
              "#bd3786"
             ],
             [
              0.5555555555555556,
              "#d8576b"
             ],
             [
              0.6666666666666666,
              "#ed7953"
             ],
             [
              0.7777777777777778,
              "#fb9f3a"
             ],
             [
              0.8888888888888888,
              "#fdca26"
             ],
             [
              1,
              "#f0f921"
             ]
            ],
            "type": "heatmap"
           }
          ],
          "histogram": [
           {
            "marker": {
             "pattern": {
              "fillmode": "overlay",
              "size": 10,
              "solidity": 0.2
             }
            },
            "type": "histogram"
           }
          ],
          "histogram2d": [
           {
            "colorbar": {
             "outlinewidth": 0,
             "ticks": ""
            },
            "colorscale": [
             [
              0,
              "#0d0887"
             ],
             [
              0.1111111111111111,
              "#46039f"
             ],
             [
              0.2222222222222222,
              "#7201a8"
             ],
             [
              0.3333333333333333,
              "#9c179e"
             ],
             [
              0.4444444444444444,
              "#bd3786"
             ],
             [
              0.5555555555555556,
              "#d8576b"
             ],
             [
              0.6666666666666666,
              "#ed7953"
             ],
             [
              0.7777777777777778,
              "#fb9f3a"
             ],
             [
              0.8888888888888888,
              "#fdca26"
             ],
             [
              1,
              "#f0f921"
             ]
            ],
            "type": "histogram2d"
           }
          ],
          "histogram2dcontour": [
           {
            "colorbar": {
             "outlinewidth": 0,
             "ticks": ""
            },
            "colorscale": [
             [
              0,
              "#0d0887"
             ],
             [
              0.1111111111111111,
              "#46039f"
             ],
             [
              0.2222222222222222,
              "#7201a8"
             ],
             [
              0.3333333333333333,
              "#9c179e"
             ],
             [
              0.4444444444444444,
              "#bd3786"
             ],
             [
              0.5555555555555556,
              "#d8576b"
             ],
             [
              0.6666666666666666,
              "#ed7953"
             ],
             [
              0.7777777777777778,
              "#fb9f3a"
             ],
             [
              0.8888888888888888,
              "#fdca26"
             ],
             [
              1,
              "#f0f921"
             ]
            ],
            "type": "histogram2dcontour"
           }
          ],
          "mesh3d": [
           {
            "colorbar": {
             "outlinewidth": 0,
             "ticks": ""
            },
            "type": "mesh3d"
           }
          ],
          "parcoords": [
           {
            "line": {
             "colorbar": {
              "outlinewidth": 0,
              "ticks": ""
             }
            },
            "type": "parcoords"
           }
          ],
          "pie": [
           {
            "automargin": true,
            "type": "pie"
           }
          ],
          "scatter": [
           {
            "fillpattern": {
             "fillmode": "overlay",
             "size": 10,
             "solidity": 0.2
            },
            "type": "scatter"
           }
          ],
          "scatter3d": [
           {
            "line": {
             "colorbar": {
              "outlinewidth": 0,
              "ticks": ""
             }
            },
            "marker": {
             "colorbar": {
              "outlinewidth": 0,
              "ticks": ""
             }
            },
            "type": "scatter3d"
           }
          ],
          "scattercarpet": [
           {
            "marker": {
             "colorbar": {
              "outlinewidth": 0,
              "ticks": ""
             }
            },
            "type": "scattercarpet"
           }
          ],
          "scattergeo": [
           {
            "marker": {
             "colorbar": {
              "outlinewidth": 0,
              "ticks": ""
             }
            },
            "type": "scattergeo"
           }
          ],
          "scattergl": [
           {
            "marker": {
             "colorbar": {
              "outlinewidth": 0,
              "ticks": ""
             }
            },
            "type": "scattergl"
           }
          ],
          "scattermap": [
           {
            "marker": {
             "colorbar": {
              "outlinewidth": 0,
              "ticks": ""
             }
            },
            "type": "scattermap"
           }
          ],
          "scattermapbox": [
           {
            "marker": {
             "colorbar": {
              "outlinewidth": 0,
              "ticks": ""
             }
            },
            "type": "scattermapbox"
           }
          ],
          "scatterpolar": [
           {
            "marker": {
             "colorbar": {
              "outlinewidth": 0,
              "ticks": ""
             }
            },
            "type": "scatterpolar"
           }
          ],
          "scatterpolargl": [
           {
            "marker": {
             "colorbar": {
              "outlinewidth": 0,
              "ticks": ""
             }
            },
            "type": "scatterpolargl"
           }
          ],
          "scatterternary": [
           {
            "marker": {
             "colorbar": {
              "outlinewidth": 0,
              "ticks": ""
             }
            },
            "type": "scatterternary"
           }
          ],
          "surface": [
           {
            "colorbar": {
             "outlinewidth": 0,
             "ticks": ""
            },
            "colorscale": [
             [
              0,
              "#0d0887"
             ],
             [
              0.1111111111111111,
              "#46039f"
             ],
             [
              0.2222222222222222,
              "#7201a8"
             ],
             [
              0.3333333333333333,
              "#9c179e"
             ],
             [
              0.4444444444444444,
              "#bd3786"
             ],
             [
              0.5555555555555556,
              "#d8576b"
             ],
             [
              0.6666666666666666,
              "#ed7953"
             ],
             [
              0.7777777777777778,
              "#fb9f3a"
             ],
             [
              0.8888888888888888,
              "#fdca26"
             ],
             [
              1,
              "#f0f921"
             ]
            ],
            "type": "surface"
           }
          ],
          "table": [
           {
            "cells": {
             "fill": {
              "color": "#EBF0F8"
             },
             "line": {
              "color": "white"
             }
            },
            "header": {
             "fill": {
              "color": "#C8D4E3"
             },
             "line": {
              "color": "white"
             }
            },
            "type": "table"
           }
          ]
         },
         "layout": {
          "annotationdefaults": {
           "arrowcolor": "#2a3f5f",
           "arrowhead": 0,
           "arrowwidth": 1
          },
          "autotypenumbers": "strict",
          "coloraxis": {
           "colorbar": {
            "outlinewidth": 0,
            "ticks": ""
           }
          },
          "colorscale": {
           "diverging": [
            [
             0,
             "#8e0152"
            ],
            [
             0.1,
             "#c51b7d"
            ],
            [
             0.2,
             "#de77ae"
            ],
            [
             0.3,
             "#f1b6da"
            ],
            [
             0.4,
             "#fde0ef"
            ],
            [
             0.5,
             "#f7f7f7"
            ],
            [
             0.6,
             "#e6f5d0"
            ],
            [
             0.7,
             "#b8e186"
            ],
            [
             0.8,
             "#7fbc41"
            ],
            [
             0.9,
             "#4d9221"
            ],
            [
             1,
             "#276419"
            ]
           ],
           "sequential": [
            [
             0,
             "#0d0887"
            ],
            [
             0.1111111111111111,
             "#46039f"
            ],
            [
             0.2222222222222222,
             "#7201a8"
            ],
            [
             0.3333333333333333,
             "#9c179e"
            ],
            [
             0.4444444444444444,
             "#bd3786"
            ],
            [
             0.5555555555555556,
             "#d8576b"
            ],
            [
             0.6666666666666666,
             "#ed7953"
            ],
            [
             0.7777777777777778,
             "#fb9f3a"
            ],
            [
             0.8888888888888888,
             "#fdca26"
            ],
            [
             1,
             "#f0f921"
            ]
           ],
           "sequentialminus": [
            [
             0,
             "#0d0887"
            ],
            [
             0.1111111111111111,
             "#46039f"
            ],
            [
             0.2222222222222222,
             "#7201a8"
            ],
            [
             0.3333333333333333,
             "#9c179e"
            ],
            [
             0.4444444444444444,
             "#bd3786"
            ],
            [
             0.5555555555555556,
             "#d8576b"
            ],
            [
             0.6666666666666666,
             "#ed7953"
            ],
            [
             0.7777777777777778,
             "#fb9f3a"
            ],
            [
             0.8888888888888888,
             "#fdca26"
            ],
            [
             1,
             "#f0f921"
            ]
           ]
          },
          "colorway": [
           "#636efa",
           "#EF553B",
           "#00cc96",
           "#ab63fa",
           "#FFA15A",
           "#19d3f3",
           "#FF6692",
           "#B6E880",
           "#FF97FF",
           "#FECB52"
          ],
          "font": {
           "color": "#2a3f5f"
          },
          "geo": {
           "bgcolor": "white",
           "lakecolor": "white",
           "landcolor": "#E5ECF6",
           "showlakes": true,
           "showland": true,
           "subunitcolor": "white"
          },
          "hoverlabel": {
           "align": "left"
          },
          "hovermode": "closest",
          "mapbox": {
           "style": "light"
          },
          "paper_bgcolor": "white",
          "plot_bgcolor": "#E5ECF6",
          "polar": {
           "angularaxis": {
            "gridcolor": "white",
            "linecolor": "white",
            "ticks": ""
           },
           "bgcolor": "#E5ECF6",
           "radialaxis": {
            "gridcolor": "white",
            "linecolor": "white",
            "ticks": ""
           }
          },
          "scene": {
           "xaxis": {
            "backgroundcolor": "#E5ECF6",
            "gridcolor": "white",
            "gridwidth": 2,
            "linecolor": "white",
            "showbackground": true,
            "ticks": "",
            "zerolinecolor": "white"
           },
           "yaxis": {
            "backgroundcolor": "#E5ECF6",
            "gridcolor": "white",
            "gridwidth": 2,
            "linecolor": "white",
            "showbackground": true,
            "ticks": "",
            "zerolinecolor": "white"
           },
           "zaxis": {
            "backgroundcolor": "#E5ECF6",
            "gridcolor": "white",
            "gridwidth": 2,
            "linecolor": "white",
            "showbackground": true,
            "ticks": "",
            "zerolinecolor": "white"
           }
          },
          "shapedefaults": {
           "line": {
            "color": "#2a3f5f"
           }
          },
          "ternary": {
           "aaxis": {
            "gridcolor": "white",
            "linecolor": "white",
            "ticks": ""
           },
           "baxis": {
            "gridcolor": "white",
            "linecolor": "white",
            "ticks": ""
           },
           "bgcolor": "#E5ECF6",
           "caxis": {
            "gridcolor": "white",
            "linecolor": "white",
            "ticks": ""
           }
          },
          "title": {
           "x": 0.05
          },
          "xaxis": {
           "automargin": true,
           "gridcolor": "white",
           "linecolor": "white",
           "ticks": "",
           "title": {
            "standoff": 15
           },
           "zerolinecolor": "white",
           "zerolinewidth": 2
          },
          "yaxis": {
           "automargin": true,
           "gridcolor": "white",
           "linecolor": "white",
           "ticks": "",
           "title": {
            "standoff": 15
           },
           "zerolinecolor": "white",
           "zerolinewidth": 2
          }
         }
        },
        "title": {
         "text": "Age: Undergrads vs Dropout"
        },
        "xaxis": {
         "anchor": "y",
         "domain": [
          0,
          1
         ],
         "title": {
          "text": "Idade"
         }
        },
        "yaxis": {
         "anchor": "x",
         "domain": [
          0,
          1
         ]
        }
       }
      },
      "image/png": "[encoded data removed]"
     },
     "metadata": {},
     "output_type": "display_data"
    },
    {
     "data": {
      "application/vnd.plotly.v1+json": {
       "config": {
        "plotlyServerURL": "https://plot.ly"
       },
       "data": [
        {
         "alignmentgroup": "True",
         "hovertemplate": "dataset=Finished<br>Coeficiente=%{x}<extra></extra>",
         "legendgroup": "Finished",
         "marker": {
          "color": "#636efa"
         },
         "name": "Finished",
         "notched": false,
         "offsetgroup": "Finished",
         "orientation": "h",
         "showlegend": true,
         "type": "box",
         "x": {
          "bdata": "zczMzMzMG0DhehSuR+ERQArXo3A9ChNAUrgehetRFkBI4XoUrkcZQK5H4XoUrhlAzczMzMzMFkCamZmZmZkUQLgehetRuBZA16NwPQrXG0BxPQrXo3AWQLgehetRuBZAcT0K16NwFEDNzMzMzMweQD0K16NwPRhACtejcD0KIEAUrkfhehQWQMP1KFyPwh1AXI/C9ShcFkDNzMzMzMwWQGZmZmZmZhtAH4XrUbgeHkBcj8L1KFwfQDMzMzMzMxVAXI/C9ShcGED2KFyPwvUbQFyPwvUoXBZAXI/C9ShcHEAUrkfhehQbQD0K16NwPRlArkfhehSuIUAzMzMzMzMTQPYoXI/C9RRA16NwPQrXHEDsUbgehesSQK5H4XoUrhlAH4XrUbgeGUDsUbgehesVQHsUrkfhehRAXI/C9ShcFECPwvUoXI8bQK5H4XoUrhdAZmZmZmZmGkAUrkfhehQeQLgehetRuBZAMzMzMzMzHECkcD0K16MeQOxRuB6FayBAPQrXo3A9E0A9CtejcD0cQK5H4XoUrhhAXI/C9ShcFUC4HoXrUbgWQIXrUbgehSJA4XoUrkfhGEA9CtejcD0SQKRwPQrXox9Aw/UoXI/CHUCamZmZmRkgQB+F61G4HhRAw/UoXI/CHUDNzMzMzMwcQIXrUbgeBSBAuB6F61G4EUDD9Shcj8IYQGZmZmZmZhRAXI/C9ShcGUApXI/C9SgbQK5H4XoUrhpACtejcD0KHkD2KFyPwvUOQM3MzMzMzB1Aw/UoXI/CGUDD9Shcj8IgQBSuR+F6FBZA7FG4HoVrIUAK16NwPQoeQEjhehSuRxhACtejcD0KIECkcD0K1yMgQFyPwvUoXBdAuB6F61G4FkD2KFyPwvUTQOxRuB6F6xVA16NwPQrXHECPwvUoXI8fQK5H4XoUrhRAuB6F61G4H0CuR+F6FK4VQM3MzMzMzBxA4XoUrkfhFECuR+F6FK4RQFyPwvUoXB5A16NwPQrXG0ApXI/C9aghQJqZmZmZmRBAZmZmZmZmFUBxPQrXo3AeQLgehetRuBdAKVyPwvUoGUBxPQrXo3AYQFyPwvUoXBhAZmZmZmZmF0Bcj8L1KFwXQNejcD0K1xdAzczMzMzMG0DNzMzMzMwYQDMzMzMzMxRA9ihcj8L1GkCF61G4HgUgQDMzMzMzMyBA",
          "dtype": "f8"
         },
         "x0": " ",
         "xaxis": "x",
         "y0": " ",
         "yaxis": "y"
        },
        {
         "alignmentgroup": "True",
         "hovertemplate": "dataset=Deactive<br>Coeficiente=%{x}<extra></extra>",
         "legendgroup": "Deactive",
         "marker": {
          "color": "#EF553B"
         },
         "name": "Deactive",
         "notched": false,
         "offsetgroup": "Deactive",
         "orientation": "h",
         "showlegend": true,
         "type": "box",
         "x": {
          "bdata": "FK5H4XoU+j8AAAAAAAAAAAAAAAAAAAAAhetRuB6F4z9xPQrXo3ANQNejcD0K1/s/uB6F61G4rj8AAAAAAAAAAHE9CtejcAdAAAAAAAAAAACkcD0K16MAQFK4HoXrURlApHA9Ctej0D8pXI/C9SgMQOF6FK5H4fY/MzMzMzMzAUAAAAAAAAAAAAAAAAAAAAAAmpmZmZmZB0BmZmZmZmYbQIXrUbgehRBAMzMzMzMzE0DhehSuR+EIQAAAAAAAAAAAmpmZmZmZyT8AAAAAAAAAAAAAAAAAAAAA7FG4HoXrsT9mZmZmZmYOQIXrUbgehRJAj8L1KFyPBECkcD0K16MMQAAAAAAAAAAAXI/C9Shc5z/hehSuR+EGQJqZmZmZmdk/H4XrUbgeFkBI4XoUrkf1PwAAAAAAAABASOF6FK5H9T8fhetRuB4NQFyPwvUoXBRAAAAAAAAAAADXo3A9Ctf/PwAAAAAAAAAAUrgehetRE0DXo3A9CtcQQD0K16NwPfI/pHA9CtejEECPwvUoXI8AQOF6FK5H4co/CtejcD0KEkAAAAAAAAAAAOF6FK5H4R5AXI/C9ShcEECuR+F6FK7vP1yPwvUoXA9AFK5H4XoUEEAAAAAAAAAAAAAAAAAAAAAAzczMzMzMAEAUrkfhehT6PwAAAAAAAAAAH4XrUbgeA0DD9Shcj8LFP5qZmZmZmck/hetRuB6FA0BmZmZmZmb2P83MzMzMzARAcT0K16NwGkBcj8L1KFwUQOF6FK5H4f4/AAAAAAAAAAAAAAAAAAAAAK5H4XoUrvc/pHA9Ctej4D8UrkfhehTuP/YoXI/C9QJAAAAAAAAAAACamZmZmZkYQK5H4XoUrhxAKVyPwvUoAECuR+F6FK4LQBSuR+F6FBhAuB6F61G4+j+kcD0K16MaQKRwPQrXo/g/mpmZmZmZDUAK16NwPQoQQB+F61G4HtU/AAAAAAAAAACamZmZmZkYQKRwPQrXo8A/exSuR+F6H0DhehSuR+EIQOF6FK5H4fo/exSuR+F67D9xPQrXo3ADQM3MzMzMzPw/FK5H4XoU7j8UrkfhehQVQHsUrkfhehJAAAAAAAAAAAApXI/C9SgAQNejcD0K1wVAw/UoXI/CB0DsUbgehevhP4XrUbgehds/4XoUrkfhyj+PwvUoXI/+PxSuR+F6FBNAAAAAAAAAAABxPQrXo3ALQIXrUbgehRRAXI/C9ShcHkCPwvUoXI8EQI/C9ShcjwZA7FG4HoXr/T8fhetRuB4FQLgehetRuAZAAAAAAAAA9D9SuB6F61HIP0jhehSuRwtAcT0K16NwzT8AAAAAAAAAAPYoXI/C9RZA4XoUrkfhG0AfhetRuB4HQAAAAAAAAAAAj8L1KFyP0j+F61G4HoULQK5H4XoUrhhAH4XrUbgeBUA9CtejcD0OQFK4HoXrUeA/AAAAAAAAAAAAAAAAAAAAAFyPwvUoXAVAmpmZmZmZEkApXI/C9SgGQAAAAAAAAAAAPQrXo3A9EUBSuB6F61H8P83MzMzMzOQ/AAAAAAAAAAAAAAAAAAAAAHsUrkfheghAuB6F61G4nj8AAAAAAAAAAOF6FK5H4QpAAAAAAAAAAACamZmZmZkFQEjhehSuRwlArkfhehSu1z+kcD0K16P8P+xRuB6F6wtAw/UoXI/CFECkcD0K16MUQJqZmZmZmfk/j8L1KFyP9j8zMzMzMzPzPxSuR+F6FBRAexSuR+F6EUAUrkfhehQEQAAAAAAAAAAAAAAAAAAAAAAAAAAAAAAAAJqZmZmZmck/AAAAAAAAAAAAAAAAAAAAAHE9CtejcA1AmpmZmZmZA0AAAAAAAAAAAJqZmZmZmQlAH4XrUbgeC0BSuB6F61EGQHsUrkfhevg/AAAAAAAAAACamZmZmZkJQOF6FK5H4QZA7FG4HoXrEUBSuB6F61EhQLgehetRuK4/AAAAAAAAAACamZmZmZkBQAAAAAAAAAAAH4XrUbgeC0AUrkfhehT+PwAAAAAAAAAACtejcD0KEUB7FK5H4XrEP/YoXI/C9dg/CtejcD0Kxz/Xo3A9CtcDQK5H4XoUrgVACtejcD0KDUCPwvUoXI8bQKRwPQrXow5AAAAAAAAAAAAzMzMzMzMBQFK4HoXrURZAuB6F61G4EkAAAAAAAAAAAHsUrkfhevQ/PQrXo3A9GkAAAAAAAAAAAK5H4XoUrvM/16NwPQrXE0AfhetRuB4LQHsUrkfhevw/mpmZmZmZFUBxPQrXo3AVQAAAAAAAAAAA4XoUrkfhyj8AAAAAAAAAAGZmZmZmZgZA9ihcj8L1DEBSuB6F61HoP+xRuB6F6xhA7FG4HoXr0T/sUbgehesPQAAAAAAAAAAA9ihcj8L1BEAAAAAAAAAAAOxRuB6F67E/AAAAAAAAAAAAAAAAAAAAAPYoXI/C9RVAXI/C9Shc8z+uR+F6FK77Pylcj8L1KBdAmpmZmZmZ/T8AAAAAAAAAAK5H4XoUrhFAj8L1KFyP8j8K16NwPQr3P1yPwvUoXCFAXI/C9ShcE0DXo3A9CtcBQPYoXI/C9dg/AAAAAAAAAACkcD0K16PwP3sUrkfheg5AZmZmZmZm7j8fhetRuB4SQOF6FK5H4co/AAAAAAAAAACPwvUoXI8GQK5H4XoUrvc/FK5H4XoU5j89CtejcD0MQAAAAAAAAAAA4XoUrkfhyj+amZmZmRkgQD0K16NwPQpAAAAAAAAAAABI4XoUrkcTQAAAAAAAAAAASOF6FK5H8T8AAAAAAAAAAClcj8L1KBFA7FG4HoXr/T9cj8L1KFzzPwAAAAAAAAAAAAAAAAAAAAAAAAAAAAAAAAAAAAAAAAAAH4XrUbge/T8AAAAAAAAAAB+F61G4HvU/AAAAAAAAAAD2KFyPwvUMQDMzMzMzM/M/exSuR+F6AEApXI/C9SgEQArXo3A9ChhA7FG4HoXrC0AUrkfhehQGQAAAAAAAAPw/MzMzMzMzBUB7FK5H4XoXQAAAAAAAAAAAAAAAAAAAAAAAAAAAAAAAAKRwPQrXo/Q/FK5H4XoUCECamZmZmZnJP1yPwvUoXOc/zczMzMzMCkCamZmZmZnhP4/C9Shcj/Y/H4XrUbgeD0BI4XoUrkcDQAAAAAAAAAAAKVyPwvUo+D8AAAAAAAAAAHE9CtejcPU/j8L1KFyPCkAAAAAAAAAAAAAAAAAAAAAAAAAAAAAAAAAAAAAAAAAAAAAAAAAAAAAAUrgehetRCkBxPQrXo3ARQAAAAAAAAAAAH4XrUbgeCUDhehSuR+HKP3sUrkfhehdAmpmZmZmZB0CPwvUoXI/iP7gehetRuM4/AAAAAAAAAACkcD0K16MRQOF6FK5H4fI/AAAAAAAAAAAzMzMzMzPTP65H4XoUrg1AuB6F61G4nj8AAAAAAAAAAD0K16NwPRNACtejcD0K/z/Xo3A9Ctf3PwAAAAAAAAAA4XoUrkfhCEBSuB6F61EQQHsUrkfhegJAUrgehetRGkAAAAAAAAD4P0jhehSuR/0/AAAAAAAAAAAK16NwPQoLQOF6FK5H4RhAmpmZmZmZAUDXo3A9Ctf3PwAAAAAAAAAAAAAAAAAAAABmZmZmZmbuPxSuR+F6FOY/UrgehetRyD8AAAAAAAAAAArXo3A9CgFA4XoUrkfhCkCkcD0K16P4P4XrUbgehRpAhetRuB6FC0BxPQrXo3AHQGZmZmZmZhZAmpmZmZmZF0AK16NwPQoPQAAAAAAAAAAAUrgehetR2D97FK5H4XrUPwAAAAAAAB5AexSuR+F6F0BI4XoUrkcFQAAAAAAAAAAAj8L1KFyPDEA9CtejcD3+P4/C9ShcjwhAAAAAAAAAAADsUbgeheseQOxRuB6F6wtAMzMzMzMzH0AAAAAAAAAAAOF6FK5H4QJAXI/C9ShcEUB7FK5H4XrUP+F6FK5H4QxAAAAAAAAAAADsUbgehesBQDMzMzMzMw9AXI/C9ShcAUBI4XoUrkfpPzMzMzMzMwVAAAAAAAAAAACamZmZmZmpP+xRuB6F6+E/PQrXo3A9BkB7FK5H4XoIQOF6FK5H4fY/16NwPQrXBUAzMzMzMzMSQIXrUbgehRhAhetRuB6FEUAAAAAAAAAAAM3MzMzMzPA/",
          "dtype": "f8"
         },
         "x0": " ",
         "xaxis": "x",
         "y0": " ",
         "yaxis": "y"
        }
       ],
       "layout": {
        "boxmode": "group",
        "font": {
         "color": "Black",
         "family": "Courier New, monospace",
         "size": 18,
         "variant": "small-caps"
        },
        "legend": {
         "title": {
          "text": "dataset"
         },
         "tracegroupgap": 0
        },
        "margin": {
         "t": 60
        },
        "template": {
         "data": {
          "bar": [
           {
            "error_x": {
             "color": "#2a3f5f"
            },
            "error_y": {
             "color": "#2a3f5f"
            },
            "marker": {
             "line": {
              "color": "#E5ECF6",
              "width": 0.5
             },
             "pattern": {
              "fillmode": "overlay",
              "size": 10,
              "solidity": 0.2
             }
            },
            "type": "bar"
           }
          ],
          "barpolar": [
           {
            "marker": {
             "line": {
              "color": "#E5ECF6",
              "width": 0.5
             },
             "pattern": {
              "fillmode": "overlay",
              "size": 10,
              "solidity": 0.2
             }
            },
            "type": "barpolar"
           }
          ],
          "carpet": [
           {
            "aaxis": {
             "endlinecolor": "#2a3f5f",
             "gridcolor": "white",
             "linecolor": "white",
             "minorgridcolor": "white",
             "startlinecolor": "#2a3f5f"
            },
            "baxis": {
             "endlinecolor": "#2a3f5f",
             "gridcolor": "white",
             "linecolor": "white",
             "minorgridcolor": "white",
             "startlinecolor": "#2a3f5f"
            },
            "type": "carpet"
           }
          ],
          "choropleth": [
           {
            "colorbar": {
             "outlinewidth": 0,
             "ticks": ""
            },
            "type": "choropleth"
           }
          ],
          "contour": [
           {
            "colorbar": {
             "outlinewidth": 0,
             "ticks": ""
            },
            "colorscale": [
             [
              0,
              "#0d0887"
             ],
             [
              0.1111111111111111,
              "#46039f"
             ],
             [
              0.2222222222222222,
              "#7201a8"
             ],
             [
              0.3333333333333333,
              "#9c179e"
             ],
             [
              0.4444444444444444,
              "#bd3786"
             ],
             [
              0.5555555555555556,
              "#d8576b"
             ],
             [
              0.6666666666666666,
              "#ed7953"
             ],
             [
              0.7777777777777778,
              "#fb9f3a"
             ],
             [
              0.8888888888888888,
              "#fdca26"
             ],
             [
              1,
              "#f0f921"
             ]
            ],
            "type": "contour"
           }
          ],
          "contourcarpet": [
           {
            "colorbar": {
             "outlinewidth": 0,
             "ticks": ""
            },
            "type": "contourcarpet"
           }
          ],
          "heatmap": [
           {
            "colorbar": {
             "outlinewidth": 0,
             "ticks": ""
            },
            "colorscale": [
             [
              0,
              "#0d0887"
             ],
             [
              0.1111111111111111,
              "#46039f"
             ],
             [
              0.2222222222222222,
              "#7201a8"
             ],
             [
              0.3333333333333333,
              "#9c179e"
             ],
             [
              0.4444444444444444,
              "#bd3786"
             ],
             [
              0.5555555555555556,
              "#d8576b"
             ],
             [
              0.6666666666666666,
              "#ed7953"
             ],
             [
              0.7777777777777778,
              "#fb9f3a"
             ],
             [
              0.8888888888888888,
              "#fdca26"
             ],
             [
              1,
              "#f0f921"
             ]
            ],
            "type": "heatmap"
           }
          ],
          "histogram": [
           {
            "marker": {
             "pattern": {
              "fillmode": "overlay",
              "size": 10,
              "solidity": 0.2
             }
            },
            "type": "histogram"
           }
          ],
          "histogram2d": [
           {
            "colorbar": {
             "outlinewidth": 0,
             "ticks": ""
            },
            "colorscale": [
             [
              0,
              "#0d0887"
             ],
             [
              0.1111111111111111,
              "#46039f"
             ],
             [
              0.2222222222222222,
              "#7201a8"
             ],
             [
              0.3333333333333333,
              "#9c179e"
             ],
             [
              0.4444444444444444,
              "#bd3786"
             ],
             [
              0.5555555555555556,
              "#d8576b"
             ],
             [
              0.6666666666666666,
              "#ed7953"
             ],
             [
              0.7777777777777778,
              "#fb9f3a"
             ],
             [
              0.8888888888888888,
              "#fdca26"
             ],
             [
              1,
              "#f0f921"
             ]
            ],
            "type": "histogram2d"
           }
          ],
          "histogram2dcontour": [
           {
            "colorbar": {
             "outlinewidth": 0,
             "ticks": ""
            },
            "colorscale": [
             [
              0,
              "#0d0887"
             ],
             [
              0.1111111111111111,
              "#46039f"
             ],
             [
              0.2222222222222222,
              "#7201a8"
             ],
             [
              0.3333333333333333,
              "#9c179e"
             ],
             [
              0.4444444444444444,
              "#bd3786"
             ],
             [
              0.5555555555555556,
              "#d8576b"
             ],
             [
              0.6666666666666666,
              "#ed7953"
             ],
             [
              0.7777777777777778,
              "#fb9f3a"
             ],
             [
              0.8888888888888888,
              "#fdca26"
             ],
             [
              1,
              "#f0f921"
             ]
            ],
            "type": "histogram2dcontour"
           }
          ],
          "mesh3d": [
           {
            "colorbar": {
             "outlinewidth": 0,
             "ticks": ""
            },
            "type": "mesh3d"
           }
          ],
          "parcoords": [
           {
            "line": {
             "colorbar": {
              "outlinewidth": 0,
              "ticks": ""
             }
            },
            "type": "parcoords"
           }
          ],
          "pie": [
           {
            "automargin": true,
            "type": "pie"
           }
          ],
          "scatter": [
           {
            "fillpattern": {
             "fillmode": "overlay",
             "size": 10,
             "solidity": 0.2
            },
            "type": "scatter"
           }
          ],
          "scatter3d": [
           {
            "line": {
             "colorbar": {
              "outlinewidth": 0,
              "ticks": ""
             }
            },
            "marker": {
             "colorbar": {
              "outlinewidth": 0,
              "ticks": ""
             }
            },
            "type": "scatter3d"
           }
          ],
          "scattercarpet": [
           {
            "marker": {
             "colorbar": {
              "outlinewidth": 0,
              "ticks": ""
             }
            },
            "type": "scattercarpet"
           }
          ],
          "scattergeo": [
           {
            "marker": {
             "colorbar": {
              "outlinewidth": 0,
              "ticks": ""
             }
            },
            "type": "scattergeo"
           }
          ],
          "scattergl": [
           {
            "marker": {
             "colorbar": {
              "outlinewidth": 0,
              "ticks": ""
             }
            },
            "type": "scattergl"
           }
          ],
          "scattermap": [
           {
            "marker": {
             "colorbar": {
              "outlinewidth": 0,
              "ticks": ""
             }
            },
            "type": "scattermap"
           }
          ],
          "scattermapbox": [
           {
            "marker": {
             "colorbar": {
              "outlinewidth": 0,
              "ticks": ""
             }
            },
            "type": "scattermapbox"
           }
          ],
          "scatterpolar": [
           {
            "marker": {
             "colorbar": {
              "outlinewidth": 0,
              "ticks": ""
             }
            },
            "type": "scatterpolar"
           }
          ],
          "scatterpolargl": [
           {
            "marker": {
             "colorbar": {
              "outlinewidth": 0,
              "ticks": ""
             }
            },
            "type": "scatterpolargl"
           }
          ],
          "scatterternary": [
           {
            "marker": {
             "colorbar": {
              "outlinewidth": 0,
              "ticks": ""
             }
            },
            "type": "scatterternary"
           }
          ],
          "surface": [
           {
            "colorbar": {
             "outlinewidth": 0,
             "ticks": ""
            },
            "colorscale": [
             [
              0,
              "#0d0887"
             ],
             [
              0.1111111111111111,
              "#46039f"
             ],
             [
              0.2222222222222222,
              "#7201a8"
             ],
             [
              0.3333333333333333,
              "#9c179e"
             ],
             [
              0.4444444444444444,
              "#bd3786"
             ],
             [
              0.5555555555555556,
              "#d8576b"
             ],
             [
              0.6666666666666666,
              "#ed7953"
             ],
             [
              0.7777777777777778,
              "#fb9f3a"
             ],
             [
              0.8888888888888888,
              "#fdca26"
             ],
             [
              1,
              "#f0f921"
             ]
            ],
            "type": "surface"
           }
          ],
          "table": [
           {
            "cells": {
             "fill": {
              "color": "#EBF0F8"
             },
             "line": {
              "color": "white"
             }
            },
            "header": {
             "fill": {
              "color": "#C8D4E3"
             },
             "line": {
              "color": "white"
             }
            },
            "type": "table"
           }
          ]
         },
         "layout": {
          "annotationdefaults": {
           "arrowcolor": "#2a3f5f",
           "arrowhead": 0,
           "arrowwidth": 1
          },
          "autotypenumbers": "strict",
          "coloraxis": {
           "colorbar": {
            "outlinewidth": 0,
            "ticks": ""
           }
          },
          "colorscale": {
           "diverging": [
            [
             0,
             "#8e0152"
            ],
            [
             0.1,
             "#c51b7d"
            ],
            [
             0.2,
             "#de77ae"
            ],
            [
             0.3,
             "#f1b6da"
            ],
            [
             0.4,
             "#fde0ef"
            ],
            [
             0.5,
             "#f7f7f7"
            ],
            [
             0.6,
             "#e6f5d0"
            ],
            [
             0.7,
             "#b8e186"
            ],
            [
             0.8,
             "#7fbc41"
            ],
            [
             0.9,
             "#4d9221"
            ],
            [
             1,
             "#276419"
            ]
           ],
           "sequential": [
            [
             0,
             "#0d0887"
            ],
            [
             0.1111111111111111,
             "#46039f"
            ],
            [
             0.2222222222222222,
             "#7201a8"
            ],
            [
             0.3333333333333333,
             "#9c179e"
            ],
            [
             0.4444444444444444,
             "#bd3786"
            ],
            [
             0.5555555555555556,
             "#d8576b"
            ],
            [
             0.6666666666666666,
             "#ed7953"
            ],
            [
             0.7777777777777778,
             "#fb9f3a"
            ],
            [
             0.8888888888888888,
             "#fdca26"
            ],
            [
             1,
             "#f0f921"
            ]
           ],
           "sequentialminus": [
            [
             0,
             "#0d0887"
            ],
            [
             0.1111111111111111,
             "#46039f"
            ],
            [
             0.2222222222222222,
             "#7201a8"
            ],
            [
             0.3333333333333333,
             "#9c179e"
            ],
            [
             0.4444444444444444,
             "#bd3786"
            ],
            [
             0.5555555555555556,
             "#d8576b"
            ],
            [
             0.6666666666666666,
             "#ed7953"
            ],
            [
             0.7777777777777778,
             "#fb9f3a"
            ],
            [
             0.8888888888888888,
             "#fdca26"
            ],
            [
             1,
             "#f0f921"
            ]
           ]
          },
          "colorway": [
           "#636efa",
           "#EF553B",
           "#00cc96",
           "#ab63fa",
           "#FFA15A",
           "#19d3f3",
           "#FF6692",
           "#B6E880",
           "#FF97FF",
           "#FECB52"
          ],
          "font": {
           "color": "#2a3f5f"
          },
          "geo": {
           "bgcolor": "white",
           "lakecolor": "white",
           "landcolor": "#E5ECF6",
           "showlakes": true,
           "showland": true,
           "subunitcolor": "white"
          },
          "hoverlabel": {
           "align": "left"
          },
          "hovermode": "closest",
          "mapbox": {
           "style": "light"
          },
          "paper_bgcolor": "white",
          "plot_bgcolor": "#E5ECF6",
          "polar": {
           "angularaxis": {
            "gridcolor": "white",
            "linecolor": "white",
            "ticks": ""
           },
           "bgcolor": "#E5ECF6",
           "radialaxis": {
            "gridcolor": "white",
            "linecolor": "white",
            "ticks": ""
           }
          },
          "scene": {
           "xaxis": {
            "backgroundcolor": "#E5ECF6",
            "gridcolor": "white",
            "gridwidth": 2,
            "linecolor": "white",
            "showbackground": true,
            "ticks": "",
            "zerolinecolor": "white"
           },
           "yaxis": {
            "backgroundcolor": "#E5ECF6",
            "gridcolor": "white",
            "gridwidth": 2,
            "linecolor": "white",
            "showbackground": true,
            "ticks": "",
            "zerolinecolor": "white"
           },
           "zaxis": {
            "backgroundcolor": "#E5ECF6",
            "gridcolor": "white",
            "gridwidth": 2,
            "linecolor": "white",
            "showbackground": true,
            "ticks": "",
            "zerolinecolor": "white"
           }
          },
          "shapedefaults": {
           "line": {
            "color": "#2a3f5f"
           }
          },
          "ternary": {
           "aaxis": {
            "gridcolor": "white",
            "linecolor": "white",
            "ticks": ""
           },
           "baxis": {
            "gridcolor": "white",
            "linecolor": "white",
            "ticks": ""
           },
           "bgcolor": "#E5ECF6",
           "caxis": {
            "gridcolor": "white",
            "linecolor": "white",
            "ticks": ""
           }
          },
          "title": {
           "x": 0.05
          },
          "xaxis": {
           "automargin": true,
           "gridcolor": "white",
           "linecolor": "white",
           "ticks": "",
           "title": {
            "standoff": 15
           },
           "zerolinecolor": "white",
           "zerolinewidth": 2
          },
          "yaxis": {
           "automargin": true,
           "gridcolor": "white",
           "linecolor": "white",
           "ticks": "",
           "title": {
            "standoff": 15
           },
           "zerolinecolor": "white",
           "zerolinewidth": 2
          }
         }
        },
        "title": {
         "text": "GPA: Undergrads vs Dropout"
        },
        "xaxis": {
         "anchor": "y",
         "domain": [
          0,
          1
         ],
         "title": {
          "text": "Coeficiente"
         }
        },
        "yaxis": {
         "anchor": "x",
         "domain": [
          0,
          1
         ]
        }
       }
      },
      "image/png": "[encoded data removed]"
     },
     "metadata": {},
     "output_type": "display_data"
    },
    {
     "data": {
      "application/vnd.plotly.v1+json": {
       "config": {
        "plotlyServerURL": "https://plot.ly"
       },
       "data": [
        {
         "alignmentgroup": "True",
         "hovertemplate": "dataset=Finished<br>IMI=%{x}<extra></extra>",
         "legendgroup": "Finished",
         "marker": {
          "color": "#636efa"
         },
         "name": "Finished",
         "notched": false,
         "offsetgroup": "Finished",
         "orientation": "h",
         "showlegend": true,
         "type": "box",
         "x": {
          "bdata": "ZmZmZmYmUUAAAAAAAAAAAJqZmZmZOVFAAAAAAAAAAAAAAAAAAMBNQDMzMzMzU1NAmpmZmZk5UUAzMzMzM1NTQGZmZmZmJk1AzczMzMwMVUAzMzMzM/NSQJqZmZmZGVRAZmZmZmYmTUAzMzMzMzNUQDMzMzMzk1FAzczMzMxsVkBmZmZmZuZKQDMzMzMzs1dAmpmZmZkZUEDNzMzMzAxVQJqZmZmZeVVAMzMzMzOzV0AAAAAAAAAAAM3MzMzMDFVAzczMzMzMU0AAAAAAAAAAAJqZmZmZOVFAmpmZmZk5UUAzMzMzM/NSQDMzMzMzU1FAMzMzMzOzV0CamZmZmTlRQDMzMzMzU1NAAAAAAADAWECamZmZmTlRQDMzMzMzs1dAMzMzMzPzUkAAAAAAAAAAADMzMzMz81JAzczMzMxMTUCamZmZmZlPQJqZmZmZOVFAmpmZmZk5UUAzMzMzM7NXQGZmZmZmJk1AAAAAAAAAAAAzMzMzM/NSQJqZmZmZeVVAmpmZmZmZT0DNzMzMzGxTQDMzMzMz01BAAAAAAAAAAADNzMzMzAxLQGZmZmZmplZAzczMzMzMU0DNzMzMzAxLQDMzMzMzM1tAzczMzMwsVUDNzMzMzCxYQAAAAAAAAAAAAAAAAADAWEAAAAAAAAAAAAAAAAAAAAAAzczMzMwMS0CamZmZmTlRQGZmZmZm5k1AAAAAAAAAAAAzMzMzM7NXQDMzMzMz81JAMzMzMzOzV0BmZmZmZmZGQDMzMzMzs1dAZmZmZmamUUDNzMzMzMxXQM3MzMzMDFVAMzMzMzMTW0AzMzMzM7NXQDMzMzMzw2hAzczMzMzMU0AzMzMzM7NXQDMzMzMzE1tAAAAAAAAAAAAAAAAAAAAAAM3MzMzMTExAzczMzMwsWEAAAAAAAAAAAJqZmZmZOVFAzczMzMwsWEDNzMzMzGxWQAAAAAAAwFhAAAAAAAAAAADNzMzMzAxLQM3MzMzMLFhAMzMzMzOzV0AAAAAAAAAAAGZmZmZmJk1AmpmZmZk5UUAzMzMzM1NWQM3MzMzMsIdAMzMzMzOzV0AAAAAAAAAAAAAAAAAAAAAAzczMzMwMVUCamZmZmZlPQDMzMzMz81JAMzMzMzOzV0DNzMzMzAxVQGZmZmZm5klAMzMzMzNTU0AzMzMzM7NXQM3MzMzMzFdA",
          "dtype": "f8"
         },
         "x0": " ",
         "xaxis": "x",
         "y0": " ",
         "yaxis": "y"
        },
        {
         "alignmentgroup": "True",
         "hovertemplate": "dataset=Deactive<br>IMI=%{x}<extra></extra>",
         "legendgroup": "Deactive",
         "marker": {
          "color": "#EF553B"
         },
         "name": "Deactive",
         "notched": false,
         "offsetgroup": "Deactive",
         "orientation": "h",
         "showlegend": true,
         "type": "box",
         "x": {
          "bdata": "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",
          "dtype": "f8"
         },
         "x0": " ",
         "xaxis": "x",
         "y0": " ",
         "yaxis": "y"
        }
       ],
       "layout": {
        "boxmode": "group",
        "font": {
         "color": "Black",
         "family": "Courier New, monospace",
         "size": 18,
         "variant": "small-caps"
        },
        "legend": {
         "title": {
          "text": "dataset"
         },
         "tracegroupgap": 0
        },
        "margin": {
         "t": 60
        },
        "template": {
         "data": {
          "bar": [
           {
            "error_x": {
             "color": "#2a3f5f"
            },
            "error_y": {
             "color": "#2a3f5f"
            },
            "marker": {
             "line": {
              "color": "#E5ECF6",
              "width": 0.5
             },
             "pattern": {
              "fillmode": "overlay",
              "size": 10,
              "solidity": 0.2
             }
            },
            "type": "bar"
           }
          ],
          "barpolar": [
           {
            "marker": {
             "line": {
              "color": "#E5ECF6",
              "width": 0.5
             },
             "pattern": {
              "fillmode": "overlay",
              "size": 10,
              "solidity": 0.2
             }
            },
            "type": "barpolar"
           }
          ],
          "carpet": [
           {
            "aaxis": {
             "endlinecolor": "#2a3f5f",
             "gridcolor": "white",
             "linecolor": "white",
             "minorgridcolor": "white",
             "startlinecolor": "#2a3f5f"
            },
            "baxis": {
             "endlinecolor": "#2a3f5f",
             "gridcolor": "white",
             "linecolor": "white",
             "minorgridcolor": "white",
             "startlinecolor": "#2a3f5f"
            },
            "type": "carpet"
           }
          ],
          "choropleth": [
           {
            "colorbar": {
             "outlinewidth": 0,
             "ticks": ""
            },
            "type": "choropleth"
           }
          ],
          "contour": [
           {
            "colorbar": {
             "outlinewidth": 0,
             "ticks": ""
            },
            "colorscale": [
             [
              0,
              "#0d0887"
             ],
             [
              0.1111111111111111,
              "#46039f"
             ],
             [
              0.2222222222222222,
              "#7201a8"
             ],
             [
              0.3333333333333333,
              "#9c179e"
             ],
             [
              0.4444444444444444,
              "#bd3786"
             ],
             [
              0.5555555555555556,
              "#d8576b"
             ],
             [
              0.6666666666666666,
              "#ed7953"
             ],
             [
              0.7777777777777778,
              "#fb9f3a"
             ],
             [
              0.8888888888888888,
              "#fdca26"
             ],
             [
              1,
              "#f0f921"
             ]
            ],
            "type": "contour"
           }
          ],
          "contourcarpet": [
           {
            "colorbar": {
             "outlinewidth": 0,
             "ticks": ""
            },
            "type": "contourcarpet"
           }
          ],
          "heatmap": [
           {
            "colorbar": {
             "outlinewidth": 0,
             "ticks": ""
            },
            "colorscale": [
             [
              0,
              "#0d0887"
             ],
             [
              0.1111111111111111,
              "#46039f"
             ],
             [
              0.2222222222222222,
              "#7201a8"
             ],
             [
              0.3333333333333333,
              "#9c179e"
             ],
             [
              0.4444444444444444,
              "#bd3786"
             ],
             [
              0.5555555555555556,
              "#d8576b"
             ],
             [
              0.6666666666666666,
              "#ed7953"
             ],
             [
              0.7777777777777778,
              "#fb9f3a"
             ],
             [
              0.8888888888888888,
              "#fdca26"
             ],
             [
              1,
              "#f0f921"
             ]
            ],
            "type": "heatmap"
           }
          ],
          "histogram": [
           {
            "marker": {
             "pattern": {
              "fillmode": "overlay",
              "size": 10,
              "solidity": 0.2
             }
            },
            "type": "histogram"
           }
          ],
          "histogram2d": [
           {
            "colorbar": {
             "outlinewidth": 0,
             "ticks": ""
            },
            "colorscale": [
             [
              0,
              "#0d0887"
             ],
             [
              0.1111111111111111,
              "#46039f"
             ],
             [
              0.2222222222222222,
              "#7201a8"
             ],
             [
              0.3333333333333333,
              "#9c179e"
             ],
             [
              0.4444444444444444,
              "#bd3786"
             ],
             [
              0.5555555555555556,
              "#d8576b"
             ],
             [
              0.6666666666666666,
              "#ed7953"
             ],
             [
              0.7777777777777778,
              "#fb9f3a"
             ],
             [
              0.8888888888888888,
              "#fdca26"
             ],
             [
              1,
              "#f0f921"
             ]
            ],
            "type": "histogram2d"
           }
          ],
          "histogram2dcontour": [
           {
            "colorbar": {
             "outlinewidth": 0,
             "ticks": ""
            },
            "colorscale": [
             [
              0,
              "#0d0887"
             ],
             [
              0.1111111111111111,
              "#46039f"
             ],
             [
              0.2222222222222222,
              "#7201a8"
             ],
             [
              0.3333333333333333,
              "#9c179e"
             ],
             [
              0.4444444444444444,
              "#bd3786"
             ],
             [
              0.5555555555555556,
              "#d8576b"
             ],
             [
              0.6666666666666666,
              "#ed7953"
             ],
             [
              0.7777777777777778,
              "#fb9f3a"
             ],
             [
              0.8888888888888888,
              "#fdca26"
             ],
             [
              1,
              "#f0f921"
             ]
            ],
            "type": "histogram2dcontour"
           }
          ],
          "mesh3d": [
           {
            "colorbar": {
             "outlinewidth": 0,
             "ticks": ""
            },
            "type": "mesh3d"
           }
          ],
          "parcoords": [
           {
            "line": {
             "colorbar": {
              "outlinewidth": 0,
              "ticks": ""
             }
            },
            "type": "parcoords"
           }
          ],
          "pie": [
           {
            "automargin": true,
            "type": "pie"
           }
          ],
          "scatter": [
           {
            "fillpattern": {
             "fillmode": "overlay",
             "size": 10,
             "solidity": 0.2
            },
            "type": "scatter"
           }
          ],
          "scatter3d": [
           {
            "line": {
             "colorbar": {
              "outlinewidth": 0,
              "ticks": ""
             }
            },
            "marker": {
             "colorbar": {
              "outlinewidth": 0,
              "ticks": ""
             }
            },
            "type": "scatter3d"
           }
          ],
          "scattercarpet": [
           {
            "marker": {
             "colorbar": {
              "outlinewidth": 0,
              "ticks": ""
             }
            },
            "type": "scattercarpet"
           }
          ],
          "scattergeo": [
           {
            "marker": {
             "colorbar": {
              "outlinewidth": 0,
              "ticks": ""
             }
            },
            "type": "scattergeo"
           }
          ],
          "scattergl": [
           {
            "marker": {
             "colorbar": {
              "outlinewidth": 0,
              "ticks": ""
             }
            },
            "type": "scattergl"
           }
          ],
          "scattermap": [
           {
            "marker": {
             "colorbar": {
              "outlinewidth": 0,
              "ticks": ""
             }
            },
            "type": "scattermap"
           }
          ],
          "scattermapbox": [
           {
            "marker": {
             "colorbar": {
              "outlinewidth": 0,
              "ticks": ""
             }
            },
            "type": "scattermapbox"
           }
          ],
          "scatterpolar": [
           {
            "marker": {
             "colorbar": {
              "outlinewidth": 0,
              "ticks": ""
             }
            },
            "type": "scatterpolar"
           }
          ],
          "scatterpolargl": [
           {
            "marker": {
             "colorbar": {
              "outlinewidth": 0,
              "ticks": ""
             }
            },
            "type": "scatterpolargl"
           }
          ],
          "scatterternary": [
           {
            "marker": {
             "colorbar": {
              "outlinewidth": 0,
              "ticks": ""
             }
            },
            "type": "scatterternary"
           }
          ],
          "surface": [
           {
            "colorbar": {
             "outlinewidth": 0,
             "ticks": ""
            },
            "colorscale": [
             [
              0,
              "#0d0887"
             ],
             [
              0.1111111111111111,
              "#46039f"
             ],
             [
              0.2222222222222222,
              "#7201a8"
             ],
             [
              0.3333333333333333,
              "#9c179e"
             ],
             [
              0.4444444444444444,
              "#bd3786"
             ],
             [
              0.5555555555555556,
              "#d8576b"
             ],
             [
              0.6666666666666666,
              "#ed7953"
             ],
             [
              0.7777777777777778,
              "#fb9f3a"
             ],
             [
              0.8888888888888888,
              "#fdca26"
             ],
             [
              1,
              "#f0f921"
             ]
            ],
            "type": "surface"
           }
          ],
          "table": [
           {
            "cells": {
             "fill": {
              "color": "#EBF0F8"
             },
             "line": {
              "color": "white"
             }
            },
            "header": {
             "fill": {
              "color": "#C8D4E3"
             },
             "line": {
              "color": "white"
             }
            },
            "type": "table"
           }
          ]
         },
         "layout": {
          "annotationdefaults": {
           "arrowcolor": "#2a3f5f",
           "arrowhead": 0,
           "arrowwidth": 1
          },
          "autotypenumbers": "strict",
          "coloraxis": {
           "colorbar": {
            "outlinewidth": 0,
            "ticks": ""
           }
          },
          "colorscale": {
           "diverging": [
            [
             0,
             "#8e0152"
            ],
            [
             0.1,
             "#c51b7d"
            ],
            [
             0.2,
             "#de77ae"
            ],
            [
             0.3,
             "#f1b6da"
            ],
            [
             0.4,
             "#fde0ef"
            ],
            [
             0.5,
             "#f7f7f7"
            ],
            [
             0.6,
             "#e6f5d0"
            ],
            [
             0.7,
             "#b8e186"
            ],
            [
             0.8,
             "#7fbc41"
            ],
            [
             0.9,
             "#4d9221"
            ],
            [
             1,
             "#276419"
            ]
           ],
           "sequential": [
            [
             0,
             "#0d0887"
            ],
            [
             0.1111111111111111,
             "#46039f"
            ],
            [
             0.2222222222222222,
             "#7201a8"
            ],
            [
             0.3333333333333333,
             "#9c179e"
            ],
            [
             0.4444444444444444,
             "#bd3786"
            ],
            [
             0.5555555555555556,
             "#d8576b"
            ],
            [
             0.6666666666666666,
             "#ed7953"
            ],
            [
             0.7777777777777778,
             "#fb9f3a"
            ],
            [
             0.8888888888888888,
             "#fdca26"
            ],
            [
             1,
             "#f0f921"
            ]
           ],
           "sequentialminus": [
            [
             0,
             "#0d0887"
            ],
            [
             0.1111111111111111,
             "#46039f"
            ],
            [
             0.2222222222222222,
             "#7201a8"
            ],
            [
             0.3333333333333333,
             "#9c179e"
            ],
            [
             0.4444444444444444,
             "#bd3786"
            ],
            [
             0.5555555555555556,
             "#d8576b"
            ],
            [
             0.6666666666666666,
             "#ed7953"
            ],
            [
             0.7777777777777778,
             "#fb9f3a"
            ],
            [
             0.8888888888888888,
             "#fdca26"
            ],
            [
             1,
             "#f0f921"
            ]
           ]
          },
          "colorway": [
           "#636efa",
           "#EF553B",
           "#00cc96",
           "#ab63fa",
           "#FFA15A",
           "#19d3f3",
           "#FF6692",
           "#B6E880",
           "#FF97FF",
           "#FECB52"
          ],
          "font": {
           "color": "#2a3f5f"
          },
          "geo": {
           "bgcolor": "white",
           "lakecolor": "white",
           "landcolor": "#E5ECF6",
           "showlakes": true,
           "showland": true,
           "subunitcolor": "white"
          },
          "hoverlabel": {
           "align": "left"
          },
          "hovermode": "closest",
          "mapbox": {
           "style": "light"
          },
          "paper_bgcolor": "white",
          "plot_bgcolor": "#E5ECF6",
          "polar": {
           "angularaxis": {
            "gridcolor": "white",
            "linecolor": "white",
            "ticks": ""
           },
           "bgcolor": "#E5ECF6",
           "radialaxis": {
            "gridcolor": "white",
            "linecolor": "white",
            "ticks": ""
           }
          },
          "scene": {
           "xaxis": {
            "backgroundcolor": "#E5ECF6",
            "gridcolor": "white",
            "gridwidth": 2,
            "linecolor": "white",
            "showbackground": true,
            "ticks": "",
            "zerolinecolor": "white"
           },
           "yaxis": {
            "backgroundcolor": "#E5ECF6",
            "gridcolor": "white",
            "gridwidth": 2,
            "linecolor": "white",
            "showbackground": true,
            "ticks": "",
            "zerolinecolor": "white"
           },
           "zaxis": {
            "backgroundcolor": "#E5ECF6",
            "gridcolor": "white",
            "gridwidth": 2,
            "linecolor": "white",
            "showbackground": true,
            "ticks": "",
            "zerolinecolor": "white"
           }
          },
          "shapedefaults": {
           "line": {
            "color": "#2a3f5f"
           }
          },
          "ternary": {
           "aaxis": {
            "gridcolor": "white",
            "linecolor": "white",
            "ticks": ""
           },
           "baxis": {
            "gridcolor": "white",
            "linecolor": "white",
            "ticks": ""
           },
           "bgcolor": "#E5ECF6",
           "caxis": {
            "gridcolor": "white",
            "linecolor": "white",
            "ticks": ""
           }
          },
          "title": {
           "x": 0.05
          },
          "xaxis": {
           "automargin": true,
           "gridcolor": "white",
           "linecolor": "white",
           "ticks": "",
           "title": {
            "standoff": 15
           },
           "zerolinecolor": "white",
           "zerolinewidth": 2
          },
          "yaxis": {
           "automargin": true,
           "gridcolor": "white",
           "linecolor": "white",
           "ticks": "",
           "title": {
            "standoff": 15
           },
           "zerolinecolor": "white",
           "zerolinewidth": 2
          }
         }
        },
        "title": {
         "text": "IMI: Undergrads vs Dropout"
        },
        "xaxis": {
         "anchor": "y",
         "domain": [
          0,
          1
         ],
         "title": {
          "text": "IMI"
         }
        },
        "yaxis": {
         "anchor": "x",
         "domain": [
          0,
          1
         ]
        }
       }
      },
      "image/png": "[encoded data removed]"
     },
     "metadata": {},
     "output_type": "display_data"
    }
   ],
   "source": [
    "x = pd.concat([\n",
    "        finished.assign(dataset=\"Finished\"),\n",
    "        dropout.assign(dataset=\"Deactive\")])\n",
    "\n",
    "px.box(x, x='Idade', color='dataset').update_layout(title={\"text\": \"Age: Undergrads vs Dropout\"}, font=my_font).show()\n",
    "px.box(x, x='Coeficiente', color='dataset').update_layout(title={\"text\": \"GPA: Undergrads vs Dropout\"}, font=my_font).show()\n",
    "px.box(x, x='IMI', color='dataset' ).update_layout(title={\"text\": \"IMI: Undergrads vs Dropout\"}, font=my_font).show()"
   ]
  },
  {
   "cell_type": "code",
   "execution_count": 20,
   "id": "409a2a1c-c26a-4b44-a66a-5af6a6feffcb",
   "metadata": {},
   "outputs": [
    {
     "data": {
      "application/vnd.plotly.v1+json": {
       "config": {
        "plotlyServerURL": "https://plot.ly"
       },
       "data": [
        {
         "domain": {
          "x": [
           0,
           0.49
          ],
          "y": [
           0,
           1
          ]
         },
         "hole": 0.3,
         "hovertemplate": "dataset=Finished<br>Tipo ingresso=%{label}<extra></extra>",
         "labels": [
          "INGRESSO POR PROCESSO SELETIVO ENEM (SISU)",
          "INGRESSO POR TRANSFERENCIA DE REGIME",
          "INGRESSO POR PROCESSO SELETIVO ENEM (SISU)",
          "INGRESSO POR VESTIBULAR",
          "INGRESSO POR PROCESSO SELETIVO ENEM (SISU)",
          "INGRESSO POR PROCESSO SELETIVO ENEM (SISU)",
          "INGRESSO POR TRANSFERENCIA DE REGIME",
          "INGRESSO POR PROCESSO SELETIVO ENEM (SISU)",
          "INGRESSO POR VESTIBULAR",
          "INGRESSO POR PROCESSO SELETIVO ENEM (SISU)",
          "INGRESSO POR PROCESSO SELETIVO ENEM (SISU)",
          "INGRESSO POR PROCESSO SELETIVO ENEM (SISU)",
          "INGRESSO POR PROCESSO SELETIVO ENEM (SISU)",
          "INGRESSO POR PROCESSO SELETIVO ENEM (SISU)",
          "INGRESSO POR PROCESSO SELETIVO ENEM (SISU)",
          "INGRESSO POR PROCESSO SELETIVO ENEM (SISU)",
          "INGRESSO POR PROCESSO SELETIVO ENEM (SISU)",
          "INGRESSO POR PROCESSO SELETIVO ENEM (SISU)",
          "INGRESSO POR PROCESSO SELETIVO ENEM (SISU)",
          "INGRESSO POR PROCESSO SELETIVO ENEM (SISU)",
          "INGRESSO POR PROCESSO SELETIVO ENEM (SISU)",
          "INGRESSO POR PROCESSO SELETIVO ENEM (SISU)",
          "INGRESSO POR VESTIBULAR",
          "INGRESSO POR PROCESSO SELETIVO ENEM (SISU)",
          "INGRESSO POR PROCESSO SELETIVO ENEM (SISU)",
          "INGRESSO POR VESTIBULAR",
          "INGRESSO POR VESTIBULAR",
          "INGRESSO POR PROCESSO SELETIVO ENEM (SISU)",
          "INGRESSO POR PROCESSO SELETIVO ENEM (SISU)",
          "INGRESSO POR PROCESSO SELETIVO ENEM (SISU)",
          "INGRESSO POR PROCESSO SELETIVO ENEM (SISU)",
          "INGRESSO POR TRANSFERENCIA DE REGIME",
          "INGRESSO POR PROCESSO SELETIVO ENEM (SISU)",
          "INGRESSO POR PROCESSO SELETIVO ENEM (SISU)",
          "INGRESSO POR PROCESSO SELETIVO ENEM (SISU)",
          "INGRESSO POR PROCESSO SELETIVO ENEM (SISU)",
          "INGRESSO POR PROCESSO SELETIVO ENEM (SISU)",
          "INGRESSO POR VESTIBULAR",
          "INGRESSO POR PROCESSO SELETIVO ENEM (SISU)",
          "INGRESSO POR PROCESSO SELETIVO ENEM (SISU)",
          "INGRESSO POR PROCESSO SELETIVO ENEM (SISU)",
          "INGRESSO POR PROCESSO SELETIVO ENEM (SISU)",
          "INGRESSO POR PROCESSO SELETIVO ENEM (SISU)",
          "INGRESSO POR PROCESSO SELETIVO ENEM (SISU)",
          "INGRESSO POR VESTIBULAR",
          "INGRESSO POR TRANSFERENCIA DE REGIME",
          "INGRESSO POR PROCESSO SELETIVO ENEM (SISU)",
          "INGRESSO POR PROCESSO SELETIVO ENEM (SISU)",
          "INGRESSO POR VESTIBULAR",
          "INGRESSO POR PROCESSO SELETIVO ENEM (SISU)",
          "INGRESSO POR PROCESSO SELETIVO ENEM (SISU)",
          "INGRESSO POR TRANSFERENCIA DE REGIME",
          "INGRESSO POR TRANSFERENCIA DE REGIME",
          "INGRESSO POR PROCESSO SELETIVO ENEM (SISU)",
          "INGRESSO POR PROCESSO SELETIVO ENEM (SISU)",
          "INGRESSO POR PROCESSO SELETIVO ENEM (SISU)",
          "INGRESSO POR PROCESSO SELETIVO ENEM (SISU)",
          "INGRESSO POR PROCESSO SELETIVO ENEM (SISU)",
          "INGRESSO POR PROCESSO SELETIVO ENEM (SISU)",
          "INGRESSO POR VESTIBULAR",
          "INGRESSO POR PROCESSO SELETIVO ENEM (SISU)",
          "INGRESSO POR PROCESSO SELETIVO ENEM (SISU)",
          "INGRESSO POR TRANSFERENCIA DE REGIME",
          "INGRESSO POR VESTIBULAR",
          "INGRESSO POR PROCESSO SELETIVO ENEM (SISU)",
          "INGRESSO POR PROCESSO SELETIVO ENEM (SISU)",
          "INGRESSO POR TRANSFERENCIA DE REGIME",
          "INGRESSO POR PROCESSO SELETIVO ENEM (SISU)",
          "INGRESSO POR PROCESSO SELETIVO ENEM (SISU)",
          "INGRESSO POR PROCESSO SELETIVO ENEM (SISU)",
          "INGRESSO POR PROCESSO SELETIVO ENEM (SISU)",
          "INGRESSO POR PROCESSO SELETIVO ENEM (SISU)",
          "INGRESSO POR PROCESSO SELETIVO ENEM (SISU)",
          "INGRESSO POR PROCESSO SELETIVO ENEM (SISU)",
          "INGRESSO POR PROCESSO SELETIVO ENEM (SISU)",
          "INGRESSO POR PROCESSO SELETIVO ENEM (SISU)",
          "INGRESSO POR PROCESSO SELETIVO ENEM (SISU)",
          "INGRESSO POR PROCESSO SELETIVO ENEM (SISU)",
          "INGRESSO POR PROCESSO SELETIVO ENEM (SISU)",
          "INGRESSO POR PROCESSO SELETIVO ENEM (SISU)",
          "INGRESSO POR PROCESSO SELETIVO ENEM (SISU)",
          "INGRESSO POR VESTIBULAR",
          "INGRESSO POR VESTIBULAR",
          "INGRESSO POR PROCESSO SELETIVO ENEM (SISU)",
          "INGRESSO POR PROCESSO SELETIVO ENEM (SISU)",
          "INGRESSO POR TRANSFERENCIA DE REGIME",
          "INGRESSO POR PROCESSO SELETIVO ENEM (SISU)",
          "INGRESSO POR PROCESSO SELETIVO ENEM (SISU)",
          "INGRESSO POR PROCESSO SELETIVO ENEM (SISU)",
          "INGRESSO POR PROCESSO SELETIVO ENEM (SISU)",
          "INGRESSO POR VESTIBULAR",
          "INGRESSO POR PROCESSO SELETIVO ENEM (SISU)",
          "INGRESSO POR TRANSFERENCIA DE REGIME",
          "INGRESSO POR PROCESSO SELETIVO ENEM (SISU)",
          "INGRESSO POR VESTIBULAR",
          "INGRESSO POR PROCESSO SELETIVO ENEM (SISU)",
          "INGRESSO POR TRANSFERENCIA DE REGIME",
          "INGRESSO POR PROCESSO SELETIVO ENEM (SISU)",
          "INGRESSO POR PROCESSO SELETIVO ENEM (SISU)",
          "INGRESSO POR PROCESSO SELETIVO ENEM (SISU)",
          "INGRESSO POR TRANSFERENCIA DE REGIME",
          "INGRESSO POR TRANSFERENCIA DE REGIME",
          "INGRESSO POR PROCESSO SELETIVO ENEM (SISU)",
          "INGRESSO POR TRANSFERENCIA DE REGIME",
          "INGRESSO POR PROCESSO SELETIVO ENEM (SISU)",
          "INGRESSO POR PROCESSO SELETIVO ENEM (SISU)",
          "INGRESSO POR PROCESSO SELETIVO ENEM (SISU)",
          "INGRESSO POR PROCESSO SELETIVO ENEM (SISU)",
          "INGRESSO POR PROCESSO SELETIVO ENEM (SISU)",
          "INGRESSO POR PROCESSO SELETIVO ENEM (SISU)",
          "INGRESSO POR PROCESSO SELETIVO ENEM (SISU)"
         ],
         "legendgroup": "",
         "name": "",
         "showlegend": true,
         "type": "pie"
        },
        {
         "domain": {
          "x": [
           0.51,
           1
          ],
          "y": [
           0,
           1
          ]
         },
         "hole": 0.3,
         "hovertemplate": "dataset=Deactive<br>Tipo ingresso=%{label}<extra></extra>",
         "labels": [
          "INGRESSO POR PROCESSO SELETIVO ENEM (SISU)",
          "INGRESSO POR PROCESSO SELETIVO ENEM (SISU)",
          "INGRESSO POR PROCESSO SELETIVO ENEM (SISU)",
          "INGRESSO POR PROCESSO SELETIVO ENEM (SISU)",
          "INGRESSO POR PROCESSO SELETIVO ENEM (SISU)",
          "INGRESSO POR PROCESSO SELETIVO ENEM (SISU)",
          "INGRESSO POR PROCESSO SELETIVO ENEM (SISU)",
          "INGRESSO POR PROCESSO SELETIVO ENEM (SISU)",
          "INGRESSO POR VESTIBULAR",
          "INGRESSO POR CURSO SUPERIOR",
          "INGRESSO POR PROCESSO SELETIVO ENEM (SISU)",
          "INGRESSO POR PROCESSO SELETIVO ENEM (SISU)",
          "INGRESSO POR PROCESSO SELETIVO ENEM (SISU)",
          "INGRESSO POR PROCESSO SELETIVO ENEM (SISU)",
          "INGRESSO POR VESTIBULAR",
          "INGRESSO POR PROCESSO SELETIVO ENEM (SISU)",
          "INGRESSO POR PROCESSO SELETIVO ENEM (SISU)",
          "INGRESSO POR PROCESSO SELETIVO ENEM (SISU)",
          "INGRESSO POR VESTIBULAR",
          "INGRESSO POR PROCESSO SELETIVO ENEM (SISU)",
          "INGRESSO POR PROCESSO SELETIVO ENEM (SISU)",
          "INGRESSO POR PROCESSO SELETIVO ENEM (SISU)",
          "INGRESSO POR VESTIBULAR",
          "INGRESSO POR PROCESSO SELETIVO ENEM (SISU)",
          "INGRESSO POR TRANSFERENCIA DE REGIME",
          "INGRESSO POR PROCESSO SELETIVO ENEM (SISU)",
          "INGRESSO POR CURSO SUPERIOR",
          "INGRESSO POR PROCESSO SELETIVO ENEM (SISU)",
          "INGRESSO POR PROCESSO SELETIVO ENEM (SISU)",
          "INGRESSO POR PROCESSO SELETIVO ENEM (SISU)",
          "INGRESSO POR PROCESSO SELETIVO ENEM (SISU)",
          "INGRESSO POR PROCESSO SELETIVO ENEM (SISU)",
          "INGRESSO POR PROCESSO SELETIVO ENEM (SISU)",
          "INGRESSO POR PROCESSO SELETIVO ENEM (SISU)",
          "INGRESSO POR PROCESSO SELETIVO ENEM (SISU)",
          "INGRESSO POR PROCESSO SELETIVO ENEM (SISU)",
          "INGRESSO POR PROCESSO SELETIVO ENEM (SISU)",
          "INGRESSO POR PROCESSO SELETIVO ENEM (SISU)",
          "INGRESSO POR PROCESSO SELETIVO ENEM (SISU)",
          "INGRESSO POR PROCESSO SELETIVO ENEM (SISU)",
          "INGRESSO POR PROCESSO SELETIVO ENEM (SISU)",
          "INGRESSO POR PROCESSO SELETIVO ENEM (SISU)",
          "INGRESSO POR VESTIBULAR",
          "INGRESSO POR TRANSFERENCIA DE REGIME",
          "INGRESSO POR PROCESSO SELETIVO ENEM (SISU)",
          "INGRESSO POR PROCESSO SELETIVO ENEM (SISU)",
          "INGRESSO POR PROCESSO SELETIVO ENEM (SISU)",
          "INGRESSO POR VESTIBULAR",
          "INGRESSO POR PROCESSO SELETIVO ENEM (SISU)",
          "INGRESSO POR PROCESSO SELETIVO ENEM (SISU)",
          "INGRESSO POR PROCESSO SELETIVO ENEM (SISU)",
          "INGRESSO POR PROCESSO SELETIVO ENEM (SISU)",
          "INGRESSO POR PROCESSO SELETIVO ENEM (SISU)",
          "INGRESSO POR PROCESSO SELETIVO ENEM (SISU)",
          "INGRESSO POR PROCESSO SELETIVO ENEM (SISU)",
          "INGRESSO POR PROCESSO SELETIVO ENEM (SISU)",
          "INGRESSO POR PROCESSO SELETIVO ENEM (SISU)",
          "INGRESSO POR PROCESSO SELETIVO ENEM (SISU)",
          "INGRESSO POR PROCESSO SELETIVO ENEM (SISU)",
          "INGRESSO POR PROCESSO SELETIVO ENEM (SISU)",
          "INGRESSO POR VESTIBULAR",
          "INGRESSO POR PROCESSO SELETIVO ENEM (SISU)",
          "INGRESSO POR TRANSFERENCIA DE REGIME",
          "INGRESSO POR TRANSFERENCIA DE REGIME",
          "INGRESSO POR PROCESSO SELETIVO ENEM (SISU)",
          "INGRESSO POR TRANSFERENCIA FACULTATIVA",
          "INGRESSO POR PROCESSO SELETIVO ENEM (SISU)",
          "INGRESSO POR PROCESSO SELETIVO ENEM (SISU)",
          "INGRESSO POR PROCESSO SELETIVO ENEM (SISU)",
          "INGRESSO POR PROCESSO SELETIVO ENEM (SISU)",
          "INGRESSO POR PROCESSO SELETIVO ENEM (SISU)",
          "INGRESSO POR PROCESSO SELETIVO ENEM (SISU)",
          "INGRESSO POR PROCESSO SELETIVO ENEM (SISU)",
          "INGRESSO POR TRANSFERENCIA DE REGIME",
          "INGRESSO POR PROCESSO SELETIVO ENEM (SISU)",
          "INGRESSO POR VESTIBULAR",
          "INGRESSO POR PROCESSO SELETIVO ENEM (SISU)",
          "INGRESSO POR PROCESSO SELETIVO ENEM (SISU)",
          "INGRESSO POR PROCESSO SELETIVO ENEM (SISU)",
          "INGRESSO POR TRANSFERENCIA DE REGIME",
          "INGRESSO POR PROCESSO SELETIVO ENEM (SISU)",
          "INGRESSO POR PROCESSO SELETIVO ENEM (SISU)",
          "INGRESSO POR PROCESSO SELETIVO ENEM (SISU)",
          "INGRESSO POR PROCESSO SELETIVO ENEM (SISU)",
          "INGRESSO POR PROCESSO SELETIVO ENEM (SISU)",
          "INGRESSO POR PROCESSO SELETIVO ENEM (SISU)",
          "INGRESSO POR PROCESSO SELETIVO ENEM (SISU)",
          "INGRESSO POR TRANSFERENCIA DE REGIME",
          "INGRESSO POR PROCESSO SELETIVO ENEM (SISU)",
          "INGRESSO POR PROCESSO SELETIVO ENEM (SISU)",
          "INGRESSO POR PROCESSO SELETIVO ENEM (SISU)",
          "INGRESSO POR PROCESSO SELETIVO ENEM (SISU)",
          "INGRESSO POR PROCESSO SELETIVO ENEM (SISU)",
          "INGRESSO POR PROCESSO SELETIVO ENEM (SISU)",
          "INGRESSO POR PROCESSO SELETIVO ENEM (SISU)",
          "INGRESSO POR VESTIBULAR",
          "INGRESSO POR PROCESSO SELETIVO ENEM (SISU)",
          "INGRESSO POR PROCESSO SELETIVO ENEM (SISU)",
          "INGRESSO POR PROCESSO SELETIVO ENEM (SISU)",
          "INGRESSO POR PROCESSO SELETIVO ENEM (SISU)",
          "INGRESSO POR PROCESSO SELETIVO ENEM (SISU)",
          "INGRESSO POR PROCESSO SELETIVO ENEM (SISU)",
          "INGRESSO POR PROCESSO SELETIVO ENEM (SISU)",
          "INGRESSO POR PROCESSO SELETIVO ENEM (SISU)",
          "INGRESSO POR PROCESSO SELETIVO ENEM (SISU)",
          "INGRESSO POR PROCESSO SELETIVO ENEM (SISU)",
          "INGRESSO POR PROCESSO SELETIVO ENEM (SISU)",
          "INGRESSO POR PROCESSO SELETIVO ENEM (SISU)",
          "INGRESSO POR PROCESSO SELETIVO ENEM (SISU)",
          "INGRESSO POR PROCESSO SELETIVO ENEM (SISU)",
          "INGRESSO POR PROCESSO SELETIVO ENEM (SISU)",
          "INGRESSO POR PROCESSO SELETIVO ENEM (SISU)",
          "INGRESSO POR CURSO SUPERIOR",
          "INGRESSO POR PROCESSO SELETIVO ENEM (SISU)",
          "INGRESSO POR PROCESSO SELETIVO ENEM (SISU)",
          "INGRESSO POR PROCESSO SELETIVO ENEM (SISU)",
          "INGRESSO POR TRANSFERENCIA FACULTATIVA",
          "INGRESSO POR PROCESSO SELETIVO ENEM (SISU)",
          "INGRESSO POR PROCESSO SELETIVO ENEM (SISU)",
          "INGRESSO POR PROCESSO SELETIVO ENEM (SISU)",
          "INGRESSO POR PROCESSO SELETIVO ENEM (SISU)",
          "INGRESSO POR PROCESSO SELETIVO ENEM (SISU)",
          "INGRESSO POR PROCESSO SELETIVO ENEM (SISU)",
          "INGRESSO POR VESTIBULAR",
          "INGRESSO POR PROCESSO SELETIVO ENEM (SISU)",
          "INGRESSO POR PROCESSO SELETIVO ENEM (SISU)",
          "INGRESSO POR PROCESSO SELETIVO ENEM (SISU)",
          "INGRESSO POR PROCESSO SELETIVO ENEM (SISU)",
          "INGRESSO POR PROCESSO SELETIVO ENEM (SISU)",
          "INGRESSO POR PROCESSO SELETIVO ENEM (SISU)",
          "INGRESSO POR PROCESSO SELETIVO ENEM (SISU)",
          "INGRESSO POR PROCESSO SELETIVO ENEM (SISU)",
          "INGRESSO POR PROCESSO SELETIVO ENEM (SISU)",
          "INGRESSO POR PROCESSO SELETIVO ENEM (SISU)",
          "INGRESSO POR PROCESSO SELETIVO ENEM (SISU)",
          "INGRESSO POR PROCESSO SELETIVO ENEM (SISU)",
          "INGRESSO POR PROCESSO SELETIVO ENEM (SISU)",
          "INGRESSO POR PROCESSO SELETIVO ENEM (SISU)",
          "INGRESSO POR PROCESSO SELETIVO ENEM (SISU)",
          "INGRESSO POR CURSO SUPERIOR",
          "INGRESSO POR PROCESSO SELETIVO ENEM (SISU)",
          "INGRESSO POR PROCESSO SELETIVO ENEM (SISU)",
          "INGRESSO POR VESTIBULAR",
          "INGRESSO POR PROCESSO SELETIVO ENEM (SISU)",
          "INGRESSO POR VESTIBULAR",
          "INGRESSO POR PROCESSO SELETIVO ENEM (SISU)",
          "INGRESSO POR PROCESSO SELETIVO ENEM (SISU)",
          "INGRESSO POR TRANSFERENCIA DE REGIME",
          "INGRESSO POR PROCESSO SELETIVO ENEM (SISU)",
          "INGRESSO POR PROCESSO SELETIVO ENEM (SISU)",
          "INGRESSO POR PROCESSO SELETIVO ENEM (SISU)",
          "INGRESSO POR PROCESSO SELETIVO ENEM (SISU)",
          "INGRESSO POR PROCESSO SELETIVO ENEM (SISU)",
          "INGRESSO POR PROCESSO SELETIVO ENEM (SISU)",
          "INGRESSO POR PROCESSO SELETIVO ENEM (SISU)",
          "INGRESSO POR VESTIBULAR",
          "INGRESSO POR PROCESSO SELETIVO ENEM (SISU)",
          "INGRESSO POR PROCESSO SELETIVO ENEM (SISU)",
          "INGRESSO POR PROCESSO SELETIVO ENEM (SISU)",
          "INGRESSO POR PROCESSO SELETIVO ENEM (SISU)",
          "INGRESSO POR PROCESSO SELETIVO ENEM (SISU)",
          "INGRESSO POR PROCESSO SELETIVO ENEM (SISU)",
          "INGRESSO POR PROCESSO SELETIVO ENEM (SISU)",
          "INGRESSO POR PROCESSO SELETIVO ENEM (SISU)",
          "INGRESSO POR PROCESSO SELETIVO ENEM (SISU)",
          "INGRESSO POR PROCESSO SELETIVO ENEM (SISU)",
          "INGRESSO POR PROCESSO SELETIVO ENEM (SISU)",
          "INGRESSO POR PROCESSO SELETIVO ENEM (SISU)",
          "INGRESSO POR PROCESSO SELETIVO ENEM (SISU)",
          "INGRESSO POR PROCESSO SELETIVO ENEM (SISU)",
          "INGRESSO POR VESTIBULAR",
          "INGRESSO POR PROCESSO SELETIVO ENEM (SISU)",
          "INGRESSO POR PROCESSO SELETIVO ENEM (SISU)",
          "INGRESSO POR PROCESSO SELETIVO ENEM (SISU)",
          "INGRESSO POR VESTIBULAR",
          "INGRESSO POR VESTIBULAR",
          "INGRESSO POR PROCESSO SELETIVO ENEM (SISU)",
          "INGRESSO POR PROCESSO SELETIVO ENEM (SISU)",
          "INGRESSO POR PROCESSO SELETIVO ENEM (SISU)",
          "INGRESSO POR PROCESSO SELETIVO ENEM (SISU)",
          "INGRESSO POR PROCESSO SELETIVO ENEM (SISU)",
          "INGRESSO POR PROCESSO SELETIVO ENEM (SISU)",
          "INGRESSO POR PROCESSO SELETIVO ENEM (SISU)",
          "INGRESSO POR PROCESSO SELETIVO ENEM (SISU)",
          "INGRESSO POR PROCESSO SELETIVO ENEM (SISU)",
          "INGRESSO POR TRANSFERENCIA COMPULSORIA",
          "INGRESSO POR PROCESSO SELETIVO ENEM (SISU)",
          "INGRESSO POR PROCESSO SELETIVO ENEM (SISU)",
          "INGRESSO POR PROCESSO SELETIVO ENEM (SISU)",
          "INGRESSO POR PROCESSO SELETIVO ENEM (SISU)",
          "INGRESSO POR PROCESSO SELETIVO ENEM (SISU)",
          "INGRESSO POR VESTIBULAR",
          "INGRESSO POR PROCESSO SELETIVO ENEM (SISU)",
          "INGRESSO POR PROCESSO SELETIVO ENEM (SISU)",
          "INGRESSO POR PROCESSO SELETIVO ENEM (SISU)",
          "INGRESSO POR VESTIBULAR",
          "INGRESSO POR PROCESSO SELETIVO ENEM (SISU)",
          "INGRESSO POR PROCESSO SELETIVO ENEM (SISU)",
          "INGRESSO POR PROCESSO SELETIVO ENEM (SISU)",
          "INGRESSO POR PROCESSO SELETIVO ENEM (SISU)",
          "INGRESSO POR PROCESSO SELETIVO ENEM (SISU)",
          "INGRESSO POR PROCESSO SELETIVO ENEM (SISU)",
          "INGRESSO POR PROCESSO SELETIVO ENEM (SISU)",
          "INGRESSO POR PROCESSO SELETIVO ENEM (SISU)",
          "INGRESSO POR PROCESSO SELETIVO ENEM (SISU)",
          "INGRESSO POR PROCESSO SELETIVO ENEM (SISU)",
          "INGRESSO POR PROCESSO SELETIVO ENEM (SISU)",
          "INGRESSO POR PROCESSO SELETIVO ENEM (SISU)",
          "INGRESSO POR PROCESSO SELETIVO ENEM (SISU)",
          "INGRESSO POR PROCESSO SELETIVO ENEM (SISU)",
          "INGRESSO POR VESTIBULAR",
          "INGRESSO POR PROCESSO SELETIVO ENEM (SISU)",
          "INGRESSO POR PROCESSO SELETIVO ENEM (SISU)",
          "INGRESSO POR PROCESSO SELETIVO ENEM (SISU)",
          "INGRESSO POR PROCESSO SELETIVO ENEM (SISU)",
          "INGRESSO POR TRANSFERENCIA DE REGIME",
          "INGRESSO POR PROCESSO SELETIVO ENEM (SISU)",
          "INGRESSO POR TRANSFERENCIA DE REGIME",
          "INGRESSO POR PROCESSO SELETIVO ENEM (SISU)",
          "INGRESSO POR PROCESSO SELETIVO ENEM (SISU)",
          "INGRESSO POR PROCESSO SELETIVO ENEM (SISU)",
          "INGRESSO POR PROCESSO SELETIVO ENEM (SISU)",
          "INGRESSO POR PROCESSO SELETIVO ENEM (SISU)",
          "INGRESSO POR PROCESSO SELETIVO ENEM (SISU)",
          "INGRESSO POR PROCESSO SELETIVO ENEM (SISU)",
          "INGRESSO POR PROCESSO SELETIVO ENEM (SISU)",
          "INGRESSO POR PROCESSO SELETIVO ENEM (SISU)",
          "INGRESSO POR VESTIBULAR",
          "INGRESSO POR PROCESSO SELETIVO ENEM (SISU)",
          "INGRESSO POR PROCESSO SELETIVO ENEM (SISU)",
          "INGRESSO POR PROCESSO SELETIVO ENEM (SISU)",
          "INGRESSO POR PROCESSO SELETIVO ENEM (SISU)",
          "INGRESSO POR PROCESSO SELETIVO ENEM (SISU)",
          "INGRESSO POR PROCESSO SELETIVO ENEM (SISU)",
          "INGRESSO POR PROCESSO SELETIVO ENEM (SISU)",
          "INGRESSO POR PROCESSO SELETIVO ENEM (SISU)",
          "INGRESSO POR CURSO SUPERIOR",
          "INGRESSO POR PROCESSO SELETIVO ENEM (SISU)",
          "INGRESSO POR PROCESSO SELETIVO ENEM (SISU)",
          "INGRESSO POR PROCESSO SELETIVO ENEM (SISU)",
          "INGRESSO POR PROCESSO SELETIVO ENEM (SISU)",
          "INGRESSO POR PROCESSO SELETIVO ENEM (SISU)",
          "INGRESSO POR PROCESSO SELETIVO ENEM (SISU)",
          "INGRESSO POR PROCESSO SELETIVO ESPECÍFICO",
          "INGRESSO POR PROCESSO SELETIVO ENEM (SISU)",
          "INGRESSO POR PROCESSO SELETIVO ENEM (SISU)",
          "INGRESSO POR PROCESSO SELETIVO ENEM (SISU)",
          "INGRESSO POR VESTIBULAR",
          "INGRESSO POR PROCESSO SELETIVO ENEM (SISU)",
          "INGRESSO POR PROCESSO SELETIVO ENEM (SISU)",
          "INGRESSO POR PROCESSO SELETIVO ENEM (SISU)",
          "INGRESSO POR PROCESSO SELETIVO ENEM (SISU)",
          "INGRESSO POR PROCESSO SELETIVO ENEM (SISU)",
          "INGRESSO POR PROCESSO SELETIVO ENEM (SISU)",
          "INGRESSO POR TRANSFERENCIA FACULTATIVA",
          "INGRESSO POR PROCESSO SELETIVO ENEM (SISU)",
          "INGRESSO POR PROCESSO SELETIVO ENEM (SISU)",
          "INGRESSO POR PROCESSO SELETIVO ENEM (SISU)",
          "INGRESSO POR PROCESSO SELETIVO ENEM (SISU)",
          "INGRESSO POR PROCESSO SELETIVO ENEM (SISU)",
          "INGRESSO POR PROCESSO SELETIVO ENEM (SISU)",
          "INGRESSO POR PROCESSO SELETIVO ENEM (SISU)",
          "INGRESSO POR VESTIBULAR",
          "INGRESSO POR PROCESSO SELETIVO ENEM (SISU)",
          "INGRESSO POR PROCESSO SELETIVO ENEM (SISU)",
          "INGRESSO POR CURSO SUPERIOR",
          "INGRESSO POR VESTIBULAR",
          "INGRESSO POR TRANSFERENCIA FACULTATIVA",
          "INGRESSO POR PROCESSO SELETIVO ENEM (SISU)",
          "INGRESSO POR PROCESSO SELETIVO ENEM (SISU)",
          "INGRESSO POR PROCESSO SELETIVO ENEM (SISU)",
          "INGRESSO POR PROCESSO SELETIVO ENEM (SISU)",
          "INGRESSO POR PROCESSO SELETIVO ENEM (SISU)",
          "INGRESSO POR PROCESSO SELETIVO ENEM (SISU)",
          "INGRESSO POR PROCESSO SELETIVO ENEM (SISU)",
          "INGRESSO POR PROCESSO SELETIVO ENEM (SISU)",
          "INGRESSO POR PROCESSO SELETIVO ENEM (SISU)",
          "INGRESSO POR PROCESSO SELETIVO ENEM (SISU)",
          "INGRESSO POR VESTIBULAR",
          "INGRESSO POR TRANSFERENCIA DE REGIME",
          "INGRESSO POR PROCESSO SELETIVO ENEM (SISU)",
          "INGRESSO POR PROCESSO SELETIVO ENEM (SISU)",
          "INGRESSO POR PROCESSO SELETIVO ENEM (SISU)",
          "INGRESSO POR PROCESSO SELETIVO ENEM (SISU)",
          "INGRESSO POR PROCESSO SELETIVO ENEM (SISU)",
          "INGRESSO POR PROCESSO SELETIVO ENEM (SISU)",
          "INGRESSO POR PROCESSO SELETIVO ENEM (SISU)",
          "INGRESSO POR PROCESSO SELETIVO ENEM (SISU)",
          "INGRESSO POR PROCESSO SELETIVO ENEM (SISU)",
          "INGRESSO POR PROCESSO SELETIVO ESPECÍFICO",
          "INGRESSO POR PROCESSO SELETIVO ENEM (SISU)",
          "INGRESSO POR PROCESSO SELETIVO ENEM (SISU)",
          "INGRESSO POR TRANSFERENCIA DE REGIME",
          "INGRESSO POR CURSO SUPERIOR",
          "INGRESSO POR PROCESSO SELETIVO ENEM (SISU)",
          "INGRESSO POR PROCESSO SELETIVO ENEM (SISU)",
          "INGRESSO POR VESTIBULAR",
          "INGRESSO POR PROCESSO SELETIVO ENEM (SISU)",
          "INGRESSO POR PROCESSO SELETIVO ENEM (SISU)",
          "INGRESSO POR PROCESSO SELETIVO ENEM (SISU)",
          "INGRESSO POR PROCESSO SELETIVO ENEM (SISU)",
          "INGRESSO POR VESTIBULAR",
          "INGRESSO POR PROCESSO SELETIVO ENEM (SISU)",
          "INGRESSO POR PROCESSO SELETIVO ENEM (SISU)",
          "INGRESSO POR PROCESSO SELETIVO ENEM (SISU)",
          "INGRESSO POR PROCESSO SELETIVO ENEM (SISU)",
          "INGRESSO POR VESTIBULAR",
          "INGRESSO POR PROCESSO SELETIVO ENEM (SISU)",
          "INGRESSO POR PROCESSO SELETIVO ENEM (SISU)",
          "INGRESSO POR PROCESSO SELETIVO ENEM (SISU)",
          "INGRESSO POR PROCESSO SELETIVO ENEM (SISU)",
          "INGRESSO POR PROCESSO SELETIVO ENEM (SISU)",
          "INGRESSO POR PROCESSO SELETIVO ENEM (SISU)",
          "INGRESSO POR PROCESSO SELETIVO ENEM (SISU)",
          "INGRESSO POR VESTIBULAR",
          "INGRESSO POR PROCESSO SELETIVO ENEM (SISU)",
          "INGRESSO POR PROCESSO SELETIVO ENEM (SISU)",
          "INGRESSO POR PROCESSO SELETIVO ENEM (SISU)",
          "INGRESSO POR TRANSFERENCIA DE REGIME",
          "INGRESSO POR PROCESSO SELETIVO ENEM (SISU)",
          "INGRESSO POR PROCESSO SELETIVO ENEM (SISU)",
          "INGRESSO POR TRANSFERENCIA DE REGIME",
          "INGRESSO POR CURSO SUPERIOR",
          "INGRESSO POR CURSO SUPERIOR",
          "INGRESSO POR PROCESSO SELETIVO ENEM (SISU)",
          "INGRESSO POR VESTIBULAR",
          "INGRESSO POR VESTIBULAR",
          "INGRESSO POR PROCESSO SELETIVO ENEM (SISU)",
          "INGRESSO POR PROCESSO SELETIVO ENEM (SISU)",
          "INGRESSO POR PROCESSO SELETIVO ENEM (SISU)",
          "INGRESSO POR PROCESSO SELETIVO ENEM (SISU)",
          "INGRESSO POR PROCESSO SELETIVO ENEM (SISU)",
          "INGRESSO POR PROCESSO SELETIVO ENEM (SISU)",
          "INGRESSO POR PROCESSO SELETIVO ENEM (SISU)",
          "INGRESSO POR PROCESSO SELETIVO ENEM (SISU)",
          "INGRESSO POR PROCESSO SELETIVO ENEM (SISU)",
          "INGRESSO POR PROCESSO SELETIVO ENEM (SISU)",
          "INGRESSO POR PROCESSO SELETIVO ENEM (SISU)",
          "INGRESSO POR PROCESSO SELETIVO ENEM (SISU)",
          "INGRESSO POR PROCESSO SELETIVO ENEM (SISU)",
          "INGRESSO POR PROCESSO SELETIVO ENEM (SISU)",
          "INGRESSO POR TRANSFERENCIA DE REGIME",
          "INGRESSO POR PROCESSO SELETIVO ESPECÍFICO",
          "INGRESSO POR PROCESSO SELETIVO ENEM (SISU)",
          "INGRESSO POR PROCESSO SELETIVO ENEM (SISU)",
          "INGRESSO POR PROCESSO SELETIVO ENEM (SISU)",
          "INGRESSO POR PROCESSO SELETIVO ENEM (SISU)",
          "INGRESSO POR VESTIBULAR",
          "INGRESSO POR TRANSFERENCIA FACULTATIVA",
          "INGRESSO POR PROCESSO SELETIVO ENEM (SISU)",
          "INGRESSO POR PROCESSO SELETIVO ENEM (SISU)",
          "INGRESSO POR PROCESSO SELETIVO ENEM (SISU)",
          "INGRESSO POR PROCESSO SELETIVO ENEM (SISU)",
          "INGRESSO POR PROCESSO SELETIVO ENEM (SISU)",
          "INGRESSO POR TRANSFERENCIA FACULTATIVA",
          "INGRESSO POR TRANSFERENCIA DE REGIME",
          "INGRESSO POR PROCESSO SELETIVO ENEM (SISU)",
          "INGRESSO POR VESTIBULAR",
          "INGRESSO POR TRANSFERENCIA DE REGIME",
          "INGRESSO POR PROCESSO SELETIVO ENEM (SISU)",
          "INGRESSO POR PROCESSO SELETIVO ENEM (SISU)",
          "INGRESSO POR PROCESSO SELETIVO ENEM (SISU)",
          "INGRESSO POR TRANSFERENCIA DE REGIME",
          "INGRESSO POR PROCESSO SELETIVO ENEM (SISU)",
          "INGRESSO POR PROCESSO SELETIVO ENEM (SISU)",
          "INGRESSO POR VESTIBULAR",
          "INGRESSO POR PROCESSO SELETIVO ENEM (SISU)",
          "INGRESSO POR PROCESSO SELETIVO ENEM (SISU)",
          "INGRESSO POR PROCESSO SELETIVO ENEM (SISU)",
          "INGRESSO POR PROCESSO SELETIVO ENEM (SISU)",
          "INGRESSO POR PROCESSO SELETIVO ENEM (SISU)",
          "INGRESSO POR VESTIBULAR",
          "INGRESSO POR PROCESSO SELETIVO ENEM (SISU)",
          "INGRESSO POR PROCESSO SELETIVO ENEM (SISU)",
          "INGRESSO POR PROCESSO SELETIVO ENEM (SISU)",
          "INGRESSO POR PROCESSO SELETIVO ENEM (SISU)",
          "INGRESSO POR PROCESSO SELETIVO ENEM (SISU)",
          "INGRESSO POR PROCESSO SELETIVO ENEM (SISU)",
          "INGRESSO POR PROCESSO SELETIVO ENEM (SISU)",
          "INGRESSO POR PROCESSO SELETIVO ENEM (SISU)",
          "INGRESSO POR TRANSFERENCIA DE REGIME",
          "INGRESSO POR PROCESSO SELETIVO ENEM (SISU)",
          "INGRESSO POR PROCESSO SELETIVO ENEM (SISU)",
          "INGRESSO POR PROCESSO SELETIVO ENEM (SISU)",
          "INGRESSO POR PROCESSO SELETIVO ENEM (SISU)",
          "INGRESSO POR PROCESSO SELETIVO ENEM (SISU)",
          "INGRESSO POR PROCESSO SELETIVO ENEM (SISU)"
         ],
         "legendgroup": "",
         "name": "",
         "showlegend": true,
         "type": "pie"
        }
       ],
       "layout": {
        "annotations": [
         {
          "font": {},
          "showarrow": false,
          "text": "dataset=Finished",
          "x": 0.245,
          "xanchor": "center",
          "xref": "paper",
          "y": 1,
          "yanchor": "bottom",
          "yref": "paper"
         },
         {
          "font": {},
          "showarrow": false,
          "text": "dataset=Deactive",
          "x": 0.755,
          "xanchor": "center",
          "xref": "paper",
          "y": 1,
          "yanchor": "bottom",
          "yref": "paper"
         }
        ],
        "font": {
         "color": "Black",
         "family": "Courier New, monospace",
         "size": 18,
         "variant": "small-caps"
        },
        "legend": {
         "tracegroupgap": 0
        },
        "margin": {
         "t": 60
        },
        "template": {
         "data": {
          "bar": [
           {
            "error_x": {
             "color": "#2a3f5f"
            },
            "error_y": {
             "color": "#2a3f5f"
            },
            "marker": {
             "line": {
              "color": "#E5ECF6",
              "width": 0.5
             },
             "pattern": {
              "fillmode": "overlay",
              "size": 10,
              "solidity": 0.2
             }
            },
            "type": "bar"
           }
          ],
          "barpolar": [
           {
            "marker": {
             "line": {
              "color": "#E5ECF6",
              "width": 0.5
             },
             "pattern": {
              "fillmode": "overlay",
              "size": 10,
              "solidity": 0.2
             }
            },
            "type": "barpolar"
           }
          ],
          "carpet": [
           {
            "aaxis": {
             "endlinecolor": "#2a3f5f",
             "gridcolor": "white",
             "linecolor": "white",
             "minorgridcolor": "white",
             "startlinecolor": "#2a3f5f"
            },
            "baxis": {
             "endlinecolor": "#2a3f5f",
             "gridcolor": "white",
             "linecolor": "white",
             "minorgridcolor": "white",
             "startlinecolor": "#2a3f5f"
            },
            "type": "carpet"
           }
          ],
          "choropleth": [
           {
            "colorbar": {
             "outlinewidth": 0,
             "ticks": ""
            },
            "type": "choropleth"
           }
          ],
          "contour": [
           {
            "colorbar": {
             "outlinewidth": 0,
             "ticks": ""
            },
            "colorscale": [
             [
              0,
              "#0d0887"
             ],
             [
              0.1111111111111111,
              "#46039f"
             ],
             [
              0.2222222222222222,
              "#7201a8"
             ],
             [
              0.3333333333333333,
              "#9c179e"
             ],
             [
              0.4444444444444444,
              "#bd3786"
             ],
             [
              0.5555555555555556,
              "#d8576b"
             ],
             [
              0.6666666666666666,
              "#ed7953"
             ],
             [
              0.7777777777777778,
              "#fb9f3a"
             ],
             [
              0.8888888888888888,
              "#fdca26"
             ],
             [
              1,
              "#f0f921"
             ]
            ],
            "type": "contour"
           }
          ],
          "contourcarpet": [
           {
            "colorbar": {
             "outlinewidth": 0,
             "ticks": ""
            },
            "type": "contourcarpet"
           }
          ],
          "heatmap": [
           {
            "colorbar": {
             "outlinewidth": 0,
             "ticks": ""
            },
            "colorscale": [
             [
              0,
              "#0d0887"
             ],
             [
              0.1111111111111111,
              "#46039f"
             ],
             [
              0.2222222222222222,
              "#7201a8"
             ],
             [
              0.3333333333333333,
              "#9c179e"
             ],
             [
              0.4444444444444444,
              "#bd3786"
             ],
             [
              0.5555555555555556,
              "#d8576b"
             ],
             [
              0.6666666666666666,
              "#ed7953"
             ],
             [
              0.7777777777777778,
              "#fb9f3a"
             ],
             [
              0.8888888888888888,
              "#fdca26"
             ],
             [
              1,
              "#f0f921"
             ]
            ],
            "type": "heatmap"
           }
          ],
          "histogram": [
           {
            "marker": {
             "pattern": {
              "fillmode": "overlay",
              "size": 10,
              "solidity": 0.2
             }
            },
            "type": "histogram"
           }
          ],
          "histogram2d": [
           {
            "colorbar": {
             "outlinewidth": 0,
             "ticks": ""
            },
            "colorscale": [
             [
              0,
              "#0d0887"
             ],
             [
              0.1111111111111111,
              "#46039f"
             ],
             [
              0.2222222222222222,
              "#7201a8"
             ],
             [
              0.3333333333333333,
              "#9c179e"
             ],
             [
              0.4444444444444444,
              "#bd3786"
             ],
             [
              0.5555555555555556,
              "#d8576b"
             ],
             [
              0.6666666666666666,
              "#ed7953"
             ],
             [
              0.7777777777777778,
              "#fb9f3a"
             ],
             [
              0.8888888888888888,
              "#fdca26"
             ],
             [
              1,
              "#f0f921"
             ]
            ],
            "type": "histogram2d"
           }
          ],
          "histogram2dcontour": [
           {
            "colorbar": {
             "outlinewidth": 0,
             "ticks": ""
            },
            "colorscale": [
             [
              0,
              "#0d0887"
             ],
             [
              0.1111111111111111,
              "#46039f"
             ],
             [
              0.2222222222222222,
              "#7201a8"
             ],
             [
              0.3333333333333333,
              "#9c179e"
             ],
             [
              0.4444444444444444,
              "#bd3786"
             ],
             [
              0.5555555555555556,
              "#d8576b"
             ],
             [
              0.6666666666666666,
              "#ed7953"
             ],
             [
              0.7777777777777778,
              "#fb9f3a"
             ],
             [
              0.8888888888888888,
              "#fdca26"
             ],
             [
              1,
              "#f0f921"
             ]
            ],
            "type": "histogram2dcontour"
           }
          ],
          "mesh3d": [
           {
            "colorbar": {
             "outlinewidth": 0,
             "ticks": ""
            },
            "type": "mesh3d"
           }
          ],
          "parcoords": [
           {
            "line": {
             "colorbar": {
              "outlinewidth": 0,
              "ticks": ""
             }
            },
            "type": "parcoords"
           }
          ],
          "pie": [
           {
            "automargin": true,
            "type": "pie"
           }
          ],
          "scatter": [
           {
            "fillpattern": {
             "fillmode": "overlay",
             "size": 10,
             "solidity": 0.2
            },
            "type": "scatter"
           }
          ],
          "scatter3d": [
           {
            "line": {
             "colorbar": {
              "outlinewidth": 0,
              "ticks": ""
             }
            },
            "marker": {
             "colorbar": {
              "outlinewidth": 0,
              "ticks": ""
             }
            },
            "type": "scatter3d"
           }
          ],
          "scattercarpet": [
           {
            "marker": {
             "colorbar": {
              "outlinewidth": 0,
              "ticks": ""
             }
            },
            "type": "scattercarpet"
           }
          ],
          "scattergeo": [
           {
            "marker": {
             "colorbar": {
              "outlinewidth": 0,
              "ticks": ""
             }
            },
            "type": "scattergeo"
           }
          ],
          "scattergl": [
           {
            "marker": {
             "colorbar": {
              "outlinewidth": 0,
              "ticks": ""
             }
            },
            "type": "scattergl"
           }
          ],
          "scattermap": [
           {
            "marker": {
             "colorbar": {
              "outlinewidth": 0,
              "ticks": ""
             }
            },
            "type": "scattermap"
           }
          ],
          "scattermapbox": [
           {
            "marker": {
             "colorbar": {
              "outlinewidth": 0,
              "ticks": ""
             }
            },
            "type": "scattermapbox"
           }
          ],
          "scatterpolar": [
           {
            "marker": {
             "colorbar": {
              "outlinewidth": 0,
              "ticks": ""
             }
            },
            "type": "scatterpolar"
           }
          ],
          "scatterpolargl": [
           {
            "marker": {
             "colorbar": {
              "outlinewidth": 0,
              "ticks": ""
             }
            },
            "type": "scatterpolargl"
           }
          ],
          "scatterternary": [
           {
            "marker": {
             "colorbar": {
              "outlinewidth": 0,
              "ticks": ""
             }
            },
            "type": "scatterternary"
           }
          ],
          "surface": [
           {
            "colorbar": {
             "outlinewidth": 0,
             "ticks": ""
            },
            "colorscale": [
             [
              0,
              "#0d0887"
             ],
             [
              0.1111111111111111,
              "#46039f"
             ],
             [
              0.2222222222222222,
              "#7201a8"
             ],
             [
              0.3333333333333333,
              "#9c179e"
             ],
             [
              0.4444444444444444,
              "#bd3786"
             ],
             [
              0.5555555555555556,
              "#d8576b"
             ],
             [
              0.6666666666666666,
              "#ed7953"
             ],
             [
              0.7777777777777778,
              "#fb9f3a"
             ],
             [
              0.8888888888888888,
              "#fdca26"
             ],
             [
              1,
              "#f0f921"
             ]
            ],
            "type": "surface"
           }
          ],
          "table": [
           {
            "cells": {
             "fill": {
              "color": "#EBF0F8"
             },
             "line": {
              "color": "white"
             }
            },
            "header": {
             "fill": {
              "color": "#C8D4E3"
             },
             "line": {
              "color": "white"
             }
            },
            "type": "table"
           }
          ]
         },
         "layout": {
          "annotationdefaults": {
           "arrowcolor": "#2a3f5f",
           "arrowhead": 0,
           "arrowwidth": 1
          },
          "autotypenumbers": "strict",
          "coloraxis": {
           "colorbar": {
            "outlinewidth": 0,
            "ticks": ""
           }
          },
          "colorscale": {
           "diverging": [
            [
             0,
             "#8e0152"
            ],
            [
             0.1,
             "#c51b7d"
            ],
            [
             0.2,
             "#de77ae"
            ],
            [
             0.3,
             "#f1b6da"
            ],
            [
             0.4,
             "#fde0ef"
            ],
            [
             0.5,
             "#f7f7f7"
            ],
            [
             0.6,
             "#e6f5d0"
            ],
            [
             0.7,
             "#b8e186"
            ],
            [
             0.8,
             "#7fbc41"
            ],
            [
             0.9,
             "#4d9221"
            ],
            [
             1,
             "#276419"
            ]
           ],
           "sequential": [
            [
             0,
             "#0d0887"
            ],
            [
             0.1111111111111111,
             "#46039f"
            ],
            [
             0.2222222222222222,
             "#7201a8"
            ],
            [
             0.3333333333333333,
             "#9c179e"
            ],
            [
             0.4444444444444444,
             "#bd3786"
            ],
            [
             0.5555555555555556,
             "#d8576b"
            ],
            [
             0.6666666666666666,
             "#ed7953"
            ],
            [
             0.7777777777777778,
             "#fb9f3a"
            ],
            [
             0.8888888888888888,
             "#fdca26"
            ],
            [
             1,
             "#f0f921"
            ]
           ],
           "sequentialminus": [
            [
             0,
             "#0d0887"
            ],
            [
             0.1111111111111111,
             "#46039f"
            ],
            [
             0.2222222222222222,
             "#7201a8"
            ],
            [
             0.3333333333333333,
             "#9c179e"
            ],
            [
             0.4444444444444444,
             "#bd3786"
            ],
            [
             0.5555555555555556,
             "#d8576b"
            ],
            [
             0.6666666666666666,
             "#ed7953"
            ],
            [
             0.7777777777777778,
             "#fb9f3a"
            ],
            [
             0.8888888888888888,
             "#fdca26"
            ],
            [
             1,
             "#f0f921"
            ]
           ]
          },
          "colorway": [
           "#636efa",
           "#EF553B",
           "#00cc96",
           "#ab63fa",
           "#FFA15A",
           "#19d3f3",
           "#FF6692",
           "#B6E880",
           "#FF97FF",
           "#FECB52"
          ],
          "font": {
           "color": "#2a3f5f"
          },
          "geo": {
           "bgcolor": "white",
           "lakecolor": "white",
           "landcolor": "#E5ECF6",
           "showlakes": true,
           "showland": true,
           "subunitcolor": "white"
          },
          "hoverlabel": {
           "align": "left"
          },
          "hovermode": "closest",
          "mapbox": {
           "style": "light"
          },
          "paper_bgcolor": "white",
          "plot_bgcolor": "#E5ECF6",
          "polar": {
           "angularaxis": {
            "gridcolor": "white",
            "linecolor": "white",
            "ticks": ""
           },
           "bgcolor": "#E5ECF6",
           "radialaxis": {
            "gridcolor": "white",
            "linecolor": "white",
            "ticks": ""
           }
          },
          "scene": {
           "xaxis": {
            "backgroundcolor": "#E5ECF6",
            "gridcolor": "white",
            "gridwidth": 2,
            "linecolor": "white",
            "showbackground": true,
            "ticks": "",
            "zerolinecolor": "white"
           },
           "yaxis": {
            "backgroundcolor": "#E5ECF6",
            "gridcolor": "white",
            "gridwidth": 2,
            "linecolor": "white",
            "showbackground": true,
            "ticks": "",
            "zerolinecolor": "white"
           },
           "zaxis": {
            "backgroundcolor": "#E5ECF6",
            "gridcolor": "white",
            "gridwidth": 2,
            "linecolor": "white",
            "showbackground": true,
            "ticks": "",
            "zerolinecolor": "white"
           }
          },
          "shapedefaults": {
           "line": {
            "color": "#2a3f5f"
           }
          },
          "ternary": {
           "aaxis": {
            "gridcolor": "white",
            "linecolor": "white",
            "ticks": ""
           },
           "baxis": {
            "gridcolor": "white",
            "linecolor": "white",
            "ticks": ""
           },
           "bgcolor": "#E5ECF6",
           "caxis": {
            "gridcolor": "white",
            "linecolor": "white",
            "ticks": ""
           }
          },
          "title": {
           "x": 0.05
          },
          "xaxis": {
           "automargin": true,
           "gridcolor": "white",
           "linecolor": "white",
           "ticks": "",
           "title": {
            "standoff": 15
           },
           "zerolinecolor": "white",
           "zerolinewidth": 2
          },
          "yaxis": {
           "automargin": true,
           "gridcolor": "white",
           "linecolor": "white",
           "ticks": "",
           "title": {
            "standoff": 15
           },
           "zerolinecolor": "white",
           "zerolinewidth": 2
          }
         }
        },
        "title": {
         "text": "Application "
        }
       }
      },
      "image/png": "[encoded data removed]"
     },
     "metadata": {},
     "output_type": "display_data"
    },
    {
     "data": {
      "application/vnd.plotly.v1+json": {
       "config": {
        "plotlyServerURL": "https://plot.ly"
       },
       "data": [
        {
         "domain": {
          "x": [
           0,
           0.49
          ],
          "y": [
           0,
           1
          ]
         },
         "hole": 0.3,
         "hovertemplate": "dataset=Finished<br>Raça=%{label}<extra></extra>",
         "labels": [
          "Pardo(a),Mulato(a)",
          "Pardo(a),Mulato(a)",
          "Branca",
          "Pardo(a),Mulato(a)",
          "Amarela",
          "Amarela",
          "Branca",
          "Branca",
          "Branca",
          "Pardo(a),Mulato(a)",
          "Branca",
          "Pardo(a),Mulato(a)",
          "Pardo(a),Mulato(a)",
          "Pardo(a),Mulato(a)",
          "Pardo(a),Mulato(a)",
          "Branca",
          "Pardo(a),Mulato(a)",
          "Branca",
          "Pardo(a),Mulato(a)",
          "Negra",
          "Branca",
          "Pardo(a),Mulato(a)",
          "Branca",
          "Branca",
          "Negra",
          "Branca",
          "Pardo(a),Mulato(a)",
          "Branca",
          "Amarela",
          "Branca",
          "Branca",
          "Não Informado",
          "Pardo(a),Mulato(a)",
          "Pardo(a),Mulato(a)",
          "Pardo(a),Mulato(a)",
          "Pardo(a),Mulato(a)",
          "Amarela",
          "Negra",
          "Pardo(a),Mulato(a)",
          "Negra",
          "Pardo(a),Mulato(a)",
          "Pardo(a),Mulato(a)",
          "Pardo(a),Mulato(a)",
          "Pardo(a),Mulato(a)",
          "Branca",
          "Branca",
          "Pardo(a),Mulato(a)",
          "Branca",
          "Pardo(a),Mulato(a)",
          "Branca",
          "Pardo(a),Mulato(a)",
          "Pardo(a),Mulato(a)",
          "Branca",
          "Branca",
          "Branca",
          "Pardo(a),Mulato(a)",
          "Pardo(a),Mulato(a)",
          "Pardo(a),Mulato(a)",
          "Branca",
          "Branca",
          "Branca",
          "Branca",
          "Pardo(a),Mulato(a)",
          "Amarela",
          "Pardo(a),Mulato(a)",
          "Branca",
          "Pardo(a),Mulato(a)",
          "Não Informado",
          "Pardo(a),Mulato(a)",
          "Branca",
          "Branca",
          "Pardo(a),Mulato(a)",
          "Branca",
          "Branca",
          "Branca",
          "Pardo(a),Mulato(a)",
          "Branca",
          "Negra",
          "Branca",
          "Branca",
          "Negra",
          "Branca",
          "Branca",
          "Pardo(a),Mulato(a)",
          "Branca",
          "Não Informado",
          "Pardo(a),Mulato(a)",
          "Pardo(a),Mulato(a)",
          "Pardo(a),Mulato(a)",
          "Pardo(a),Mulato(a)",
          "Negra",
          "Branca",
          "Não Informado",
          "Negra",
          "Pardo(a),Mulato(a)",
          "Branca",
          "Pardo(a),Mulato(a)",
          "Branca",
          "Pardo(a),Mulato(a)",
          "Pardo(a),Mulato(a)",
          "Negra",
          "Pardo(a),Mulato(a)",
          "Branca",
          "Pardo(a),Mulato(a)",
          "Branca",
          "Pardo(a),Mulato(a)",
          "Negra",
          "Negra",
          "Pardo(a),Mulato(a)",
          "Branca",
          "Pardo(a),Mulato(a)"
         ],
         "legendgroup": "",
         "name": "",
         "showlegend": true,
         "type": "pie"
        },
        {
         "domain": {
          "x": [
           0.51,
           1
          ],
          "y": [
           0,
           1
          ]
         },
         "hole": 0.3,
         "hovertemplate": "dataset=Deactive<br>Raça=%{label}<extra></extra>",
         "labels": [
          "Branca",
          "Negra",
          "Branca",
          "Pardo(a),Mulato(a)",
          "Branca",
          "Branca",
          "Amarela",
          "Pardo(a),Mulato(a)",
          "Branca",
          "Não Informado",
          "Pardo(a),Mulato(a)",
          "Pardo(a),Mulato(a)",
          "Branca",
          "Pardo(a),Mulato(a)",
          "Branca",
          "Pardo(a),Mulato(a)",
          "Negra",
          "Pardo(a),Mulato(a)",
          "Negra",
          "Branca",
          "Pardo(a),Mulato(a)",
          "Pardo(a),Mulato(a)",
          "Pardo(a),Mulato(a)",
          "Pardo(a),Mulato(a)",
          "Não Informado",
          "Pardo(a),Mulato(a)",
          "Branca",
          "Pardo(a),Mulato(a)",
          "Branca",
          "Pardo(a),Mulato(a)",
          "Branca",
          "Pardo(a),Mulato(a)",
          "Branca",
          "Branca",
          "Branca",
          "Branca",
          "Branca",
          "Pardo(a),Mulato(a)",
          "Branca",
          "Branca",
          "Pardo(a),Mulato(a)",
          "Negra",
          "Não Informado",
          "Não Informado",
          "Branca",
          "Pardo(a),Mulato(a)",
          "Branca",
          "Amarela",
          "Pardo(a),Mulato(a)",
          "Pardo(a),Mulato(a)",
          "Branca",
          "Pardo(a),Mulato(a)",
          "Não Informado",
          "Pardo(a),Mulato(a)",
          "Branca",
          "Não Informado",
          "Não Informado",
          "Branca",
          "Pardo(a),Mulato(a)",
          "Pardo(a),Mulato(a)",
          "Branca",
          "Pardo(a),Mulato(a)",
          "Não Informado",
          "Não Informado",
          "Pardo(a),Mulato(a)",
          "Pardo(a),Mulato(a)",
          "Não Informado",
          "Amarela",
          "Branca",
          "Branca",
          "Pardo(a),Mulato(a)",
          "Pardo(a),Mulato(a)",
          "Branca",
          "Não Informado",
          "Branca",
          "Pardo(a),Mulato(a)",
          "Pardo(a),Mulato(a)",
          "Pardo(a),Mulato(a)",
          "Pardo(a),Mulato(a)",
          "Negra",
          "Negra",
          "Branca",
          "Pardo(a),Mulato(a)",
          "Amarela",
          "Pardo(a),Mulato(a)",
          "Branca",
          "Pardo(a),Mulato(a)",
          "Pardo(a),Mulato(a)",
          "Pardo(a),Mulato(a)",
          "Pardo(a),Mulato(a)",
          "Branca",
          "Pardo(a),Mulato(a)",
          "Pardo(a),Mulato(a)",
          "Pardo(a),Mulato(a)",
          "Branca",
          "Não Informado",
          "Pardo(a),Mulato(a)",
          "Branca",
          "Branca",
          "Branca",
          "Branca",
          "Branca",
          "Pardo(a),Mulato(a)",
          "Pardo(a),Mulato(a)",
          "Pardo(a),Mulato(a)",
          "Branca",
          "Pardo(a),Mulato(a)",
          "Branca",
          "Pardo(a),Mulato(a)",
          "Branca",
          "Pardo(a),Mulato(a)",
          "Branca",
          "Branca",
          "Pardo(a),Mulato(a)",
          "Branca",
          "Branca",
          "Branca",
          "Branca",
          "Não Informado",
          "Branca",
          "Amarela",
          "Branca",
          "Pardo(a),Mulato(a)",
          "Pardo(a),Mulato(a)",
          "Pardo(a),Mulato(a)",
          "Pardo(a),Mulato(a)",
          "Branca",
          "Pardo(a),Mulato(a)",
          "Branca",
          "Negra",
          "Branca",
          "Branca",
          "Branca",
          "Branca",
          "Pardo(a),Mulato(a)",
          "Pardo(a),Mulato(a)",
          "Branca",
          "Amarela",
          "Amarela",
          "Branca",
          "Pardo(a),Mulato(a)",
          "Pardo(a),Mulato(a)",
          "Não Informado",
          "Branca",
          "Não Informado",
          "Pardo(a),Mulato(a)",
          "Negra",
          "Não Informado",
          "Branca",
          "Branca",
          "Branca",
          "Branca",
          "Branca",
          "Pardo(a),Mulato(a)",
          "Pardo(a),Mulato(a)",
          "Negra",
          "Negra",
          "Negra",
          "Pardo(a),Mulato(a)",
          "Branca",
          "Indígena",
          "Branca",
          "Pardo(a),Mulato(a)",
          "Negra",
          "Branca",
          "Negra",
          "Pardo(a),Mulato(a)",
          "Branca",
          "Pardo(a),Mulato(a)",
          "Pardo(a),Mulato(a)",
          "Não Informado",
          "Branca",
          "Pardo(a),Mulato(a)",
          "Branca",
          "Pardo(a),Mulato(a)",
          "Pardo(a),Mulato(a)",
          "Branca",
          "Pardo(a),Mulato(a)",
          "Branca",
          "Pardo(a),Mulato(a)",
          "Pardo(a),Mulato(a)",
          "Branca",
          "Pardo(a),Mulato(a)",
          "Negra",
          "Pardo(a),Mulato(a)",
          "Não Informado",
          "Branca",
          "Pardo(a),Mulato(a)",
          "Pardo(a),Mulato(a)",
          "Pardo(a),Mulato(a)",
          "Negra",
          "Branca",
          "Pardo(a),Mulato(a)",
          "Branca",
          "Branca",
          "Não Informado",
          "Pardo(a),Mulato(a)",
          "Branca",
          "Branca",
          "Pardo(a),Mulato(a)",
          "Branca",
          "Pardo(a),Mulato(a)",
          "Pardo(a),Mulato(a)",
          "Pardo(a),Mulato(a)",
          "Branca",
          "Pardo(a),Mulato(a)",
          "Pardo(a),Mulato(a)",
          "Branca",
          "Pardo(a),Mulato(a)",
          "Negra",
          "Não Informado",
          "Branca",
          "Pardo(a),Mulato(a)",
          "Amarela",
          "Amarela",
          "Não Informado",
          "Branca",
          "Branca",
          "Branca",
          "Não Informado",
          "Branca",
          "Branca",
          "Pardo(a),Mulato(a)",
          "Branca",
          "Pardo(a),Mulato(a)",
          "Pardo(a),Mulato(a)",
          "Pardo(a),Mulato(a)",
          "Amarela",
          "Negra",
          "Pardo(a),Mulato(a)",
          "Pardo(a),Mulato(a)",
          "Branca",
          "Pardo(a),Mulato(a)",
          "Branca",
          "Branca",
          "Não Informado",
          "Não Informado",
          "Pardo(a),Mulato(a)",
          "Branca",
          "Branca",
          "Pardo(a),Mulato(a)",
          "Negra",
          "Branca",
          "Branca",
          "Branca",
          "Pardo(a),Mulato(a)",
          "Branca",
          "Branca",
          "Branca",
          "Pardo(a),Mulato(a)",
          "Pardo(a),Mulato(a)",
          "Branca",
          "Pardo(a),Mulato(a)",
          "Negra",
          "Negra",
          "Pardo(a),Mulato(a)",
          "Branca",
          "Pardo(a),Mulato(a)",
          "Branca",
          "Pardo(a),Mulato(a)",
          "Pardo(a),Mulato(a)",
          "Pardo(a),Mulato(a)",
          "Pardo(a),Mulato(a)",
          "Pardo(a),Mulato(a)",
          "Branca",
          "Branca",
          "Não Informado",
          "Negra",
          "Branca",
          "Pardo(a),Mulato(a)",
          "Não Informado",
          "Pardo(a),Mulato(a)",
          "Branca",
          "Pardo(a),Mulato(a)",
          "Pardo(a),Mulato(a)",
          "Pardo(a),Mulato(a)",
          "Branca",
          "Negra",
          "Não Informado",
          "Branca",
          "Branca",
          "Pardo(a),Mulato(a)",
          "Pardo(a),Mulato(a)",
          "Branca",
          "Pardo(a),Mulato(a)",
          "Branca",
          "Negra",
          "Branca",
          "Pardo(a),Mulato(a)",
          "Pardo(a),Mulato(a)",
          "Pardo(a),Mulato(a)",
          "Pardo(a),Mulato(a)",
          "Não Informado",
          "Pardo(a),Mulato(a)",
          "Não Informado",
          "Branca",
          "Branca",
          "Branca",
          "Branca",
          "Branca",
          "Pardo(a),Mulato(a)",
          "Não Informado",
          "Não Informado",
          "Negra",
          "Branca",
          "Negra",
          "Branca",
          "Branca",
          "Branca",
          "Branca",
          "Branca",
          "Pardo(a),Mulato(a)",
          "Branca",
          "Amarela",
          "Pardo(a),Mulato(a)",
          "Pardo(a),Mulato(a)",
          "Branca",
          "Pardo(a),Mulato(a)",
          "Não Informado",
          "Amarela",
          "Branca",
          "Branca",
          "Pardo(a),Mulato(a)",
          "Branca",
          "Pardo(a),Mulato(a)",
          "Pardo(a),Mulato(a)",
          "Pardo(a),Mulato(a)",
          "Pardo(a),Mulato(a)",
          "Pardo(a),Mulato(a)",
          "Pardo(a),Mulato(a)",
          "Branca",
          "Pardo(a),Mulato(a)",
          "Branca",
          "Branca",
          "Branca",
          "Pardo(a),Mulato(a)",
          "Branca",
          "Amarela",
          "Pardo(a),Mulato(a)",
          "Pardo(a),Mulato(a)",
          "Branca",
          "Não Informado",
          "Pardo(a),Mulato(a)",
          "Pardo(a),Mulato(a)",
          "Pardo(a),Mulato(a)",
          "Não Informado",
          "Pardo(a),Mulato(a)",
          "Branca",
          "Branca",
          "Pardo(a),Mulato(a)",
          "Branca",
          "Pardo(a),Mulato(a)",
          "Pardo(a),Mulato(a)",
          "Não Informado",
          "Pardo(a),Mulato(a)",
          "Não Informado",
          "Negra",
          "Branca",
          "Não Informado",
          "Não Informado",
          "Pardo(a),Mulato(a)",
          "Branca",
          "Não Informado",
          "Branca",
          "Branca",
          "Negra",
          "Pardo(a),Mulato(a)",
          "Negra",
          "Branca",
          "Negra",
          "Branca",
          "Pardo(a),Mulato(a)",
          "Branca",
          "Pardo(a),Mulato(a)",
          "Negra",
          "Pardo(a),Mulato(a)",
          "Pardo(a),Mulato(a)",
          "Amarela",
          "Pardo(a),Mulato(a)",
          "Branca",
          "Não Informado",
          "Negra",
          "Negra",
          "Negra",
          "Branca",
          "Pardo(a),Mulato(a)",
          "Branca"
         ],
         "legendgroup": "",
         "name": "",
         "showlegend": true,
         "type": "pie"
        }
       ],
       "layout": {
        "annotations": [
         {
          "font": {},
          "showarrow": false,
          "text": "dataset=Finished",
          "x": 0.245,
          "xanchor": "center",
          "xref": "paper",
          "y": 1,
          "yanchor": "bottom",
          "yref": "paper"
         },
         {
          "font": {},
          "showarrow": false,
          "text": "dataset=Deactive",
          "x": 0.755,
          "xanchor": "center",
          "xref": "paper",
          "y": 1,
          "yanchor": "bottom",
          "yref": "paper"
         }
        ],
        "font": {
         "color": "Black",
         "family": "Courier New, monospace",
         "size": 18,
         "variant": "small-caps"
        },
        "legend": {
         "tracegroupgap": 0
        },
        "margin": {
         "t": 60
        },
        "template": {
         "data": {
          "bar": [
           {
            "error_x": {
             "color": "#2a3f5f"
            },
            "error_y": {
             "color": "#2a3f5f"
            },
            "marker": {
             "line": {
              "color": "#E5ECF6",
              "width": 0.5
             },
             "pattern": {
              "fillmode": "overlay",
              "size": 10,
              "solidity": 0.2
             }
            },
            "type": "bar"
           }
          ],
          "barpolar": [
           {
            "marker": {
             "line": {
              "color": "#E5ECF6",
              "width": 0.5
             },
             "pattern": {
              "fillmode": "overlay",
              "size": 10,
              "solidity": 0.2
             }
            },
            "type": "barpolar"
           }
          ],
          "carpet": [
           {
            "aaxis": {
             "endlinecolor": "#2a3f5f",
             "gridcolor": "white",
             "linecolor": "white",
             "minorgridcolor": "white",
             "startlinecolor": "#2a3f5f"
            },
            "baxis": {
             "endlinecolor": "#2a3f5f",
             "gridcolor": "white",
             "linecolor": "white",
             "minorgridcolor": "white",
             "startlinecolor": "#2a3f5f"
            },
            "type": "carpet"
           }
          ],
          "choropleth": [
           {
            "colorbar": {
             "outlinewidth": 0,
             "ticks": ""
            },
            "type": "choropleth"
           }
          ],
          "contour": [
           {
            "colorbar": {
             "outlinewidth": 0,
             "ticks": ""
            },
            "colorscale": [
             [
              0,
              "#0d0887"
             ],
             [
              0.1111111111111111,
              "#46039f"
             ],
             [
              0.2222222222222222,
              "#7201a8"
             ],
             [
              0.3333333333333333,
              "#9c179e"
             ],
             [
              0.4444444444444444,
              "#bd3786"
             ],
             [
              0.5555555555555556,
              "#d8576b"
             ],
             [
              0.6666666666666666,
              "#ed7953"
             ],
             [
              0.7777777777777778,
              "#fb9f3a"
             ],
             [
              0.8888888888888888,
              "#fdca26"
             ],
             [
              1,
              "#f0f921"
             ]
            ],
            "type": "contour"
           }
          ],
          "contourcarpet": [
           {
            "colorbar": {
             "outlinewidth": 0,
             "ticks": ""
            },
            "type": "contourcarpet"
           }
          ],
          "heatmap": [
           {
            "colorbar": {
             "outlinewidth": 0,
             "ticks": ""
            },
            "colorscale": [
             [
              0,
              "#0d0887"
             ],
             [
              0.1111111111111111,
              "#46039f"
             ],
             [
              0.2222222222222222,
              "#7201a8"
             ],
             [
              0.3333333333333333,
              "#9c179e"
             ],
             [
              0.4444444444444444,
              "#bd3786"
             ],
             [
              0.5555555555555556,
              "#d8576b"
             ],
             [
              0.6666666666666666,
              "#ed7953"
             ],
             [
              0.7777777777777778,
              "#fb9f3a"
             ],
             [
              0.8888888888888888,
              "#fdca26"
             ],
             [
              1,
              "#f0f921"
             ]
            ],
            "type": "heatmap"
           }
          ],
          "histogram": [
           {
            "marker": {
             "pattern": {
              "fillmode": "overlay",
              "size": 10,
              "solidity": 0.2
             }
            },
            "type": "histogram"
           }
          ],
          "histogram2d": [
           {
            "colorbar": {
             "outlinewidth": 0,
             "ticks": ""
            },
            "colorscale": [
             [
              0,
              "#0d0887"
             ],
             [
              0.1111111111111111,
              "#46039f"
             ],
             [
              0.2222222222222222,
              "#7201a8"
             ],
             [
              0.3333333333333333,
              "#9c179e"
             ],
             [
              0.4444444444444444,
              "#bd3786"
             ],
             [
              0.5555555555555556,
              "#d8576b"
             ],
             [
              0.6666666666666666,
              "#ed7953"
             ],
             [
              0.7777777777777778,
              "#fb9f3a"
             ],
             [
              0.8888888888888888,
              "#fdca26"
             ],
             [
              1,
              "#f0f921"
             ]
            ],
            "type": "histogram2d"
           }
          ],
          "histogram2dcontour": [
           {
            "colorbar": {
             "outlinewidth": 0,
             "ticks": ""
            },
            "colorscale": [
             [
              0,
              "#0d0887"
             ],
             [
              0.1111111111111111,
              "#46039f"
             ],
             [
              0.2222222222222222,
              "#7201a8"
             ],
             [
              0.3333333333333333,
              "#9c179e"
             ],
             [
              0.4444444444444444,
              "#bd3786"
             ],
             [
              0.5555555555555556,
              "#d8576b"
             ],
             [
              0.6666666666666666,
              "#ed7953"
             ],
             [
              0.7777777777777778,
              "#fb9f3a"
             ],
             [
              0.8888888888888888,
              "#fdca26"
             ],
             [
              1,
              "#f0f921"
             ]
            ],
            "type": "histogram2dcontour"
           }
          ],
          "mesh3d": [
           {
            "colorbar": {
             "outlinewidth": 0,
             "ticks": ""
            },
            "type": "mesh3d"
           }
          ],
          "parcoords": [
           {
            "line": {
             "colorbar": {
              "outlinewidth": 0,
              "ticks": ""
             }
            },
            "type": "parcoords"
           }
          ],
          "pie": [
           {
            "automargin": true,
            "type": "pie"
           }
          ],
          "scatter": [
           {
            "fillpattern": {
             "fillmode": "overlay",
             "size": 10,
             "solidity": 0.2
            },
            "type": "scatter"
           }
          ],
          "scatter3d": [
           {
            "line": {
             "colorbar": {
              "outlinewidth": 0,
              "ticks": ""
             }
            },
            "marker": {
             "colorbar": {
              "outlinewidth": 0,
              "ticks": ""
             }
            },
            "type": "scatter3d"
           }
          ],
          "scattercarpet": [
           {
            "marker": {
             "colorbar": {
              "outlinewidth": 0,
              "ticks": ""
             }
            },
            "type": "scattercarpet"
           }
          ],
          "scattergeo": [
           {
            "marker": {
             "colorbar": {
              "outlinewidth": 0,
              "ticks": ""
             }
            },
            "type": "scattergeo"
           }
          ],
          "scattergl": [
           {
            "marker": {
             "colorbar": {
              "outlinewidth": 0,
              "ticks": ""
             }
            },
            "type": "scattergl"
           }
          ],
          "scattermap": [
           {
            "marker": {
             "colorbar": {
              "outlinewidth": 0,
              "ticks": ""
             }
            },
            "type": "scattermap"
           }
          ],
          "scattermapbox": [
           {
            "marker": {
             "colorbar": {
              "outlinewidth": 0,
              "ticks": ""
             }
            },
            "type": "scattermapbox"
           }
          ],
          "scatterpolar": [
           {
            "marker": {
             "colorbar": {
              "outlinewidth": 0,
              "ticks": ""
             }
            },
            "type": "scatterpolar"
           }
          ],
          "scatterpolargl": [
           {
            "marker": {
             "colorbar": {
              "outlinewidth": 0,
              "ticks": ""
             }
            },
            "type": "scatterpolargl"
           }
          ],
          "scatterternary": [
           {
            "marker": {
             "colorbar": {
              "outlinewidth": 0,
              "ticks": ""
             }
            },
            "type": "scatterternary"
           }
          ],
          "surface": [
           {
            "colorbar": {
             "outlinewidth": 0,
             "ticks": ""
            },
            "colorscale": [
             [
              0,
              "#0d0887"
             ],
             [
              0.1111111111111111,
              "#46039f"
             ],
             [
              0.2222222222222222,
              "#7201a8"
             ],
             [
              0.3333333333333333,
              "#9c179e"
             ],
             [
              0.4444444444444444,
              "#bd3786"
             ],
             [
              0.5555555555555556,
              "#d8576b"
             ],
             [
              0.6666666666666666,
              "#ed7953"
             ],
             [
              0.7777777777777778,
              "#fb9f3a"
             ],
             [
              0.8888888888888888,
              "#fdca26"
             ],
             [
              1,
              "#f0f921"
             ]
            ],
            "type": "surface"
           }
          ],
          "table": [
           {
            "cells": {
             "fill": {
              "color": "#EBF0F8"
             },
             "line": {
              "color": "white"
             }
            },
            "header": {
             "fill": {
              "color": "#C8D4E3"
             },
             "line": {
              "color": "white"
             }
            },
            "type": "table"
           }
          ]
         },
         "layout": {
          "annotationdefaults": {
           "arrowcolor": "#2a3f5f",
           "arrowhead": 0,
           "arrowwidth": 1
          },
          "autotypenumbers": "strict",
          "coloraxis": {
           "colorbar": {
            "outlinewidth": 0,
            "ticks": ""
           }
          },
          "colorscale": {
           "diverging": [
            [
             0,
             "#8e0152"
            ],
            [
             0.1,
             "#c51b7d"
            ],
            [
             0.2,
             "#de77ae"
            ],
            [
             0.3,
             "#f1b6da"
            ],
            [
             0.4,
             "#fde0ef"
            ],
            [
             0.5,
             "#f7f7f7"
            ],
            [
             0.6,
             "#e6f5d0"
            ],
            [
             0.7,
             "#b8e186"
            ],
            [
             0.8,
             "#7fbc41"
            ],
            [
             0.9,
             "#4d9221"
            ],
            [
             1,
             "#276419"
            ]
           ],
           "sequential": [
            [
             0,
             "#0d0887"
            ],
            [
             0.1111111111111111,
             "#46039f"
            ],
            [
             0.2222222222222222,
             "#7201a8"
            ],
            [
             0.3333333333333333,
             "#9c179e"
            ],
            [
             0.4444444444444444,
             "#bd3786"
            ],
            [
             0.5555555555555556,
             "#d8576b"
            ],
            [
             0.6666666666666666,
             "#ed7953"
            ],
            [
             0.7777777777777778,
             "#fb9f3a"
            ],
            [
             0.8888888888888888,
             "#fdca26"
            ],
            [
             1,
             "#f0f921"
            ]
           ],
           "sequentialminus": [
            [
             0,
             "#0d0887"
            ],
            [
             0.1111111111111111,
             "#46039f"
            ],
            [
             0.2222222222222222,
             "#7201a8"
            ],
            [
             0.3333333333333333,
             "#9c179e"
            ],
            [
             0.4444444444444444,
             "#bd3786"
            ],
            [
             0.5555555555555556,
             "#d8576b"
            ],
            [
             0.6666666666666666,
             "#ed7953"
            ],
            [
             0.7777777777777778,
             "#fb9f3a"
            ],
            [
             0.8888888888888888,
             "#fdca26"
            ],
            [
             1,
             "#f0f921"
            ]
           ]
          },
          "colorway": [
           "#636efa",
           "#EF553B",
           "#00cc96",
           "#ab63fa",
           "#FFA15A",
           "#19d3f3",
           "#FF6692",
           "#B6E880",
           "#FF97FF",
           "#FECB52"
          ],
          "font": {
           "color": "#2a3f5f"
          },
          "geo": {
           "bgcolor": "white",
           "lakecolor": "white",
           "landcolor": "#E5ECF6",
           "showlakes": true,
           "showland": true,
           "subunitcolor": "white"
          },
          "hoverlabel": {
           "align": "left"
          },
          "hovermode": "closest",
          "mapbox": {
           "style": "light"
          },
          "paper_bgcolor": "white",
          "plot_bgcolor": "#E5ECF6",
          "polar": {
           "angularaxis": {
            "gridcolor": "white",
            "linecolor": "white",
            "ticks": ""
           },
           "bgcolor": "#E5ECF6",
           "radialaxis": {
            "gridcolor": "white",
            "linecolor": "white",
            "ticks": ""
           }
          },
          "scene": {
           "xaxis": {
            "backgroundcolor": "#E5ECF6",
            "gridcolor": "white",
            "gridwidth": 2,
            "linecolor": "white",
            "showbackground": true,
            "ticks": "",
            "zerolinecolor": "white"
           },
           "yaxis": {
            "backgroundcolor": "#E5ECF6",
            "gridcolor": "white",
            "gridwidth": 2,
            "linecolor": "white",
            "showbackground": true,
            "ticks": "",
            "zerolinecolor": "white"
           },
           "zaxis": {
            "backgroundcolor": "#E5ECF6",
            "gridcolor": "white",
            "gridwidth": 2,
            "linecolor": "white",
            "showbackground": true,
            "ticks": "",
            "zerolinecolor": "white"
           }
          },
          "shapedefaults": {
           "line": {
            "color": "#2a3f5f"
           }
          },
          "ternary": {
           "aaxis": {
            "gridcolor": "white",
            "linecolor": "white",
            "ticks": ""
           },
           "baxis": {
            "gridcolor": "white",
            "linecolor": "white",
            "ticks": ""
           },
           "bgcolor": "#E5ECF6",
           "caxis": {
            "gridcolor": "white",
            "linecolor": "white",
            "ticks": ""
           }
          },
          "title": {
           "x": 0.05
          },
          "xaxis": {
           "automargin": true,
           "gridcolor": "white",
           "linecolor": "white",
           "ticks": "",
           "title": {
            "standoff": 15
           },
           "zerolinecolor": "white",
           "zerolinewidth": 2
          },
          "yaxis": {
           "automargin": true,
           "gridcolor": "white",
           "linecolor": "white",
           "ticks": "",
           "title": {
            "standoff": 15
           },
           "zerolinecolor": "white",
           "zerolinewidth": 2
          }
         }
        },
        "title": {
         "text": "Ethinic "
        }
       }
      },
      "image/png": "[encoded data removed]"
     },
     "metadata": {},
     "output_type": "display_data"
    },
    {
     "data": {
      "application/vnd.plotly.v1+json": {
       "config": {
        "plotlyServerURL": "https://plot.ly"
       },
       "data": [
        {
         "domain": {
          "x": [
           0,
           0.49
          ],
          "y": [
           0,
           1
          ]
         },
         "hole": 0.3,
         "hovertemplate": "dataset=Finished<br>Sexo=%{label}<extra></extra>",
         "labels": [
          "Feminino",
          "Masculino",
          "Masculino",
          "Masculino",
          "Feminino",
          "Masculino",
          "Masculino",
          "Masculino",
          "Masculino",
          "Feminino",
          "Masculino",
          "Masculino",
          "Masculino",
          "Masculino",
          "Masculino",
          "Masculino",
          "Masculino",
          "Feminino",
          "Masculino",
          "Masculino",
          "Masculino",
          "Masculino",
          "Masculino",
          "Masculino",
          "Masculino",
          "Masculino",
          "Masculino",
          "Masculino",
          "Masculino",
          "Masculino",
          "Feminino",
          "Masculino",
          "Masculino",
          "Masculino",
          "Masculino",
          "Masculino",
          "Feminino",
          "Feminino",
          "Masculino",
          "Masculino",
          "Masculino",
          "Masculino",
          "Masculino",
          "Masculino",
          "Masculino",
          "Masculino",
          "Masculino",
          "Masculino",
          "Masculino",
          "Masculino",
          "Masculino",
          "Masculino",
          "Masculino",
          "Masculino",
          "Masculino",
          "Feminino",
          "Masculino",
          "Masculino",
          "Feminino",
          "Masculino",
          "Masculino",
          "Feminino",
          "Masculino",
          "Masculino",
          "Masculino",
          "Masculino",
          "Feminino",
          "Feminino",
          "Feminino",
          "Masculino",
          "Masculino",
          "Masculino",
          "Masculino",
          "Masculino",
          "Masculino",
          "Masculino",
          "Masculino",
          "Masculino",
          "Masculino",
          "Feminino",
          "Masculino",
          "Masculino",
          "Masculino",
          "Masculino",
          "Masculino",
          "Masculino",
          "Masculino",
          "Masculino",
          "Masculino",
          "Masculino",
          "Masculino",
          "Masculino",
          "Masculino",
          "Masculino",
          "Masculino",
          "Masculino",
          "Masculino",
          "Masculino",
          "Masculino",
          "Masculino",
          "Feminino",
          "Masculino",
          "Masculino",
          "Masculino",
          "Masculino",
          "Masculino",
          "Masculino",
          "Masculino",
          "Masculino",
          "Masculino",
          "Masculino"
         ],
         "legendgroup": "",
         "name": "",
         "showlegend": true,
         "type": "pie"
        },
        {
         "domain": {
          "x": [
           0.51,
           1
          ],
          "y": [
           0,
           1
          ]
         },
         "hole": 0.3,
         "hovertemplate": "dataset=Deactive<br>Sexo=%{label}<extra></extra>",
         "labels": [
          "Masculino",
          "Masculino",
          "Masculino",
          "Masculino",
          "Feminino",
          "Feminino",
          "Feminino",
          "Feminino",
          "Masculino",
          "Masculino",
          "Feminino",
          "Feminino",
          "Feminino",
          "Masculino",
          "Masculino",
          "Masculino",
          "Feminino",
          "Feminino",
          "Masculino",
          "Masculino",
          "Masculino",
          "Masculino",
          "Feminino",
          "Masculino",
          "Feminino",
          "Masculino",
          "Masculino",
          "Masculino",
          "Masculino",
          "Masculino",
          "Masculino",
          "Masculino",
          "Masculino",
          "Masculino",
          "Masculino",
          "Feminino",
          "Masculino",
          "Feminino",
          "Masculino",
          "Feminino",
          "Feminino",
          "Masculino",
          "Masculino",
          "Masculino",
          "Masculino",
          "Masculino",
          "Masculino",
          "Feminino",
          "Masculino",
          "Masculino",
          "Masculino",
          "Masculino",
          "Feminino",
          "Masculino",
          "Masculino",
          "Masculino",
          "Masculino",
          "Masculino",
          "Masculino",
          "Masculino",
          "Masculino",
          "Masculino",
          "Masculino",
          "Masculino",
          "Masculino",
          "Masculino",
          "Masculino",
          "Masculino",
          "Masculino",
          "Masculino",
          "Masculino",
          "Masculino",
          "Masculino",
          "Masculino",
          "Masculino",
          "Masculino",
          "Masculino",
          "Masculino",
          "Masculino",
          "Masculino",
          "Masculino",
          "Masculino",
          "Masculino",
          "Masculino",
          "Feminino",
          "Feminino",
          "Masculino",
          "Masculino",
          "Masculino",
          "Masculino",
          "Feminino",
          "Masculino",
          "Masculino",
          "Masculino",
          "Masculino",
          "Masculino",
          "Masculino",
          "Masculino",
          "Masculino",
          "Masculino",
          "Masculino",
          "Feminino",
          "Masculino",
          "Masculino",
          "Masculino",
          "Masculino",
          "Masculino",
          "Masculino",
          "Masculino",
          "Feminino",
          "Feminino",
          "Masculino",
          "Feminino",
          "Feminino",
          "Masculino",
          "Masculino",
          "Masculino",
          "Masculino",
          "Masculino",
          "Masculino",
          "Masculino",
          "Masculino",
          "Masculino",
          "Masculino",
          "Masculino",
          "Masculino",
          "Masculino",
          "Masculino",
          "Masculino",
          "Masculino",
          "Masculino",
          "Feminino",
          "Masculino",
          "Masculino",
          "Masculino",
          "Masculino",
          "Masculino",
          "Masculino",
          "Masculino",
          "Masculino",
          "Feminino",
          "Masculino",
          "Masculino",
          "Feminino",
          "Masculino",
          "Masculino",
          "Masculino",
          "Masculino",
          "Masculino",
          "Masculino",
          "Masculino",
          "Masculino",
          "Masculino",
          "Masculino",
          "Masculino",
          "Masculino",
          "Masculino",
          "Masculino",
          "Masculino",
          "Masculino",
          "Masculino",
          "Masculino",
          "Masculino",
          "Masculino",
          "Masculino",
          "Masculino",
          "Masculino",
          "Masculino",
          "Masculino",
          "Masculino",
          "Masculino",
          "Masculino",
          "Masculino",
          "Feminino",
          "Feminino",
          "Masculino",
          "Masculino",
          "Masculino",
          "Masculino",
          "Masculino",
          "Masculino",
          "Masculino",
          "Masculino",
          "Masculino",
          "Masculino",
          "Masculino",
          "Feminino",
          "Feminino",
          "Feminino",
          "Feminino",
          "Masculino",
          "Masculino",
          "Masculino",
          "Masculino",
          "Feminino",
          "Masculino",
          "Feminino",
          "Masculino",
          "Masculino",
          "Masculino",
          "Masculino",
          "Masculino",
          "Masculino",
          "Masculino",
          "Masculino",
          "Feminino",
          "Masculino",
          "Masculino",
          "Masculino",
          "Masculino",
          "Masculino",
          "Masculino",
          "Masculino",
          "Masculino",
          "Masculino",
          "Masculino",
          "Masculino",
          "Masculino",
          "Masculino",
          "Masculino",
          "Masculino",
          "Masculino",
          "Masculino",
          "Masculino",
          "Masculino",
          "Masculino",
          "Masculino",
          "Masculino",
          "Masculino",
          "Masculino",
          "Feminino",
          "Feminino",
          "Feminino",
          "Masculino",
          "Feminino",
          "Masculino",
          "Feminino",
          "Feminino",
          "Masculino",
          "Masculino",
          "Masculino",
          "Masculino",
          "Masculino",
          "Masculino",
          "Masculino",
          "Masculino",
          "Masculino",
          "Masculino",
          "Masculino",
          "Masculino",
          "Masculino",
          "Masculino",
          "Masculino",
          "Masculino",
          "Masculino",
          "Feminino",
          "Masculino",
          "Masculino",
          "Feminino",
          "Masculino",
          "Masculino",
          "Masculino",
          "Masculino",
          "Feminino",
          "Masculino",
          "Feminino",
          "Feminino",
          "Masculino",
          "Masculino",
          "Masculino",
          "Masculino",
          "Masculino",
          "Masculino",
          "Masculino",
          "Masculino",
          "Masculino",
          "Masculino",
          "Masculino",
          "Masculino",
          "Masculino",
          "Masculino",
          "Masculino",
          "Masculino",
          "Masculino",
          "Masculino",
          "Masculino",
          "Masculino",
          "Masculino",
          "Masculino",
          "Masculino",
          "Masculino",
          "Feminino",
          "Masculino",
          "Masculino",
          "Masculino",
          "Masculino",
          "Feminino",
          "Masculino",
          "Masculino",
          "Masculino",
          "Feminino",
          "Masculino",
          "Masculino",
          "Feminino",
          "Feminino",
          "Masculino",
          "Masculino",
          "Masculino",
          "Masculino",
          "Masculino",
          "Masculino",
          "Masculino",
          "Masculino",
          "Masculino",
          "Masculino",
          "Masculino",
          "Masculino",
          "Masculino",
          "Masculino",
          "Masculino",
          "Masculino",
          "Masculino",
          "Masculino",
          "Masculino",
          "Masculino",
          "Masculino",
          "Masculino",
          "Feminino",
          "Masculino",
          "Masculino",
          "Masculino",
          "Masculino",
          "Masculino",
          "Masculino",
          "Masculino",
          "Feminino",
          "Feminino",
          "Masculino",
          "Masculino",
          "Masculino",
          "Feminino",
          "Masculino",
          "Masculino",
          "Masculino",
          "Feminino",
          "Masculino",
          "Masculino",
          "Masculino",
          "Masculino",
          "Masculino",
          "Masculino",
          "Masculino",
          "Masculino",
          "Masculino",
          "Masculino",
          "Masculino",
          "Masculino",
          "Masculino",
          "Masculino",
          "Masculino",
          "Masculino",
          "Masculino",
          "Masculino",
          "Masculino",
          "Masculino",
          "Masculino",
          "Masculino",
          "Masculino",
          "Masculino",
          "Feminino",
          "Masculino",
          "Masculino",
          "Masculino",
          "Masculino",
          "Masculino",
          "Masculino",
          "Masculino",
          "Masculino",
          "Masculino",
          "Masculino",
          "Masculino",
          "Masculino",
          "Masculino",
          "Masculino",
          "Masculino",
          "Masculino",
          "Masculino"
         ],
         "legendgroup": "",
         "name": "",
         "showlegend": true,
         "type": "pie"
        }
       ],
       "layout": {
        "annotations": [
         {
          "font": {},
          "showarrow": false,
          "text": "dataset=Finished",
          "x": 0.245,
          "xanchor": "center",
          "xref": "paper",
          "y": 1,
          "yanchor": "bottom",
          "yref": "paper"
         },
         {
          "font": {},
          "showarrow": false,
          "text": "dataset=Deactive",
          "x": 0.755,
          "xanchor": "center",
          "xref": "paper",
          "y": 1,
          "yanchor": "bottom",
          "yref": "paper"
         }
        ],
        "font": {
         "color": "Black",
         "family": "Courier New, monospace",
         "size": 18,
         "variant": "small-caps"
        },
        "legend": {
         "tracegroupgap": 0
        },
        "margin": {
         "t": 60
        },
        "template": {
         "data": {
          "bar": [
           {
            "error_x": {
             "color": "#2a3f5f"
            },
            "error_y": {
             "color": "#2a3f5f"
            },
            "marker": {
             "line": {
              "color": "#E5ECF6",
              "width": 0.5
             },
             "pattern": {
              "fillmode": "overlay",
              "size": 10,
              "solidity": 0.2
             }
            },
            "type": "bar"
           }
          ],
          "barpolar": [
           {
            "marker": {
             "line": {
              "color": "#E5ECF6",
              "width": 0.5
             },
             "pattern": {
              "fillmode": "overlay",
              "size": 10,
              "solidity": 0.2
             }
            },
            "type": "barpolar"
           }
          ],
          "carpet": [
           {
            "aaxis": {
             "endlinecolor": "#2a3f5f",
             "gridcolor": "white",
             "linecolor": "white",
             "minorgridcolor": "white",
             "startlinecolor": "#2a3f5f"
            },
            "baxis": {
             "endlinecolor": "#2a3f5f",
             "gridcolor": "white",
             "linecolor": "white",
             "minorgridcolor": "white",
             "startlinecolor": "#2a3f5f"
            },
            "type": "carpet"
           }
          ],
          "choropleth": [
           {
            "colorbar": {
             "outlinewidth": 0,
             "ticks": ""
            },
            "type": "choropleth"
           }
          ],
          "contour": [
           {
            "colorbar": {
             "outlinewidth": 0,
             "ticks": ""
            },
            "colorscale": [
             [
              0,
              "#0d0887"
             ],
             [
              0.1111111111111111,
              "#46039f"
             ],
             [
              0.2222222222222222,
              "#7201a8"
             ],
             [
              0.3333333333333333,
              "#9c179e"
             ],
             [
              0.4444444444444444,
              "#bd3786"
             ],
             [
              0.5555555555555556,
              "#d8576b"
             ],
             [
              0.6666666666666666,
              "#ed7953"
             ],
             [
              0.7777777777777778,
              "#fb9f3a"
             ],
             [
              0.8888888888888888,
              "#fdca26"
             ],
             [
              1,
              "#f0f921"
             ]
            ],
            "type": "contour"
           }
          ],
          "contourcarpet": [
           {
            "colorbar": {
             "outlinewidth": 0,
             "ticks": ""
            },
            "type": "contourcarpet"
           }
          ],
          "heatmap": [
           {
            "colorbar": {
             "outlinewidth": 0,
             "ticks": ""
            },
            "colorscale": [
             [
              0,
              "#0d0887"
             ],
             [
              0.1111111111111111,
              "#46039f"
             ],
             [
              0.2222222222222222,
              "#7201a8"
             ],
             [
              0.3333333333333333,
              "#9c179e"
             ],
             [
              0.4444444444444444,
              "#bd3786"
             ],
             [
              0.5555555555555556,
              "#d8576b"
             ],
             [
              0.6666666666666666,
              "#ed7953"
             ],
             [
              0.7777777777777778,
              "#fb9f3a"
             ],
             [
              0.8888888888888888,
              "#fdca26"
             ],
             [
              1,
              "#f0f921"
             ]
            ],
            "type": "heatmap"
           }
          ],
          "histogram": [
           {
            "marker": {
             "pattern": {
              "fillmode": "overlay",
              "size": 10,
              "solidity": 0.2
             }
            },
            "type": "histogram"
           }
          ],
          "histogram2d": [
           {
            "colorbar": {
             "outlinewidth": 0,
             "ticks": ""
            },
            "colorscale": [
             [
              0,
              "#0d0887"
             ],
             [
              0.1111111111111111,
              "#46039f"
             ],
             [
              0.2222222222222222,
              "#7201a8"
             ],
             [
              0.3333333333333333,
              "#9c179e"
             ],
             [
              0.4444444444444444,
              "#bd3786"
             ],
             [
              0.5555555555555556,
              "#d8576b"
             ],
             [
              0.6666666666666666,
              "#ed7953"
             ],
             [
              0.7777777777777778,
              "#fb9f3a"
             ],
             [
              0.8888888888888888,
              "#fdca26"
             ],
             [
              1,
              "#f0f921"
             ]
            ],
            "type": "histogram2d"
           }
          ],
          "histogram2dcontour": [
           {
            "colorbar": {
             "outlinewidth": 0,
             "ticks": ""
            },
            "colorscale": [
             [
              0,
              "#0d0887"
             ],
             [
              0.1111111111111111,
              "#46039f"
             ],
             [
              0.2222222222222222,
              "#7201a8"
             ],
             [
              0.3333333333333333,
              "#9c179e"
             ],
             [
              0.4444444444444444,
              "#bd3786"
             ],
             [
              0.5555555555555556,
              "#d8576b"
             ],
             [
              0.6666666666666666,
              "#ed7953"
             ],
             [
              0.7777777777777778,
              "#fb9f3a"
             ],
             [
              0.8888888888888888,
              "#fdca26"
             ],
             [
              1,
              "#f0f921"
             ]
            ],
            "type": "histogram2dcontour"
           }
          ],
          "mesh3d": [
           {
            "colorbar": {
             "outlinewidth": 0,
             "ticks": ""
            },
            "type": "mesh3d"
           }
          ],
          "parcoords": [
           {
            "line": {
             "colorbar": {
              "outlinewidth": 0,
              "ticks": ""
             }
            },
            "type": "parcoords"
           }
          ],
          "pie": [
           {
            "automargin": true,
            "type": "pie"
           }
          ],
          "scatter": [
           {
            "fillpattern": {
             "fillmode": "overlay",
             "size": 10,
             "solidity": 0.2
            },
            "type": "scatter"
           }
          ],
          "scatter3d": [
           {
            "line": {
             "colorbar": {
              "outlinewidth": 0,
              "ticks": ""
             }
            },
            "marker": {
             "colorbar": {
              "outlinewidth": 0,
              "ticks": ""
             }
            },
            "type": "scatter3d"
           }
          ],
          "scattercarpet": [
           {
            "marker": {
             "colorbar": {
              "outlinewidth": 0,
              "ticks": ""
             }
            },
            "type": "scattercarpet"
           }
          ],
          "scattergeo": [
           {
            "marker": {
             "colorbar": {
              "outlinewidth": 0,
              "ticks": ""
             }
            },
            "type": "scattergeo"
           }
          ],
          "scattergl": [
           {
            "marker": {
             "colorbar": {
              "outlinewidth": 0,
              "ticks": ""
             }
            },
            "type": "scattergl"
           }
          ],
          "scattermap": [
           {
            "marker": {
             "colorbar": {
              "outlinewidth": 0,
              "ticks": ""
             }
            },
            "type": "scattermap"
           }
          ],
          "scattermapbox": [
           {
            "marker": {
             "colorbar": {
              "outlinewidth": 0,
              "ticks": ""
             }
            },
            "type": "scattermapbox"
           }
          ],
          "scatterpolar": [
           {
            "marker": {
             "colorbar": {
              "outlinewidth": 0,
              "ticks": ""
             }
            },
            "type": "scatterpolar"
           }
          ],
          "scatterpolargl": [
           {
            "marker": {
             "colorbar": {
              "outlinewidth": 0,
              "ticks": ""
             }
            },
            "type": "scatterpolargl"
           }
          ],
          "scatterternary": [
           {
            "marker": {
             "colorbar": {
              "outlinewidth": 0,
              "ticks": ""
             }
            },
            "type": "scatterternary"
           }
          ],
          "surface": [
           {
            "colorbar": {
             "outlinewidth": 0,
             "ticks": ""
            },
            "colorscale": [
             [
              0,
              "#0d0887"
             ],
             [
              0.1111111111111111,
              "#46039f"
             ],
             [
              0.2222222222222222,
              "#7201a8"
             ],
             [
              0.3333333333333333,
              "#9c179e"
             ],
             [
              0.4444444444444444,
              "#bd3786"
             ],
             [
              0.5555555555555556,
              "#d8576b"
             ],
             [
              0.6666666666666666,
              "#ed7953"
             ],
             [
              0.7777777777777778,
              "#fb9f3a"
             ],
             [
              0.8888888888888888,
              "#fdca26"
             ],
             [
              1,
              "#f0f921"
             ]
            ],
            "type": "surface"
           }
          ],
          "table": [
           {
            "cells": {
             "fill": {
              "color": "#EBF0F8"
             },
             "line": {
              "color": "white"
             }
            },
            "header": {
             "fill": {
              "color": "#C8D4E3"
             },
             "line": {
              "color": "white"
             }
            },
            "type": "table"
           }
          ]
         },
         "layout": {
          "annotationdefaults": {
           "arrowcolor": "#2a3f5f",
           "arrowhead": 0,
           "arrowwidth": 1
          },
          "autotypenumbers": "strict",
          "coloraxis": {
           "colorbar": {
            "outlinewidth": 0,
            "ticks": ""
           }
          },
          "colorscale": {
           "diverging": [
            [
             0,
             "#8e0152"
            ],
            [
             0.1,
             "#c51b7d"
            ],
            [
             0.2,
             "#de77ae"
            ],
            [
             0.3,
             "#f1b6da"
            ],
            [
             0.4,
             "#fde0ef"
            ],
            [
             0.5,
             "#f7f7f7"
            ],
            [
             0.6,
             "#e6f5d0"
            ],
            [
             0.7,
             "#b8e186"
            ],
            [
             0.8,
             "#7fbc41"
            ],
            [
             0.9,
             "#4d9221"
            ],
            [
             1,
             "#276419"
            ]
           ],
           "sequential": [
            [
             0,
             "#0d0887"
            ],
            [
             0.1111111111111111,
             "#46039f"
            ],
            [
             0.2222222222222222,
             "#7201a8"
            ],
            [
             0.3333333333333333,
             "#9c179e"
            ],
            [
             0.4444444444444444,
             "#bd3786"
            ],
            [
             0.5555555555555556,
             "#d8576b"
            ],
            [
             0.6666666666666666,
             "#ed7953"
            ],
            [
             0.7777777777777778,
             "#fb9f3a"
            ],
            [
             0.8888888888888888,
             "#fdca26"
            ],
            [
             1,
             "#f0f921"
            ]
           ],
           "sequentialminus": [
            [
             0,
             "#0d0887"
            ],
            [
             0.1111111111111111,
             "#46039f"
            ],
            [
             0.2222222222222222,
             "#7201a8"
            ],
            [
             0.3333333333333333,
             "#9c179e"
            ],
            [
             0.4444444444444444,
             "#bd3786"
            ],
            [
             0.5555555555555556,
             "#d8576b"
            ],
            [
             0.6666666666666666,
             "#ed7953"
            ],
            [
             0.7777777777777778,
             "#fb9f3a"
            ],
            [
             0.8888888888888888,
             "#fdca26"
            ],
            [
             1,
             "#f0f921"
            ]
           ]
          },
          "colorway": [
           "#636efa",
           "#EF553B",
           "#00cc96",
           "#ab63fa",
           "#FFA15A",
           "#19d3f3",
           "#FF6692",
           "#B6E880",
           "#FF97FF",
           "#FECB52"
          ],
          "font": {
           "color": "#2a3f5f"
          },
          "geo": {
           "bgcolor": "white",
           "lakecolor": "white",
           "landcolor": "#E5ECF6",
           "showlakes": true,
           "showland": true,
           "subunitcolor": "white"
          },
          "hoverlabel": {
           "align": "left"
          },
          "hovermode": "closest",
          "mapbox": {
           "style": "light"
          },
          "paper_bgcolor": "white",
          "plot_bgcolor": "#E5ECF6",
          "polar": {
           "angularaxis": {
            "gridcolor": "white",
            "linecolor": "white",
            "ticks": ""
           },
           "bgcolor": "#E5ECF6",
           "radialaxis": {
            "gridcolor": "white",
            "linecolor": "white",
            "ticks": ""
           }
          },
          "scene": {
           "xaxis": {
            "backgroundcolor": "#E5ECF6",
            "gridcolor": "white",
            "gridwidth": 2,
            "linecolor": "white",
            "showbackground": true,
            "ticks": "",
            "zerolinecolor": "white"
           },
           "yaxis": {
            "backgroundcolor": "#E5ECF6",
            "gridcolor": "white",
            "gridwidth": 2,
            "linecolor": "white",
            "showbackground": true,
            "ticks": "",
            "zerolinecolor": "white"
           },
           "zaxis": {
            "backgroundcolor": "#E5ECF6",
            "gridcolor": "white",
            "gridwidth": 2,
            "linecolor": "white",
            "showbackground": true,
            "ticks": "",
            "zerolinecolor": "white"
           }
          },
          "shapedefaults": {
           "line": {
            "color": "#2a3f5f"
           }
          },
          "ternary": {
           "aaxis": {
            "gridcolor": "white",
            "linecolor": "white",
            "ticks": ""
           },
           "baxis": {
            "gridcolor": "white",
            "linecolor": "white",
            "ticks": ""
           },
           "bgcolor": "#E5ECF6",
           "caxis": {
            "gridcolor": "white",
            "linecolor": "white",
            "ticks": ""
           }
          },
          "title": {
           "x": 0.05
          },
          "xaxis": {
           "automargin": true,
           "gridcolor": "white",
           "linecolor": "white",
           "ticks": "",
           "title": {
            "standoff": 15
           },
           "zerolinecolor": "white",
           "zerolinewidth": 2
          },
          "yaxis": {
           "automargin": true,
           "gridcolor": "white",
           "linecolor": "white",
           "ticks": "",
           "title": {
            "standoff": 15
           },
           "zerolinecolor": "white",
           "zerolinewidth": 2
          }
         }
        },
        "title": {
         "text": "Sexo "
        }
       }
      },
      "image/png": "[encoded data removed]"
     },
     "metadata": {},
     "output_type": "display_data"
    },
    {
     "data": {
      "application/vnd.plotly.v1+json": {
       "config": {
        "plotlyServerURL": "https://plot.ly"
       },
       "data": [
        {
         "domain": {
          "x": [
           0,
           0.49
          ],
          "y": [
           0,
           1
          ]
         },
         "hole": 0.3,
         "hovertemplate": "dataset=Finished<br>Nacionalidade=%{label}<extra></extra>",
         "labels": [
          "BRASILEIRO",
          "BRASILEIRO",
          "BRASILEIRO",
          "BRASILEIRO",
          "BRASILEIRO",
          "BRASILEIRO",
          "BRASILEIRO",
          "BRASILEIRO",
          "BRASILEIRO",
          "BRASILEIRO",
          "BRASILEIRO",
          "BRASILEIRO",
          "BRASILEIRO",
          "BRASILEIRO",
          "BRASILEIRO",
          "BRASILEIRO",
          "BRASILEIRO",
          "BRASILEIRO",
          "BRASILEIRO",
          "BRASILEIRO",
          "BRASILEIRO",
          "BRASILEIRO",
          "BRASILEIRO",
          "BRASILEIRO",
          "BRASILEIRO",
          "BRASILEIRO",
          "BRASILEIRO",
          "BRASILEIRO",
          "BRASILEIRO",
          "BRASILEIRO",
          "BRASILEIRO",
          "BRASILEIRO",
          "BRASILEIRO",
          "BRASILEIRO",
          "BRASILEIRO",
          "BRASILEIRO",
          "BRASILEIRO",
          "BRASILEIRO",
          "BRASILEIRO",
          "BRASILEIRO",
          "BRASILEIRO",
          "BRASILEIRO",
          "BRASILEIRO",
          "BRASILEIRO",
          "BRASILEIRO",
          "BRASILEIRO",
          "BRASILEIRO",
          "BRASILEIRO",
          "BRASILEIRO",
          "BRASILEIRO",
          "BRASILEIRO",
          "BRASILEIRO",
          "BRASILEIRO",
          "BRASILEIRO",
          "BRASILEIRO",
          "BRASILEIRO",
          "BRASILEIRO",
          "BRASILEIRO",
          "BRASILEIRO",
          "BRASILEIRO",
          "BRASILEIRO",
          "BRASILEIRO",
          "BRASILEIRO",
          "BRASILEIRO",
          "BRASILEIRO",
          "BRASILEIRO",
          "BRASILEIRO",
          "BRASILEIRO",
          "BRASILEIRO",
          "BRASILEIRO",
          "BRASILEIRO",
          "BRASILEIRO",
          "BRASILEIRO",
          "BRASILEIRO",
          "BRASILEIRO",
          "BRASILEIRO",
          "BRASILEIRO",
          "BRASILEIRO",
          "BRASILEIRO",
          "BRASILEIRO",
          "BRASILEIRO",
          "BRASILEIRO",
          "BRASILEIRO",
          "BRASILEIRO",
          "BRASILEIRO",
          "BRASILEIRO",
          "BRASILEIRO",
          "BRASILEIRO",
          "BRASILEIRO",
          "BRASILEIRO",
          "BRASILEIRO",
          "BRASILEIRO",
          "BRASILEIRO",
          "BRASILEIRO",
          "BRASILEIRO",
          "BRASILEIRO",
          "BRASILEIRO",
          "BRASILEIRO",
          "BRASILEIRO",
          "BRASILEIRO",
          "BRASILEIRO",
          "BRASILEIRO",
          "BRASILEIRO",
          "BRASILEIRO",
          "BRASILEIRO",
          "BRASILEIRO",
          "BRASILEIRO",
          "BRASILEIRO",
          "BRASILEIRO",
          "BRASILEIRO",
          "BRASILEIRO"
         ],
         "legendgroup": "",
         "name": "",
         "showlegend": true,
         "type": "pie"
        },
        {
         "domain": {
          "x": [
           0.51,
           1
          ],
          "y": [
           0,
           1
          ]
         },
         "hole": 0.3,
         "hovertemplate": "dataset=Deactive<br>Nacionalidade=%{label}<extra></extra>",
         "labels": [
          "BRASILEIRO",
          "BRASILEIRO",
          "BRASILEIRO",
          "BRASILEIRO",
          "BRASILEIRO",
          "BRASILEIRO",
          "BRASILEIRO",
          "BRASILEIRO",
          "BRASILEIRO",
          "BRASILEIRO",
          "BRASILEIRO",
          "BRASILEIRO",
          "BRASILEIRO",
          "BRASILEIRO",
          "BRASILEIRO",
          "BRASILEIRO",
          "BRASILEIRO",
          "BRASILEIRO",
          "BRASILEIRO",
          "BRASILEIRO",
          "BRASILEIRO",
          "BRASILEIRO",
          "BRASILEIRO",
          "BRASILEIRO",
          "BRASILEIRO",
          "BRASILEIRO",
          "BRASILEIRO",
          "BRASILEIRO",
          "BRASILEIRO",
          "BRASILEIRO",
          "BRASILEIRO",
          "BRASILEIRO",
          "BRASILEIRO",
          "BRASILEIRO",
          "BRASILEIRO",
          "BRASILEIRO",
          "BRASILEIRO",
          "BRASILEIRO",
          "BRASILEIRO",
          "BRASILEIRO",
          "BRASILEIRO",
          "BRASILEIRO",
          "BRASILEIRO",
          "BRASILEIRO",
          "BRASILEIRO",
          "BRASILEIRO",
          "BRASILEIRO",
          "BRASILEIRO",
          "BRASILEIRO",
          "BRASILEIRO",
          "BRASILEIRO",
          "BRASILEIRO",
          "BRASILEIRO",
          "BRASILEIRO",
          "BRASILEIRO",
          "BRASILEIRO",
          "BRASILEIRO",
          "BRASILEIRO",
          "BRASILEIRO",
          "BRASILEIRO",
          "BRASILEIRO",
          "BRASILEIRO",
          "BRASILEIRO",
          "BRASILEIRO",
          "BRASILEIRO",
          "BRASILEIRO",
          "BRASILEIRO",
          "BRASILEIRO",
          "BRASILEIRO",
          "BRASILEIRO",
          "BRASILEIRO",
          "BRASILEIRO",
          "BRASILEIRO",
          "BRASILEIRO",
          "BRASILEIRO",
          "BRASILEIRO",
          "BRASILEIRO",
          "BRASILEIRO",
          "BRASILEIRO",
          "BRASILEIRO",
          "BRASILEIRO",
          "BRASILEIRO",
          "BRASILEIRO",
          "BRASILEIRO",
          "BRASILEIRO",
          "BRASILEIRO",
          "BRASILEIRO",
          "BRASILEIRO",
          "BRASILEIRO",
          "BRASILEIRO",
          "BRASILEIRO",
          "BRASILEIRO",
          "BRASILEIRO",
          "BRASILEIRO",
          "BRASILEIRO",
          "BRASILEIRO",
          "BRASILEIRO",
          "BRASILEIRO",
          "BRASILEIRO",
          "BRASILEIRO",
          "BRASILEIRO",
          "BRASILEIRO",
          "BRASILEIRO",
          "BRASILEIRO",
          "BRASILEIRO",
          "BRASILEIRO",
          "BRASILEIRO",
          "BRASILEIRO",
          "BRASILEIRO",
          "BRASILEIRO",
          "BRASILEIRO",
          "BRASILEIRO",
          "BRASILEIRO",
          "BRASILEIRO",
          "BRASILEIRO",
          "BRASILEIRO",
          "BRASILEIRO",
          "BRASILEIRO",
          "BRASILEIRO",
          "BRASILEIRO",
          "BRASILEIRO",
          "BRASILEIRO",
          "BRASILEIRO",
          "BRASILEIRO",
          "BRASILEIRO",
          "BRASILEIRO",
          "BRASILEIRO",
          "BRASILEIRO",
          "BRASILEIRO",
          "BRASILEIRO",
          "BRASILEIRO",
          "BRASILEIRO",
          "BRASILEIRO",
          "BRASILEIRO",
          "BRASILEIRO",
          "BRASILEIRO",
          "BRASILEIRO",
          "BRASILEIRO",
          "BRASILEIRO",
          "BRASILEIRO",
          "BRASILEIRO",
          "BRASILEIRO",
          "BRASILEIRO",
          "BRASILEIRO",
          "BRASILEIRO",
          "BRASILEIRO",
          "BRASILEIRO",
          "BRASILEIRO",
          "BRASILEIRO",
          "BRASILEIRO",
          "BRASILEIRO",
          "BRASILEIRO",
          "BRASILEIRO",
          "BRASILEIRO",
          "BRASILEIRO",
          "BRASILEIRO",
          "BRASILEIRO",
          "BRASILEIRO",
          "BRASILEIRO",
          "BRASILEIRO",
          "BRASILEIRO",
          "BRASILEIRO",
          "BRASILEIRO",
          "BRASILEIRO",
          "BRASILEIRO",
          "BRASILEIRO",
          "BRASILEIRO",
          "BRASILEIRO",
          "BRASILEIRO",
          "BRASILEIRO",
          "BRASILEIRO",
          "BRASILEIRO",
          "BRASILEIRO",
          "BRASILEIRO",
          "BRASILEIRO",
          "BRASILEIRO",
          "BRASILEIRO",
          "BRASILEIRO",
          "BRASILEIRO",
          "BRASILEIRO",
          "BRASILEIRO",
          "BRASILEIRO",
          "BRASILEIRO",
          "BRASILEIRO",
          "BRASILEIRO",
          "BRASILEIRO",
          "BRASILEIRO",
          "BRASILEIRO",
          "BRASILEIRO",
          "BRASILEIRO",
          "BRASILEIRO",
          "BRASILEIRO",
          "BRASILEIRO",
          "BRASILEIRO",
          "BRASILEIRO",
          "BRASILEIRO",
          "BRASILEIRO",
          "BRASILEIRO",
          "BRASILEIRO",
          "BRASILEIRO",
          "BRASILEIRO",
          "BRASILEIRO",
          "BRASILEIRO",
          "BRASILEIRO",
          "BRASILEIRO",
          "BRASILEIRO",
          "BRASILEIRO",
          "BRASILEIRO",
          "BRASILEIRO",
          "BRASILEIRO",
          "BRASILEIRO",
          "BRASILEIRO",
          "BRASILEIRO",
          "BRASILEIRO",
          "BRASILEIRO",
          "BRASILEIRO",
          "BRASILEIRO",
          "BRASILEIRO",
          "BRASILEIRO",
          "BRASILEIRO",
          "BRASILEIRO",
          "BRASILEIRO",
          "BRASILEIRO",
          "BRASILEIRO",
          "BRASILEIRO",
          "BRASILEIRO",
          "BRASILEIRO",
          "BRASILEIRO",
          "BRASILEIRO",
          "BRASILEIRO",
          "BRASILEIRO",
          "BRASILEIRO",
          "BRASILEIRO",
          "BRASILEIRO",
          "BRASILEIRO",
          "BRASILEIRO",
          "BRASILEIRO",
          "BRASILEIRO",
          "BRASILEIRO",
          "BRASILEIRO",
          "BRASILEIRO",
          "BRASILEIRO",
          "BRASILEIRO",
          "BRASILEIRO",
          "BRASILEIRO",
          "BRASILEIRO",
          "BRASILEIRO",
          "BRASILEIRO",
          "BRASILEIRO",
          "BRASILEIRO",
          "BRASILEIRO",
          "BRASILEIRO",
          "BRASILEIRO",
          "BRASILEIRO",
          "BRASILEIRO",
          "BRASILEIRO",
          "BRASILEIRO",
          "BRASILEIRO",
          "BRASILEIRO",
          "BRASILEIRO",
          "BRASILEIRO",
          "BRASILEIRO",
          "BRASILEIRO",
          "BRASILEIRO",
          "BRASILEIRO",
          "BRASILEIRO",
          "BRASILEIRO",
          "BRASILEIRO",
          "BRASILEIRO",
          "BRASILEIRO",
          "BRASILEIRO",
          "BRASILEIRO",
          "BRASILEIRO",
          "BRASILEIRO",
          "BRASILEIRO",
          "BRASILEIRO",
          "BRASILEIRO",
          "BRASILEIRO",
          "BRASILEIRO",
          "BRASILEIRO",
          "BRASILEIRO",
          "BRASILEIRO",
          "BRASILEIRO",
          "BRASILEIRO",
          "BRASILEIRO",
          "BRASILEIRO",
          "BRASILEIRO",
          "BRASILEIRO",
          "BRASILEIRO",
          "BRASILEIRO",
          "BRASILEIRO",
          "BRASILEIRO",
          "BRASILEIRO",
          "BRASILEIRO",
          "BRASILEIRO",
          "BRASILEIRO",
          "BRASILEIRO",
          "BRASILEIRO",
          "BRASILEIRO",
          "BRASILEIRO",
          "BRASILEIRO",
          "BRASILEIRO",
          "BRASILEIRO",
          "BRASILEIRO",
          "BRASILEIRO",
          "BRASILEIRO",
          "BRASILEIRO",
          "BRASILEIRO",
          "BRASILEIRO",
          "BRASILEIRO",
          "BRASILEIRO",
          "BRASILEIRO",
          "BRASILEIRO",
          "BRASILEIRO",
          "BRASILEIRO",
          "BRASILEIRO",
          "BRASILEIRO",
          "BRASILEIRO",
          "BRASILEIRO",
          "BRASILEIRO",
          "BRASILEIRO",
          "BRASILEIRO",
          "BRASILEIRO",
          "BRASILEIRO",
          "BRASILEIRO",
          "BRASILEIRO",
          "BRASILEIRO",
          "BRASILEIRO",
          "BRASILEIRO",
          "BRASILEIRO",
          "BRASILEIRO",
          "BRASILEIRO",
          "BRASILEIRO",
          "BRASILEIRO",
          "BRASILEIRO",
          "BRASILEIRO",
          "BRASILEIRO",
          "BRASILEIRO",
          "BRASILEIRO",
          "BRASILEIRO",
          "BRASILEIRO",
          "BRASILEIRO",
          "BRASILEIRO",
          "BRASILEIRO",
          "BRASILEIRO",
          "BRASILEIRO",
          "BRASILEIRO",
          "BRASILEIRO",
          "BRASILEIRO",
          "BRASILEIRO",
          "BRASILEIRO",
          "BRASILEIRO",
          "BRASILEIRO",
          "BRASILEIRO",
          "BRASILEIRO",
          "BRASILEIRO",
          "BRASILEIRO",
          "BRASILEIRO",
          "BRASILEIRO",
          "BRASILEIRO",
          "BRASILEIRO",
          "BRASILEIRO",
          "BRASILEIRO",
          "BRASILEIRO",
          "BRASILEIRO",
          "BRASILEIRO",
          "BRASILEIRO",
          "BRASILEIRO",
          "BRASILEIRO",
          "BRASILEIRO",
          "BRASILEIRO",
          "BRASILEIRO",
          "BRASILEIRO",
          "BRASILEIRO",
          "BRASILEIRO",
          "BRASILEIRO",
          "BRASILEIRO",
          "BRASILEIRO",
          "BRASILEIRO",
          "BRASILEIRO",
          "BRASILEIRO",
          "BRASILEIRO",
          "BRASILEIRO",
          "BRASILEIRO",
          "BRASILEIRO",
          "BRASILEIRO",
          "BRASILEIRO"
         ],
         "legendgroup": "",
         "name": "",
         "showlegend": true,
         "type": "pie"
        }
       ],
       "layout": {
        "annotations": [
         {
          "font": {},
          "showarrow": false,
          "text": "dataset=Finished",
          "x": 0.245,
          "xanchor": "center",
          "xref": "paper",
          "y": 1,
          "yanchor": "bottom",
          "yref": "paper"
         },
         {
          "font": {},
          "showarrow": false,
          "text": "dataset=Deactive",
          "x": 0.755,
          "xanchor": "center",
          "xref": "paper",
          "y": 1,
          "yanchor": "bottom",
          "yref": "paper"
         }
        ],
        "font": {
         "color": "Black",
         "family": "Courier New, monospace",
         "size": 18,
         "variant": "small-caps"
        },
        "legend": {
         "tracegroupgap": 0
        },
        "margin": {
         "t": 60
        },
        "template": {
         "data": {
          "bar": [
           {
            "error_x": {
             "color": "#2a3f5f"
            },
            "error_y": {
             "color": "#2a3f5f"
            },
            "marker": {
             "line": {
              "color": "#E5ECF6",
              "width": 0.5
             },
             "pattern": {
              "fillmode": "overlay",
              "size": 10,
              "solidity": 0.2
             }
            },
            "type": "bar"
           }
          ],
          "barpolar": [
           {
            "marker": {
             "line": {
              "color": "#E5ECF6",
              "width": 0.5
             },
             "pattern": {
              "fillmode": "overlay",
              "size": 10,
              "solidity": 0.2
             }
            },
            "type": "barpolar"
           }
          ],
          "carpet": [
           {
            "aaxis": {
             "endlinecolor": "#2a3f5f",
             "gridcolor": "white",
             "linecolor": "white",
             "minorgridcolor": "white",
             "startlinecolor": "#2a3f5f"
            },
            "baxis": {
             "endlinecolor": "#2a3f5f",
             "gridcolor": "white",
             "linecolor": "white",
             "minorgridcolor": "white",
             "startlinecolor": "#2a3f5f"
            },
            "type": "carpet"
           }
          ],
          "choropleth": [
           {
            "colorbar": {
             "outlinewidth": 0,
             "ticks": ""
            },
            "type": "choropleth"
           }
          ],
          "contour": [
           {
            "colorbar": {
             "outlinewidth": 0,
             "ticks": ""
            },
            "colorscale": [
             [
              0,
              "#0d0887"
             ],
             [
              0.1111111111111111,
              "#46039f"
             ],
             [
              0.2222222222222222,
              "#7201a8"
             ],
             [
              0.3333333333333333,
              "#9c179e"
             ],
             [
              0.4444444444444444,
              "#bd3786"
             ],
             [
              0.5555555555555556,
              "#d8576b"
             ],
             [
              0.6666666666666666,
              "#ed7953"
             ],
             [
              0.7777777777777778,
              "#fb9f3a"
             ],
             [
              0.8888888888888888,
              "#fdca26"
             ],
             [
              1,
              "#f0f921"
             ]
            ],
            "type": "contour"
           }
          ],
          "contourcarpet": [
           {
            "colorbar": {
             "outlinewidth": 0,
             "ticks": ""
            },
            "type": "contourcarpet"
           }
          ],
          "heatmap": [
           {
            "colorbar": {
             "outlinewidth": 0,
             "ticks": ""
            },
            "colorscale": [
             [
              0,
              "#0d0887"
             ],
             [
              0.1111111111111111,
              "#46039f"
             ],
             [
              0.2222222222222222,
              "#7201a8"
             ],
             [
              0.3333333333333333,
              "#9c179e"
             ],
             [
              0.4444444444444444,
              "#bd3786"
             ],
             [
              0.5555555555555556,
              "#d8576b"
             ],
             [
              0.6666666666666666,
              "#ed7953"
             ],
             [
              0.7777777777777778,
              "#fb9f3a"
             ],
             [
              0.8888888888888888,
              "#fdca26"
             ],
             [
              1,
              "#f0f921"
             ]
            ],
            "type": "heatmap"
           }
          ],
          "histogram": [
           {
            "marker": {
             "pattern": {
              "fillmode": "overlay",
              "size": 10,
              "solidity": 0.2
             }
            },
            "type": "histogram"
           }
          ],
          "histogram2d": [
           {
            "colorbar": {
             "outlinewidth": 0,
             "ticks": ""
            },
            "colorscale": [
             [
              0,
              "#0d0887"
             ],
             [
              0.1111111111111111,
              "#46039f"
             ],
             [
              0.2222222222222222,
              "#7201a8"
             ],
             [
              0.3333333333333333,
              "#9c179e"
             ],
             [
              0.4444444444444444,
              "#bd3786"
             ],
             [
              0.5555555555555556,
              "#d8576b"
             ],
             [
              0.6666666666666666,
              "#ed7953"
             ],
             [
              0.7777777777777778,
              "#fb9f3a"
             ],
             [
              0.8888888888888888,
              "#fdca26"
             ],
             [
              1,
              "#f0f921"
             ]
            ],
            "type": "histogram2d"
           }
          ],
          "histogram2dcontour": [
           {
            "colorbar": {
             "outlinewidth": 0,
             "ticks": ""
            },
            "colorscale": [
             [
              0,
              "#0d0887"
             ],
             [
              0.1111111111111111,
              "#46039f"
             ],
             [
              0.2222222222222222,
              "#7201a8"
             ],
             [
              0.3333333333333333,
              "#9c179e"
             ],
             [
              0.4444444444444444,
              "#bd3786"
             ],
             [
              0.5555555555555556,
              "#d8576b"
             ],
             [
              0.6666666666666666,
              "#ed7953"
             ],
             [
              0.7777777777777778,
              "#fb9f3a"
             ],
             [
              0.8888888888888888,
              "#fdca26"
             ],
             [
              1,
              "#f0f921"
             ]
            ],
            "type": "histogram2dcontour"
           }
          ],
          "mesh3d": [
           {
            "colorbar": {
             "outlinewidth": 0,
             "ticks": ""
            },
            "type": "mesh3d"
           }
          ],
          "parcoords": [
           {
            "line": {
             "colorbar": {
              "outlinewidth": 0,
              "ticks": ""
             }
            },
            "type": "parcoords"
           }
          ],
          "pie": [
           {
            "automargin": true,
            "type": "pie"
           }
          ],
          "scatter": [
           {
            "fillpattern": {
             "fillmode": "overlay",
             "size": 10,
             "solidity": 0.2
            },
            "type": "scatter"
           }
          ],
          "scatter3d": [
           {
            "line": {
             "colorbar": {
              "outlinewidth": 0,
              "ticks": ""
             }
            },
            "marker": {
             "colorbar": {
              "outlinewidth": 0,
              "ticks": ""
             }
            },
            "type": "scatter3d"
           }
          ],
          "scattercarpet": [
           {
            "marker": {
             "colorbar": {
              "outlinewidth": 0,
              "ticks": ""
             }
            },
            "type": "scattercarpet"
           }
          ],
          "scattergeo": [
           {
            "marker": {
             "colorbar": {
              "outlinewidth": 0,
              "ticks": ""
             }
            },
            "type": "scattergeo"
           }
          ],
          "scattergl": [
           {
            "marker": {
             "colorbar": {
              "outlinewidth": 0,
              "ticks": ""
             }
            },
            "type": "scattergl"
           }
          ],
          "scattermap": [
           {
            "marker": {
             "colorbar": {
              "outlinewidth": 0,
              "ticks": ""
             }
            },
            "type": "scattermap"
           }
          ],
          "scattermapbox": [
           {
            "marker": {
             "colorbar": {
              "outlinewidth": 0,
              "ticks": ""
             }
            },
            "type": "scattermapbox"
           }
          ],
          "scatterpolar": [
           {
            "marker": {
             "colorbar": {
              "outlinewidth": 0,
              "ticks": ""
             }
            },
            "type": "scatterpolar"
           }
          ],
          "scatterpolargl": [
           {
            "marker": {
             "colorbar": {
              "outlinewidth": 0,
              "ticks": ""
             }
            },
            "type": "scatterpolargl"
           }
          ],
          "scatterternary": [
           {
            "marker": {
             "colorbar": {
              "outlinewidth": 0,
              "ticks": ""
             }
            },
            "type": "scatterternary"
           }
          ],
          "surface": [
           {
            "colorbar": {
             "outlinewidth": 0,
             "ticks": ""
            },
            "colorscale": [
             [
              0,
              "#0d0887"
             ],
             [
              0.1111111111111111,
              "#46039f"
             ],
             [
              0.2222222222222222,
              "#7201a8"
             ],
             [
              0.3333333333333333,
              "#9c179e"
             ],
             [
              0.4444444444444444,
              "#bd3786"
             ],
             [
              0.5555555555555556,
              "#d8576b"
             ],
             [
              0.6666666666666666,
              "#ed7953"
             ],
             [
              0.7777777777777778,
              "#fb9f3a"
             ],
             [
              0.8888888888888888,
              "#fdca26"
             ],
             [
              1,
              "#f0f921"
             ]
            ],
            "type": "surface"
           }
          ],
          "table": [
           {
            "cells": {
             "fill": {
              "color": "#EBF0F8"
             },
             "line": {
              "color": "white"
             }
            },
            "header": {
             "fill": {
              "color": "#C8D4E3"
             },
             "line": {
              "color": "white"
             }
            },
            "type": "table"
           }
          ]
         },
         "layout": {
          "annotationdefaults": {
           "arrowcolor": "#2a3f5f",
           "arrowhead": 0,
           "arrowwidth": 1
          },
          "autotypenumbers": "strict",
          "coloraxis": {
           "colorbar": {
            "outlinewidth": 0,
            "ticks": ""
           }
          },
          "colorscale": {
           "diverging": [
            [
             0,
             "#8e0152"
            ],
            [
             0.1,
             "#c51b7d"
            ],
            [
             0.2,
             "#de77ae"
            ],
            [
             0.3,
             "#f1b6da"
            ],
            [
             0.4,
             "#fde0ef"
            ],
            [
             0.5,
             "#f7f7f7"
            ],
            [
             0.6,
             "#e6f5d0"
            ],
            [
             0.7,
             "#b8e186"
            ],
            [
             0.8,
             "#7fbc41"
            ],
            [
             0.9,
             "#4d9221"
            ],
            [
             1,
             "#276419"
            ]
           ],
           "sequential": [
            [
             0,
             "#0d0887"
            ],
            [
             0.1111111111111111,
             "#46039f"
            ],
            [
             0.2222222222222222,
             "#7201a8"
            ],
            [
             0.3333333333333333,
             "#9c179e"
            ],
            [
             0.4444444444444444,
             "#bd3786"
            ],
            [
             0.5555555555555556,
             "#d8576b"
            ],
            [
             0.6666666666666666,
             "#ed7953"
            ],
            [
             0.7777777777777778,
             "#fb9f3a"
            ],
            [
             0.8888888888888888,
             "#fdca26"
            ],
            [
             1,
             "#f0f921"
            ]
           ],
           "sequentialminus": [
            [
             0,
             "#0d0887"
            ],
            [
             0.1111111111111111,
             "#46039f"
            ],
            [
             0.2222222222222222,
             "#7201a8"
            ],
            [
             0.3333333333333333,
             "#9c179e"
            ],
            [
             0.4444444444444444,
             "#bd3786"
            ],
            [
             0.5555555555555556,
             "#d8576b"
            ],
            [
             0.6666666666666666,
             "#ed7953"
            ],
            [
             0.7777777777777778,
             "#fb9f3a"
            ],
            [
             0.8888888888888888,
             "#fdca26"
            ],
            [
             1,
             "#f0f921"
            ]
           ]
          },
          "colorway": [
           "#636efa",
           "#EF553B",
           "#00cc96",
           "#ab63fa",
           "#FFA15A",
           "#19d3f3",
           "#FF6692",
           "#B6E880",
           "#FF97FF",
           "#FECB52"
          ],
          "font": {
           "color": "#2a3f5f"
          },
          "geo": {
           "bgcolor": "white",
           "lakecolor": "white",
           "landcolor": "#E5ECF6",
           "showlakes": true,
           "showland": true,
           "subunitcolor": "white"
          },
          "hoverlabel": {
           "align": "left"
          },
          "hovermode": "closest",
          "mapbox": {
           "style": "light"
          },
          "paper_bgcolor": "white",
          "plot_bgcolor": "#E5ECF6",
          "polar": {
           "angularaxis": {
            "gridcolor": "white",
            "linecolor": "white",
            "ticks": ""
           },
           "bgcolor": "#E5ECF6",
           "radialaxis": {
            "gridcolor": "white",
            "linecolor": "white",
            "ticks": ""
           }
          },
          "scene": {
           "xaxis": {
            "backgroundcolor": "#E5ECF6",
            "gridcolor": "white",
            "gridwidth": 2,
            "linecolor": "white",
            "showbackground": true,
            "ticks": "",
            "zerolinecolor": "white"
           },
           "yaxis": {
            "backgroundcolor": "#E5ECF6",
            "gridcolor": "white",
            "gridwidth": 2,
            "linecolor": "white",
            "showbackground": true,
            "ticks": "",
            "zerolinecolor": "white"
           },
           "zaxis": {
            "backgroundcolor": "#E5ECF6",
            "gridcolor": "white",
            "gridwidth": 2,
            "linecolor": "white",
            "showbackground": true,
            "ticks": "",
            "zerolinecolor": "white"
           }
          },
          "shapedefaults": {
           "line": {
            "color": "#2a3f5f"
           }
          },
          "ternary": {
           "aaxis": {
            "gridcolor": "white",
            "linecolor": "white",
            "ticks": ""
           },
           "baxis": {
            "gridcolor": "white",
            "linecolor": "white",
            "ticks": ""
           },
           "bgcolor": "#E5ECF6",
           "caxis": {
            "gridcolor": "white",
            "linecolor": "white",
            "ticks": ""
           }
          },
          "title": {
           "x": 0.05
          },
          "xaxis": {
           "automargin": true,
           "gridcolor": "white",
           "linecolor": "white",
           "ticks": "",
           "title": {
            "standoff": 15
           },
           "zerolinecolor": "white",
           "zerolinewidth": 2
          },
          "yaxis": {
           "automargin": true,
           "gridcolor": "white",
           "linecolor": "white",
           "ticks": "",
           "title": {
            "standoff": 15
           },
           "zerolinecolor": "white",
           "zerolinewidth": 2
          }
         }
        },
        "title": {
         "text": "Nacionality "
        }
       }
      },
      "image/png": "[encoded data removed]"
     },
     "metadata": {},
     "output_type": "display_data"
    }
   ],
   "source": [
    "px.pie(\n",
    "    x, \n",
    "    names='Tipo ingresso', \n",
    "    facet_col='dataset', \n",
    "    hole=0.3,\n",
    ").update_layout(title={\"text\": \"Application \"},font=my_font).show()\n",
    "\n",
    "px.pie(\n",
    "    x, \n",
    "    names='Raça', \n",
    "    facet_col='dataset', \n",
    "    hole=0.3,\n",
    ").update_layout(title={\"text\": \"Ethinic \"},font=my_font).show()\n",
    "\n",
    "\n",
    "px.pie(\n",
    "    x, \n",
    "    names='Sexo', \n",
    "    facet_col='dataset', \n",
    "    hole=0.3,\n",
    ").update_layout(title={\"text\": \"Sexo \"},font=my_font).show()\n",
    "\n",
    "\n",
    "px.pie(\n",
    "    x, \n",
    "    names='Nacionalidade', \n",
    "    facet_col='dataset', \n",
    "    hole=0.3,\n",
    ").update_layout(title={\"text\": \"Nacionality \"},font=my_font).show()"
   ]
  },
  {
   "cell_type": "code",
   "execution_count": 49,
   "id": "02c2f2d3-c314-4338-978c-a7643b7c2d57",
   "metadata": {},
   "outputs": [
    {
     "data": {
      "application/vnd.plotly.v1+json": {
       "config": {
        "plotlyServerURL": "https://plot.ly"
       },
       "data": [
        {
         "domain": {
          "x": [
           0,
           1
          ],
          "y": [
           0,
           1
          ]
         },
         "hovertemplate": "Naturalidade=%{label}<br>count=%{value}<extra></extra>",
         "labels": [
          "Barra Do Garcas",
          "Goiania",
          "Barreiras",
          "Agua Boa",
          "Rondonopolis"
         ],
         "legendgroup": "",
         "name": "",
         "showlegend": true,
         "type": "pie",
         "values": {
          "bdata": "GwYDAwM=",
          "dtype": "i1"
         }
        }
       ],
       "layout": {
        "font": {
         "color": "Black",
         "family": "Courier New, monospace",
         "size": 18,
         "variant": "small-caps"
        },
        "legend": {
         "tracegroupgap": 0
        },
        "margin": {
         "t": 60
        },
        "template": {
         "data": {
          "bar": [
           {
            "error_x": {
             "color": "#2a3f5f"
            },
            "error_y": {
             "color": "#2a3f5f"
            },
            "marker": {
             "line": {
              "color": "#E5ECF6",
              "width": 0.5
             },
             "pattern": {
              "fillmode": "overlay",
              "size": 10,
              "solidity": 0.2
             }
            },
            "type": "bar"
           }
          ],
          "barpolar": [
           {
            "marker": {
             "line": {
              "color": "#E5ECF6",
              "width": 0.5
             },
             "pattern": {
              "fillmode": "overlay",
              "size": 10,
              "solidity": 0.2
             }
            },
            "type": "barpolar"
           }
          ],
          "carpet": [
           {
            "aaxis": {
             "endlinecolor": "#2a3f5f",
             "gridcolor": "white",
             "linecolor": "white",
             "minorgridcolor": "white",
             "startlinecolor": "#2a3f5f"
            },
            "baxis": {
             "endlinecolor": "#2a3f5f",
             "gridcolor": "white",
             "linecolor": "white",
             "minorgridcolor": "white",
             "startlinecolor": "#2a3f5f"
            },
            "type": "carpet"
           }
          ],
          "choropleth": [
           {
            "colorbar": {
             "outlinewidth": 0,
             "ticks": ""
            },
            "type": "choropleth"
           }
          ],
          "contour": [
           {
            "colorbar": {
             "outlinewidth": 0,
             "ticks": ""
            },
            "colorscale": [
             [
              0,
              "#0d0887"
             ],
             [
              0.1111111111111111,
              "#46039f"
             ],
             [
              0.2222222222222222,
              "#7201a8"
             ],
             [
              0.3333333333333333,
              "#9c179e"
             ],
             [
              0.4444444444444444,
              "#bd3786"
             ],
             [
              0.5555555555555556,
              "#d8576b"
             ],
             [
              0.6666666666666666,
              "#ed7953"
             ],
             [
              0.7777777777777778,
              "#fb9f3a"
             ],
             [
              0.8888888888888888,
              "#fdca26"
             ],
             [
              1,
              "#f0f921"
             ]
            ],
            "type": "contour"
           }
          ],
          "contourcarpet": [
           {
            "colorbar": {
             "outlinewidth": 0,
             "ticks": ""
            },
            "type": "contourcarpet"
           }
          ],
          "heatmap": [
           {
            "colorbar": {
             "outlinewidth": 0,
             "ticks": ""
            },
            "colorscale": [
             [
              0,
              "#0d0887"
             ],
             [
              0.1111111111111111,
              "#46039f"
             ],
             [
              0.2222222222222222,
              "#7201a8"
             ],
             [
              0.3333333333333333,
              "#9c179e"
             ],
             [
              0.4444444444444444,
              "#bd3786"
             ],
             [
              0.5555555555555556,
              "#d8576b"
             ],
             [
              0.6666666666666666,
              "#ed7953"
             ],
             [
              0.7777777777777778,
              "#fb9f3a"
             ],
             [
              0.8888888888888888,
              "#fdca26"
             ],
             [
              1,
              "#f0f921"
             ]
            ],
            "type": "heatmap"
           }
          ],
          "histogram": [
           {
            "marker": {
             "pattern": {
              "fillmode": "overlay",
              "size": 10,
              "solidity": 0.2
             }
            },
            "type": "histogram"
           }
          ],
          "histogram2d": [
           {
            "colorbar": {
             "outlinewidth": 0,
             "ticks": ""
            },
            "colorscale": [
             [
              0,
              "#0d0887"
             ],
             [
              0.1111111111111111,
              "#46039f"
             ],
             [
              0.2222222222222222,
              "#7201a8"
             ],
             [
              0.3333333333333333,
              "#9c179e"
             ],
             [
              0.4444444444444444,
              "#bd3786"
             ],
             [
              0.5555555555555556,
              "#d8576b"
             ],
             [
              0.6666666666666666,
              "#ed7953"
             ],
             [
              0.7777777777777778,
              "#fb9f3a"
             ],
             [
              0.8888888888888888,
              "#fdca26"
             ],
             [
              1,
              "#f0f921"
             ]
            ],
            "type": "histogram2d"
           }
          ],
          "histogram2dcontour": [
           {
            "colorbar": {
             "outlinewidth": 0,
             "ticks": ""
            },
            "colorscale": [
             [
              0,
              "#0d0887"
             ],
             [
              0.1111111111111111,
              "#46039f"
             ],
             [
              0.2222222222222222,
              "#7201a8"
             ],
             [
              0.3333333333333333,
              "#9c179e"
             ],
             [
              0.4444444444444444,
              "#bd3786"
             ],
             [
              0.5555555555555556,
              "#d8576b"
             ],
             [
              0.6666666666666666,
              "#ed7953"
             ],
             [
              0.7777777777777778,
              "#fb9f3a"
             ],
             [
              0.8888888888888888,
              "#fdca26"
             ],
             [
              1,
              "#f0f921"
             ]
            ],
            "type": "histogram2dcontour"
           }
          ],
          "mesh3d": [
           {
            "colorbar": {
             "outlinewidth": 0,
             "ticks": ""
            },
            "type": "mesh3d"
           }
          ],
          "parcoords": [
           {
            "line": {
             "colorbar": {
              "outlinewidth": 0,
              "ticks": ""
             }
            },
            "type": "parcoords"
           }
          ],
          "pie": [
           {
            "automargin": true,
            "type": "pie"
           }
          ],
          "scatter": [
           {
            "fillpattern": {
             "fillmode": "overlay",
             "size": 10,
             "solidity": 0.2
            },
            "type": "scatter"
           }
          ],
          "scatter3d": [
           {
            "line": {
             "colorbar": {
              "outlinewidth": 0,
              "ticks": ""
             }
            },
            "marker": {
             "colorbar": {
              "outlinewidth": 0,
              "ticks": ""
             }
            },
            "type": "scatter3d"
           }
          ],
          "scattercarpet": [
           {
            "marker": {
             "colorbar": {
              "outlinewidth": 0,
              "ticks": ""
             }
            },
            "type": "scattercarpet"
           }
          ],
          "scattergeo": [
           {
            "marker": {
             "colorbar": {
              "outlinewidth": 0,
              "ticks": ""
             }
            },
            "type": "scattergeo"
           }
          ],
          "scattergl": [
           {
            "marker": {
             "colorbar": {
              "outlinewidth": 0,
              "ticks": ""
             }
            },
            "type": "scattergl"
           }
          ],
          "scattermap": [
           {
            "marker": {
             "colorbar": {
              "outlinewidth": 0,
              "ticks": ""
             }
            },
            "type": "scattermap"
           }
          ],
          "scattermapbox": [
           {
            "marker": {
             "colorbar": {
              "outlinewidth": 0,
              "ticks": ""
             }
            },
            "type": "scattermapbox"
           }
          ],
          "scatterpolar": [
           {
            "marker": {
             "colorbar": {
              "outlinewidth": 0,
              "ticks": ""
             }
            },
            "type": "scatterpolar"
           }
          ],
          "scatterpolargl": [
           {
            "marker": {
             "colorbar": {
              "outlinewidth": 0,
              "ticks": ""
             }
            },
            "type": "scatterpolargl"
           }
          ],
          "scatterternary": [
           {
            "marker": {
             "colorbar": {
              "outlinewidth": 0,
              "ticks": ""
             }
            },
            "type": "scatterternary"
           }
          ],
          "surface": [
           {
            "colorbar": {
             "outlinewidth": 0,
             "ticks": ""
            },
            "colorscale": [
             [
              0,
              "#0d0887"
             ],
             [
              0.1111111111111111,
              "#46039f"
             ],
             [
              0.2222222222222222,
              "#7201a8"
             ],
             [
              0.3333333333333333,
              "#9c179e"
             ],
             [
              0.4444444444444444,
              "#bd3786"
             ],
             [
              0.5555555555555556,
              "#d8576b"
             ],
             [
              0.6666666666666666,
              "#ed7953"
             ],
             [
              0.7777777777777778,
              "#fb9f3a"
             ],
             [
              0.8888888888888888,
              "#fdca26"
             ],
             [
              1,
              "#f0f921"
             ]
            ],
            "type": "surface"
           }
          ],
          "table": [
           {
            "cells": {
             "fill": {
              "color": "#EBF0F8"
             },
             "line": {
              "color": "white"
             }
            },
            "header": {
             "fill": {
              "color": "#C8D4E3"
             },
             "line": {
              "color": "white"
             }
            },
            "type": "table"
           }
          ]
         },
         "layout": {
          "annotationdefaults": {
           "arrowcolor": "#2a3f5f",
           "arrowhead": 0,
           "arrowwidth": 1
          },
          "autotypenumbers": "strict",
          "coloraxis": {
           "colorbar": {
            "outlinewidth": 0,
            "ticks": ""
           }
          },
          "colorscale": {
           "diverging": [
            [
             0,
             "#8e0152"
            ],
            [
             0.1,
             "#c51b7d"
            ],
            [
             0.2,
             "#de77ae"
            ],
            [
             0.3,
             "#f1b6da"
            ],
            [
             0.4,
             "#fde0ef"
            ],
            [
             0.5,
             "#f7f7f7"
            ],
            [
             0.6,
             "#e6f5d0"
            ],
            [
             0.7,
             "#b8e186"
            ],
            [
             0.8,
             "#7fbc41"
            ],
            [
             0.9,
             "#4d9221"
            ],
            [
             1,
             "#276419"
            ]
           ],
           "sequential": [
            [
             0,
             "#0d0887"
            ],
            [
             0.1111111111111111,
             "#46039f"
            ],
            [
             0.2222222222222222,
             "#7201a8"
            ],
            [
             0.3333333333333333,
             "#9c179e"
            ],
            [
             0.4444444444444444,
             "#bd3786"
            ],
            [
             0.5555555555555556,
             "#d8576b"
            ],
            [
             0.6666666666666666,
             "#ed7953"
            ],
            [
             0.7777777777777778,
             "#fb9f3a"
            ],
            [
             0.8888888888888888,
             "#fdca26"
            ],
            [
             1,
             "#f0f921"
            ]
           ],
           "sequentialminus": [
            [
             0,
             "#0d0887"
            ],
            [
             0.1111111111111111,
             "#46039f"
            ],
            [
             0.2222222222222222,
             "#7201a8"
            ],
            [
             0.3333333333333333,
             "#9c179e"
            ],
            [
             0.4444444444444444,
             "#bd3786"
            ],
            [
             0.5555555555555556,
             "#d8576b"
            ],
            [
             0.6666666666666666,
             "#ed7953"
            ],
            [
             0.7777777777777778,
             "#fb9f3a"
            ],
            [
             0.8888888888888888,
             "#fdca26"
            ],
            [
             1,
             "#f0f921"
            ]
           ]
          },
          "colorway": [
           "#636efa",
           "#EF553B",
           "#00cc96",
           "#ab63fa",
           "#FFA15A",
           "#19d3f3",
           "#FF6692",
           "#B6E880",
           "#FF97FF",
           "#FECB52"
          ],
          "font": {
           "color": "#2a3f5f"
          },
          "geo": {
           "bgcolor": "white",
           "lakecolor": "white",
           "landcolor": "#E5ECF6",
           "showlakes": true,
           "showland": true,
           "subunitcolor": "white"
          },
          "hoverlabel": {
           "align": "left"
          },
          "hovermode": "closest",
          "mapbox": {
           "style": "light"
          },
          "paper_bgcolor": "white",
          "plot_bgcolor": "#E5ECF6",
          "polar": {
           "angularaxis": {
            "gridcolor": "white",
            "linecolor": "white",
            "ticks": ""
           },
           "bgcolor": "#E5ECF6",
           "radialaxis": {
            "gridcolor": "white",
            "linecolor": "white",
            "ticks": ""
           }
          },
          "scene": {
           "xaxis": {
            "backgroundcolor": "#E5ECF6",
            "gridcolor": "white",
            "gridwidth": 2,
            "linecolor": "white",
            "showbackground": true,
            "ticks": "",
            "zerolinecolor": "white"
           },
           "yaxis": {
            "backgroundcolor": "#E5ECF6",
            "gridcolor": "white",
            "gridwidth": 2,
            "linecolor": "white",
            "showbackground": true,
            "ticks": "",
            "zerolinecolor": "white"
           },
           "zaxis": {
            "backgroundcolor": "#E5ECF6",
            "gridcolor": "white",
            "gridwidth": 2,
            "linecolor": "white",
            "showbackground": true,
            "ticks": "",
            "zerolinecolor": "white"
           }
          },
          "shapedefaults": {
           "line": {
            "color": "#2a3f5f"
           }
          },
          "ternary": {
           "aaxis": {
            "gridcolor": "white",
            "linecolor": "white",
            "ticks": ""
           },
           "baxis": {
            "gridcolor": "white",
            "linecolor": "white",
            "ticks": ""
           },
           "bgcolor": "#E5ECF6",
           "caxis": {
            "gridcolor": "white",
            "linecolor": "white",
            "ticks": ""
           }
          },
          "title": {
           "x": 0.05
          },
          "xaxis": {
           "automargin": true,
           "gridcolor": "white",
           "linecolor": "white",
           "ticks": "",
           "title": {
            "standoff": 15
           },
           "zerolinecolor": "white",
           "zerolinewidth": 2
          },
          "yaxis": {
           "automargin": true,
           "gridcolor": "white",
           "linecolor": "white",
           "ticks": "",
           "title": {
            "standoff": 15
           },
           "zerolinecolor": "white",
           "zerolinewidth": 2
          }
         }
        },
        "title": {
         "text": "Finished"
        }
       }
      },
      "image/png": "[encoded data removed]"
     },
     "metadata": {},
     "output_type": "display_data"
    },
    {
     "data": {
      "application/vnd.plotly.v1+json": {
       "config": {
        "plotlyServerURL": "https://plot.ly"
       },
       "data": [
        {
         "domain": {
          "x": [
           0,
           1
          ],
          "y": [
           0,
           1
          ]
         },
         "hovertemplate": "Naturalidade=%{label}<br>count=%{value}<extra></extra>",
         "labels": [
          "Barra Do Garcas",
          "Aragarcas",
          "Goiania",
          "Brasilia",
          "Cuiaba"
         ],
         "legendgroup": "",
         "name": "",
         "showlegend": true,
         "type": "pie",
         "values": {
          "bdata": "WhoSDw0=",
          "dtype": "i1"
         }
        }
       ],
       "layout": {
        "font": {
         "color": "Black",
         "family": "Courier New, monospace",
         "size": 18,
         "variant": "small-caps"
        },
        "legend": {
         "tracegroupgap": 0
        },
        "margin": {
         "t": 60
        },
        "template": {
         "data": {
          "bar": [
           {
            "error_x": {
             "color": "#2a3f5f"
            },
            "error_y": {
             "color": "#2a3f5f"
            },
            "marker": {
             "line": {
              "color": "#E5ECF6",
              "width": 0.5
             },
             "pattern": {
              "fillmode": "overlay",
              "size": 10,
              "solidity": 0.2
             }
            },
            "type": "bar"
           }
          ],
          "barpolar": [
           {
            "marker": {
             "line": {
              "color": "#E5ECF6",
              "width": 0.5
             },
             "pattern": {
              "fillmode": "overlay",
              "size": 10,
              "solidity": 0.2
             }
            },
            "type": "barpolar"
           }
          ],
          "carpet": [
           {
            "aaxis": {
             "endlinecolor": "#2a3f5f",
             "gridcolor": "white",
             "linecolor": "white",
             "minorgridcolor": "white",
             "startlinecolor": "#2a3f5f"
            },
            "baxis": {
             "endlinecolor": "#2a3f5f",
             "gridcolor": "white",
             "linecolor": "white",
             "minorgridcolor": "white",
             "startlinecolor": "#2a3f5f"
            },
            "type": "carpet"
           }
          ],
          "choropleth": [
           {
            "colorbar": {
             "outlinewidth": 0,
             "ticks": ""
            },
            "type": "choropleth"
           }
          ],
          "contour": [
           {
            "colorbar": {
             "outlinewidth": 0,
             "ticks": ""
            },
            "colorscale": [
             [
              0,
              "#0d0887"
             ],
             [
              0.1111111111111111,
              "#46039f"
             ],
             [
              0.2222222222222222,
              "#7201a8"
             ],
             [
              0.3333333333333333,
              "#9c179e"
             ],
             [
              0.4444444444444444,
              "#bd3786"
             ],
             [
              0.5555555555555556,
              "#d8576b"
             ],
             [
              0.6666666666666666,
              "#ed7953"
             ],
             [
              0.7777777777777778,
              "#fb9f3a"
             ],
             [
              0.8888888888888888,
              "#fdca26"
             ],
             [
              1,
              "#f0f921"
             ]
            ],
            "type": "contour"
           }
          ],
          "contourcarpet": [
           {
            "colorbar": {
             "outlinewidth": 0,
             "ticks": ""
            },
            "type": "contourcarpet"
           }
          ],
          "heatmap": [
           {
            "colorbar": {
             "outlinewidth": 0,
             "ticks": ""
            },
            "colorscale": [
             [
              0,
              "#0d0887"
             ],
             [
              0.1111111111111111,
              "#46039f"
             ],
             [
              0.2222222222222222,
              "#7201a8"
             ],
             [
              0.3333333333333333,
              "#9c179e"
             ],
             [
              0.4444444444444444,
              "#bd3786"
             ],
             [
              0.5555555555555556,
              "#d8576b"
             ],
             [
              0.6666666666666666,
              "#ed7953"
             ],
             [
              0.7777777777777778,
              "#fb9f3a"
             ],
             [
              0.8888888888888888,
              "#fdca26"
             ],
             [
              1,
              "#f0f921"
             ]
            ],
            "type": "heatmap"
           }
          ],
          "histogram": [
           {
            "marker": {
             "pattern": {
              "fillmode": "overlay",
              "size": 10,
              "solidity": 0.2
             }
            },
            "type": "histogram"
           }
          ],
          "histogram2d": [
           {
            "colorbar": {
             "outlinewidth": 0,
             "ticks": ""
            },
            "colorscale": [
             [
              0,
              "#0d0887"
             ],
             [
              0.1111111111111111,
              "#46039f"
             ],
             [
              0.2222222222222222,
              "#7201a8"
             ],
             [
              0.3333333333333333,
              "#9c179e"
             ],
             [
              0.4444444444444444,
              "#bd3786"
             ],
             [
              0.5555555555555556,
              "#d8576b"
             ],
             [
              0.6666666666666666,
              "#ed7953"
             ],
             [
              0.7777777777777778,
              "#fb9f3a"
             ],
             [
              0.8888888888888888,
              "#fdca26"
             ],
             [
              1,
              "#f0f921"
             ]
            ],
            "type": "histogram2d"
           }
          ],
          "histogram2dcontour": [
           {
            "colorbar": {
             "outlinewidth": 0,
             "ticks": ""
            },
            "colorscale": [
             [
              0,
              "#0d0887"
             ],
             [
              0.1111111111111111,
              "#46039f"
             ],
             [
              0.2222222222222222,
              "#7201a8"
             ],
             [
              0.3333333333333333,
              "#9c179e"
             ],
             [
              0.4444444444444444,
              "#bd3786"
             ],
             [
              0.5555555555555556,
              "#d8576b"
             ],
             [
              0.6666666666666666,
              "#ed7953"
             ],
             [
              0.7777777777777778,
              "#fb9f3a"
             ],
             [
              0.8888888888888888,
              "#fdca26"
             ],
             [
              1,
              "#f0f921"
             ]
            ],
            "type": "histogram2dcontour"
           }
          ],
          "mesh3d": [
           {
            "colorbar": {
             "outlinewidth": 0,
             "ticks": ""
            },
            "type": "mesh3d"
           }
          ],
          "parcoords": [
           {
            "line": {
             "colorbar": {
              "outlinewidth": 0,
              "ticks": ""
             }
            },
            "type": "parcoords"
           }
          ],
          "pie": [
           {
            "automargin": true,
            "type": "pie"
           }
          ],
          "scatter": [
           {
            "fillpattern": {
             "fillmode": "overlay",
             "size": 10,
             "solidity": 0.2
            },
            "type": "scatter"
           }
          ],
          "scatter3d": [
           {
            "line": {
             "colorbar": {
              "outlinewidth": 0,
              "ticks": ""
             }
            },
            "marker": {
             "colorbar": {
              "outlinewidth": 0,
              "ticks": ""
             }
            },
            "type": "scatter3d"
           }
          ],
          "scattercarpet": [
           {
            "marker": {
             "colorbar": {
              "outlinewidth": 0,
              "ticks": ""
             }
            },
            "type": "scattercarpet"
           }
          ],
          "scattergeo": [
           {
            "marker": {
             "colorbar": {
              "outlinewidth": 0,
              "ticks": ""
             }
            },
            "type": "scattergeo"
           }
          ],
          "scattergl": [
           {
            "marker": {
             "colorbar": {
              "outlinewidth": 0,
              "ticks": ""
             }
            },
            "type": "scattergl"
           }
          ],
          "scattermap": [
           {
            "marker": {
             "colorbar": {
              "outlinewidth": 0,
              "ticks": ""
             }
            },
            "type": "scattermap"
           }
          ],
          "scattermapbox": [
           {
            "marker": {
             "colorbar": {
              "outlinewidth": 0,
              "ticks": ""
             }
            },
            "type": "scattermapbox"
           }
          ],
          "scatterpolar": [
           {
            "marker": {
             "colorbar": {
              "outlinewidth": 0,
              "ticks": ""
             }
            },
            "type": "scatterpolar"
           }
          ],
          "scatterpolargl": [
           {
            "marker": {
             "colorbar": {
              "outlinewidth": 0,
              "ticks": ""
             }
            },
            "type": "scatterpolargl"
           }
          ],
          "scatterternary": [
           {
            "marker": {
             "colorbar": {
              "outlinewidth": 0,
              "ticks": ""
             }
            },
            "type": "scatterternary"
           }
          ],
          "surface": [
           {
            "colorbar": {
             "outlinewidth": 0,
             "ticks": ""
            },
            "colorscale": [
             [
              0,
              "#0d0887"
             ],
             [
              0.1111111111111111,
              "#46039f"
             ],
             [
              0.2222222222222222,
              "#7201a8"
             ],
             [
              0.3333333333333333,
              "#9c179e"
             ],
             [
              0.4444444444444444,
              "#bd3786"
             ],
             [
              0.5555555555555556,
              "#d8576b"
             ],
             [
              0.6666666666666666,
              "#ed7953"
             ],
             [
              0.7777777777777778,
              "#fb9f3a"
             ],
             [
              0.8888888888888888,
              "#fdca26"
             ],
             [
              1,
              "#f0f921"
             ]
            ],
            "type": "surface"
           }
          ],
          "table": [
           {
            "cells": {
             "fill": {
              "color": "#EBF0F8"
             },
             "line": {
              "color": "white"
             }
            },
            "header": {
             "fill": {
              "color": "#C8D4E3"
             },
             "line": {
              "color": "white"
             }
            },
            "type": "table"
           }
          ]
         },
         "layout": {
          "annotationdefaults": {
           "arrowcolor": "#2a3f5f",
           "arrowhead": 0,
           "arrowwidth": 1
          },
          "autotypenumbers": "strict",
          "coloraxis": {
           "colorbar": {
            "outlinewidth": 0,
            "ticks": ""
           }
          },
          "colorscale": {
           "diverging": [
            [
             0,
             "#8e0152"
            ],
            [
             0.1,
             "#c51b7d"
            ],
            [
             0.2,
             "#de77ae"
            ],
            [
             0.3,
             "#f1b6da"
            ],
            [
             0.4,
             "#fde0ef"
            ],
            [
             0.5,
             "#f7f7f7"
            ],
            [
             0.6,
             "#e6f5d0"
            ],
            [
             0.7,
             "#b8e186"
            ],
            [
             0.8,
             "#7fbc41"
            ],
            [
             0.9,
             "#4d9221"
            ],
            [
             1,
             "#276419"
            ]
           ],
           "sequential": [
            [
             0,
             "#0d0887"
            ],
            [
             0.1111111111111111,
             "#46039f"
            ],
            [
             0.2222222222222222,
             "#7201a8"
            ],
            [
             0.3333333333333333,
             "#9c179e"
            ],
            [
             0.4444444444444444,
             "#bd3786"
            ],
            [
             0.5555555555555556,
             "#d8576b"
            ],
            [
             0.6666666666666666,
             "#ed7953"
            ],
            [
             0.7777777777777778,
             "#fb9f3a"
            ],
            [
             0.8888888888888888,
             "#fdca26"
            ],
            [
             1,
             "#f0f921"
            ]
           ],
           "sequentialminus": [
            [
             0,
             "#0d0887"
            ],
            [
             0.1111111111111111,
             "#46039f"
            ],
            [
             0.2222222222222222,
             "#7201a8"
            ],
            [
             0.3333333333333333,
             "#9c179e"
            ],
            [
             0.4444444444444444,
             "#bd3786"
            ],
            [
             0.5555555555555556,
             "#d8576b"
            ],
            [
             0.6666666666666666,
             "#ed7953"
            ],
            [
             0.7777777777777778,
             "#fb9f3a"
            ],
            [
             0.8888888888888888,
             "#fdca26"
            ],
            [
             1,
             "#f0f921"
            ]
           ]
          },
          "colorway": [
           "#636efa",
           "#EF553B",
           "#00cc96",
           "#ab63fa",
           "#FFA15A",
           "#19d3f3",
           "#FF6692",
           "#B6E880",
           "#FF97FF",
           "#FECB52"
          ],
          "font": {
           "color": "#2a3f5f"
          },
          "geo": {
           "bgcolor": "white",
           "lakecolor": "white",
           "landcolor": "#E5ECF6",
           "showlakes": true,
           "showland": true,
           "subunitcolor": "white"
          },
          "hoverlabel": {
           "align": "left"
          },
          "hovermode": "closest",
          "mapbox": {
           "style": "light"
          },
          "paper_bgcolor": "white",
          "plot_bgcolor": "#E5ECF6",
          "polar": {
           "angularaxis": {
            "gridcolor": "white",
            "linecolor": "white",
            "ticks": ""
           },
           "bgcolor": "#E5ECF6",
           "radialaxis": {
            "gridcolor": "white",
            "linecolor": "white",
            "ticks": ""
           }
          },
          "scene": {
           "xaxis": {
            "backgroundcolor": "#E5ECF6",
            "gridcolor": "white",
            "gridwidth": 2,
            "linecolor": "white",
            "showbackground": true,
            "ticks": "",
            "zerolinecolor": "white"
           },
           "yaxis": {
            "backgroundcolor": "#E5ECF6",
            "gridcolor": "white",
            "gridwidth": 2,
            "linecolor": "white",
            "showbackground": true,
            "ticks": "",
            "zerolinecolor": "white"
           },
           "zaxis": {
            "backgroundcolor": "#E5ECF6",
            "gridcolor": "white",
            "gridwidth": 2,
            "linecolor": "white",
            "showbackground": true,
            "ticks": "",
            "zerolinecolor": "white"
           }
          },
          "shapedefaults": {
           "line": {
            "color": "#2a3f5f"
           }
          },
          "ternary": {
           "aaxis": {
            "gridcolor": "white",
            "linecolor": "white",
            "ticks": ""
           },
           "baxis": {
            "gridcolor": "white",
            "linecolor": "white",
            "ticks": ""
           },
           "bgcolor": "#E5ECF6",
           "caxis": {
            "gridcolor": "white",
            "linecolor": "white",
            "ticks": ""
           }
          },
          "title": {
           "x": 0.05
          },
          "xaxis": {
           "automargin": true,
           "gridcolor": "white",
           "linecolor": "white",
           "ticks": "",
           "title": {
            "standoff": 15
           },
           "zerolinecolor": "white",
           "zerolinewidth": 2
          },
          "yaxis": {
           "automargin": true,
           "gridcolor": "white",
           "linecolor": "white",
           "ticks": "",
           "title": {
            "standoff": 15
           },
           "zerolinecolor": "white",
           "zerolinewidth": 2
          }
         }
        },
        "title": {
         "text": "Dropout"
        }
       }
      },
      "image/png": "[encoded data removed]"
     },
     "metadata": {},
     "output_type": "display_data"
    }
   ],
   "source": [
    "px.pie(\n",
    "    finished.groupby(['Naturalidade']).size().reset_index(name='count').sort_values(by='count', ascending=False).head(),\n",
    "    names = 'Naturalidade',\n",
    "    values = 'count').update_layout(title={'text': f'Finished'}, font=my_font).show()\n",
    "\n",
    "px.pie(\n",
    "    dropout.groupby(['Naturalidade']).size().reset_index(name='count').sort_values(by='count', ascending=False).head(),\n",
    "    names = 'Naturalidade',\n",
    "    values = 'count').update_layout(title={'text': f'Dropout'}, font=my_font).show()"
   ]
  },
  {
   "cell_type": "code",
   "execution_count": 48,
   "id": "f5918f0e-3cfb-4805-a241-63fc6e56826b",
   "metadata": {},
   "outputs": [
    {
     "data": {
      "text/plain": [
       "np.int64(15)"
      ]
     },
     "execution_count": 48,
     "metadata": {},
     "output_type": "execute_result"
    }
   ],
   "source": [
    "finished['Naturalidade'].isnull().sum()\n",
    "dropout['Naturalidade'].isnull().sum()\n"
   ]
  }
 ],
 "metadata": {
  "kernelspec": {
   "display_name": "Python 3 (ipykernel)",
   "language": "python",
   "name": "python3"
  },
  "language_info": {
   "codemirror_mode": {
    "name": "ipython",
    "version": 3
   },
   "file_extension": ".py",
   "mimetype": "text/x-python",
   "name": "python",
   "nbconvert_exporter": "python",
   "pygments_lexer": "ipython3",
   "version": "3.12.11"
  }
 },
 "nbformat": 4,
 "nbformat_minor": 5
}
